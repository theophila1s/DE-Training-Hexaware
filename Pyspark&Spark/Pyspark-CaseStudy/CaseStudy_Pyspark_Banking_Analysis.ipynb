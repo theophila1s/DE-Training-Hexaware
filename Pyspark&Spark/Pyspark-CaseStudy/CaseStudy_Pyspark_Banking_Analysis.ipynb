{
  "nbformat": 4,
  "nbformat_minor": 0,
  "metadata": {
    "colab": {
      "provenance": []
    },
    "kernelspec": {
      "name": "python3",
      "display_name": "Python 3"
    },
    "language_info": {
      "name": "python"
    }
  },
  "cells": [
    {
      "cell_type": "code",
      "execution_count": 1,
      "metadata": {
        "id": "gkzgv4RqjJmP"
      },
      "outputs": [],
      "source": [
        "# Install Spark and dependencies (only once per session)\n",
        "!wget -q https://archive.apache.org/dist/spark/spark-3.5.0/spark-3.5.0-bin-hadoop3.tgz\n",
        "!tar xf spark-3.5.0-bin-hadoop3.tgz\n",
        "!pip install -q findspark\n",
        "\n",
        "# Set environment variables\n",
        "import os\n",
        "os.environ[\"SPARK_HOME\"] = \"/content/spark-3.5.0-bin-hadoop3\"\n",
        "os.environ[\"JAVA_HOME\"] = \"/usr/lib/jvm/java-11-openjdk-amd64\"\n",
        "\n",
        "# Initialize findspark\n",
        "import findspark\n",
        "findspark.init()"
      ]
    },
    {
      "cell_type": "code",
      "source": [
        "from pyspark.sql import SparkSession\n",
        "\n",
        "spark = SparkSession.builder.appName(\"OnlineBankingAnalysis\").getOrCreate()"
      ],
      "metadata": {
        "id": "3n1ZxAM4jtyA"
      },
      "execution_count": 2,
      "outputs": []
    },
    {
      "cell_type": "code",
      "source": [
        "from google.colab import files\n",
        "uploaded = files.upload()\n"
      ],
      "metadata": {
        "colab": {
          "base_uri": "https://localhost:8080/",
          "height": 142
        },
        "id": "36hV9Fzcj1lT",
        "outputId": "ac15d711-442e-4528-89de-ae7d5b17e205"
      },
      "execution_count": 4,
      "outputs": [
        {
          "output_type": "display_data",
          "data": {
            "text/plain": [
              "<IPython.core.display.HTML object>"
            ],
            "text/html": [
              "\n",
              "     <input type=\"file\" id=\"files-23ded17f-0c0e-42d8-8772-d20dd4a8bf43\" name=\"files[]\" multiple disabled\n",
              "        style=\"border:none\" />\n",
              "     <output id=\"result-23ded17f-0c0e-42d8-8772-d20dd4a8bf43\">\n",
              "      Upload widget is only available when the cell has been executed in the\n",
              "      current browser session. Please rerun this cell to enable.\n",
              "      </output>\n",
              "      <script>// Copyright 2017 Google LLC\n",
              "//\n",
              "// Licensed under the Apache License, Version 2.0 (the \"License\");\n",
              "// you may not use this file except in compliance with the License.\n",
              "// You may obtain a copy of the License at\n",
              "//\n",
              "//      http://www.apache.org/licenses/LICENSE-2.0\n",
              "//\n",
              "// Unless required by applicable law or agreed to in writing, software\n",
              "// distributed under the License is distributed on an \"AS IS\" BASIS,\n",
              "// WITHOUT WARRANTIES OR CONDITIONS OF ANY KIND, either express or implied.\n",
              "// See the License for the specific language governing permissions and\n",
              "// limitations under the License.\n",
              "\n",
              "/**\n",
              " * @fileoverview Helpers for google.colab Python module.\n",
              " */\n",
              "(function(scope) {\n",
              "function span(text, styleAttributes = {}) {\n",
              "  const element = document.createElement('span');\n",
              "  element.textContent = text;\n",
              "  for (const key of Object.keys(styleAttributes)) {\n",
              "    element.style[key] = styleAttributes[key];\n",
              "  }\n",
              "  return element;\n",
              "}\n",
              "\n",
              "// Max number of bytes which will be uploaded at a time.\n",
              "const MAX_PAYLOAD_SIZE = 100 * 1024;\n",
              "\n",
              "function _uploadFiles(inputId, outputId) {\n",
              "  const steps = uploadFilesStep(inputId, outputId);\n",
              "  const outputElement = document.getElementById(outputId);\n",
              "  // Cache steps on the outputElement to make it available for the next call\n",
              "  // to uploadFilesContinue from Python.\n",
              "  outputElement.steps = steps;\n",
              "\n",
              "  return _uploadFilesContinue(outputId);\n",
              "}\n",
              "\n",
              "// This is roughly an async generator (not supported in the browser yet),\n",
              "// where there are multiple asynchronous steps and the Python side is going\n",
              "// to poll for completion of each step.\n",
              "// This uses a Promise to block the python side on completion of each step,\n",
              "// then passes the result of the previous step as the input to the next step.\n",
              "function _uploadFilesContinue(outputId) {\n",
              "  const outputElement = document.getElementById(outputId);\n",
              "  const steps = outputElement.steps;\n",
              "\n",
              "  const next = steps.next(outputElement.lastPromiseValue);\n",
              "  return Promise.resolve(next.value.promise).then((value) => {\n",
              "    // Cache the last promise value to make it available to the next\n",
              "    // step of the generator.\n",
              "    outputElement.lastPromiseValue = value;\n",
              "    return next.value.response;\n",
              "  });\n",
              "}\n",
              "\n",
              "/**\n",
              " * Generator function which is called between each async step of the upload\n",
              " * process.\n",
              " * @param {string} inputId Element ID of the input file picker element.\n",
              " * @param {string} outputId Element ID of the output display.\n",
              " * @return {!Iterable<!Object>} Iterable of next steps.\n",
              " */\n",
              "function* uploadFilesStep(inputId, outputId) {\n",
              "  const inputElement = document.getElementById(inputId);\n",
              "  inputElement.disabled = false;\n",
              "\n",
              "  const outputElement = document.getElementById(outputId);\n",
              "  outputElement.innerHTML = '';\n",
              "\n",
              "  const pickedPromise = new Promise((resolve) => {\n",
              "    inputElement.addEventListener('change', (e) => {\n",
              "      resolve(e.target.files);\n",
              "    });\n",
              "  });\n",
              "\n",
              "  const cancel = document.createElement('button');\n",
              "  inputElement.parentElement.appendChild(cancel);\n",
              "  cancel.textContent = 'Cancel upload';\n",
              "  const cancelPromise = new Promise((resolve) => {\n",
              "    cancel.onclick = () => {\n",
              "      resolve(null);\n",
              "    };\n",
              "  });\n",
              "\n",
              "  // Wait for the user to pick the files.\n",
              "  const files = yield {\n",
              "    promise: Promise.race([pickedPromise, cancelPromise]),\n",
              "    response: {\n",
              "      action: 'starting',\n",
              "    }\n",
              "  };\n",
              "\n",
              "  cancel.remove();\n",
              "\n",
              "  // Disable the input element since further picks are not allowed.\n",
              "  inputElement.disabled = true;\n",
              "\n",
              "  if (!files) {\n",
              "    return {\n",
              "      response: {\n",
              "        action: 'complete',\n",
              "      }\n",
              "    };\n",
              "  }\n",
              "\n",
              "  for (const file of files) {\n",
              "    const li = document.createElement('li');\n",
              "    li.append(span(file.name, {fontWeight: 'bold'}));\n",
              "    li.append(span(\n",
              "        `(${file.type || 'n/a'}) - ${file.size} bytes, ` +\n",
              "        `last modified: ${\n",
              "            file.lastModifiedDate ? file.lastModifiedDate.toLocaleDateString() :\n",
              "                                    'n/a'} - `));\n",
              "    const percent = span('0% done');\n",
              "    li.appendChild(percent);\n",
              "\n",
              "    outputElement.appendChild(li);\n",
              "\n",
              "    const fileDataPromise = new Promise((resolve) => {\n",
              "      const reader = new FileReader();\n",
              "      reader.onload = (e) => {\n",
              "        resolve(e.target.result);\n",
              "      };\n",
              "      reader.readAsArrayBuffer(file);\n",
              "    });\n",
              "    // Wait for the data to be ready.\n",
              "    let fileData = yield {\n",
              "      promise: fileDataPromise,\n",
              "      response: {\n",
              "        action: 'continue',\n",
              "      }\n",
              "    };\n",
              "\n",
              "    // Use a chunked sending to avoid message size limits. See b/62115660.\n",
              "    let position = 0;\n",
              "    do {\n",
              "      const length = Math.min(fileData.byteLength - position, MAX_PAYLOAD_SIZE);\n",
              "      const chunk = new Uint8Array(fileData, position, length);\n",
              "      position += length;\n",
              "\n",
              "      const base64 = btoa(String.fromCharCode.apply(null, chunk));\n",
              "      yield {\n",
              "        response: {\n",
              "          action: 'append',\n",
              "          file: file.name,\n",
              "          data: base64,\n",
              "        },\n",
              "      };\n",
              "\n",
              "      let percentDone = fileData.byteLength === 0 ?\n",
              "          100 :\n",
              "          Math.round((position / fileData.byteLength) * 100);\n",
              "      percent.textContent = `${percentDone}% done`;\n",
              "\n",
              "    } while (position < fileData.byteLength);\n",
              "  }\n",
              "\n",
              "  // All done.\n",
              "  yield {\n",
              "    response: {\n",
              "      action: 'complete',\n",
              "    }\n",
              "  };\n",
              "}\n",
              "\n",
              "scope.google = scope.google || {};\n",
              "scope.google.colab = scope.google.colab || {};\n",
              "scope.google.colab._files = {\n",
              "  _uploadFiles,\n",
              "  _uploadFilesContinue,\n",
              "};\n",
              "})(self);\n",
              "</script> "
            ]
          },
          "metadata": {}
        },
        {
          "output_type": "stream",
          "name": "stdout",
          "text": [
            "Saving credit card.csv to credit card (1).csv\n",
            "Saving loan.csv to loan (1).csv\n",
            "Saving txn.csv to txn (1).csv\n"
          ]
        }
      ]
    },
    {
      "cell_type": "code",
      "source": [
        "loan_df = spark.read.option(\"header\", True).option(\"inferSchema\", True).csv(\"/content/loan.csv\")\n",
        "credit_df = spark.read.option(\"header\", True).option(\"inferSchema\", True).csv(\"/content/credit card.csv\")\n",
        "txn_df = spark.read.option(\"header\", True).option(\"inferSchema\", True).csv(\"/content/txn.csv\")"
      ],
      "metadata": {
        "id": "Mt704GrWo8h6"
      },
      "execution_count": 6,
      "outputs": []
    },
    {
      "cell_type": "code",
      "source": [
        "from pyspark.sql.functions import col, count, max, min, sum\n",
        "loan_df.show(n=20, truncate=True, vertical=False)"
      ],
      "metadata": {
        "colab": {
          "base_uri": "https://localhost:8080/"
        },
        "id": "2gpYGLj-pdkk",
        "outputId": "df42956e-8c5b-4093-b2b9-9b6fcc5ebd09"
      },
      "execution_count": 7,
      "outputs": [
        {
          "output_type": "stream",
          "name": "stdout",
          "text": [
            "+-----------+---+------+-------------------+--------------+-----------+------+-----------+-------------+------------------+-----------+-------+------------+----------------+------------------+\n",
            "|Customer_ID|Age|Gender|         Occupation|Marital Status|Family Size|Income|Expenditure|Use Frequency|     Loan Category|Loan Amount|Overdue| Debt Record| Returned Cheque| Dishonour of Bill|\n",
            "+-----------+---+------+-------------------+--------------+-----------+------+-----------+-------------+------------------+-----------+-------+------------+----------------+------------------+\n",
            "|    IB14001| 30|  MALE|       BANK MANAGER|        SINGLE|          4| 50000|      22199|            6|           HOUSING| 10,00,000 |      5|      42,898|               6|                 9|\n",
            "|    IB14008| 44|  MALE|          PROFESSOR|       MARRIED|          6| 51000|      19999|            4|          SHOPPING|     50,000|      3|      33,999|               1|                 5|\n",
            "|    IB14012| 30|FEMALE|            DENTIST|        SINGLE|          3| 58450|      27675|            5|        TRAVELLING|     75,000|      6|      20,876|               3|                 1|\n",
            "|    IB14018| 29|  MALE|            TEACHER|       MARRIED|          5| 45767|      12787|            3|         GOLD LOAN|  6,00,000 |      7|      11,000|               0|                 4|\n",
            "|    IB14022| 34|  MALE|             POLICE|        SINGLE|          4| 43521|      11999|            3|        AUTOMOBILE|  2,00,000 |      2|      43,898|               1|                 2|\n",
            "|    IB14024| 55|FEMALE|              NURSE|       MARRIED|          6| 34999|      19888|            4|        AUTOMOBILE|     47,787|      1|      50,000|               0|                 3|\n",
            "|    IB14025| 39|FEMALE|            TEACHER|       MARRIED|          6| 46619|      18675|            4|           HOUSING| 12,09,867 |      8|      29,999|               6|                 8|\n",
            "|    IB14027| 51|  MALE|     SYSTEM MANAGER|       MARRIED|          3| 49999|      19111|            5|       RESTAURANTS|     60,676|      8|      13,000|               2|                 5|\n",
            "|    IB14029| 24|FEMALE|            TEACHER|        SINGLE|          3| 45008|      17454|            4|        AUTOMOBILE|  3,99,435 |      9|      51,987|               4|                 7|\n",
            "|    IB14031| 37|FEMALE|  SOFTWARE ENGINEER|       MARRIED|          5| 55999|      23999|            5|        AUTOMOBILE|     60,999|      2|           0|               5|                 3|\n",
            "|    IB14032| 24|  MALE|       DATA ANALYST|        SINGLE|          4| 60111|      28999|            6|        AUTOMOBILE|     35,232|      5|      33,333|               1|                 2|\n",
            "|    IB14034| 32|  MALE|   PRODUCT ENGINEER|       MARRIED|          6|  NULL|      29000|            7|COMPUTER SOFTWARES|     80,660|      6|       4,500|               5|                 4|\n",
            "|    IB14037| 54|FEMALE|            TEACHER|       MARRIED|          5| 48099|      19999|            4|       RESTAURANTS|     30,999|      1|      12,000|               7|                 5|\n",
            "|    IB14039| 45|  MALE|    ACCOUNT MANAGER|       MARRIED|          7| 45777|      18452|            4|         GOLD LOAN|  9,87,611 |      7|      39,999|               8|                 1|\n",
            "|    IB14041| 59|FEMALE|ASSISTANT PROFESSOR|       MARRIED|          4| 50999|      22999|            5|  EDUCATIONAL LOAN|  5,99,934 |      3|       9,000|               9|                 9|\n",
            "|    IB14042| 25|FEMALE|             DOCTOR|        SINGLE|          4| 60111|      27111|            5|        TRAVELLING| 12,90,929 |      4|      18,000|               1|                 0|\n",
            "|    IB14045| 31|  MALE|       STORE KEEPER|        SINGLE|          5| 40999|      11999|            3|       BOOK STORES|  1,67,654 |      1|       4,500|               0|                 1|\n",
            "|    IB14049| 49|  MALE|       BANK MANAGER|       MARRIED|          4| 45999|      14500|            4|        TRAVELLING|     79,999|      4|       6,700|               7|                 3|\n",
            "|    IB14050| 56|  MALE|     CIVIL ENGINEER|       MARRIED|          4|  NULL|      13999|            3|           HOUSING| 10,65,577 |      6|      19,999|               4|                 2|\n",
            "|    IB14054| 58|FEMALE|             DOCTOR|       MARRIED|          5| 60000|      25000|            5|           HOUSING|  9,00,000 |      5|      21,000|               9|                 0|\n",
            "+-----------+---+------+-------------------+--------------+-----------+------+-----------+-------------+------------------+-----------+-------+------------+----------------+------------------+\n",
            "only showing top 20 rows\n",
            "\n"
          ]
        }
      ]
    },
    {
      "cell_type": "code",
      "source": [
        "loan_df.printSchema()"
      ],
      "metadata": {
        "colab": {
          "base_uri": "https://localhost:8080/"
        },
        "id": "cMXGnI-5phl4",
        "outputId": "d2920371-6a2d-4b67-903c-aef453de629a"
      },
      "execution_count": 8,
      "outputs": [
        {
          "output_type": "stream",
          "name": "stdout",
          "text": [
            "root\n",
            " |-- Customer_ID: string (nullable = true)\n",
            " |-- Age: integer (nullable = true)\n",
            " |-- Gender: string (nullable = true)\n",
            " |-- Occupation: string (nullable = true)\n",
            " |-- Marital Status: string (nullable = true)\n",
            " |-- Family Size: integer (nullable = true)\n",
            " |-- Income: integer (nullable = true)\n",
            " |-- Expenditure: integer (nullable = true)\n",
            " |-- Use Frequency: integer (nullable = true)\n",
            " |-- Loan Category: string (nullable = true)\n",
            " |-- Loan Amount: string (nullable = true)\n",
            " |-- Overdue: integer (nullable = true)\n",
            " |--  Debt Record: string (nullable = true)\n",
            " |--  Returned Cheque: integer (nullable = true)\n",
            " |--  Dishonour of Bill: integer (nullable = true)\n",
            "\n"
          ]
        }
      ]
    },
    {
      "cell_type": "code",
      "source": [
        "loan_df.dtypes"
      ],
      "metadata": {
        "colab": {
          "base_uri": "https://localhost:8080/"
        },
        "id": "5zDMg2y5pki6",
        "outputId": "6b6fb122-3f71-4ef2-cae4-c5e4879b2250"
      },
      "execution_count": 9,
      "outputs": [
        {
          "output_type": "execute_result",
          "data": {
            "text/plain": [
              "[('Customer_ID', 'string'),\n",
              " ('Age', 'int'),\n",
              " ('Gender', 'string'),\n",
              " ('Occupation', 'string'),\n",
              " ('Marital Status', 'string'),\n",
              " ('Family Size', 'int'),\n",
              " ('Income', 'int'),\n",
              " ('Expenditure', 'int'),\n",
              " ('Use Frequency', 'int'),\n",
              " ('Loan Category', 'string'),\n",
              " ('Loan Amount', 'string'),\n",
              " ('Overdue', 'int'),\n",
              " (' Debt Record', 'string'),\n",
              " (' Returned Cheque', 'int'),\n",
              " (' Dishonour of Bill', 'int')]"
            ]
          },
          "metadata": {},
          "execution_count": 9
        }
      ]
    },
    {
      "cell_type": "code",
      "source": [
        "loan_df = loan_df.withColumn(\"Loan Amount\", col(\"Loan Amount\").cast(\"int\"))"
      ],
      "metadata": {
        "id": "uDOxhcstpnEc"
      },
      "execution_count": 10,
      "outputs": []
    },
    {
      "cell_type": "code",
      "source": [
        "# Number of loans in each category\n",
        "loan_df.groupBy(\"Loan Category\").count().show()"
      ],
      "metadata": {
        "colab": {
          "base_uri": "https://localhost:8080/"
        },
        "id": "7i1SihThppp9",
        "outputId": "d59a198a-b78c-4cf0-ed1c-2d6237bedfd6"
      },
      "execution_count": 11,
      "outputs": [
        {
          "output_type": "stream",
          "name": "stdout",
          "text": [
            "+------------------+-----+\n",
            "|     Loan Category|count|\n",
            "+------------------+-----+\n",
            "|           HOUSING|   67|\n",
            "|        TRAVELLING|   53|\n",
            "|       BOOK STORES|    7|\n",
            "|       AGRICULTURE|   12|\n",
            "|         GOLD LOAN|   77|\n",
            "|  EDUCATIONAL LOAN|   20|\n",
            "|        AUTOMOBILE|   60|\n",
            "|          BUSINESS|   24|\n",
            "|COMPUTER SOFTWARES|   35|\n",
            "|           DINNING|   14|\n",
            "|          SHOPPING|   35|\n",
            "|       RESTAURANTS|   41|\n",
            "|       ELECTRONICS|   14|\n",
            "|          BUILDING|    7|\n",
            "|        RESTAURANT|   20|\n",
            "|   HOME APPLIANCES|   14|\n",
            "+------------------+-----+\n",
            "\n"
          ]
        }
      ]
    },
    {
      "cell_type": "code",
      "source": [
        "# People who took more than ₹1L loan\n",
        "loan_df.filter(col(\"Loan Amount\") > 100000).count()"
      ],
      "metadata": {
        "colab": {
          "base_uri": "https://localhost:8080/"
        },
        "id": "ZVfml0URptHg",
        "outputId": "784244f5-f707-4b21-c97f-704efbccbc45"
      },
      "execution_count": 12,
      "outputs": [
        {
          "output_type": "execute_result",
          "data": {
            "text/plain": [
              "0"
            ]
          },
          "metadata": {},
          "execution_count": 12
        }
      ]
    },
    {
      "cell_type": "code",
      "source": [
        "# People with income > ₹60,000\n",
        "loan_df.filter(col(\"Income\") > 60000).count()"
      ],
      "metadata": {
        "colab": {
          "base_uri": "https://localhost:8080/"
        },
        "id": "R54rkdRTpw0h",
        "outputId": "2516fa20-94e9-43b6-d8e9-ac11c9c0c0af"
      },
      "execution_count": 13,
      "outputs": [
        {
          "output_type": "execute_result",
          "data": {
            "text/plain": [
              "198"
            ]
          },
          "metadata": {},
          "execution_count": 13
        }
      ]
    },
    {
      "cell_type": "code",
      "source": [
        "# ≥2 returned cheques and income < ₹50,000\n",
        "loan_df.filter((col(\" Returned Cheque\") >= 2) & (col(\"Income\") < 50000)).count()"
      ],
      "metadata": {
        "colab": {
          "base_uri": "https://localhost:8080/"
        },
        "id": "BAXM7gU1pzH2",
        "outputId": "e42203b9-94c6-454b-f885-94d9e6ee9947"
      },
      "execution_count": 14,
      "outputs": [
        {
          "output_type": "execute_result",
          "data": {
            "text/plain": [
              "137"
            ]
          },
          "metadata": {},
          "execution_count": 14
        }
      ]
    },
    {
      "cell_type": "code",
      "source": [
        "# ≥2 returned cheques and Single\n",
        "loan_df.filter((col(\" Returned Cheque\") >= 2) & (col(\"Marital Status\") == \"Single\")).count()"
      ],
      "metadata": {
        "colab": {
          "base_uri": "https://localhost:8080/"
        },
        "id": "MExufr-rp1mc",
        "outputId": "a0b9436c-6439-4570-9455-fae50c0cb96f"
      },
      "execution_count": 15,
      "outputs": [
        {
          "output_type": "execute_result",
          "data": {
            "text/plain": [
              "0"
            ]
          },
          "metadata": {},
          "execution_count": 15
        }
      ]
    },
    {
      "cell_type": "code",
      "source": [
        "# Expenditure over ₹50,000\n",
        "loan_df.filter(col(\"Expenditure\") > 50000).count()"
      ],
      "metadata": {
        "colab": {
          "base_uri": "https://localhost:8080/"
        },
        "id": "kgyKe5c7p4QD",
        "outputId": "cd6e1121-ef01-45c1-a71c-1d9bb355f705"
      },
      "execution_count": 16,
      "outputs": [
        {
          "output_type": "execute_result",
          "data": {
            "text/plain": [
              "6"
            ]
          },
          "metadata": {},
          "execution_count": 16
        }
      ]
    },
    {
      "cell_type": "code",
      "source": [
        "credit_df.show(n=20, truncate=True, vertical=False)"
      ],
      "metadata": {
        "colab": {
          "base_uri": "https://localhost:8080/"
        },
        "id": "Kg3z1OZSp62k",
        "outputId": "61b6025c-40f5-4e18-97af-327fc23b503e"
      },
      "execution_count": 17,
      "outputs": [
        {
          "output_type": "stream",
          "name": "stdout",
          "text": [
            "+---------+----------+---------+-----------+---------+------+---+------+---------+-------------+--------------+---------------+------+\n",
            "|RowNumber|CustomerId|  Surname|CreditScore|Geography|Gender|Age|Tenure|  Balance|NumOfProducts|IsActiveMember|EstimatedSalary|Exited|\n",
            "+---------+----------+---------+-----------+---------+------+---+------+---------+-------------+--------------+---------------+------+\n",
            "|        1|  15634602| Hargrave|        619|   France|Female| 42|     2|      0.0|            1|             1|      101348.88|     1|\n",
            "|        2|  15647311|     Hill|        608|    Spain|Female| 41|     1| 83807.86|            1|             1|      112542.58|     0|\n",
            "|        3|  15619304|     Onio|        502|   France|Female| 42|     8| 159660.8|            3|             0|      113931.57|     1|\n",
            "|        4|  15701354|     Boni|        699|   France|Female| 39|     1|      0.0|            2|             0|       93826.63|     0|\n",
            "|        5|  15737888| Mitchell|        850|    Spain|Female| 43|     2|125510.82|            1|             1|        79084.1|     0|\n",
            "|        6|  15574012|      Chu|        645|    Spain|  Male| 44|     8|113755.78|            2|             0|      149756.71|     1|\n",
            "|        7|  15592531| Bartlett|        822|   France|  Male| 50|     7|      0.0|            2|             1|        10062.8|     0|\n",
            "|        8|  15656148|   Obinna|        376|  Germany|Female| 29|     4|115046.74|            4|             0|      119346.88|     1|\n",
            "|        9|  15792365|       He|        501|   France|  Male| 44|     4|142051.07|            2|             1|        74940.5|     0|\n",
            "|       10|  15592389|       H?|        684|   France|  Male| 27|     2|134603.88|            1|             1|       71725.73|     0|\n",
            "|       11|  15767821|   Bearce|        528|   France|  Male| 31|     6|102016.72|            2|             0|       80181.12|     0|\n",
            "|       12|  15737173|  Andrews|        497|    Spain|  Male| 24|     3|      0.0|            2|             0|       76390.01|     0|\n",
            "|       13|  15632264|      Kay|        476|   France|Female| 34|    10|      0.0|            2|             0|       26260.98|     0|\n",
            "|       14|  15691483|     Chin|        549|   France|Female| 25|     5|      0.0|            2|             0|      190857.79|     0|\n",
            "|       15|  15600882|    Scott|        635|    Spain|Female| 35|     7|      0.0|            2|             1|       65951.65|     0|\n",
            "|       16|  15643966|  Goforth|        616|  Germany|  Male| 45|     3|143129.41|            2|             1|       64327.26|     0|\n",
            "|       17|  15737452|    Romeo|        653|  Germany|  Male| 58|     1|132602.88|            1|             0|        5097.67|     1|\n",
            "|       18|  15788218|Henderson|        549|    Spain|Female| 24|     9|      0.0|            2|             1|       14406.41|     0|\n",
            "|       19|  15661507|  Muldrow|        587|    Spain|  Male| 45|     6|      0.0|            1|             0|      158684.81|     0|\n",
            "|       20|  15568982|      Hao|        726|   France|Female| 24|     6|      0.0|            2|             1|       54724.03|     0|\n",
            "+---------+----------+---------+-----------+---------+------+---+------+---------+-------------+--------------+---------------+------+\n",
            "only showing top 20 rows\n",
            "\n"
          ]
        }
      ]
    },
    {
      "cell_type": "code",
      "source": [
        "credit_df.printSchema()"
      ],
      "metadata": {
        "colab": {
          "base_uri": "https://localhost:8080/"
        },
        "id": "TJsi_QbGp-h8",
        "outputId": "6750a10f-b36c-426d-ebd4-a65833584cb4"
      },
      "execution_count": 18,
      "outputs": [
        {
          "output_type": "stream",
          "name": "stdout",
          "text": [
            "root\n",
            " |-- RowNumber: integer (nullable = true)\n",
            " |-- CustomerId: integer (nullable = true)\n",
            " |-- Surname: string (nullable = true)\n",
            " |-- CreditScore: integer (nullable = true)\n",
            " |-- Geography: string (nullable = true)\n",
            " |-- Gender: string (nullable = true)\n",
            " |-- Age: integer (nullable = true)\n",
            " |-- Tenure: integer (nullable = true)\n",
            " |-- Balance: double (nullable = true)\n",
            " |-- NumOfProducts: integer (nullable = true)\n",
            " |-- IsActiveMember: integer (nullable = true)\n",
            " |-- EstimatedSalary: double (nullable = true)\n",
            " |-- Exited: integer (nullable = true)\n",
            "\n"
          ]
        }
      ]
    },
    {
      "cell_type": "code",
      "source": [
        "credit_df.dtypes"
      ],
      "metadata": {
        "colab": {
          "base_uri": "https://localhost:8080/"
        },
        "id": "h0PgOnxOqBPW",
        "outputId": "f455c63d-ae7c-4fce-a081-4bd1f7fc1586"
      },
      "execution_count": 19,
      "outputs": [
        {
          "output_type": "execute_result",
          "data": {
            "text/plain": [
              "[('RowNumber', 'int'),\n",
              " ('CustomerId', 'int'),\n",
              " ('Surname', 'string'),\n",
              " ('CreditScore', 'int'),\n",
              " ('Geography', 'string'),\n",
              " ('Gender', 'string'),\n",
              " ('Age', 'int'),\n",
              " ('Tenure', 'int'),\n",
              " ('Balance', 'double'),\n",
              " ('NumOfProducts', 'int'),\n",
              " ('IsActiveMember', 'int'),\n",
              " ('EstimatedSalary', 'double'),\n",
              " ('Exited', 'int')]"
            ]
          },
          "metadata": {},
          "execution_count": 19
        }
      ]
    },
    {
      "cell_type": "code",
      "source": [
        "# Users from Spain\n",
        "credit_df.filter(col(\"Geography\") == \"Spain\").count()\n"
      ],
      "metadata": {
        "colab": {
          "base_uri": "https://localhost:8080/"
        },
        "id": "TlxfvJaSqFog",
        "outputId": "92d733bb-20b9-4999-fc97-49bd7083709f"
      },
      "execution_count": 20,
      "outputs": [
        {
          "output_type": "execute_result",
          "data": {
            "text/plain": [
              "2477"
            ]
          },
          "metadata": {},
          "execution_count": 20
        }
      ]
    },
    {
      "cell_type": "code",
      "source": [
        "# Eligible & Active (e.g., CreditScore > 650 and IsActiveMember = 1)\n",
        "credit_df.filter((col(\"CreditScore\") > 650) & (col(\"IsActiveMember\") == 1)).count()"
      ],
      "metadata": {
        "colab": {
          "base_uri": "https://localhost:8080/"
        },
        "id": "-suEIrgfqIpZ",
        "outputId": "a30327c0-2e66-470f-a3c1-7faf8fc4638f"
      },
      "execution_count": 21,
      "outputs": [
        {
          "output_type": "execute_result",
          "data": {
            "text/plain": [
              "2655"
            ]
          },
          "metadata": {},
          "execution_count": 21
        }
      ]
    },
    {
      "cell_type": "code",
      "source": [
        "txn_df.show(n=20, truncate=True, vertical=False)"
      ],
      "metadata": {
        "colab": {
          "base_uri": "https://localhost:8080/"
        },
        "id": "R7nFJRBeqIYB",
        "outputId": "1b7cd6a2-109c-4abd-96e4-ee7b82e77e3c"
      },
      "execution_count": 22,
      "outputs": [
        {
          "output_type": "stream",
          "name": "stdout",
          "text": [
            "+-------------+--------------------+----------+----------------+-------------+-----------+\n",
            "|   Account No| TRANSACTION DETAILS|VALUE DATE| WITHDRAWAL AMT | DEPOSIT AMT |BALANCE AMT|\n",
            "+-------------+--------------------+----------+----------------+-------------+-----------+\n",
            "|409000611074'|TRF FROM  Indiafo...| 29-Jun-17|            NULL|    1000000.0|  1000000.0|\n",
            "|409000611074'|TRF FROM  Indiafo...|  5-Jul-17|            NULL|    1000000.0|  2000000.0|\n",
            "|409000611074'|FDRL/INTERNAL FUN...| 18-Jul-17|            NULL|     500000.0|  2500000.0|\n",
            "|409000611074'|TRF FRM  Indiafor...|  1-Aug-17|            NULL|    3000000.0|  5500000.0|\n",
            "|409000611074'|FDRL/INTERNAL FUN...| 16-Aug-17|            NULL|     500000.0|  6000000.0|\n",
            "|409000611074'|FDRL/INTERNAL FUN...| 16-Aug-17|            NULL|     500000.0|  6500000.0|\n",
            "|409000611074'|FDRL/INTERNAL FUN...| 16-Aug-17|            NULL|     500000.0|  7000000.0|\n",
            "|409000611074'|FDRL/INTERNAL FUN...| 16-Aug-17|            NULL|     500000.0|  7500000.0|\n",
            "|409000611074'|FDRL/INTERNAL FUN...| 16-Aug-17|            NULL|     500000.0|  8000000.0|\n",
            "|409000611074'|FDRL/INTERNAL FUN...| 16-Aug-17|            NULL|     500000.0|  8500000.0|\n",
            "|409000611074'|INDO GIBL Indiafo...| 16-Aug-17|        133900.0|         NULL|  8366100.0|\n",
            "|409000611074'|INDO GIBL Indiafo...| 16-Aug-17|         18000.0|         NULL|  8348100.0|\n",
            "|409000611074'|INDO GIBL Indiafo...| 16-Aug-17|          5000.0|         NULL|  8343100.0|\n",
            "|409000611074'|INDO GIBL Indiafo...| 16-Aug-17|        195800.0|         NULL|  8147300.0|\n",
            "|409000611074'|INDO GIBL Indiafo...| 16-Aug-17|         81600.0|         NULL|  8065700.0|\n",
            "|409000611074'|INDO GIBL Indiafo...| 16-Aug-17|         41800.0|         NULL|  8023900.0|\n",
            "|409000611074'|INDO GIBL Indiafo...| 16-Aug-17|         98500.0|         NULL|  7925400.0|\n",
            "|409000611074'|INDO GIBL Indiafo...| 16-Aug-17|        143800.0|         NULL|  7781600.0|\n",
            "|409000611074'|INDO GIBL Indiafo...| 16-Aug-17|        331650.0|         NULL|  7449950.0|\n",
            "|409000611074'|INDO GIBL Indiafo...| 16-Aug-17|        129000.0|         NULL|  7320950.0|\n",
            "+-------------+--------------------+----------+----------------+-------------+-----------+\n",
            "only showing top 20 rows\n",
            "\n"
          ]
        }
      ]
    },
    {
      "cell_type": "code",
      "source": [
        "txn_df.printSchema()"
      ],
      "metadata": {
        "colab": {
          "base_uri": "https://localhost:8080/"
        },
        "id": "OwmFbw2AqIUn",
        "outputId": "d2042d06-a52c-4c67-ad48-8c24496cc05d"
      },
      "execution_count": 23,
      "outputs": [
        {
          "output_type": "stream",
          "name": "stdout",
          "text": [
            "root\n",
            " |-- Account No: string (nullable = true)\n",
            " |-- TRANSACTION DETAILS: string (nullable = true)\n",
            " |-- VALUE DATE: string (nullable = true)\n",
            " |--  WITHDRAWAL AMT : double (nullable = true)\n",
            " |--  DEPOSIT AMT : double (nullable = true)\n",
            " |-- BALANCE AMT: double (nullable = true)\n",
            "\n"
          ]
        }
      ]
    },
    {
      "cell_type": "code",
      "source": [
        "txn_df.dtypes"
      ],
      "metadata": {
        "colab": {
          "base_uri": "https://localhost:8080/"
        },
        "id": "yHlnjvZQqIRD",
        "outputId": "0f42abc8-0cf0-47c6-c3bd-208c895a3307"
      },
      "execution_count": 24,
      "outputs": [
        {
          "output_type": "execute_result",
          "data": {
            "text/plain": [
              "[('Account No', 'string'),\n",
              " ('TRANSACTION DETAILS', 'string'),\n",
              " ('VALUE DATE', 'string'),\n",
              " (' WITHDRAWAL AMT ', 'double'),\n",
              " (' DEPOSIT AMT ', 'double'),\n",
              " ('BALANCE AMT', 'double')]"
            ]
          },
          "metadata": {},
          "execution_count": 24
        }
      ]
    },
    {
      "cell_type": "code",
      "source": [
        "# Max withdrawal amount\n",
        "txn_df.select(max(\" WITHDRAWAL AMT \")).show()"
      ],
      "metadata": {
        "colab": {
          "base_uri": "https://localhost:8080/"
        },
        "id": "RElSahAFqIN1",
        "outputId": "1e877d69-941e-4c05-c912-3ec39a62c1d2"
      },
      "execution_count": 25,
      "outputs": [
        {
          "output_type": "stream",
          "name": "stdout",
          "text": [
            "+---------------------+\n",
            "|max( WITHDRAWAL AMT )|\n",
            "+---------------------+\n",
            "|        4.594475464E8|\n",
            "+---------------------+\n",
            "\n"
          ]
        }
      ]
    },
    {
      "cell_type": "code",
      "source": [
        "# Min withdrawal per account\n",
        "txn_df.groupBy(\"Account No\").agg(min(\" WITHDRAWAL AMT \").alias(\"Min Withdrawal\")).show()\n"
      ],
      "metadata": {
        "colab": {
          "base_uri": "https://localhost:8080/"
        },
        "id": "4FOgTL76qIKw",
        "outputId": "5608bab0-3c8b-45b4-a2b7-b7d87cd3c01f"
      },
      "execution_count": 26,
      "outputs": [
        {
          "output_type": "stream",
          "name": "stdout",
          "text": [
            "+-------------+--------------+\n",
            "|   Account No|Min Withdrawal|\n",
            "+-------------+--------------+\n",
            "|409000438611'|           0.2|\n",
            "|     1196711'|          0.25|\n",
            "|     1196428'|          0.25|\n",
            "|409000493210'|          0.01|\n",
            "|409000611074'|         120.0|\n",
            "|409000425051'|          1.25|\n",
            "|409000405747'|          21.0|\n",
            "|409000362497'|          0.97|\n",
            "|409000493201'|           2.1|\n",
            "|409000438620'|          0.34|\n",
            "+-------------+--------------+\n",
            "\n"
          ]
        }
      ]
    },
    {
      "cell_type": "code",
      "source": [
        "# Max deposit per account\n",
        "txn_df.groupBy(\"Account No\").agg(max(\" DEPOSIT AMT \").alias(\"Max Deposit\")).show()\n"
      ],
      "metadata": {
        "colab": {
          "base_uri": "https://localhost:8080/"
        },
        "id": "EIE2o-QFqIHv",
        "outputId": "f9adb2b7-3e20-435d-837a-3d925c90e607"
      },
      "execution_count": 27,
      "outputs": [
        {
          "output_type": "stream",
          "name": "stdout",
          "text": [
            "+-------------+-------------+\n",
            "|   Account No|  Max Deposit|\n",
            "+-------------+-------------+\n",
            "|409000438611'|     1.7025E8|\n",
            "|     1196711'|        5.0E8|\n",
            "|     1196428'|2.119594422E8|\n",
            "|409000493210'|        1.5E7|\n",
            "|409000611074'|    3000000.0|\n",
            "|409000425051'|        1.5E7|\n",
            "|409000405747'|      2.021E8|\n",
            "|409000362497'|        2.0E8|\n",
            "|409000493201'|    1000000.0|\n",
            "|409000438620'|      5.448E8|\n",
            "+-------------+-------------+\n",
            "\n"
          ]
        }
      ]
    },
    {
      "cell_type": "code",
      "source": [
        "# Total balance per account\n",
        "txn_df.groupBy(\"Account No\").agg(sum(\"BALANCE AMT\").alias(\"Total Balance\")).show()\n"
      ],
      "metadata": {
        "colab": {
          "base_uri": "https://localhost:8080/"
        },
        "id": "zFnNSYQ4qFlH",
        "outputId": "55b47aca-f2e0-42a7-d220-7fa34e1e0fc6"
      },
      "execution_count": 28,
      "outputs": [
        {
          "output_type": "stream",
          "name": "stdout",
          "text": [
            "+-------------+--------------------+\n",
            "|   Account No|       Total Balance|\n",
            "+-------------+--------------------+\n",
            "|409000438611'|-2.49486577068339...|\n",
            "|     1196711'|-1.60476498101275E13|\n",
            "|     1196428'| -8.1418498130721E13|\n",
            "|409000493210'|-3.27584952132095...|\n",
            "|409000611074'|       1.615533622E9|\n",
            "|409000425051'|-3.77211841164998...|\n",
            "|409000405747'|-2.43108047067000...|\n",
            "|409000362497'| -5.2860004792808E13|\n",
            "|409000493201'|1.0420831829499985E9|\n",
            "|409000438620'|-7.12291867951358...|\n",
            "+-------------+--------------------+\n",
            "\n"
          ]
        }
      ]
    },
    {
      "cell_type": "code",
      "source": [
        "# Number of transactions per date\n",
        "txn_df.groupBy(\"VALUE DATE\").agg(count(\"*\").alias(\"Transaction Count\")).show()\n"
      ],
      "metadata": {
        "colab": {
          "base_uri": "https://localhost:8080/"
        },
        "id": "I5jto_Q8qFhu",
        "outputId": "470cb9ce-a543-4185-8706-f611eda2cbec"
      },
      "execution_count": 29,
      "outputs": [
        {
          "output_type": "stream",
          "name": "stdout",
          "text": [
            "+----------+-----------------+\n",
            "|VALUE DATE|Transaction Count|\n",
            "+----------+-----------------+\n",
            "| 23-Dec-16|              143|\n",
            "|  7-Feb-19|               98|\n",
            "| 21-Jul-15|               80|\n",
            "|  9-Sep-15|               91|\n",
            "| 17-Jan-15|               16|\n",
            "| 18-Nov-17|               53|\n",
            "| 21-Feb-18|               77|\n",
            "| 20-Mar-18|               71|\n",
            "| 19-Apr-18|               71|\n",
            "| 21-Jun-16|               97|\n",
            "| 17-Oct-17|              101|\n",
            "|  3-Jan-18|               70|\n",
            "|  8-Jun-18|              223|\n",
            "| 15-Dec-18|               62|\n",
            "|  8-Aug-16|               97|\n",
            "| 17-Dec-16|               74|\n",
            "|  3-Sep-15|               83|\n",
            "| 21-Jan-16|               76|\n",
            "|  4-May-18|               92|\n",
            "|  7-Sep-17|               94|\n",
            "+----------+-----------------+\n",
            "only showing top 20 rows\n",
            "\n"
          ]
        }
      ]
    },
    {
      "cell_type": "code",
      "source": [
        "# Customers who withdrew > ₹1L\n",
        "txn_df.filter(col(\" WITHDRAWAL AMT \") > 100000).select(\"Account No\").distinct().show()"
      ],
      "metadata": {
        "colab": {
          "base_uri": "https://localhost:8080/"
        },
        "id": "vUbPJlF9qFeR",
        "outputId": "33e73f1e-9a1f-4307-b723-9931d500ad28"
      },
      "execution_count": 30,
      "outputs": [
        {
          "output_type": "stream",
          "name": "stdout",
          "text": [
            "+-------------+\n",
            "|   Account No|\n",
            "+-------------+\n",
            "|409000438611'|\n",
            "|     1196711'|\n",
            "|     1196428'|\n",
            "|409000493210'|\n",
            "|409000611074'|\n",
            "|409000425051'|\n",
            "|409000405747'|\n",
            "|409000362497'|\n",
            "|409000493201'|\n",
            "|409000438620'|\n",
            "+-------------+\n",
            "\n"
          ]
        }
      ]
    }
  ]
}