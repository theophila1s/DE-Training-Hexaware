{
  "nbformat": 4,
  "nbformat_minor": 0,
  "metadata": {
    "colab": {
      "provenance": []
    },
    "kernelspec": {
      "name": "python3",
      "display_name": "Python 3"
    },
    "language_info": {
      "name": "python"
    }
  },
  "cells": [
    {
      "cell_type": "code",
      "execution_count": 1,
      "metadata": {
        "colab": {
          "base_uri": "https://localhost:8080/"
        },
        "id": "WZAv-WhqlAsa",
        "outputId": "b1debc16-c497-4362-e87e-d99856779286"
      },
      "outputs": [
        {
          "output_type": "stream",
          "name": "stdout",
          "text": [
            "Requirement already satisfied: pyspark in /usr/local/lib/python3.11/dist-packages (3.5.1)\n",
            "Requirement already satisfied: py4j==0.10.9.7 in /usr/local/lib/python3.11/dist-packages (from pyspark) (0.10.9.7)\n"
          ]
        }
      ],
      "source": [
        "!pip install pyspark"
      ]
    },
    {
      "cell_type": "code",
      "source": [
        "from pyspark.sql import SparkSession\n",
        "\n",
        "spark = SparkSession.builder.appName(\"PySpark Transformations\").getOrCreate()\n",
        "from pyspark.sql.functions import col,sum,avg,count,row_number\n",
        "from pyspark.sql.window import Window"
      ],
      "metadata": {
        "id": "zbQpT4KWlMrN"
      },
      "execution_count": 3,
      "outputs": []
    },
    {
      "cell_type": "code",
      "source": [
        "from google.colab import files\n",
        "uploaded = files.upload()"
      ],
      "metadata": {
        "colab": {
          "base_uri": "https://localhost:8080/",
          "height": 73
        },
        "id": "YVkldeJ3l_PP",
        "outputId": "2a1f61af-cd0c-4f1e-a8e3-7780496a9252"
      },
      "execution_count": 13,
      "outputs": [
        {
          "output_type": "display_data",
          "data": {
            "text/plain": [
              "<IPython.core.display.HTML object>"
            ],
            "text/html": [
              "\n",
              "     <input type=\"file\" id=\"files-ce05dc1c-8691-41db-a271-8c3e90292928\" name=\"files[]\" multiple disabled\n",
              "        style=\"border:none\" />\n",
              "     <output id=\"result-ce05dc1c-8691-41db-a271-8c3e90292928\">\n",
              "      Upload widget is only available when the cell has been executed in the\n",
              "      current browser session. Please rerun this cell to enable.\n",
              "      </output>\n",
              "      <script>// Copyright 2017 Google LLC\n",
              "//\n",
              "// Licensed under the Apache License, Version 2.0 (the \"License\");\n",
              "// you may not use this file except in compliance with the License.\n",
              "// You may obtain a copy of the License at\n",
              "//\n",
              "//      http://www.apache.org/licenses/LICENSE-2.0\n",
              "//\n",
              "// Unless required by applicable law or agreed to in writing, software\n",
              "// distributed under the License is distributed on an \"AS IS\" BASIS,\n",
              "// WITHOUT WARRANTIES OR CONDITIONS OF ANY KIND, either express or implied.\n",
              "// See the License for the specific language governing permissions and\n",
              "// limitations under the License.\n",
              "\n",
              "/**\n",
              " * @fileoverview Helpers for google.colab Python module.\n",
              " */\n",
              "(function(scope) {\n",
              "function span(text, styleAttributes = {}) {\n",
              "  const element = document.createElement('span');\n",
              "  element.textContent = text;\n",
              "  for (const key of Object.keys(styleAttributes)) {\n",
              "    element.style[key] = styleAttributes[key];\n",
              "  }\n",
              "  return element;\n",
              "}\n",
              "\n",
              "// Max number of bytes which will be uploaded at a time.\n",
              "const MAX_PAYLOAD_SIZE = 100 * 1024;\n",
              "\n",
              "function _uploadFiles(inputId, outputId) {\n",
              "  const steps = uploadFilesStep(inputId, outputId);\n",
              "  const outputElement = document.getElementById(outputId);\n",
              "  // Cache steps on the outputElement to make it available for the next call\n",
              "  // to uploadFilesContinue from Python.\n",
              "  outputElement.steps = steps;\n",
              "\n",
              "  return _uploadFilesContinue(outputId);\n",
              "}\n",
              "\n",
              "// This is roughly an async generator (not supported in the browser yet),\n",
              "// where there are multiple asynchronous steps and the Python side is going\n",
              "// to poll for completion of each step.\n",
              "// This uses a Promise to block the python side on completion of each step,\n",
              "// then passes the result of the previous step as the input to the next step.\n",
              "function _uploadFilesContinue(outputId) {\n",
              "  const outputElement = document.getElementById(outputId);\n",
              "  const steps = outputElement.steps;\n",
              "\n",
              "  const next = steps.next(outputElement.lastPromiseValue);\n",
              "  return Promise.resolve(next.value.promise).then((value) => {\n",
              "    // Cache the last promise value to make it available to the next\n",
              "    // step of the generator.\n",
              "    outputElement.lastPromiseValue = value;\n",
              "    return next.value.response;\n",
              "  });\n",
              "}\n",
              "\n",
              "/**\n",
              " * Generator function which is called between each async step of the upload\n",
              " * process.\n",
              " * @param {string} inputId Element ID of the input file picker element.\n",
              " * @param {string} outputId Element ID of the output display.\n",
              " * @return {!Iterable<!Object>} Iterable of next steps.\n",
              " */\n",
              "function* uploadFilesStep(inputId, outputId) {\n",
              "  const inputElement = document.getElementById(inputId);\n",
              "  inputElement.disabled = false;\n",
              "\n",
              "  const outputElement = document.getElementById(outputId);\n",
              "  outputElement.innerHTML = '';\n",
              "\n",
              "  const pickedPromise = new Promise((resolve) => {\n",
              "    inputElement.addEventListener('change', (e) => {\n",
              "      resolve(e.target.files);\n",
              "    });\n",
              "  });\n",
              "\n",
              "  const cancel = document.createElement('button');\n",
              "  inputElement.parentElement.appendChild(cancel);\n",
              "  cancel.textContent = 'Cancel upload';\n",
              "  const cancelPromise = new Promise((resolve) => {\n",
              "    cancel.onclick = () => {\n",
              "      resolve(null);\n",
              "    };\n",
              "  });\n",
              "\n",
              "  // Wait for the user to pick the files.\n",
              "  const files = yield {\n",
              "    promise: Promise.race([pickedPromise, cancelPromise]),\n",
              "    response: {\n",
              "      action: 'starting',\n",
              "    }\n",
              "  };\n",
              "\n",
              "  cancel.remove();\n",
              "\n",
              "  // Disable the input element since further picks are not allowed.\n",
              "  inputElement.disabled = true;\n",
              "\n",
              "  if (!files) {\n",
              "    return {\n",
              "      response: {\n",
              "        action: 'complete',\n",
              "      }\n",
              "    };\n",
              "  }\n",
              "\n",
              "  for (const file of files) {\n",
              "    const li = document.createElement('li');\n",
              "    li.append(span(file.name, {fontWeight: 'bold'}));\n",
              "    li.append(span(\n",
              "        `(${file.type || 'n/a'}) - ${file.size} bytes, ` +\n",
              "        `last modified: ${\n",
              "            file.lastModifiedDate ? file.lastModifiedDate.toLocaleDateString() :\n",
              "                                    'n/a'} - `));\n",
              "    const percent = span('0% done');\n",
              "    li.appendChild(percent);\n",
              "\n",
              "    outputElement.appendChild(li);\n",
              "\n",
              "    const fileDataPromise = new Promise((resolve) => {\n",
              "      const reader = new FileReader();\n",
              "      reader.onload = (e) => {\n",
              "        resolve(e.target.result);\n",
              "      };\n",
              "      reader.readAsArrayBuffer(file);\n",
              "    });\n",
              "    // Wait for the data to be ready.\n",
              "    let fileData = yield {\n",
              "      promise: fileDataPromise,\n",
              "      response: {\n",
              "        action: 'continue',\n",
              "      }\n",
              "    };\n",
              "\n",
              "    // Use a chunked sending to avoid message size limits. See b/62115660.\n",
              "    let position = 0;\n",
              "    do {\n",
              "      const length = Math.min(fileData.byteLength - position, MAX_PAYLOAD_SIZE);\n",
              "      const chunk = new Uint8Array(fileData, position, length);\n",
              "      position += length;\n",
              "\n",
              "      const base64 = btoa(String.fromCharCode.apply(null, chunk));\n",
              "      yield {\n",
              "        response: {\n",
              "          action: 'append',\n",
              "          file: file.name,\n",
              "          data: base64,\n",
              "        },\n",
              "      };\n",
              "\n",
              "      let percentDone = fileData.byteLength === 0 ?\n",
              "          100 :\n",
              "          Math.round((position / fileData.byteLength) * 100);\n",
              "      percent.textContent = `${percentDone}% done`;\n",
              "\n",
              "    } while (position < fileData.byteLength);\n",
              "  }\n",
              "\n",
              "  // All done.\n",
              "  yield {\n",
              "    response: {\n",
              "      action: 'complete',\n",
              "    }\n",
              "  };\n",
              "}\n",
              "\n",
              "scope.google = scope.google || {};\n",
              "scope.google.colab = scope.google.colab || {};\n",
              "scope.google.colab._files = {\n",
              "  _uploadFiles,\n",
              "  _uploadFilesContinue,\n",
              "};\n",
              "})(self);\n",
              "</script> "
            ]
          },
          "metadata": {}
        },
        {
          "output_type": "stream",
          "name": "stdout",
          "text": [
            "Saving txn.csv to txn.csv\n"
          ]
        }
      ]
    },
    {
      "cell_type": "code",
      "source": [
        "txn_df = spark.read.csv(\"txn.csv\", header =True, inferSchema=True)\n",
        "txn_df.show(5)"
      ],
      "metadata": {
        "colab": {
          "base_uri": "https://localhost:8080/"
        },
        "id": "fYpnwEptrjno",
        "outputId": "89716c53-ba16-4d27-e1ba-ef9d2bce0a85"
      },
      "execution_count": 14,
      "outputs": [
        {
          "output_type": "stream",
          "name": "stdout",
          "text": [
            "+-------------+--------------------+----------+----------------+-------------+-----------+\n",
            "|   Account No| TRANSACTION DETAILS|VALUE DATE| WITHDRAWAL AMT | DEPOSIT AMT |BALANCE AMT|\n",
            "+-------------+--------------------+----------+----------------+-------------+-----------+\n",
            "|409000611074'|TRF FROM  Indiafo...| 29-Jun-17|            NULL|    1000000.0|  1000000.0|\n",
            "|409000611074'|TRF FROM  Indiafo...|  5-Jul-17|            NULL|    1000000.0|  2000000.0|\n",
            "|409000611074'|FDRL/INTERNAL FUN...| 18-Jul-17|            NULL|     500000.0|  2500000.0|\n",
            "|409000611074'|TRF FRM  Indiafor...|  1-Aug-17|            NULL|    3000000.0|  5500000.0|\n",
            "|409000611074'|FDRL/INTERNAL FUN...| 16-Aug-17|            NULL|     500000.0|  6000000.0|\n",
            "+-------------+--------------------+----------+----------------+-------------+-----------+\n",
            "only showing top 5 rows\n",
            "\n"
          ]
        }
      ]
    },
    {
      "cell_type": "code",
      "source": [
        "loan_df = spark.read.csv(\"loan.csv\", header =True, inferSchema=True)\n",
        "loan_df.show(5)"
      ],
      "metadata": {
        "colab": {
          "base_uri": "https://localhost:8080/"
        },
        "id": "loD9nxDumetk",
        "outputId": "78ad4505-fa31-40b1-e0c5-1ce82676adc6"
      },
      "execution_count": 5,
      "outputs": [
        {
          "output_type": "stream",
          "name": "stdout",
          "text": [
            "+-----------+---+------+------------+--------------+-----------+------+-----------+-------------+-------------+-----------+-------+------------+----------------+------------------+\n",
            "|Customer_ID|Age|Gender|  Occupation|Marital Status|Family Size|Income|Expenditure|Use Frequency|Loan Category|Loan Amount|Overdue| Debt Record| Returned Cheque| Dishonour of Bill|\n",
            "+-----------+---+------+------------+--------------+-----------+------+-----------+-------------+-------------+-----------+-------+------------+----------------+------------------+\n",
            "|    IB14001| 30|  MALE|BANK MANAGER|        SINGLE|          4| 50000|      22199|            6|      HOUSING| 10,00,000 |      5|      42,898|               6|                 9|\n",
            "|    IB14008| 44|  MALE|   PROFESSOR|       MARRIED|          6| 51000|      19999|            4|     SHOPPING|     50,000|      3|      33,999|               1|                 5|\n",
            "|    IB14012| 30|FEMALE|     DENTIST|        SINGLE|          3| 58450|      27675|            5|   TRAVELLING|     75,000|      6|      20,876|               3|                 1|\n",
            "|    IB14018| 29|  MALE|     TEACHER|       MARRIED|          5| 45767|      12787|            3|    GOLD LOAN|  6,00,000 |      7|      11,000|               0|                 4|\n",
            "|    IB14022| 34|  MALE|      POLICE|        SINGLE|          4| 43521|      11999|            3|   AUTOMOBILE|  2,00,000 |      2|      43,898|               1|                 2|\n",
            "+-----------+---+------+------------+--------------+-----------+------+-----------+-------------+-------------+-----------+-------+------------+----------------+------------------+\n",
            "only showing top 5 rows\n",
            "\n"
          ]
        }
      ]
    },
    {
      "cell_type": "markdown",
      "source": [
        "TRANSFORMATIONS"
      ],
      "metadata": {
        "id": "bizrwMBEpZvx"
      }
    },
    {
      "cell_type": "markdown",
      "source": [
        "FILTER"
      ],
      "metadata": {
        "id": "l0KCS9cmtLvo"
      }
    },
    {
      "cell_type": "code",
      "source": [
        "high_income = loan_df.filter(col(\"Income\") > 60000)\n",
        "high_income.show(5)"
      ],
      "metadata": {
        "colab": {
          "base_uri": "https://localhost:8080/"
        },
        "id": "uybNpwJApUz4",
        "outputId": "d83ae239-0e05-4b9d-b9a2-82c56cc80e97"
      },
      "execution_count": 6,
      "outputs": [
        {
          "output_type": "stream",
          "name": "stdout",
          "text": [
            "+-----------+---+------+-------------------+--------------+-----------+------+-----------+-------------+-------------+-----------+-------+------------+----------------+------------------+\n",
            "|Customer_ID|Age|Gender|         Occupation|Marital Status|Family Size|Income|Expenditure|Use Frequency|Loan Category|Loan Amount|Overdue| Debt Record| Returned Cheque| Dishonour of Bill|\n",
            "+-----------+---+------+-------------------+--------------+-----------+------+-----------+-------------+-------------+-----------+-------+------------+----------------+------------------+\n",
            "|    IB14032| 24|  MALE|       DATA ANALYST|        SINGLE|          4| 60111|      28999|            6|   AUTOMOBILE|     35,232|      5|      33,333|               1|                 2|\n",
            "|    IB14042| 25|FEMALE|             DOCTOR|        SINGLE|          4| 60111|      27111|            5|   TRAVELLING| 12,90,929 |      4|      18,000|               1|                 0|\n",
            "|    IB14082| 60|FEMALE|            TEACHER|       MARRIED|          5| 70000|      40000|            9|    GOLD LOAN|  2,57,789 |      4|      10,058|               4|                 3|\n",
            "|    IB14089| 25|  MALE|          PROFESSOR|        SINGLE|          5| 62145|      31254|            4|  BOOK STORES| 12,45,789 |      6|      48,596|               6|                 5|\n",
            "|    1B14094| 49|  MALE|ASSISTANT PROFESSOR|       MARRIED|          5| 65214|      42589|            5|      HOUSING|  9,85,412 |      5|      11,254|               1|                 2|\n",
            "+-----------+---+------+-------------------+--------------+-----------+------+-----------+-------------+-------------+-----------+-------+------------+----------------+------------------+\n",
            "only showing top 5 rows\n",
            "\n"
          ]
        }
      ]
    },
    {
      "cell_type": "code",
      "source": [
        "credit_df = spark.read.csv(\"credit card.csv\",header=True,inferSchema=True)\n",
        "credit_df.show(5)"
      ],
      "metadata": {
        "colab": {
          "base_uri": "https://localhost:8080/"
        },
        "id": "-P3vm1GEp2Y6",
        "outputId": "c2c99708-0a6e-439d-805f-708b7739e39c"
      },
      "execution_count": 8,
      "outputs": [
        {
          "output_type": "stream",
          "name": "stdout",
          "text": [
            "+---------+----------+--------+-----------+---------+------+---+------+---------+-------------+--------------+---------------+------+\n",
            "|RowNumber|CustomerId| Surname|CreditScore|Geography|Gender|Age|Tenure|  Balance|NumOfProducts|IsActiveMember|EstimatedSalary|Exited|\n",
            "+---------+----------+--------+-----------+---------+------+---+------+---------+-------------+--------------+---------------+------+\n",
            "|        1|  15634602|Hargrave|        619|   France|Female| 42|     2|      0.0|            1|             1|      101348.88|     1|\n",
            "|        2|  15647311|    Hill|        608|    Spain|Female| 41|     1| 83807.86|            1|             1|      112542.58|     0|\n",
            "|        3|  15619304|    Onio|        502|   France|Female| 42|     8| 159660.8|            3|             0|      113931.57|     1|\n",
            "|        4|  15701354|    Boni|        699|   France|Female| 39|     1|      0.0|            2|             0|       93826.63|     0|\n",
            "|        5|  15737888|Mitchell|        850|    Spain|Female| 43|     2|125510.82|            1|             1|        79084.1|     0|\n",
            "+---------+----------+--------+-----------+---------+------+---+------+---------+-------------+--------------+---------------+------+\n",
            "only showing top 5 rows\n",
            "\n"
          ]
        }
      ]
    },
    {
      "cell_type": "markdown",
      "source": [
        "GROUP BY\n"
      ],
      "metadata": {
        "id": "fwRy9dkxygXp"
      }
    },
    {
      "cell_type": "code",
      "source": [
        "loan_df.groupBy(\"Loan Category\").count().show()"
      ],
      "metadata": {
        "id": "1AW6QLlSyg8_",
        "outputId": "e4e6489c-bfb4-4884-a185-5a041bc2d7a8",
        "colab": {
          "base_uri": "https://localhost:8080/"
        }
      },
      "execution_count": 34,
      "outputs": [
        {
          "output_type": "stream",
          "name": "stdout",
          "text": [
            "+------------------+-----+\n",
            "|     Loan Category|count|\n",
            "+------------------+-----+\n",
            "|           HOUSING|   67|\n",
            "|        TRAVELLING|   53|\n",
            "|       BOOK STORES|    7|\n",
            "|       AGRICULTURE|   12|\n",
            "|         GOLD LOAN|   77|\n",
            "|  EDUCATIONAL LOAN|   20|\n",
            "|        AUTOMOBILE|   60|\n",
            "|          BUSINESS|   24|\n",
            "|COMPUTER SOFTWARES|   35|\n",
            "|           DINNING|   14|\n",
            "|          SHOPPING|   35|\n",
            "|       RESTAURANTS|   41|\n",
            "|       ELECTRONICS|   14|\n",
            "|          BUILDING|    7|\n",
            "|        RESTAURANT|   20|\n",
            "|   HOME APPLIANCES|   14|\n",
            "+------------------+-----+\n",
            "\n"
          ]
        }
      ]
    },
    {
      "cell_type": "markdown",
      "source": [
        "JOINS"
      ],
      "metadata": {
        "id": "JF40lqVytIfL"
      }
    },
    {
      "cell_type": "markdown",
      "source": [
        "Left Join"
      ],
      "metadata": {
        "id": "F7aDvxaZxy0V"
      }
    },
    {
      "cell_type": "code",
      "source": [
        "from pyspark.sql.functions import regexp_extract, col\n",
        "\n",
        "# Extract number from 'C001' → 1\n",
        "loan_df_clean = loan_df.withColumn(\"CustomerId\", regexp_extract(\"Customer_ID\", r'\\d+', 0).cast(\"int\"))\n",
        "\n",
        "# Load credit card data\n",
        "credit_df = spark.read.csv(\"credit card.csv\", header=True, inferSchema=True)\n",
        "\n",
        "# Now join on numeric CustomerId\n",
        "joined_df = loan_df_clean.join(credit_df, on=\"CustomerId\", how=\"left\")\n",
        "\n",
        "# Show result\n",
        "joined_df.select(\"Customer_ID\", \"Surname\", \"Loan Amount\", \"Balance\").show(5)\n"
      ],
      "metadata": {
        "colab": {
          "base_uri": "https://localhost:8080/"
        },
        "id": "AKpQDFdmqYBl",
        "outputId": "8e606a92-dbd4-49d9-ea5c-14d43613107e"
      },
      "execution_count": 17,
      "outputs": [
        {
          "output_type": "stream",
          "name": "stdout",
          "text": [
            "+-----------+-------+-----------+-------+\n",
            "|Customer_ID|Surname|Loan Amount|Balance|\n",
            "+-----------+-------+-----------+-------+\n",
            "|    IB14001|   NULL| 10,00,000 |   NULL|\n",
            "|    IB14008|   NULL|     50,000|   NULL|\n",
            "|    IB14012|   NULL|     75,000|   NULL|\n",
            "|    IB14018|   NULL|  6,00,000 |   NULL|\n",
            "|    IB14022|   NULL|  2,00,000 |   NULL|\n",
            "+-----------+-------+-----------+-------+\n",
            "only showing top 5 rows\n",
            "\n"
          ]
        }
      ]
    },
    {
      "cell_type": "markdown",
      "source": [
        "Inner Join"
      ],
      "metadata": {
        "id": "D0OyJ_pOx3Lc"
      }
    },
    {
      "cell_type": "code",
      "source": [
        "loan_df_clean.join(credit_df, on=\"CustomerId\", how=\"inner\").select(\"Customer_ID\", \"Surname\", \"Balance\").show()\n"
      ],
      "metadata": {
        "colab": {
          "base_uri": "https://localhost:8080/"
        },
        "id": "Dw_9elaDxp9E",
        "outputId": "a2aecef8-1f55-498f-e297-3a35a55ef8de"
      },
      "execution_count": 32,
      "outputs": [
        {
          "output_type": "stream",
          "name": "stdout",
          "text": [
            "+-----------+-------+-------+\n",
            "|Customer_ID|Surname|Balance|\n",
            "+-----------+-------+-------+\n",
            "+-----------+-------+-------+\n",
            "\n"
          ]
        }
      ]
    },
    {
      "cell_type": "markdown",
      "source": [
        "Left Join"
      ],
      "metadata": {
        "id": "7p-Yeqbgx5fh"
      }
    },
    {
      "cell_type": "code",
      "source": [
        "loan_df_clean.join(credit_df, on=\"CustomerId\", how=\"left\").select(\"Customer_ID\", \"Surname\", \"Balance\").show()\n"
      ],
      "metadata": {
        "colab": {
          "base_uri": "https://localhost:8080/"
        },
        "id": "PoPBzjaqxYRE",
        "outputId": "2ae1649d-a0d7-4531-8d61-a7e621c8828d"
      },
      "execution_count": 30,
      "outputs": [
        {
          "output_type": "stream",
          "name": "stdout",
          "text": [
            "+-----------+-------+-------+\n",
            "|Customer_ID|Surname|Balance|\n",
            "+-----------+-------+-------+\n",
            "|    IB14001|   NULL|   NULL|\n",
            "|    IB14008|   NULL|   NULL|\n",
            "|    IB14012|   NULL|   NULL|\n",
            "|    IB14018|   NULL|   NULL|\n",
            "|    IB14022|   NULL|   NULL|\n",
            "|    IB14024|   NULL|   NULL|\n",
            "|    IB14025|   NULL|   NULL|\n",
            "|    IB14027|   NULL|   NULL|\n",
            "|    IB14029|   NULL|   NULL|\n",
            "|    IB14031|   NULL|   NULL|\n",
            "|    IB14032|   NULL|   NULL|\n",
            "|    IB14034|   NULL|   NULL|\n",
            "|    IB14037|   NULL|   NULL|\n",
            "|    IB14039|   NULL|   NULL|\n",
            "|    IB14041|   NULL|   NULL|\n",
            "|    IB14042|   NULL|   NULL|\n",
            "|    IB14045|   NULL|   NULL|\n",
            "|    IB14049|   NULL|   NULL|\n",
            "|    IB14050|   NULL|   NULL|\n",
            "|    IB14054|   NULL|   NULL|\n",
            "+-----------+-------+-------+\n",
            "only showing top 20 rows\n",
            "\n"
          ]
        }
      ]
    },
    {
      "cell_type": "markdown",
      "source": [
        "Right Join"
      ],
      "metadata": {
        "id": "YD3MXx4Ux9PZ"
      }
    },
    {
      "cell_type": "code",
      "source": [
        "loan_df_clean.join(credit_df, on=\"CustomerId\", how=\"right\").select(\"Customer_ID\", \"Surname\", \"Balance\").show()\n"
      ],
      "metadata": {
        "colab": {
          "base_uri": "https://localhost:8080/"
        },
        "id": "cipbwNW0xjpL",
        "outputId": "e6409d71-263e-4f20-e48a-749760b1b380"
      },
      "execution_count": 33,
      "outputs": [
        {
          "output_type": "stream",
          "name": "stdout",
          "text": [
            "+-----------+---------+---------+\n",
            "|Customer_ID|  Surname|  Balance|\n",
            "+-----------+---------+---------+\n",
            "|       NULL| Hargrave|      0.0|\n",
            "|       NULL|     Hill| 83807.86|\n",
            "|       NULL|     Onio| 159660.8|\n",
            "|       NULL|     Boni|      0.0|\n",
            "|       NULL| Mitchell|125510.82|\n",
            "|       NULL|      Chu|113755.78|\n",
            "|       NULL| Bartlett|      0.0|\n",
            "|       NULL|   Obinna|115046.74|\n",
            "|       NULL|       He|142051.07|\n",
            "|       NULL|       H?|134603.88|\n",
            "|       NULL|   Bearce|102016.72|\n",
            "|       NULL|  Andrews|      0.0|\n",
            "|       NULL|      Kay|      0.0|\n",
            "|       NULL|     Chin|      0.0|\n",
            "|       NULL|    Scott|      0.0|\n",
            "|       NULL|  Goforth|143129.41|\n",
            "|       NULL|    Romeo|132602.88|\n",
            "|       NULL|Henderson|      0.0|\n",
            "|       NULL|  Muldrow|      0.0|\n",
            "|       NULL|      Hao|      0.0|\n",
            "+-----------+---------+---------+\n",
            "only showing top 20 rows\n",
            "\n"
          ]
        }
      ]
    },
    {
      "cell_type": "markdown",
      "source": [
        "AGGREGATION"
      ],
      "metadata": {
        "id": "aRTJ-9YhtgCK"
      }
    },
    {
      "cell_type": "code",
      "source": [
        "loan_df = loan_df.withColumn(\"Loan Amount\", col(\"Loan Amount\").cast(\"int\"))\n",
        "\n",
        "loan_df.groupBy(\"Marital Status\").agg(\n",
        "    sum(\"Loan Amount\").alias(\"TotalLoan\"),\n",
        "    avg(\"Loan Amount\").alias(\"AvgLoan\")\n",
        ").show()"
      ],
      "metadata": {
        "colab": {
          "base_uri": "https://localhost:8080/"
        },
        "id": "MIpi_cupteyZ",
        "outputId": "072883e7-edb4-4c18-a939-1bc4899890e3"
      },
      "execution_count": 19,
      "outputs": [
        {
          "output_type": "stream",
          "name": "stdout",
          "text": [
            "+--------------+---------+-------+\n",
            "|Marital Status|TotalLoan|AvgLoan|\n",
            "+--------------+---------+-------+\n",
            "|        SINGLE|     NULL|   NULL|\n",
            "|       MARRIED|     NULL|   NULL|\n",
            "+--------------+---------+-------+\n",
            "\n"
          ]
        }
      ]
    },
    {
      "cell_type": "markdown",
      "source": [
        "Max & Min Income per Occupation\n",
        "\n"
      ],
      "metadata": {
        "id": "qPJd_Pt_xNTY"
      }
    },
    {
      "cell_type": "code",
      "source": [
        "loan_df.groupBy(\"Occupation\").agg(\n",
        "    {\"Income\": \"max\", \"Income\": \"min\"}\n",
        ").show()\n"
      ],
      "metadata": {
        "colab": {
          "base_uri": "https://localhost:8080/"
        },
        "id": "BaLqkP_TwzZU",
        "outputId": "d9ba50cb-40fd-4631-d93e-b1d3c2a41d60"
      },
      "execution_count": 27,
      "outputs": [
        {
          "output_type": "stream",
          "name": "stdout",
          "text": [
            "+--------------------+-----------+\n",
            "|          Occupation|min(Income)|\n",
            "+--------------------+-----------+\n",
            "|      CIVIL ENGINEER|      46880|\n",
            "|     FIRE DEPARTMENT|      40000|\n",
            "|          ACCOUNTANT|      43350|\n",
            "|        BANK MANAGER|      29565|\n",
            "|      SYSTEM OFFICER|      56780|\n",
            "|           NUTRITION|      55650|\n",
            "|           DIETICIAN|      40060|\n",
            "|               CLERK|      32714|\n",
            "|   SOFTWARE ENGINEER|      30454|\n",
            "|AGRICULTURAL ENGI...|      66610|\n",
            "|   ASSISTANT MANAGER|      45612|\n",
            "|             TEACHER|      30801|\n",
            "| ASSISTANT PROFESSOR|      34999|\n",
            "|     SYSTEM ENGINEER|      52364|\n",
            "| CHARTERED APPRAISER|      58661|\n",
            "|                NAVY|      39213|\n",
            "|              POLICE|      33312|\n",
            "|            BUSINESS|      34444|\n",
            "|              FARMER|      51162|\n",
            "|              DRIVER|      30000|\n",
            "+--------------------+-----------+\n",
            "only showing top 20 rows\n",
            "\n"
          ]
        }
      ]
    },
    {
      "cell_type": "markdown",
      "source": [
        "Standard Deviation of Expenditure by Occupation\n",
        "\n"
      ],
      "metadata": {
        "id": "qemn3gvtxDua"
      }
    },
    {
      "cell_type": "code",
      "source": [
        "from pyspark.sql.functions import stddev\n",
        "\n",
        "loan_df.groupBy(\"Occupation\").agg(stddev(\"Expenditure\").alias(\"stddev_exp\")).show()\n"
      ],
      "metadata": {
        "colab": {
          "base_uri": "https://localhost:8080/"
        },
        "id": "rP8H9OX2w4bs",
        "outputId": "d90e8359-6ee1-4b73-95b3-3afddc293169"
      },
      "execution_count": 28,
      "outputs": [
        {
          "output_type": "stream",
          "name": "stdout",
          "text": [
            "+--------------------+------------------+\n",
            "|          Occupation|        stddev_exp|\n",
            "+--------------------+------------------+\n",
            "|      CIVIL ENGINEER| 5841.266041421728|\n",
            "|     FIRE DEPARTMENT| 6316.349616093719|\n",
            "|          ACCOUNTANT| 5374.031066598136|\n",
            "|        BANK MANAGER|11217.422514451566|\n",
            "|      SYSTEM OFFICER| 4707.928445717925|\n",
            "|           NUTRITION|              NULL|\n",
            "|           DIETICIAN|11835.213718781371|\n",
            "|               CLERK| 6326.715487153237|\n",
            "|   SOFTWARE ENGINEER|  7655.72613366057|\n",
            "|AGRICULTURAL ENGI...|12875.871787405862|\n",
            "|   ASSISTANT MANAGER|  7213.34187923092|\n",
            "|             TEACHER| 8613.057535672191|\n",
            "| ASSISTANT PROFESSOR| 9242.661288527479|\n",
            "|     SYSTEM ENGINEER|               0.0|\n",
            "| CHARTERED APPRAISER| 9296.023820576585|\n",
            "|                NAVY| 9598.032914569874|\n",
            "|              POLICE|11188.968716605497|\n",
            "|            BUSINESS| 9747.383497636687|\n",
            "|              FARMER|12349.656280159996|\n",
            "|              DRIVER| 8545.589693279355|\n",
            "+--------------------+------------------+\n",
            "only showing top 20 rows\n",
            "\n"
          ]
        }
      ]
    },
    {
      "cell_type": "markdown",
      "source": [
        "Collect List of Loan Categories by Marital Status"
      ],
      "metadata": {
        "id": "c5C0TomTw_9K"
      }
    },
    {
      "cell_type": "code",
      "source": [
        "from pyspark.sql.functions import collect_list\n",
        "\n",
        "loan_df.groupBy(\"Marital Status\").agg(collect_list(\"Loan Category\").alias(\"loan_types\")).show(truncate=False)\n"
      ],
      "metadata": {
        "colab": {
          "base_uri": "https://localhost:8080/"
        },
        "id": "vCZEQceJw9H_",
        "outputId": "f0e0dc85-3dad-40dd-e5bd-bec7ef6ab9ac"
      },
      "execution_count": 29,
      "outputs": [
        {
          "output_type": "stream",
          "name": "stdout",
          "text": [
            "+--------------+------------------------------------------------------------------------------------------------------------------------------------------------------------------------------------------------------------------------------------------------------------------------------------------------------------------------------------------------------------------------------------------------------------------------------------------------------------------------------------------------------------------------------------------------------------------------------------------------------------------------------------------------------------------------------------------------------------------------------------------------------------------------------------------------------------------------------------------------------------------------------------------------------------------------------------------------------------------------------------------------------------------------------------------------------------------------------------------------------------------------------------------------------------------------------------------------------------------------------------------------------------------------------------------------------------------------------------------------------------------------------------------------------------------------------------------------------------------------------------------------------------------------------------------------------------------------------------------------------------------------------------------------------------------------------------------------------------------------------------------------------------------------------------------------------------------------------------------------------------------------------------------------------------------------------------------------------------------------------------------------------------------------------------------------------------------------------------------------------------------------------------------------------------------------------------------------------------------------------------------------------------------------------------------------------------------------------------------------------------------------------------------------------------------------------------------------------------------------------------------------------------------------------------------------------------------------------------------------------------------------------------------------------------------------------------------------------------------------------------------------------------------------------------------------------------------------------------------------------------------------------------------------------------------------------------------------------------------------------------------------------------------------------------------------------------------------------------------------------------------------------------------------------------------------------------------------------------------------------------------------------------------------------------------------------------------------------------------------------------------------------------------------------------------------------------------------------------------------------------------------------------------------------------------------------------------------------------------------------------------------------------------------------------------------------------------------------------------------------------------------------------------------------------------------------------------------------------------------------------------------------------------------------------------------------------------------------------------------------------------------------------------------------------------------------------------------------------------------------------------------------------------------------------------------------------------------------------------------------------------------------------------------------------------------------------------------------------------------------------------------------------------------------------------------------------------------------------------------------------------------------------------------------------------------------------------------+\n",
            "|Marital Status|loan_types                                                                                                                                                                                                                                                                                                                                                                                                                                                                                                                                                                                                                                                                                                                                                                                                                                                                                                                                                                                                                                                                                                                                                                                                                                                                                                                                                                                                                                                                                                                                                                                                                                                                                                                                                                                                                                                                                                                                                                                                                                                                                                                                                                                                                                                                                                                                                                                                                                                                                                                                                                                                                                                                                                                                                                                                                                                                                                                                                                                                                                                                                                                                                                                                                                                                                                                                                                                                                                                                                                                                                                                                                                                                                                                                                                                                                                                                                                                                                                                                                                                                                                                                                                                                                                                                                                                                                                                                                                                                                                                                                              |\n",
            "+--------------+------------------------------------------------------------------------------------------------------------------------------------------------------------------------------------------------------------------------------------------------------------------------------------------------------------------------------------------------------------------------------------------------------------------------------------------------------------------------------------------------------------------------------------------------------------------------------------------------------------------------------------------------------------------------------------------------------------------------------------------------------------------------------------------------------------------------------------------------------------------------------------------------------------------------------------------------------------------------------------------------------------------------------------------------------------------------------------------------------------------------------------------------------------------------------------------------------------------------------------------------------------------------------------------------------------------------------------------------------------------------------------------------------------------------------------------------------------------------------------------------------------------------------------------------------------------------------------------------------------------------------------------------------------------------------------------------------------------------------------------------------------------------------------------------------------------------------------------------------------------------------------------------------------------------------------------------------------------------------------------------------------------------------------------------------------------------------------------------------------------------------------------------------------------------------------------------------------------------------------------------------------------------------------------------------------------------------------------------------------------------------------------------------------------------------------------------------------------------------------------------------------------------------------------------------------------------------------------------------------------------------------------------------------------------------------------------------------------------------------------------------------------------------------------------------------------------------------------------------------------------------------------------------------------------------------------------------------------------------------------------------------------------------------------------------------------------------------------------------------------------------------------------------------------------------------------------------------------------------------------------------------------------------------------------------------------------------------------------------------------------------------------------------------------------------------------------------------------------------------------------------------------------------------------------------------------------------------------------------------------------------------------------------------------------------------------------------------------------------------------------------------------------------------------------------------------------------------------------------------------------------------------------------------------------------------------------------------------------------------------------------------------------------------------------------------------------------------------------------------------------------------------------------------------------------------------------------------------------------------------------------------------------------------------------------------------------------------------------------------------------------------------------------------------------------------------------------------------------------------------------------------------------------------------------------------------------+\n",
            "|SINGLE        |[HOUSING, TRAVELLING, AUTOMOBILE, AUTOMOBILE, AUTOMOBILE, TRAVELLING, BOOK STORES, RESTAURANTS, GOLD LOAN, BOOK STORES, AUTOMOBILE, GOLD LOAN, AUTOMOBILE, AUTOMOBILE, RESTAURANTS, TRAVELLING, AUTOMOBILE, AUTOMOBILE, RESTAURANTS, TRAVELLING, BOOK STORES, AUTOMOBILE, AUTOMOBILE, AUTOMOBILE, BOOK STORES, GOLD LOAN, AUTOMOBILE, EDUCATIONAL LOAN, AUTOMOBILE, TRAVELLING, AUTOMOBILE, TRAVELLING, RESTAURANTS, GOLD LOAN, SHOPPING, COMPUTER SOFTWARES, SHOPPING, RESTAURANTS, TRAVELLING, GOLD LOAN, HOME APPLIANCES, AUTOMOBILE, BUILDING, RESTAURANT, AGRICULTURE, GOLD LOAN, COMPUTER SOFTWARES, AUTOMOBILE, RESTAURANTS, HOUSING, AGRICULTURE, BUSINESS, GOLD LOAN, SHOPPING, RESTAURANTS, GOLD LOAN, AUTOMOBILE, RESTAURANT, BUSINESS, AUTOMOBILE, GOLD LOAN, RESTAURANT, HOUSING, HOUSING, GOLD LOAN, GOLD LOAN, AUTOMOBILE, ELECTRONICS, RESTAURANT, BUSINESS, AUTOMOBILE, GOLD LOAN, RESTAURANTS, SHOPPING, DINNING, BUSINESS, RESTAURANT, RESTAURANT, SHOPPING, HOUSING, HOUSING, RESTAURANTS, HOUSING, BUSINESS, BUSINESS, RESTAURANTS, HOUSING, HOUSING, BUSINESS, AGRICULTURE, COMPUTER SOFTWARES, RESTAURANT, BUSINESS, HOUSING, AUTOMOBILE, DINNING, GOLD LOAN, AUTOMOBILE, SHOPPING, GOLD LOAN, BUSINESS, RESTAURANT, GOLD LOAN, BUSINESS, RESTAURANT, RESTAURANTS, HOUSING, HOUSING, TRAVELLING, AGRICULTURE, GOLD LOAN, RESTAURANT, GOLD LOAN, EDUCATIONAL LOAN, EDUCATIONAL LOAN, BOOK STORES, GOLD LOAN, HOME APPLIANCES, EDUCATIONAL LOAN, GOLD LOAN, TRAVELLING, BUSINESS, RESTAURANT, GOLD LOAN, SHOPPING, HOUSING, HOUSING, HOUSING, SHOPPING, AUTOMOBILE, BUILDING, HOUSING, TRAVELLING, AUTOMOBILE, ELECTRONICS, RESTAURANT, BUSINESS, AUTOMOBILE, GOLD LOAN, HOUSING, SHOPPING, DINNING, BUSINESS, AUTOMOBILE, HOUSING, TRAVELLING]                                                                                                                                                                                                                                                                                                                                                                                                                                                                                                                                                                                                                                                                                                                                                                                                                                                                                                                                                                                                                                                                                                                                                                                                                                                                                                                                                                                                                                                                                                                                                                                                                                                                                                                                                                                                                                                                                                                                                                                                                                                                                                                                                                                                                                                                                                                                                                                                                                                                                                                                                                                                                                                                                                                                                                                                    |\n",
            "|MARRIED       |[SHOPPING, GOLD LOAN, AUTOMOBILE, HOUSING, RESTAURANTS, AUTOMOBILE, COMPUTER SOFTWARES, RESTAURANTS, GOLD LOAN, EDUCATIONAL LOAN, TRAVELLING, HOUSING, HOUSING, HOUSING, GOLD LOAN, AUTOMOBILE, GOLD LOAN, HOUSING, RESTAURANTS, GOLD LOAN, HOUSING, RESTAURANTS, AUTOMOBILE, AUTOMOBILE, AUTOMOBILE, TRAVELLING, AUTOMOBILE, TRAVELLING, COMPUTER SOFTWARES, SHOPPING, TRAVELLING, EDUCATIONAL LOAN, RESTAURANTS, HOUSING, AUTOMOBILE, AUTOMOBILE, RESTAURANTS, GOLD LOAN, COMPUTER SOFTWARES, BUILDING, ELECTRONICS, TRAVELLING, HOME APPLIANCES, TRAVELLING, TRAVELLING, GOLD LOAN, HOME APPLIANCES, TRAVELLING, HOUSING, AUTOMOBILE, TRAVELLING, COMPUTER SOFTWARES, TRAVELLING, AUTOMOBILE, SHOPPING, AUTOMOBILE, SHOPPING, HOUSING, ELECTRONICS, HOME APPLIANCES, AUTOMOBILE, GOLD LOAN, TRAVELLING, SHOPPING, RESTAURANTS, GOLD LOAN, AUTOMOBILE, AUTOMOBILE, DINNING, AUTOMOBILE, HOUSING, GOLD LOAN, TRAVELLING, SHOPPING, HOME APPLIANCES, HOUSING, HOUSING, ELECTRONICS, AUTOMOBILE, RESTAURANTS, GOLD LOAN, EDUCATIONAL LOAN, GOLD LOAN, SHOPPING, COMPUTER SOFTWARES, RESTAURANTS, TRAVELLING, COMPUTER SOFTWARES, GOLD LOAN, HOUSING, TRAVELLING, COMPUTER SOFTWARES, GOLD LOAN, SHOPPING, COMPUTER SOFTWARES, RESTAURANTS, SHOPPING, COMPUTER SOFTWARES, RESTAURANTS, COMPUTER SOFTWARES, BUILDING, ELECTRONICS, SHOPPING, TRAVELLING, EDUCATIONAL LOAN, ELECTRONICS, HOUSING, GOLD LOAN, TRAVELLING, HOUSING, SHOPPING, TRAVELLING, RESTAURANTS, HOUSING, GOLD LOAN, HOUSING, HOUSING, AUTOMOBILE, GOLD LOAN, HOUSING, AUTOMOBILE, SHOPPING, COMPUTER SOFTWARES, RESTAURANTS, COMPUTER SOFTWARES, GOLD LOAN, DINNING, TRAVELLING, SHOPPING, AUTOMOBILE, SHOPPING, DINNING, ELECTRONICS, HOUSING, RESTAURANTS, BOOK STORES, GOLD LOAN, EDUCATIONAL LOAN, HOUSING, COMPUTER SOFTWARES, SHOPPING, DINNING, TRAVELLING, COMPUTER SOFTWARES, GOLD LOAN, COMPUTER SOFTWARES, SHOPPING, TRAVELLING, HOUSING, SHOPPING, TRAVELLING, GOLD LOAN, HOUSING, SHOPPING, GOLD LOAN, TRAVELLING, COMPUTER SOFTWARES, GOLD LOAN, DINNING, TRAVELLING, GOLD LOAN, HOME APPLIANCES, TRAVELLING, COMPUTER SOFTWARES, TRAVELLING, DINNING, SHOPPING, TRAVELLING, GOLD LOAN, DINNING, HOUSING, HOUSING, GOLD LOAN, DINNING, TRAVELLING, COMPUTER SOFTWARES, GOLD LOAN, AUTOMOBILE, SHOPPING, COMPUTER SOFTWARES, RESTAURANTS, COMPUTER SOFTWARES, RESTAURANTS, BUILDING, ELECTRONICS, TRAVELLING, EDUCATIONAL LOAN, AUTOMOBILE, HOME APPLIANCES, SHOPPING, AUTOMOBILE, GOLD LOAN, AUTOMOBILE, SHOPPING, HOUSING, ELECTRONICS, AUTOMOBILE, RESTAURANTS, COMPUTER SOFTWARES, RESTAURANTS, GOLD LOAN, EDUCATIONAL LOAN, GOLD LOAN, BOOK STORES, ELECTRONICS, AUTOMOBILE, HOME APPLIANCES, RESTAURANTS, GOLD LOAN, COMPUTER SOFTWARES, HOUSING, HOUSING, GOLD LOAN, COMPUTER SOFTWARES, AUTOMOBILE, BUSINESS, GOLD LOAN, RESTAURANTS, TRAVELLING, RESTAURANTS, GOLD LOAN, DINNING, AUTOMOBILE, AGRICULTURE, GOLD LOAN, GOLD LOAN, GOLD LOAN, COMPUTER SOFTWARES, SHOPPING, TRAVELLING, EDUCATIONAL LOAN, AUTOMOBILE, GOLD LOAN, HOUSING, GOLD LOAN, BUSINESS, GOLD LOAN, COMPUTER SOFTWARES, AGRICULTURE, RESTAURANTS, GOLD LOAN, COMPUTER SOFTWARES, GOLD LOAN, HOUSING, GOLD LOAN, GOLD LOAN, GOLD LOAN, EDUCATIONAL LOAN, BUSINESS, RESTAURANT, RESTAURANT, BUSINESS, BUSINESS, BUSINESS, HOUSING, HOUSING, RESTAURANT, DINNING, HOUSING, DINNING, HOUSING, HOUSING, HOUSING, GOLD LOAN, BUSINESS, RESTAURANT, BUILDING, BUSINESS, BUSINESS, SHOPPING, AGRICULTURE, GOLD LOAN, RESTAURANTS, AGRICULTURE, HOUSING, AGRICULTURE, RESTAURANTS, AGRICULTURE, EDUCATIONAL LOAN, AGRICULTURE, HOME APPLIANCES, AUTOMOBILE, GOLD LOAN, HOUSING, HOUSING, RESTAURANT, HOUSING, TRAVELLING, HOME APPLIANCES, HOUSING, TRAVELLING, TRAVELLING, GOLD LOAN, HOUSING, TRAVELLING, TRAVELLING, GOLD LOAN, RESTAURANTS, EDUCATIONAL LOAN, HOUSING, RESTAURANT, HOME APPLIANCES, ELECTRONICS, TRAVELLING, EDUCATIONAL LOAN, AUTOMOBILE, HOME APPLIANCES, AUTOMOBILE, HOME APPLIANCES, RESTAURANTS, GOLD LOAN, COMPUTER SOFTWARES, HOUSING, HOUSING, AUTOMOBILE, COMPUTER SOFTWARES, AUTOMOBILE, BUSINESS, GOLD LOAN, RESTAURANTS, TRAVELLING, HOUSING, GOLD LOAN, EDUCATIONAL LOAN, GOLD LOAN, RESTAURANT, EDUCATIONAL LOAN, BUSINESS, RESTAURANT, TRAVELLING, COMPUTER SOFTWARES, TRAVELLING, SHOPPING, COMPUTER SOFTWARES, RESTAURANTS, SHOPPING, COMPUTER SOFTWARES, RESTAURANTS, COMPUTER SOFTWARES, BUILDING, ELECTRONICS, TRAVELLING, TRAVELLING, EDUCATIONAL LOAN, ELECTRONICS, HOUSING, TRAVELLING, EDUCATIONAL LOAN, HOUSING, GOLD LOAN, AGRICULTURE, RESTAURANTS, GOLD LOAN, HOUSING]|\n",
            "+--------------+------------------------------------------------------------------------------------------------------------------------------------------------------------------------------------------------------------------------------------------------------------------------------------------------------------------------------------------------------------------------------------------------------------------------------------------------------------------------------------------------------------------------------------------------------------------------------------------------------------------------------------------------------------------------------------------------------------------------------------------------------------------------------------------------------------------------------------------------------------------------------------------------------------------------------------------------------------------------------------------------------------------------------------------------------------------------------------------------------------------------------------------------------------------------------------------------------------------------------------------------------------------------------------------------------------------------------------------------------------------------------------------------------------------------------------------------------------------------------------------------------------------------------------------------------------------------------------------------------------------------------------------------------------------------------------------------------------------------------------------------------------------------------------------------------------------------------------------------------------------------------------------------------------------------------------------------------------------------------------------------------------------------------------------------------------------------------------------------------------------------------------------------------------------------------------------------------------------------------------------------------------------------------------------------------------------------------------------------------------------------------------------------------------------------------------------------------------------------------------------------------------------------------------------------------------------------------------------------------------------------------------------------------------------------------------------------------------------------------------------------------------------------------------------------------------------------------------------------------------------------------------------------------------------------------------------------------------------------------------------------------------------------------------------------------------------------------------------------------------------------------------------------------------------------------------------------------------------------------------------------------------------------------------------------------------------------------------------------------------------------------------------------------------------------------------------------------------------------------------------------------------------------------------------------------------------------------------------------------------------------------------------------------------------------------------------------------------------------------------------------------------------------------------------------------------------------------------------------------------------------------------------------------------------------------------------------------------------------------------------------------------------------------------------------------------------------------------------------------------------------------------------------------------------------------------------------------------------------------------------------------------------------------------------------------------------------------------------------------------------------------------------------------------------------------------------------------------------------------------------------------------------------------------------------------------------------+\n",
            "\n"
          ]
        }
      ]
    },
    {
      "cell_type": "markdown",
      "source": [
        "WINDOW FUNCTION"
      ],
      "metadata": {
        "id": "xAKZXTpAteP1"
      }
    },
    {
      "cell_type": "code",
      "source": [
        "windowSpec = Window.partitionBy(\"Occupation\").orderBy(col(\"Loan Amount\").desc())\n",
        "\n",
        "ranked_df = loan_df.withColumn(\"rank\", row_number().over(windowSpec))\n",
        "ranked_df.filter(col(\"rank\") == 1).select(\"Customer_ID\", \"Occupation\", \"Loan Amount\").show()\n"
      ],
      "metadata": {
        "colab": {
          "base_uri": "https://localhost:8080/"
        },
        "id": "tF8AW6GtuNzt",
        "outputId": "79ef36ee-db94-4e21-d596-501abd525935"
      },
      "execution_count": 20,
      "outputs": [
        {
          "output_type": "stream",
          "name": "stdout",
          "text": [
            "+-----------+--------------------+-----------+\n",
            "|Customer_ID|          Occupation|Loan Amount|\n",
            "+-----------+--------------------+-----------+\n",
            "|    IB14039|     ACCOUNT MANAGER|       NULL|\n",
            "|    IB14604|          ACCOUNTANT|       NULL|\n",
            "|    IB14611|AGRICULTURAL ENGI...|       NULL|\n",
            "|    IB14057|     AIRPORT OFFICER|       NULL|\n",
            "|    IB14620|                ARMY|       NULL|\n",
            "|    IB14113|   ASSISTANT MANAGER|       NULL|\n",
            "|    IB14041| ASSISTANT PROFESSOR|       NULL|\n",
            "|    IB14001|        BANK MANAGER|       NULL|\n",
            "|    IB14565|            BUSINESS|       NULL|\n",
            "|    IB14566| CHARTERED APPRAISER|       NULL|\n",
            "|    IB14050|      CIVIL ENGINEER|       NULL|\n",
            "|    IB14060|               CLERK|       NULL|\n",
            "|    IB14111|   CORPORATE OFFICER|       NULL|\n",
            "|    IB14032|        DATA ANALYST|       NULL|\n",
            "|    IB14623|       DATA ENGINEER|       NULL|\n",
            "|    IB14012|             DENTIST|       NULL|\n",
            "|    IB14597|           DIETICIAN|       NULL|\n",
            "|    IB14042|              DOCTOR|       NULL|\n",
            "|    IB14109|              DRIVER|       NULL|\n",
            "|    IB14085|         ELECTRICIAN|       NULL|\n",
            "+-----------+--------------------+-----------+\n",
            "only showing top 20 rows\n",
            "\n"
          ]
        }
      ]
    },
    {
      "cell_type": "code",
      "source": [
        "from pyspark.sql.window import Window\n",
        "from pyspark.sql.functions import row_number, rank, dense_rank\n",
        "\n",
        "# Define a window partitioned by Gender and ordered by Income\n",
        "window_spec = Window.partitionBy(\"Gender\").orderBy(col(\"Income\").desc())\n",
        "\n",
        "# 1. Row number within each gender\n",
        "loan_df.withColumn(\"row_num\", row_number().over(window_spec)).show()\n",
        "\n",
        "# 2. Rank of income within each gender\n",
        "loan_df.withColumn(\"income_rank\", rank().over(window_spec)).show()\n",
        "\n",
        "# 3. Dense rank (no gaps in ranking)\n",
        "loan_df.withColumn(\"income_dense_rank\", dense_rank().over(window_spec)).show()\n"
      ],
      "metadata": {
        "colab": {
          "base_uri": "https://localhost:8080/"
        },
        "id": "oTsavzhRwvuZ",
        "outputId": "304a529b-5785-4cb0-8450-801f78c9f226"
      },
      "execution_count": 26,
      "outputs": [
        {
          "output_type": "stream",
          "name": "stdout",
          "text": [
            "+-----------+---+------+-------------------+--------------+-----------+------+-----------+-------------+------------------+-----------+-------+------------+----------------+------------------+-------+\n",
            "|Customer_ID|Age|Gender|         Occupation|Marital Status|Family Size|Income|Expenditure|Use Frequency|     Loan Category|Loan Amount|Overdue| Debt Record| Returned Cheque| Dishonour of Bill|row_num|\n",
            "+-----------+---+------+-------------------+--------------+-----------+------+-----------+-------------+------------------+-----------+-------+------------+----------------+------------------+-------+\n",
            "|    IB14107| 44|FEMALE|    ACCOUNT MANAGER|       MARRIED|          4|800000|      15632|            8|        AUTOMOBILE|       NULL|      5|      20,145|               3|                 4|      1|\n",
            "|    IB14163| 44|FEMALE|    ACCOUNT MANAGER|       MARRIED|          4|800000|      15632|            8|COMPUTER SOFTWARES|       NULL|      5|      20,145|               3|                 4|      2|\n",
            "|    IB14256| 44|FEMALE|    ACCOUNT MANAGER|       MARRIED|          4|800000|      15632|            8|COMPUTER SOFTWARES|       NULL|      5|      20,145|               3|                 4|      3|\n",
            "|    IB14128| 46|FEMALE|              CLERK|       MARRIED|          3|750000|      25641|            5|         GOLD LOAN|       NULL|      4|      16,324|               3|                 4|      4|\n",
            "|    IB14249| 44|FEMALE|    ACCOUNT MANAGER|       MARRIED|          4|700000|      15632|            8|COMPUTER SOFTWARES|       NULL|      5|      20,145|               3|                 4|      5|\n",
            "|    IB14557| 54|FEMALE|              PILOT|       MARRIED|          6| 98640|      43705|            8|COMPUTER SOFTWARES|       NULL|      8|       20536|               5|                 7|      6|\n",
            "|    IB14699| 45|FEMALE|  SOFTWARE ENGINEER|        SINGLE|          4| 98199|      43464|            9|       ELECTRONICS|       NULL|      3|       86384|               4|                 8|      7|\n",
            "|    IB14641| 42|FEMALE|             FARMER|       MARRIED|          5| 96681|      34686|            6|        TRAVELLING|       NULL|      8|       54198|               7|                 4|      8|\n",
            "|    IB14889| 41|FEMALE|          DIETICIAN|        SINGLE|          3| 96501|      41529|            6|         GOLD LOAN|       NULL|      3|       35876|               2|                 8|      9|\n",
            "|    IB14390| 43|FEMALE|       BANK MANAGER|       MARRIED|          6| 95247|      36035|            6|           HOUSING|       NULL|      7|       19931|               6|                 2|     10|\n",
            "|    IB14620| 41|FEMALE|               ARMY|       MARRIED|          5| 93474|      32845|            4|         GOLD LOAN|       NULL|      6|       63046|               4|                 6|     11|\n",
            "|    IB14585| 52|FEMALE|              PILOT|        SINGLE|          7| 91853|      39629|            4|        RESTAURANT|       NULL|      6|       85269|               4|                 8|     12|\n",
            "|    IB14867| 46|FEMALE|CHARTERED APPRAISER|        SINGLE|          2| 91088|      42256|            5|  EDUCATIONAL LOAN|       NULL|      9|       37966|               1|                 5|     13|\n",
            "|    IB14833| 52|FEMALE|          DIETICIAN|       MARRIED|          6| 90687|      49940|            6|          SHOPPING|       NULL|      6|       29454|               8|                 7|     14|\n",
            "|    IB14813| 54|FEMALE|           BUSINESS|       MARRIED|          2| 89665|      22796|            3|        RESTAURANT|       NULL|      3|       14820|               2|                 7|     15|\n",
            "|    IB14970| 54|FEMALE|              PILOT|       MARRIED|          6| 88640|      33705|            8|COMPUTER SOFTWARES|       NULL|      8|       25536|               5|                 7|     16|\n",
            "|    IB14794| 32|FEMALE|CHARTERED APPRAISER|        SINGLE|          2| 88323|      40734|            5|           DINNING|       NULL|      5|       23946|               2|                 2|     17|\n",
            "|    IB14714| 43|FEMALE|  SOFTWARE ENGINEER|        SINGLE|          5| 86970|      30379|            2|         GOLD LOAN|       NULL|      9|       13994|               5|                 7|     18|\n",
            "|    IB14657| 44|FEMALE|               NAVY|        SINGLE|          2| 86269|      25280|            8|         GOLD LOAN|       NULL|      4|       80308|               0|                 7|     19|\n",
            "|    IB14563| 42|FEMALE|               NAVY|        SINGLE|          3| 86184|      47555|            3|        AUTOMOBILE|       NULL|      5|       54235|               6|                 1|     20|\n",
            "+-----------+---+------+-------------------+--------------+-----------+------+-----------+-------------+------------------+-----------+-------+------------+----------------+------------------+-------+\n",
            "only showing top 20 rows\n",
            "\n",
            "+-----------+---+------+-------------------+--------------+-----------+------+-----------+-------------+------------------+-----------+-------+------------+----------------+------------------+-----------+\n",
            "|Customer_ID|Age|Gender|         Occupation|Marital Status|Family Size|Income|Expenditure|Use Frequency|     Loan Category|Loan Amount|Overdue| Debt Record| Returned Cheque| Dishonour of Bill|income_rank|\n",
            "+-----------+---+------+-------------------+--------------+-----------+------+-----------+-------------+------------------+-----------+-------+------------+----------------+------------------+-----------+\n",
            "|    IB14107| 44|FEMALE|    ACCOUNT MANAGER|       MARRIED|          4|800000|      15632|            8|        AUTOMOBILE|       NULL|      5|      20,145|               3|                 4|          1|\n",
            "|    IB14163| 44|FEMALE|    ACCOUNT MANAGER|       MARRIED|          4|800000|      15632|            8|COMPUTER SOFTWARES|       NULL|      5|      20,145|               3|                 4|          1|\n",
            "|    IB14256| 44|FEMALE|    ACCOUNT MANAGER|       MARRIED|          4|800000|      15632|            8|COMPUTER SOFTWARES|       NULL|      5|      20,145|               3|                 4|          1|\n",
            "|    IB14128| 46|FEMALE|              CLERK|       MARRIED|          3|750000|      25641|            5|         GOLD LOAN|       NULL|      4|      16,324|               3|                 4|          4|\n",
            "|    IB14249| 44|FEMALE|    ACCOUNT MANAGER|       MARRIED|          4|700000|      15632|            8|COMPUTER SOFTWARES|       NULL|      5|      20,145|               3|                 4|          5|\n",
            "|    IB14557| 54|FEMALE|              PILOT|       MARRIED|          6| 98640|      43705|            8|COMPUTER SOFTWARES|       NULL|      8|       20536|               5|                 7|          6|\n",
            "|    IB14699| 45|FEMALE|  SOFTWARE ENGINEER|        SINGLE|          4| 98199|      43464|            9|       ELECTRONICS|       NULL|      3|       86384|               4|                 8|          7|\n",
            "|    IB14641| 42|FEMALE|             FARMER|       MARRIED|          5| 96681|      34686|            6|        TRAVELLING|       NULL|      8|       54198|               7|                 4|          8|\n",
            "|    IB14889| 41|FEMALE|          DIETICIAN|        SINGLE|          3| 96501|      41529|            6|         GOLD LOAN|       NULL|      3|       35876|               2|                 8|          9|\n",
            "|    IB14390| 43|FEMALE|       BANK MANAGER|       MARRIED|          6| 95247|      36035|            6|           HOUSING|       NULL|      7|       19931|               6|                 2|         10|\n",
            "|    IB14620| 41|FEMALE|               ARMY|       MARRIED|          5| 93474|      32845|            4|         GOLD LOAN|       NULL|      6|       63046|               4|                 6|         11|\n",
            "|    IB14585| 52|FEMALE|              PILOT|        SINGLE|          7| 91853|      39629|            4|        RESTAURANT|       NULL|      6|       85269|               4|                 8|         12|\n",
            "|    IB14867| 46|FEMALE|CHARTERED APPRAISER|        SINGLE|          2| 91088|      42256|            5|  EDUCATIONAL LOAN|       NULL|      9|       37966|               1|                 5|         13|\n",
            "|    IB14833| 52|FEMALE|          DIETICIAN|       MARRIED|          6| 90687|      49940|            6|          SHOPPING|       NULL|      6|       29454|               8|                 7|         14|\n",
            "|    IB14813| 54|FEMALE|           BUSINESS|       MARRIED|          2| 89665|      22796|            3|        RESTAURANT|       NULL|      3|       14820|               2|                 7|         15|\n",
            "|    IB14970| 54|FEMALE|              PILOT|       MARRIED|          6| 88640|      33705|            8|COMPUTER SOFTWARES|       NULL|      8|       25536|               5|                 7|         16|\n",
            "|    IB14794| 32|FEMALE|CHARTERED APPRAISER|        SINGLE|          2| 88323|      40734|            5|           DINNING|       NULL|      5|       23946|               2|                 2|         17|\n",
            "|    IB14714| 43|FEMALE|  SOFTWARE ENGINEER|        SINGLE|          5| 86970|      30379|            2|         GOLD LOAN|       NULL|      9|       13994|               5|                 7|         18|\n",
            "|    IB14657| 44|FEMALE|               NAVY|        SINGLE|          2| 86269|      25280|            8|         GOLD LOAN|       NULL|      4|       80308|               0|                 7|         19|\n",
            "|    IB14563| 42|FEMALE|               NAVY|        SINGLE|          3| 86184|      47555|            3|        AUTOMOBILE|       NULL|      5|       54235|               6|                 1|         20|\n",
            "+-----------+---+------+-------------------+--------------+-----------+------+-----------+-------------+------------------+-----------+-------+------------+----------------+------------------+-----------+\n",
            "only showing top 20 rows\n",
            "\n",
            "+-----------+---+------+-------------------+--------------+-----------+------+-----------+-------------+------------------+-----------+-------+------------+----------------+------------------+-----------------+\n",
            "|Customer_ID|Age|Gender|         Occupation|Marital Status|Family Size|Income|Expenditure|Use Frequency|     Loan Category|Loan Amount|Overdue| Debt Record| Returned Cheque| Dishonour of Bill|income_dense_rank|\n",
            "+-----------+---+------+-------------------+--------------+-----------+------+-----------+-------------+------------------+-----------+-------+------------+----------------+------------------+-----------------+\n",
            "|    IB14107| 44|FEMALE|    ACCOUNT MANAGER|       MARRIED|          4|800000|      15632|            8|        AUTOMOBILE|       NULL|      5|      20,145|               3|                 4|                1|\n",
            "|    IB14163| 44|FEMALE|    ACCOUNT MANAGER|       MARRIED|          4|800000|      15632|            8|COMPUTER SOFTWARES|       NULL|      5|      20,145|               3|                 4|                1|\n",
            "|    IB14256| 44|FEMALE|    ACCOUNT MANAGER|       MARRIED|          4|800000|      15632|            8|COMPUTER SOFTWARES|       NULL|      5|      20,145|               3|                 4|                1|\n",
            "|    IB14128| 46|FEMALE|              CLERK|       MARRIED|          3|750000|      25641|            5|         GOLD LOAN|       NULL|      4|      16,324|               3|                 4|                2|\n",
            "|    IB14249| 44|FEMALE|    ACCOUNT MANAGER|       MARRIED|          4|700000|      15632|            8|COMPUTER SOFTWARES|       NULL|      5|      20,145|               3|                 4|                3|\n",
            "|    IB14557| 54|FEMALE|              PILOT|       MARRIED|          6| 98640|      43705|            8|COMPUTER SOFTWARES|       NULL|      8|       20536|               5|                 7|                4|\n",
            "|    IB14699| 45|FEMALE|  SOFTWARE ENGINEER|        SINGLE|          4| 98199|      43464|            9|       ELECTRONICS|       NULL|      3|       86384|               4|                 8|                5|\n",
            "|    IB14641| 42|FEMALE|             FARMER|       MARRIED|          5| 96681|      34686|            6|        TRAVELLING|       NULL|      8|       54198|               7|                 4|                6|\n",
            "|    IB14889| 41|FEMALE|          DIETICIAN|        SINGLE|          3| 96501|      41529|            6|         GOLD LOAN|       NULL|      3|       35876|               2|                 8|                7|\n",
            "|    IB14390| 43|FEMALE|       BANK MANAGER|       MARRIED|          6| 95247|      36035|            6|           HOUSING|       NULL|      7|       19931|               6|                 2|                8|\n",
            "|    IB14620| 41|FEMALE|               ARMY|       MARRIED|          5| 93474|      32845|            4|         GOLD LOAN|       NULL|      6|       63046|               4|                 6|                9|\n",
            "|    IB14585| 52|FEMALE|              PILOT|        SINGLE|          7| 91853|      39629|            4|        RESTAURANT|       NULL|      6|       85269|               4|                 8|               10|\n",
            "|    IB14867| 46|FEMALE|CHARTERED APPRAISER|        SINGLE|          2| 91088|      42256|            5|  EDUCATIONAL LOAN|       NULL|      9|       37966|               1|                 5|               11|\n",
            "|    IB14833| 52|FEMALE|          DIETICIAN|       MARRIED|          6| 90687|      49940|            6|          SHOPPING|       NULL|      6|       29454|               8|                 7|               12|\n",
            "|    IB14813| 54|FEMALE|           BUSINESS|       MARRIED|          2| 89665|      22796|            3|        RESTAURANT|       NULL|      3|       14820|               2|                 7|               13|\n",
            "|    IB14970| 54|FEMALE|              PILOT|       MARRIED|          6| 88640|      33705|            8|COMPUTER SOFTWARES|       NULL|      8|       25536|               5|                 7|               14|\n",
            "|    IB14794| 32|FEMALE|CHARTERED APPRAISER|        SINGLE|          2| 88323|      40734|            5|           DINNING|       NULL|      5|       23946|               2|                 2|               15|\n",
            "|    IB14714| 43|FEMALE|  SOFTWARE ENGINEER|        SINGLE|          5| 86970|      30379|            2|         GOLD LOAN|       NULL|      9|       13994|               5|                 7|               16|\n",
            "|    IB14657| 44|FEMALE|               NAVY|        SINGLE|          2| 86269|      25280|            8|         GOLD LOAN|       NULL|      4|       80308|               0|                 7|               17|\n",
            "|    IB14563| 42|FEMALE|               NAVY|        SINGLE|          3| 86184|      47555|            3|        AUTOMOBILE|       NULL|      5|       54235|               6|                 1|               18|\n",
            "+-----------+---+------+-------------------+--------------+-----------+------+-----------+-------------+------------------+-----------+-------+------------+----------------+------------------+-----------------+\n",
            "only showing top 20 rows\n",
            "\n"
          ]
        }
      ]
    },
    {
      "cell_type": "markdown",
      "source": [
        "ACTION IN PYSPARK"
      ],
      "metadata": {
        "id": "2FWQZw_TuUHt"
      }
    },
    {
      "cell_type": "markdown",
      "source": [
        "SHOW()"
      ],
      "metadata": {
        "id": "wl8MsewHuYyg"
      }
    },
    {
      "cell_type": "code",
      "source": [
        "loan_df.show(3)"
      ],
      "metadata": {
        "colab": {
          "base_uri": "https://localhost:8080/"
        },
        "id": "SkICzqNSuRGa",
        "outputId": "21ce7b87-380b-4eee-c13a-e767ff584b15"
      },
      "execution_count": 21,
      "outputs": [
        {
          "output_type": "stream",
          "name": "stdout",
          "text": [
            "+-----------+---+------+------------+--------------+-----------+------+-----------+-------------+-------------+-----------+-------+------------+----------------+------------------+\n",
            "|Customer_ID|Age|Gender|  Occupation|Marital Status|Family Size|Income|Expenditure|Use Frequency|Loan Category|Loan Amount|Overdue| Debt Record| Returned Cheque| Dishonour of Bill|\n",
            "+-----------+---+------+------------+--------------+-----------+------+-----------+-------------+-------------+-----------+-------+------------+----------------+------------------+\n",
            "|    IB14001| 30|  MALE|BANK MANAGER|        SINGLE|          4| 50000|      22199|            6|      HOUSING|       NULL|      5|      42,898|               6|                 9|\n",
            "|    IB14008| 44|  MALE|   PROFESSOR|       MARRIED|          6| 51000|      19999|            4|     SHOPPING|       NULL|      3|      33,999|               1|                 5|\n",
            "|    IB14012| 30|FEMALE|     DENTIST|        SINGLE|          3| 58450|      27675|            5|   TRAVELLING|       NULL|      6|      20,876|               3|                 1|\n",
            "+-----------+---+------+------------+--------------+-----------+------+-----------+-------------+-------------+-----------+-------+------------+----------------+------------------+\n",
            "only showing top 3 rows\n",
            "\n"
          ]
        }
      ]
    },
    {
      "cell_type": "markdown",
      "source": [
        "COUNT()"
      ],
      "metadata": {
        "id": "sOv9_kiUubIH"
      }
    },
    {
      "cell_type": "code",
      "source": [
        "loan_df.count()"
      ],
      "metadata": {
        "colab": {
          "base_uri": "https://localhost:8080/"
        },
        "id": "uVYdtonkufYk",
        "outputId": "7a5b2d4c-2a17-4122-aa5f-42f297fa1785"
      },
      "execution_count": 22,
      "outputs": [
        {
          "output_type": "execute_result",
          "data": {
            "text/plain": [
              "500"
            ]
          },
          "metadata": {},
          "execution_count": 22
        }
      ]
    },
    {
      "cell_type": "markdown",
      "source": [
        "COLLECT()"
      ],
      "metadata": {
        "id": "J3pVjJAKuncB"
      }
    },
    {
      "cell_type": "code",
      "source": [
        "loan_df.collect()"
      ],
      "metadata": {
        "colab": {
          "base_uri": "https://localhost:8080/"
        },
        "id": "cqY8rS1culEh",
        "outputId": "b5efab62-0182-4be8-feaf-0e6717e80434"
      },
      "execution_count": 23,
      "outputs": [
        {
          "output_type": "execute_result",
          "data": {
            "text/plain": [
              "[Row(Customer_ID='IB14001', Age=30, Gender='MALE', Occupation='BANK MANAGER', Marital Status='SINGLE', Family Size=4, Income=50000, Expenditure=22199, Use Frequency=6, Loan Category='HOUSING', Loan Amount=None, Overdue=5,  Debt Record='42,898',  Returned Cheque=6,  Dishonour of Bill=9),\n",
              " Row(Customer_ID='IB14008', Age=44, Gender='MALE', Occupation='PROFESSOR', Marital Status='MARRIED', Family Size=6, Income=51000, Expenditure=19999, Use Frequency=4, Loan Category='SHOPPING', Loan Amount=None, Overdue=3,  Debt Record='33,999',  Returned Cheque=1,  Dishonour of Bill=5),\n",
              " Row(Customer_ID='IB14012', Age=30, Gender='FEMALE', Occupation='DENTIST', Marital Status='SINGLE', Family Size=3, Income=58450, Expenditure=27675, Use Frequency=5, Loan Category='TRAVELLING', Loan Amount=None, Overdue=6,  Debt Record='20,876',  Returned Cheque=3,  Dishonour of Bill=1),\n",
              " Row(Customer_ID='IB14018', Age=29, Gender='MALE', Occupation='TEACHER', Marital Status='MARRIED', Family Size=5, Income=45767, Expenditure=12787, Use Frequency=3, Loan Category='GOLD LOAN', Loan Amount=None, Overdue=7,  Debt Record='11,000',  Returned Cheque=0,  Dishonour of Bill=4),\n",
              " Row(Customer_ID='IB14022', Age=34, Gender='MALE', Occupation='POLICE', Marital Status='SINGLE', Family Size=4, Income=43521, Expenditure=11999, Use Frequency=3, Loan Category='AUTOMOBILE', Loan Amount=None, Overdue=2,  Debt Record='43,898',  Returned Cheque=1,  Dishonour of Bill=2),\n",
              " Row(Customer_ID='IB14024', Age=55, Gender='FEMALE', Occupation='NURSE', Marital Status='MARRIED', Family Size=6, Income=34999, Expenditure=19888, Use Frequency=4, Loan Category='AUTOMOBILE', Loan Amount=None, Overdue=1,  Debt Record='50,000',  Returned Cheque=0,  Dishonour of Bill=3),\n",
              " Row(Customer_ID='IB14025', Age=39, Gender='FEMALE', Occupation='TEACHER', Marital Status='MARRIED', Family Size=6, Income=46619, Expenditure=18675, Use Frequency=4, Loan Category='HOUSING', Loan Amount=None, Overdue=8,  Debt Record='29,999',  Returned Cheque=6,  Dishonour of Bill=8),\n",
              " Row(Customer_ID='IB14027', Age=51, Gender='MALE', Occupation='SYSTEM MANAGER', Marital Status='MARRIED', Family Size=3, Income=49999, Expenditure=19111, Use Frequency=5, Loan Category='RESTAURANTS', Loan Amount=None, Overdue=8,  Debt Record='13,000',  Returned Cheque=2,  Dishonour of Bill=5),\n",
              " Row(Customer_ID='IB14029', Age=24, Gender='FEMALE', Occupation='TEACHER', Marital Status='SINGLE', Family Size=3, Income=45008, Expenditure=17454, Use Frequency=4, Loan Category='AUTOMOBILE', Loan Amount=None, Overdue=9,  Debt Record='51,987',  Returned Cheque=4,  Dishonour of Bill=7),\n",
              " Row(Customer_ID='IB14031', Age=37, Gender='FEMALE', Occupation='SOFTWARE ENGINEER', Marital Status='MARRIED', Family Size=5, Income=55999, Expenditure=23999, Use Frequency=5, Loan Category='AUTOMOBILE', Loan Amount=None, Overdue=2,  Debt Record='0',  Returned Cheque=5,  Dishonour of Bill=3),\n",
              " Row(Customer_ID='IB14032', Age=24, Gender='MALE', Occupation='DATA ANALYST', Marital Status='SINGLE', Family Size=4, Income=60111, Expenditure=28999, Use Frequency=6, Loan Category='AUTOMOBILE', Loan Amount=None, Overdue=5,  Debt Record='33,333',  Returned Cheque=1,  Dishonour of Bill=2),\n",
              " Row(Customer_ID='IB14034', Age=32, Gender='MALE', Occupation='PRODUCT ENGINEER', Marital Status='MARRIED', Family Size=6, Income=None, Expenditure=29000, Use Frequency=7, Loan Category='COMPUTER SOFTWARES', Loan Amount=None, Overdue=6,  Debt Record='4,500',  Returned Cheque=5,  Dishonour of Bill=4),\n",
              " Row(Customer_ID='IB14037', Age=54, Gender='FEMALE', Occupation='TEACHER', Marital Status='MARRIED', Family Size=5, Income=48099, Expenditure=19999, Use Frequency=4, Loan Category='RESTAURANTS', Loan Amount=None, Overdue=1,  Debt Record='12,000',  Returned Cheque=7,  Dishonour of Bill=5),\n",
              " Row(Customer_ID='IB14039', Age=45, Gender='MALE', Occupation='ACCOUNT MANAGER', Marital Status='MARRIED', Family Size=7, Income=45777, Expenditure=18452, Use Frequency=4, Loan Category='GOLD LOAN', Loan Amount=None, Overdue=7,  Debt Record='39,999',  Returned Cheque=8,  Dishonour of Bill=1),\n",
              " Row(Customer_ID='IB14041', Age=59, Gender='FEMALE', Occupation='ASSISTANT PROFESSOR', Marital Status='MARRIED', Family Size=4, Income=50999, Expenditure=22999, Use Frequency=5, Loan Category='EDUCATIONAL LOAN', Loan Amount=None, Overdue=3,  Debt Record='9,000',  Returned Cheque=9,  Dishonour of Bill=9),\n",
              " Row(Customer_ID='IB14042', Age=25, Gender='FEMALE', Occupation='DOCTOR', Marital Status='SINGLE', Family Size=4, Income=60111, Expenditure=27111, Use Frequency=5, Loan Category='TRAVELLING', Loan Amount=None, Overdue=4,  Debt Record='18,000',  Returned Cheque=1,  Dishonour of Bill=0),\n",
              " Row(Customer_ID='IB14045', Age=31, Gender='MALE', Occupation='STORE KEEPER', Marital Status='SINGLE', Family Size=5, Income=40999, Expenditure=11999, Use Frequency=3, Loan Category='BOOK STORES', Loan Amount=None, Overdue=1,  Debt Record='4,500',  Returned Cheque=0,  Dishonour of Bill=1),\n",
              " Row(Customer_ID='IB14049', Age=49, Gender='MALE', Occupation='BANK MANAGER', Marital Status='MARRIED', Family Size=4, Income=45999, Expenditure=14500, Use Frequency=4, Loan Category='TRAVELLING', Loan Amount=None, Overdue=4,  Debt Record='6,700',  Returned Cheque=7,  Dishonour of Bill=3),\n",
              " Row(Customer_ID='IB14050', Age=56, Gender='MALE', Occupation='CIVIL ENGINEER', Marital Status='MARRIED', Family Size=4, Income=None, Expenditure=13999, Use Frequency=3, Loan Category='HOUSING', Loan Amount=None, Overdue=6,  Debt Record='19,999',  Returned Cheque=4,  Dishonour of Bill=2),\n",
              " Row(Customer_ID='IB14054', Age=58, Gender='FEMALE', Occupation='DOCTOR', Marital Status='MARRIED', Family Size=5, Income=60000, Expenditure=25000, Use Frequency=5, Loan Category='HOUSING', Loan Amount=None, Overdue=5,  Debt Record='21,000',  Returned Cheque=9,  Dishonour of Bill=0),\n",
              " Row(Customer_ID='IB14057', Age=25, Gender='MALE', Occupation='AIRPORT OFFICER', Marital Status='SINGLE', Family Size=4, Income=40000, Expenditure=18888, Use Frequency=3, Loan Category='RESTAURANTS', Loan Amount=None, Overdue=8,  Debt Record='11,111',  Returned Cheque=1,  Dishonour of Bill=7),\n",
              " Row(Customer_ID='IB14060', Age=36, Gender='FEMALE', Occupation='CLERK', Marital Status='MARRIED', Family Size=4, Income=35000, Expenditure=15000, Use Frequency=3, Loan Category='HOUSING', Loan Amount=None, Overdue=2,  Debt Record='5,600',  Returned Cheque=4,  Dishonour of Bill=8),\n",
              " Row(Customer_ID='IB14070', Age=40, Gender='MALE', Occupation='PUBLIC WORKS', Marital Status='MARRIED', Family Size=4, Income=38000, Expenditure=20000, Use Frequency=3, Loan Category='GOLD LOAN', Loan Amount=None, Overdue=9,  Debt Record='19,954',  Returned Cheque=3,  Dishonour of Bill=2),\n",
              " Row(Customer_ID='IB14078', Age=45, Gender='FEMALE', Occupation='FIRE DEPARTMENT', Marital Status='MARRIED', Family Size=4, Income=40000, Expenditure=18888, Use Frequency=4, Loan Category='AUTOMOBILE', Loan Amount=None, Overdue=1,  Debt Record='0',  Returned Cheque=2,  Dishonour of Bill=1),\n",
              " Row(Customer_ID='IB14079', Age=25, Gender='MALE', Occupation='CLERK', Marital Status='SINGLE', Family Size=3, Income=35000, Expenditure=9000, Use Frequency=2, Loan Category='GOLD LOAN', Loan Amount=None, Overdue=3,  Debt Record='12,584',  Returned Cheque=1,  Dishonour of Bill=2),\n",
              " Row(Customer_ID='IB14082', Age=60, Gender='FEMALE', Occupation='TEACHER', Marital Status='MARRIED', Family Size=5, Income=70000, Expenditure=40000, Use Frequency=9, Loan Category='GOLD LOAN', Loan Amount=None, Overdue=4,  Debt Record='10,058',  Returned Cheque=4,  Dishonour of Bill=3),\n",
              " Row(Customer_ID='IB14085', Age=30, Gender='MALE', Occupation='ELECTRICIAN', Marital Status='MARRIED', Family Size=4, Income=30000, Expenditure=15000, Use Frequency=5, Loan Category='HOUSING', Loan Amount=None, Overdue=5,  Debt Record='32,154',  Returned Cheque=5,  Dishonour of Bill=5),\n",
              " Row(Customer_ID='IB14086', Age=51, Gender='FEMALE', Occupation='TECHNICIAN', Marital Status='MARRIED', Family Size=5, Income=30000, Expenditure=None, Use Frequency=5, Loan Category='RESTAURANTS', Loan Amount=None, Overdue=7,  Debt Record='52,634',  Returned Cheque=4,  Dishonour of Bill=10),\n",
              " Row(Customer_ID='IB14089', Age=25, Gender='MALE', Occupation='PROFESSOR', Marital Status='SINGLE', Family Size=5, Income=62145, Expenditure=31254, Use Frequency=4, Loan Category='BOOK STORES', Loan Amount=None, Overdue=6,  Debt Record='48,596',  Returned Cheque=6,  Dishonour of Bill=5),\n",
              " Row(Customer_ID='IB14092', Age=47, Gender='MALE', Occupation='SYSTEM ENGINEER', Marital Status='MARRIED', Family Size=4, Income=52364, Expenditure=45612, Use Frequency=3, Loan Category='GOLD LOAN', Loan Amount=None, Overdue=4,  Debt Record='67,451',  Returned Cheque=5,  Dishonour of Bill=4),\n",
              " Row(Customer_ID='1B14093', Age=21, Gender='FEMALE', Occupation='MANAGER', Marital Status='SINGLE', Family Size=3, Income=42516, Expenditure=24567, Use Frequency=7, Loan Category='AUTOMOBILE', Loan Amount=None, Overdue=8,  Debt Record='89,652',  Returned Cheque=2,  Dishonour of Bill=3),\n",
              " Row(Customer_ID='1B14094', Age=49, Gender='MALE', Occupation='ASSISTANT PROFESSOR', Marital Status='MARRIED', Family Size=5, Income=65214, Expenditure=42589, Use Frequency=5, Loan Category='HOUSING', Loan Amount=None, Overdue=5,  Debt Record='11,254',  Returned Cheque=1,  Dishonour of Bill=2),\n",
              " Row(Customer_ID='IB14096', Age=33, Gender='FEMALE', Occupation='CLERK', Marital Status='MARRIED', Family Size=3, Income=35684, Expenditure=15247, Use Frequency=3, Loan Category='RESTAURANTS', Loan Amount=None, Overdue=3,  Debt Record='13,547',  Returned Cheque=3,  Dishonour of Bill=2),\n",
              " Row(Customer_ID='IB14099', Age=47, Gender='FEMALE', Occupation='DOCTOR', Marital Status='MARRIED', Family Size=4, Income=72154, Expenditure=45286, Use Frequency=4, Loan Category='AUTOMOBILE', Loan Amount=None, Overdue=2,  Debt Record='19,524',  Returned Cheque=5,  Dishonour of Bill=2),\n",
              " Row(Customer_ID='IB14101', Age=33, Gender='FEMALE', Occupation='PRODUCT ENGINEER', Marital Status='MARRIED', Family Size=5, Income=None, Expenditure=45812, Use Frequency=5, Loan Category='AUTOMOBILE', Loan Amount=None, Overdue=4,  Debt Record='17,524',  Returned Cheque=6,  Dishonour of Bill=3),\n",
              " Row(Customer_ID='IB14104', Age=54, Gender='MALE', Occupation='AIRPORT OFFICER', Marital Status='MARRIED', Family Size=6, Income=80000, Expenditure=32541, Use Frequency=2, Loan Category='AUTOMOBILE', Loan Amount=None, Overdue=1,  Debt Record='16,599',  Returned Cheque=2,  Dishonour of Bill=3),\n",
              " Row(Customer_ID='IB14106', Age=29, Gender='MALE', Occupation='FIRE DEPARTMENT', Marital Status='MARRIED', Family Size=5, Income=45213, Expenditure=32457, Use Frequency=9, Loan Category='TRAVELLING', Loan Amount=None, Overdue=7,  Debt Record='90,000',  Returned Cheque=2,  Dishonour of Bill=5),\n",
              " Row(Customer_ID='IB14107', Age=44, Gender='FEMALE', Occupation='ACCOUNT MANAGER', Marital Status='MARRIED', Family Size=4, Income=800000, Expenditure=15632, Use Frequency=8, Loan Category='AUTOMOBILE', Loan Amount=None, Overdue=5,  Debt Record='20,145',  Returned Cheque=3,  Dishonour of Bill=4),\n",
              " Row(Customer_ID='IB14109', Age=56, Gender='MALE', Occupation='DRIVER', Marital Status='MARRIED', Family Size=5, Income=30000, Expenditure=15426, Use Frequency=7, Loan Category='TRAVELLING', Loan Amount=None, Overdue=6,  Debt Record='20,000',  Returned Cheque=4,  Dishonour of Bill=6),\n",
              " Row(Customer_ID='IB14111', Age=57, Gender='FEMALE', Occupation='CORPORATE OFFICER', Marital Status='MARRIED', Family Size=3, Income=52143, Expenditure=None, Use Frequency=4, Loan Category='COMPUTER SOFTWARES', Loan Amount=None, Overdue=4,  Debt Record='11,111',  Returned Cheque=3,  Dishonour of Bill=2),\n",
              " Row(Customer_ID='IB14113', Age=49, Gender='MALE', Occupation='ASSISTANT MANAGER', Marital Status='MARRIED', Family Size=7, Income=45612, Expenditure=39542, Use Frequency=3, Loan Category='SHOPPING', Loan Amount=None, Overdue=7,  Debt Record='65,412',  Returned Cheque=3,  Dishonour of Bill=2),\n",
              " Row(Customer_ID='IB14115', Age=41, Gender='MALE', Occupation='BANK MANAGER', Marital Status='MARRIED', Family Size=6, Income=64125, Expenditure=21246, Use Frequency=6, Loan Category='TRAVELLING', Loan Amount=None, Overdue=5,  Debt Record='16,524',  Returned Cheque=3,  Dishonour of Bill=3),\n",
              " Row(Customer_ID='IB14117', Age=39, Gender='FEMALE', Occupation='SYSTEM OFFICER', Marital Status='MARRIED', Family Size=6, Income=None, Expenditure=32541, Use Frequency=5, Loan Category='EDUCATIONAL LOAN', Loan Amount=None, Overdue=3,  Debt Record='14,256',  Returned Cheque=4,  Dishonour of Bill=4),\n",
              " Row(Customer_ID='IB14120', Age=47, Gender='FEMALE', Occupation='TEACHER', Marital Status='MARRIED', Family Size=3, Income=50000, Expenditure=42563, Use Frequency=4, Loan Category='RESTAURANTS', Loan Amount=None, Overdue=6,  Debt Record='45,127',  Returned Cheque=2,  Dishonour of Bill=3),\n",
              " Row(Customer_ID='IB14121', Age=33, Gender='MALE', Occupation='DOCTOR', Marital Status='MARRIED', Family Size=6, Income=70000, Expenditure=12541, Use Frequency=8, Loan Category='HOUSING', Loan Amount=None, Overdue=4,  Debt Record='19,541',  Returned Cheque=1,  Dishonour of Bill=3),\n",
              " Row(Customer_ID='IB14123', Age=36, Gender='MALE', Occupation='ELECTRICIAN', Marital Status='MARRIED', Family Size=2, Income=36985, Expenditure=25648, Use Frequency=6, Loan Category='AUTOMOBILE', Loan Amount=None, Overdue=7,  Debt Record='20,000',  Returned Cheque=5,  Dishonour of Bill=3),\n",
              " Row(Customer_ID='IB14125', Age=29, Gender='FEMALE', Occupation='TEACHER', Marital Status='MARRIED', Family Size=4, Income=59999, Expenditure=42568, Use Frequency=4, Loan Category='AUTOMOBILE', Loan Amount=None, Overdue=5,  Debt Record='17,452',  Returned Cheque=2,  Dishonour of Bill=2),\n",
              " Row(Customer_ID='IB14126', Age=57, Gender='MALE', Occupation='FIRE DEPARTMENT', Marital Status='MARRIED', Family Size=5, Income=54123, Expenditure=None, Use Frequency=7, Loan Category='RESTAURANTS', Loan Amount=None, Overdue=6,  Debt Record='18,524',  Returned Cheque=2,  Dishonour of Bill=1),\n",
              " Row(Customer_ID='IB14128', Age=46, Gender='FEMALE', Occupation='CLERK', Marital Status='MARRIED', Family Size=3, Income=750000, Expenditure=25641, Use Frequency=5, Loan Category='GOLD LOAN', Loan Amount=None, Overdue=4,  Debt Record='16,324',  Returned Cheque=3,  Dishonour of Bill=4),\n",
              " Row(Customer_ID='IB14130', Age=43, Gender='MALE', Occupation='PRODUCT ENGINEER', Marital Status='MARRIED', Family Size=4, Income=50147, Expenditure=45863, Use Frequency=8, Loan Category='COMPUTER SOFTWARES', Loan Amount=None, Overdue=8,  Debt Record='19,999',  Returned Cheque=3,  Dishonour of Bill=5),\n",
              " Row(Customer_ID='IB14134', Age=33, Gender='MALE', Occupation='DOCTOR', Marital Status='MARRIED', Family Size=6, Income=70000, Expenditure=33541, Use Frequency=8, Loan Category='BUILDING', Loan Amount=None, Overdue=4,  Debt Record='19,541',  Returned Cheque=1,  Dishonour of Bill=3),\n",
              " Row(Customer_ID='IB14136', Age=36, Gender='MALE', Occupation='ELECTRICIAN', Marital Status='MARRIED', Family Size=2, Income=36985, Expenditure=25648, Use Frequency=6, Loan Category='ELECTRONICS', Loan Amount=None, Overdue=7,  Debt Record='20,000',  Returned Cheque=5,  Dishonour of Bill=3),\n",
              " Row(Customer_ID='IB14138', Age=27, Gender='FEMALE', Occupation='SOFTWARE ENGINEER', Marital Status='SINGLE', Family Size=4, Income=40000, Expenditure=22000, Use Frequency=4, Loan Category='GOLD LOAN', Loan Amount=None, Overdue=4,  Debt Record='15,647',  Returned Cheque=5,  Dishonour of Bill=3),\n",
              " Row(Customer_ID='IB14140', Age=45, Gender='MALE', Occupation='BANK MANAGER', Marital Status='MARRIED', Family Size=6, Income=55670, Expenditure=32500, Use Frequency=5, Loan Category='TRAVELLING', Loan Amount=None, Overdue=3,  Debt Record='34,600',  Returned Cheque=4,  Dishonour of Bill=4),\n",
              " Row(Customer_ID='IB14143', Age=34, Gender='FEMALE', Occupation='TEACHER', Marital Status='MARRIED', Family Size=4, Income=45389, Expenditure=None, Use Frequency=5, Loan Category='HOME APPLIANCES', Loan Amount=None, Overdue=4,  Debt Record='24,000',  Returned Cheque=4,  Dishonour of Bill=3),\n",
              " Row(Customer_ID='IB14145', Age=45, Gender='FEMALE', Occupation='CLERK', Marital Status='MARRIED', Family Size=5, Income=40560, Expenditure=38789, Use Frequency=6, Loan Category='TRAVELLING', Loan Amount=None, Overdue=6,  Debt Record='29,650',  Returned Cheque=6,  Dishonour of Bill=7),\n",
              " Row(Customer_ID='IB14146', Age=56, Gender='MALE', Occupation='FIRE DEPARTMENT', Marital Status='MARRIED', Family Size=6, Income=67890, Expenditure=34567, Use Frequency=5, Loan Category='TRAVELLING', Loan Amount=None, Overdue=5,  Debt Record='13,560',  Returned Cheque=3,  Dishonour of Bill=4),\n",
              " Row(Customer_ID='IBI4148', Age=46, Gender='MALE', Occupation='SYSTEM OFFICER', Marital Status='MARRIED', Family Size=5, Income=56780, Expenditure=24560, Use Frequency=5, Loan Category='GOLD LOAN', Loan Amount=None, Overdue=6,  Debt Record='23,700',  Returned Cheque=6,  Dishonour of Bill=4),\n",
              " Row(Customer_ID='IBI4150', Age=38, Gender='FEMALE', Occupation='ACCOUNT MANAGER', Marital Status='MARRIED', Family Size=4, Income=45600, Expenditure=19870, Use Frequency=4, Loan Category='HOME APPLIANCES', Loan Amount=None, Overdue=5,  Debt Record='35,700',  Returned Cheque=5,  Dishonour of Bill=4),\n",
              " Row(Customer_ID='IBI4153', Age=58, Gender='MALE', Occupation='SYSTEM ENGINEER', Marital Status='MARRIED', Family Size=6, Income=76800, Expenditure=None, Use Frequency=5, Loan Category='TRAVELLING', Loan Amount=None, Overdue=6,  Debt Record='29,000',  Returned Cheque=5,  Dishonour of Bill=3),\n",
              " Row(Customer_ID='IBI4155', Age=24, Gender='FEMALE', Occupation='SOFTWARE ENGINEER', Marital Status='SINGLE', Family Size=4, Income=55680, Expenditure=29000, Use Frequency=5, Loan Category='AUTOMOBILE', Loan Amount=None, Overdue=5,  Debt Record='24,000',  Returned Cheque=6,  Dishonour of Bill=4),\n",
              " Row(Customer_ID='IBI4157', Age=35, Gender='MALE', Occupation='BANK MANAGER', Marital Status='MARRIED', Family Size=4, Income=930000, Expenditure=35680, Use Frequency=6, Loan Category='HOUSING', Loan Amount=None, Overdue=5,  Debt Record='34,000',  Returned Cheque=5,  Dishonour of Bill=5),\n",
              " Row(Customer_ID='IB14158', Age=54, Gender='MALE', Occupation='AIRPORT OFFICER', Marital Status='MARRIED', Family Size=6, Income=80000, Expenditure=62541, Use Frequency=2, Loan Category='AUTOMOBILE', Loan Amount=None, Overdue=1,  Debt Record='16,599',  Returned Cheque=2,  Dishonour of Bill=3),\n",
              " Row(Customer_ID='IB14160', Age=29, Gender='MALE', Occupation='FIRE DEPARTMENT', Marital Status='MARRIED', Family Size=5, Income=45213, Expenditure=32457, Use Frequency=9, Loan Category='TRAVELLING', Loan Amount=None, Overdue=7,  Debt Record='90,000',  Returned Cheque=2,  Dishonour of Bill=5),\n",
              " Row(Customer_ID='IB14163', Age=44, Gender='FEMALE', Occupation='ACCOUNT MANAGER', Marital Status='MARRIED', Family Size=4, Income=800000, Expenditure=15632, Use Frequency=8, Loan Category='COMPUTER SOFTWARES', Loan Amount=None, Overdue=5,  Debt Record='20,145',  Returned Cheque=3,  Dishonour of Bill=4),\n",
              " Row(Customer_ID='IB14164', Age=56, Gender='MALE', Occupation='DRIVER', Marital Status='MARRIED', Family Size=5, Income=30000, Expenditure=15426, Use Frequency=7, Loan Category='TRAVELLING', Loan Amount=None, Overdue=6,  Debt Record='20,000',  Returned Cheque=4,  Dishonour of Bill=6),\n",
              " Row(Customer_ID='IB14167', Age=57, Gender='FEMALE', Occupation='CORPORATE OFFICER', Marital Status='MARRIED', Family Size=3, Income=52143, Expenditure=None, Use Frequency=4, Loan Category='AUTOMOBILE', Loan Amount=None, Overdue=4,  Debt Record='11,111',  Returned Cheque=3,  Dishonour of Bill=2),\n",
              " Row(Customer_ID='IB14169', Age=49, Gender='MALE', Occupation='ASSISTANT MANAGER', Marital Status='MARRIED', Family Size=7, Income=45612, Expenditure=39542, Use Frequency=3, Loan Category='SHOPPING', Loan Amount=None, Overdue=7,  Debt Record='65,412',  Returned Cheque=3,  Dishonour of Bill=2),\n",
              " Row(Customer_ID='IB14171', Age=47, Gender='FEMALE', Occupation='DOCTOR', Marital Status='MARRIED', Family Size=4, Income=72154, Expenditure=45286, Use Frequency=4, Loan Category='AUTOMOBILE', Loan Amount=None, Overdue=2,  Debt Record='19,524',  Returned Cheque=5,  Dishonour of Bill=2),\n",
              " Row(Customer_ID='IB14173', Age=33, Gender='FEMALE', Occupation='PRODUCT ENGINEER', Marital Status='MARRIED', Family Size=5, Income=None, Expenditure=45812, Use Frequency=5, Loan Category='SHOPPING', Loan Amount=None, Overdue=4,  Debt Record='17,524',  Returned Cheque=6,  Dishonour of Bill=3),\n",
              " Row(Customer_ID='IB14176', Age=54, Gender='MALE', Occupation='AIRPORT OFFICER', Marital Status='MARRIED', Family Size=6, Income=80000, Expenditure=62541, Use Frequency=2, Loan Category='HOUSING', Loan Amount=None, Overdue=1,  Debt Record='16,599',  Returned Cheque=2,  Dishonour of Bill=3),\n",
              " Row(Customer_ID='IB14178', Age=51, Gender='MALE', Occupation='SYSTEM MANAGER', Marital Status='MARRIED', Family Size=3, Income=49999, Expenditure=19111, Use Frequency=5, Loan Category='ELECTRONICS', Loan Amount=None, Overdue=8,  Debt Record='13,000',  Returned Cheque=2,  Dishonour of Bill=5),\n",
              " Row(Customer_ID='IB14179', Age=24, Gender='FEMALE', Occupation='TEACHER', Marital Status='SINGLE', Family Size=3, Income=45008, Expenditure=17454, Use Frequency=4, Loan Category='AUTOMOBILE', Loan Amount=None, Overdue=9,  Debt Record='51,987',  Returned Cheque=4,  Dishonour of Bill=7),\n",
              " Row(Customer_ID='IB14181', Age=37, Gender='FEMALE', Occupation='SOFTWARE ENGINEER', Marital Status='MARRIED', Family Size=5, Income=55999, Expenditure=23999, Use Frequency=5, Loan Category='HOME APPLIANCES', Loan Amount=None, Overdue=2,  Debt Record='0',  Returned Cheque=5,  Dishonour of Bill=3),\n",
              " Row(Customer_ID='IB14184', Age=24, Gender='MALE', Occupation='DATA ANALYST', Marital Status='SINGLE', Family Size=4, Income=60111, Expenditure=28999, Use Frequency=6, Loan Category='RESTAURANTS', Loan Amount=None, Overdue=5,  Debt Record='33,333',  Returned Cheque=1,  Dishonour of Bill=2),\n",
              " Row(Customer_ID='IB14186', Age=44, Gender='MALE', Occupation='PROFESSOR', Marital Status='MARRIED', Family Size=6, Income=59000, Expenditure=19999, Use Frequency=4, Loan Category='AUTOMOBILE', Loan Amount=None, Overdue=3,  Debt Record='33,999',  Returned Cheque=1,  Dishonour of Bill=5),\n",
              " Row(Customer_ID='IB14187', Age=30, Gender='FEMALE', Occupation='DENTIST', Marital Status='SINGLE', Family Size=3, Income=58450, Expenditure=27675, Use Frequency=5, Loan Category='TRAVELLING', Loan Amount=None, Overdue=6,  Debt Record='20,876',  Returned Cheque=3,  Dishonour of Bill=1),\n",
              " Row(Customer_ID='IB14189', Age=29, Gender='MALE', Occupation='TEACHER', Marital Status='MARRIED', Family Size=5, Income=45767, Expenditure=12787, Use Frequency=3, Loan Category='GOLD LOAN', Loan Amount=None, Overdue=7,  Debt Record='11,000',  Returned Cheque=0,  Dishonour of Bill=4),\n",
              " Row(Customer_ID='IB14191', Age=34, Gender='MALE', Occupation='POLICE', Marital Status='SINGLE', Family Size=4, Income=44521, Expenditure=11999, Use Frequency=3, Loan Category='AUTOMOBILE', Loan Amount=None, Overdue=2,  Debt Record='43,898',  Returned Cheque=1,  Dishonour of Bill=2),\n",
              " Row(Customer_ID='IB14194', Age=55, Gender='FEMALE', Occupation='NURSE', Marital Status='MARRIED', Family Size=6, Income=34999, Expenditure=19888, Use Frequency=4, Loan Category='TRAVELLING', Loan Amount=None, Overdue=1,  Debt Record='50,000',  Returned Cheque=0,  Dishonour of Bill=3),\n",
              " Row(Customer_ID='IB14195', Age=32, Gender='MALE', Occupation='PRODUCT ENGINEER', Marital Status='MARRIED', Family Size=6, Income=None, Expenditure=29000, Use Frequency=7, Loan Category='SHOPPING', Loan Amount=None, Overdue=6,  Debt Record='4,500',  Returned Cheque=5,  Dishonour of Bill=4),\n",
              " Row(Customer_ID='IB14197', Age=54, Gender='FEMALE', Occupation='TEACHER', Marital Status='MARRIED', Family Size=5, Income=48099, Expenditure=19999, Use Frequency=4, Loan Category='RESTAURANTS', Loan Amount=None, Overdue=1,  Debt Record='12,000',  Returned Cheque=7,  Dishonour of Bill=5),\n",
              " Row(Customer_ID='IB14199', Age=45, Gender='MALE', Occupation='ACCOUNT MANAGER', Marital Status='MARRIED', Family Size=7, Income=45777, Expenditure=18452, Use Frequency=4, Loan Category='GOLD LOAN', Loan Amount=None, Overdue=7,  Debt Record='39,999',  Returned Cheque=8,  Dishonour of Bill=1),\n",
              " Row(Customer_ID='IB14201', Age=59, Gender='FEMALE', Occupation='ASSISTANT PROFESSOR', Marital Status='MARRIED', Family Size=4, Income=60999, Expenditure=22999, Use Frequency=5, Loan Category='AUTOMOBILE', Loan Amount=None, Overdue=3,  Debt Record='9,000',  Returned Cheque=9,  Dishonour of Bill=9),\n",
              " Row(Customer_ID='IBI4202', Age=35, Gender='MALE', Occupation='BANK MANAGER', Marital Status='MARRIED', Family Size=4, Income=67500, Expenditure=25780, Use Frequency=6, Loan Category='AUTOMOBILE', Loan Amount=None, Overdue=5,  Debt Record='34,000',  Returned Cheque=5,  Dishonour of Bill=5),\n",
              " Row(Customer_ID='IB14204', Age=54, Gender='MALE', Occupation='AIRPORT OFFICER', Marital Status='MARRIED', Family Size=6, Income=81000, Expenditure=62541, Use Frequency=2, Loan Category='DINNING', Loan Amount=None, Overdue=1,  Debt Record='16,599',  Returned Cheque=2,  Dishonour of Bill=3),\n",
              " Row(Customer_ID='IB14206', Age=51, Gender='MALE', Occupation='SYSTEM MANAGER', Marital Status='MARRIED', Family Size=3, Income=39999, Expenditure=19111, Use Frequency=5, Loan Category='AUTOMOBILE', Loan Amount=None, Overdue=8,  Debt Record='13,000',  Returned Cheque=2,  Dishonour of Bill=5),\n",
              " Row(Customer_ID='IB14208', Age=36, Gender='FEMALE', Occupation='CLERK', Marital Status='MARRIED', Family Size=4, Income=45300, Expenditure=15000, Use Frequency=3, Loan Category='HOUSING', Loan Amount=None, Overdue=2,  Debt Record='5,600',  Returned Cheque=4,  Dishonour of Bill=8),\n",
              " Row(Customer_ID='IB14210', Age=40, Gender='MALE', Occupation='PUBLIC WORKS', Marital Status='MARRIED', Family Size=4, Income=38000, Expenditure=20000, Use Frequency=3, Loan Category='GOLD LOAN', Loan Amount=None, Overdue=9,  Debt Record='19,954',  Returned Cheque=3,  Dishonour of Bill=2),\n",
              " Row(Customer_ID='IB14213', Age=31, Gender='MALE', Occupation='STORE KEEPER', Marital Status='SINGLE', Family Size=5, Income=40999, Expenditure=11999, Use Frequency=3, Loan Category='AUTOMOBILE', Loan Amount=None, Overdue=1,  Debt Record='4,500',  Returned Cheque=0,  Dishonour of Bill=1),\n",
              " Row(Customer_ID='IB14215', Age=49, Gender='MALE', Occupation='BANK MANAGER', Marital Status='MARRIED', Family Size=4, Income=45999, Expenditure=14500, Use Frequency=4, Loan Category='TRAVELLING', Loan Amount=None, Overdue=4,  Debt Record='6,700',  Returned Cheque=7,  Dishonour of Bill=3),\n",
              " Row(Customer_ID='IB14216', Age=24, Gender='MALE', Occupation='DATA ANALYST', Marital Status='SINGLE', Family Size=4, Income=60111, Expenditure=28999, Use Frequency=6, Loan Category='RESTAURANTS', Loan Amount=None, Overdue=5,  Debt Record='33,333',  Returned Cheque=1,  Dishonour of Bill=2),\n",
              " Row(Customer_ID='IB14218', Age=44, Gender='MALE', Occupation='PROFESSOR', Marital Status='MARRIED', Family Size=6, Income=51000, Expenditure=19999, Use Frequency=4, Loan Category='SHOPPING', Loan Amount=None, Overdue=3,  Debt Record='33,999',  Returned Cheque=1,  Dishonour of Bill=5),\n",
              " Row(Customer_ID='IB14220', Age=30, Gender='FEMALE', Occupation='DENTIST', Marital Status='SINGLE', Family Size=3, Income=58450, Expenditure=27675, Use Frequency=5, Loan Category='TRAVELLING', Loan Amount=None, Overdue=6,  Debt Record='20,876',  Returned Cheque=3,  Dishonour of Bill=1),\n",
              " Row(Customer_ID='IB14221', Age=31, Gender='MALE', Occupation='STORE KEEPER', Marital Status='SINGLE', Family Size=5, Income=40999, Expenditure=11999, Use Frequency=3, Loan Category='BOOK STORES', Loan Amount=None, Overdue=1,  Debt Record='4,500',  Returned Cheque=0,  Dishonour of Bill=1),\n",
              " Row(Customer_ID='IB14224', Age=49, Gender='MALE', Occupation='BANK MANAGER', Marital Status='MARRIED', Family Size=4, Income=45999, Expenditure=14500, Use Frequency=4, Loan Category='HOME APPLIANCES', Loan Amount=None, Overdue=4,  Debt Record='6,700',  Returned Cheque=7,  Dishonour of Bill=3),\n",
              " Row(Customer_ID='IB14225', Age=56, Gender='MALE', Occupation='CIVIL ENGINEER', Marital Status='MARRIED', Family Size=4, Income=None, Expenditure=13999, Use Frequency=3, Loan Category='HOUSING', Loan Amount=None, Overdue=6,  Debt Record='19,999',  Returned Cheque=4,  Dishonour of Bill=2),\n",
              " Row(Customer_ID='IB14227', Age=54, Gender='MALE', Occupation='AIRPORT OFFICER', Marital Status='MARRIED', Family Size=6, Income=80000, Expenditure=62541, Use Frequency=2, Loan Category='HOUSING', Loan Amount=None, Overdue=1,  Debt Record='16,599',  Returned Cheque=2,  Dishonour of Bill=3),\n",
              " Row(Customer_ID='IB14229', Age=51, Gender='MALE', Occupation='SYSTEM MANAGER', Marital Status='MARRIED', Family Size=3, Income=49999, Expenditure=19111, Use Frequency=5, Loan Category='ELECTRONICS', Loan Amount=None, Overdue=8,  Debt Record='13,000',  Returned Cheque=2,  Dishonour of Bill=5),\n",
              " Row(Customer_ID='IB14231', Age=24, Gender='FEMALE', Occupation='TEACHER', Marital Status='SINGLE', Family Size=3, Income=45008, Expenditure=17454, Use Frequency=4, Loan Category='AUTOMOBILE', Loan Amount=None, Overdue=9,  Debt Record='51,987',  Returned Cheque=4,  Dishonour of Bill=7),\n",
              " Row(Customer_ID='IB14233', Age=32, Gender='MALE', Occupation='PRODUCT ENGINEER', Marital Status='MARRIED', Family Size=6, Income=None, Expenditure=29000, Use Frequency=7, Loan Category='AUTOMOBILE', Loan Amount=None, Overdue=6,  Debt Record='4,500',  Returned Cheque=5,  Dishonour of Bill=4),\n",
              " Row(Customer_ID='IB14235', Age=54, Gender='FEMALE', Occupation='TEACHER', Marital Status='MARRIED', Family Size=5, Income=48099, Expenditure=19999, Use Frequency=4, Loan Category='RESTAURANTS', Loan Amount=None, Overdue=1,  Debt Record='12,000',  Returned Cheque=7,  Dishonour of Bill=5),\n",
              " Row(Customer_ID='IB14236', Age=45, Gender='MALE', Occupation='ACCOUNT MANAGER', Marital Status='MARRIED', Family Size=7, Income=45777, Expenditure=18452, Use Frequency=4, Loan Category='GOLD LOAN', Loan Amount=None, Overdue=7,  Debt Record='39,999',  Returned Cheque=8,  Dishonour of Bill=1),\n",
              " Row(Customer_ID='IB14238', Age=59, Gender='FEMALE', Occupation='ASSISTANT PROFESSOR', Marital Status='MARRIED', Family Size=4, Income=50999, Expenditure=22999, Use Frequency=5, Loan Category='EDUCATIONAL LOAN', Loan Amount=None, Overdue=3,  Debt Record='9,000',  Returned Cheque=9,  Dishonour of Bill=9),\n",
              " Row(Customer_ID='IB14239', Age=29, Gender='MALE', Occupation='TEACHER', Marital Status='MARRIED', Family Size=5, Income=45767, Expenditure=12787, Use Frequency=3, Loan Category='GOLD LOAN', Loan Amount=None, Overdue=7,  Debt Record='11,000',  Returned Cheque=0,  Dishonour of Bill=4),\n",
              " Row(Customer_ID='IB14240', Age=34, Gender='MALE', Occupation='POLICE', Marital Status='SINGLE', Family Size=4, Income=43521, Expenditure=11999, Use Frequency=3, Loan Category='AUTOMOBILE', Loan Amount=None, Overdue=2,  Debt Record='43,898',  Returned Cheque=1,  Dishonour of Bill=2),\n",
              " Row(Customer_ID='IB14242', Age=55, Gender='FEMALE', Occupation='NURSE', Marital Status='MARRIED', Family Size=6, Income=34999, Expenditure=19888, Use Frequency=4, Loan Category='SHOPPING', Loan Amount=None, Overdue=1,  Debt Record='50,000',  Returned Cheque=0,  Dishonour of Bill=3),\n",
              " Row(Customer_ID='IB14244', Age=32, Gender='MALE', Occupation='PRODUCT ENGINEER', Marital Status='MARRIED', Family Size=6, Income=None, Expenditure=29000, Use Frequency=7, Loan Category='COMPUTER SOFTWARES', Loan Amount=None, Overdue=6,  Debt Record='4,500',  Returned Cheque=5,  Dishonour of Bill=4),\n",
              " Row(Customer_ID='IB14245', Age=54, Gender='FEMALE', Occupation='TEACHER', Marital Status='MARRIED', Family Size=5, Income=48099, Expenditure=19999, Use Frequency=4, Loan Category='RESTAURANTS', Loan Amount=None, Overdue=1,  Debt Record='12,000',  Returned Cheque=7,  Dishonour of Bill=5),\n",
              " Row(Customer_ID='IB14247', Age=29, Gender='MALE', Occupation='FIRE DEPARTMENT', Marital Status='MARRIED', Family Size=5, Income=45213, Expenditure=32457, Use Frequency=9, Loan Category='TRAVELLING', Loan Amount=None, Overdue=7,  Debt Record='90,000',  Returned Cheque=2,  Dishonour of Bill=5),\n",
              " Row(Customer_ID='IB14249', Age=44, Gender='FEMALE', Occupation='ACCOUNT MANAGER', Marital Status='MARRIED', Family Size=4, Income=700000, Expenditure=15632, Use Frequency=8, Loan Category='COMPUTER SOFTWARES', Loan Amount=None, Overdue=5,  Debt Record='20,145',  Returned Cheque=3,  Dishonour of Bill=4),\n",
              " Row(Customer_ID='IB14251', Age=56, Gender='MALE', Occupation='DRIVER', Marital Status='MARRIED', Family Size=5, Income=30000, Expenditure=15426, Use Frequency=7, Loan Category='GOLD LOAN', Loan Amount=None, Overdue=6,  Debt Record='20,000',  Returned Cheque=4,  Dishonour of Bill=6),\n",
              " Row(Customer_ID='IB14253', Age=54, Gender='MALE', Occupation='AIRPORT OFFICER', Marital Status='MARRIED', Family Size=6, Income=80000, Expenditure=42541, Use Frequency=2, Loan Category='HOUSING', Loan Amount=None, Overdue=1,  Debt Record='16,599',  Returned Cheque=2,  Dishonour of Bill=3),\n",
              " Row(Customer_ID='IB14254', Age=29, Gender='MALE', Occupation='FIRE DEPARTMENT', Marital Status='MARRIED', Family Size=5, Income=43213, Expenditure=22457, Use Frequency=9, Loan Category='TRAVELLING', Loan Amount=None, Overdue=7,  Debt Record='90,000',  Returned Cheque=2,  Dishonour of Bill=5),\n",
              " Row(Customer_ID='IB14256', Age=44, Gender='FEMALE', Occupation='ACCOUNT MANAGER', Marital Status='MARRIED', Family Size=4, Income=800000, Expenditure=15632, Use Frequency=8, Loan Category='COMPUTER SOFTWARES', Loan Amount=None, Overdue=5,  Debt Record='20,145',  Returned Cheque=3,  Dishonour of Bill=4),\n",
              " Row(Customer_ID='IB14258', Age=29, Gender='MALE', Occupation='TEACHER', Marital Status='MARRIED', Family Size=5, Income=45767, Expenditure=12787, Use Frequency=3, Loan Category='GOLD LOAN', Loan Amount=None, Overdue=7,  Debt Record='11,000',  Returned Cheque=0,  Dishonour of Bill=4),\n",
              " Row(Customer_ID='IB14260', Age=34, Gender='MALE', Occupation='POLICE', Marital Status='SINGLE', Family Size=4, Income=43521, Expenditure=11999, Use Frequency=3, Loan Category='AUTOMOBILE', Loan Amount=None, Overdue=2,  Debt Record='43,898',  Returned Cheque=1,  Dishonour of Bill=2),\n",
              " Row(Customer_ID='IB14261', Age=55, Gender='FEMALE', Occupation='NURSE', Marital Status='MARRIED', Family Size=6, Income=34999, Expenditure=19888, Use Frequency=4, Loan Category='SHOPPING', Loan Amount=None, Overdue=1,  Debt Record='50,000',  Returned Cheque=0,  Dishonour of Bill=3),\n",
              " Row(Customer_ID='IB14263', Age=32, Gender='MALE', Occupation='PRODUCT ENGINEER', Marital Status='MARRIED', Family Size=6, Income=None, Expenditure=29000, Use Frequency=7, Loan Category='COMPUTER SOFTWARES', Loan Amount=None, Overdue=6,  Debt Record='4,500',  Returned Cheque=5,  Dishonour of Bill=4),\n",
              " Row(Customer_ID='IB14265', Age=54, Gender='FEMALE', Occupation='TEACHER', Marital Status='MARRIED', Family Size=5, Income=48099, Expenditure=19999, Use Frequency=4, Loan Category='RESTAURANTS', Loan Amount=None, Overdue=1,  Debt Record='12,000',  Returned Cheque=7,  Dishonour of Bill=5),\n",
              " Row(Customer_ID='IB14267', Age=55, Gender='FEMALE', Occupation='ASSISTANT PROFESSOR', Marital Status='MARRIED', Family Size=6, Income=34999, Expenditure=19888, Use Frequency=4, Loan Category='SHOPPING', Loan Amount=None, Overdue=1,  Debt Record='50,000',  Returned Cheque=0,  Dishonour of Bill=3),\n",
              " Row(Customer_ID='IB14269', Age=32, Gender='MALE', Occupation='SOFTWARE ENGINEER', Marital Status='MARRIED', Family Size=6, Income=None, Expenditure=29000, Use Frequency=7, Loan Category='COMPUTER SOFTWARES', Loan Amount=None, Overdue=6,  Debt Record='4,500',  Returned Cheque=5,  Dishonour of Bill=4),\n",
              " Row(Customer_ID='IB14270', Age=54, Gender='FEMALE', Occupation='TEACHER', Marital Status='MARRIED', Family Size=5, Income=48099, Expenditure=19999, Use Frequency=4, Loan Category='RESTAURANTS', Loan Amount=None, Overdue=1,  Debt Record='12,000',  Returned Cheque=7,  Dishonour of Bill=5),\n",
              " Row(Customer_ID='IB14272', Age=43, Gender='MALE', Occupation='PRODUCT ENGINEER', Marital Status='MARRIED', Family Size=4, Income=50147, Expenditure=45863, Use Frequency=8, Loan Category='COMPUTER SOFTWARES', Loan Amount=None, Overdue=8,  Debt Record='19,999',  Returned Cheque=3,  Dishonour of Bill=5),\n",
              " Row(Customer_ID='IB14273', Age=33, Gender='MALE', Occupation='DOCTOR', Marital Status='MARRIED', Family Size=6, Income=70000, Expenditure=41541, Use Frequency=8, Loan Category='BUILDING', Loan Amount=None, Overdue=4,  Debt Record='19,541',  Returned Cheque=1,  Dishonour of Bill=3),\n",
              " Row(Customer_ID='IB14275', Age=36, Gender='MALE', Occupation='ELECTRICIAN', Marital Status='MARRIED', Family Size=2, Income=36985, Expenditure=25648, Use Frequency=6, Loan Category='ELECTRONICS', Loan Amount=None, Overdue=7,  Debt Record='20,000',  Returned Cheque=5,  Dishonour of Bill=3),\n",
              " Row(Customer_ID='IB14277', Age=49, Gender='MALE', Occupation='ASSISTANT MANAGER', Marital Status='MARRIED', Family Size=7, Income=45612, Expenditure=39542, Use Frequency=3, Loan Category='SHOPPING', Loan Amount=None, Overdue=7,  Debt Record='65,412',  Returned Cheque=3,  Dishonour of Bill=2),\n",
              " Row(Customer_ID='IB14278', Age=41, Gender='MALE', Occupation='BANK MANAGER', Marital Status='MARRIED', Family Size=6, Income=64125, Expenditure=51246, Use Frequency=6, Loan Category='TRAVELLING', Loan Amount=None, Overdue=5,  Debt Record='16,524',  Returned Cheque=3,  Dishonour of Bill=3),\n",
              " Row(Customer_ID='IB14280', Age=39, Gender='FEMALE', Occupation='SYSTEM OFFICER', Marital Status='MARRIED', Family Size=6, Income=None, Expenditure=32541, Use Frequency=5, Loan Category='EDUCATIONAL LOAN', Loan Amount=None, Overdue=3,  Debt Record='14,256',  Returned Cheque=4,  Dishonour of Bill=4),\n",
              " Row(Customer_ID='IB14282', Age=51, Gender='MALE', Occupation='SYSTEM MANAGER', Marital Status='MARRIED', Family Size=3, Income=49999, Expenditure=19111, Use Frequency=5, Loan Category='ELECTRONICS', Loan Amount=None, Overdue=8,  Debt Record='13,000',  Returned Cheque=2,  Dishonour of Bill=5),\n",
              " Row(Customer_ID='IB14283', Age=36, Gender='FEMALE', Occupation='CLERK', Marital Status='MARRIED', Family Size=4, Income=35000, Expenditure=15000, Use Frequency=3, Loan Category='HOUSING', Loan Amount=None, Overdue=2,  Debt Record='5,600',  Returned Cheque=4,  Dishonour of Bill=8),\n",
              " Row(Customer_ID='IB14285', Age=40, Gender='MALE', Occupation='PUBLIC WORKS', Marital Status='MARRIED', Family Size=4, Income=38000, Expenditure=20000, Use Frequency=3, Loan Category='GOLD LOAN', Loan Amount=None, Overdue=9,  Debt Record='19,954',  Returned Cheque=3,  Dishonour of Bill=2),\n",
              " Row(Customer_ID='IB14287', Age=31, Gender='MALE', Occupation='STORE KEEPER', Marital Status='SINGLE', Family Size=5, Income=40999, Expenditure=11999, Use Frequency=3, Loan Category='BOOK STORES', Loan Amount=None, Overdue=1,  Debt Record='4,500',  Returned Cheque=0,  Dishonour of Bill=1),\n",
              " Row(Customer_ID='IB14288', Age=49, Gender='MALE', Occupation='BANK MANAGER', Marital Status='MARRIED', Family Size=4, Income=45999, Expenditure=14500, Use Frequency=4, Loan Category='TRAVELLING', Loan Amount=None, Overdue=4,  Debt Record='6,700',  Returned Cheque=7,  Dishonour of Bill=3),\n",
              " Row(Customer_ID='IB14289', Age=55, Gender='FEMALE', Occupation='NURSE', Marital Status='MARRIED', Family Size=6, Income=34999, Expenditure=19888, Use Frequency=4, Loan Category='HOUSING', Loan Amount=None, Overdue=1,  Debt Record='50,000',  Returned Cheque=0,  Dishonour of Bill=3),\n",
              " Row(Customer_ID='IB14291', Age=32, Gender='MALE', Occupation='PRODUCT ENGINEER', Marital Status='MARRIED', Family Size=6, Income=None, Expenditure=29000, Use Frequency=7, Loan Category='SHOPPING', Loan Amount=None, Overdue=6,  Debt Record='4,500',  Returned Cheque=5,  Dishonour of Bill=4),\n",
              " Row(Customer_ID='IB14293', Age=54, Gender='FEMALE', Occupation='TEACHER', Marital Status='MARRIED', Family Size=5, Income=48099, Expenditure=19999, Use Frequency=4, Loan Category='TRAVELLING', Loan Amount=None, Overdue=1,  Debt Record='12,000',  Returned Cheque=7,  Dishonour of Bill=5),\n",
              " Row(Customer_ID='IBI4294', Age=24, Gender='FEMALE', Occupation='SOFTWARE ENGINEER', Marital Status='SINGLE', Family Size=4, Income=49680, Expenditure=25000, Use Frequency=5, Loan Category='GOLD LOAN', Loan Amount=None, Overdue=5,  Debt Record='24,000',  Returned Cheque=6,  Dishonour of Bill=4),\n",
              " Row(Customer_ID='IBI4296', Age=35, Gender='MALE', Occupation='BANK MANAGER', Marital Status='MARRIED', Family Size=4, Income=75250, Expenditure=29865, Use Frequency=6, Loan Category='RESTAURANTS', Loan Amount=None, Overdue=5,  Debt Record='34,000',  Returned Cheque=5,  Dishonour of Bill=5),\n",
              " Row(Customer_ID='IB14299', Age=54, Gender='MALE', Occupation='AIRPORT OFFICER', Marital Status='MARRIED', Family Size=6, Income=80000, Expenditure=39541, Use Frequency=2, Loan Category='HOUSING', Loan Amount=None, Overdue=1,  Debt Record='16,599',  Returned Cheque=2,  Dishonour of Bill=3),\n",
              " Row(Customer_ID='IB14301', Age=29, Gender='MALE', Occupation='TEACHER', Marital Status='MARRIED', Family Size=5, Income=45767, Expenditure=12787, Use Frequency=3, Loan Category='GOLD LOAN', Loan Amount=None, Overdue=7,  Debt Record='11,000',  Returned Cheque=0,  Dishonour of Bill=4),\n",
              " Row(Customer_ID='IB14303', Age=56, Gender='MALE', Occupation='CIVIL ENGINEER', Marital Status='MARRIED', Family Size=4, Income=None, Expenditure=13999, Use Frequency=3, Loan Category='HOUSING', Loan Amount=None, Overdue=6,  Debt Record='19,999',  Returned Cheque=4,  Dishonour of Bill=2),\n",
              " Row(Customer_ID='IB14304', Age=30, Gender='MALE', Occupation='ELECTRICIAN', Marital Status='MARRIED', Family Size=4, Income=30000, Expenditure=15000, Use Frequency=5, Loan Category='HOUSING', Loan Amount=None, Overdue=5,  Debt Record='32,154',  Returned Cheque=5,  Dishonour of Bill=5),\n",
              " Row(Customer_ID='IB14306', Age=51, Gender='FEMALE', Occupation='TECHNICIAN', Marital Status='MARRIED', Family Size=5, Income=30000, Expenditure=None, Use Frequency=5, Loan Category='AUTOMOBILE', Loan Amount=None, Overdue=7,  Debt Record='52,634',  Returned Cheque=4,  Dishonour of Bill=10),\n",
              " Row(Customer_ID='IB14309', Age=25, Gender='MALE', Occupation='PROFESSOR', Marital Status='SINGLE', Family Size=5, Income=62145, Expenditure=31254, Use Frequency=4, Loan Category='AUTOMOBILE', Loan Amount=None, Overdue=6,  Debt Record='48,596',  Returned Cheque=6,  Dishonour of Bill=5),\n",
              " Row(Customer_ID='IB14311', Age=47, Gender='MALE', Occupation='SYSTEM ENGINEER', Marital Status='MARRIED', Family Size=4, Income=52364, Expenditure=45612, Use Frequency=3, Loan Category='GOLD LOAN', Loan Amount=None, Overdue=4,  Debt Record='67,451',  Returned Cheque=5,  Dishonour of Bill=4),\n",
              " Row(Customer_ID='1B14312', Age=21, Gender='FEMALE', Occupation='MANAGER', Marital Status='SINGLE', Family Size=3, Income=42516, Expenditure=24567, Use Frequency=7, Loan Category='EDUCATIONAL LOAN', Loan Amount=None, Overdue=8,  Debt Record='89,652',  Returned Cheque=2,  Dishonour of Bill=3),\n",
              " Row(Customer_ID='1B14315', Age=49, Gender='MALE', Occupation='ASSISTANT PROFESSOR', Marital Status='MARRIED', Family Size=5, Income=65214, Expenditure=42589, Use Frequency=5, Loan Category='HOUSING', Loan Amount=None, Overdue=5,  Debt Record='11,254',  Returned Cheque=1,  Dishonour of Bill=2),\n",
              " Row(Customer_ID='IB14317', Age=26, Gender='FEMALE', Occupation='TEACHER', Marital Status='SINGLE', Family Size=3, Income=45008, Expenditure=17454, Use Frequency=4, Loan Category='AUTOMOBILE', Loan Amount=None, Overdue=9,  Debt Record='51,987',  Returned Cheque=4,  Dishonour of Bill=7),\n",
              " Row(Customer_ID='IB14318', Age=45, Gender='FEMALE', Occupation='ASSISTANT PROFESSOR', Marital Status='MARRIED', Family Size=6, Income=52361, Expenditure=34154, Use Frequency=6, Loan Category='AUTOMOBILE', Loan Amount=None, Overdue=7,  Debt Record='0',  Returned Cheque=2,  Dishonour of Bill=9),\n",
              " Row(Customer_ID='IB14320', Age=29, Gender='MALE', Occupation='SOFTWARE ENGINEER', Marital Status='MARRIED', Family Size=2, Income=38170, Expenditure=19224, Use Frequency=5, Loan Category='SHOPPING', Loan Amount=None, Overdue=2,  Debt Record='57381',  Returned Cheque=5,  Dishonour of Bill=7),\n",
              " Row(Customer_ID='IB14321', Age=28, Gender='MALE', Occupation='TEACHER', Marital Status='MARRIED', Family Size=7, Income=31747, Expenditure=17995, Use Frequency=8, Loan Category='COMPUTER SOFTWARES', Loan Amount=None, Overdue=8,  Debt Record='66706',  Returned Cheque=1,  Dishonour of Bill=7),\n",
              " Row(Customer_ID='IB14324', Age=52, Gender='MALE', Occupation='PRODUCT ENGINEER', Marital Status='MARRIED', Family Size=6, Income=74044, Expenditure=16278, Use Frequency=5, Loan Category='RESTAURANTS', Loan Amount=None, Overdue=5,  Debt Record='84319',  Returned Cheque=9,  Dishonour of Bill=2),\n",
              " Row(Customer_ID='IB14326', Age=37, Gender='MALE', Occupation='DOCTOR', Marital Status='SINGLE', Family Size=2, Income=56856, Expenditure=23678, Use Frequency=7, Loan Category='TRAVELLING', Loan Amount=None, Overdue=8,  Debt Record='87171',  Returned Cheque=4,  Dishonour of Bill=3),\n",
              " Row(Customer_ID='IB14327', Age=44, Gender='MALE', Occupation='ELECTRICIAN', Marital Status='MARRIED', Family Size=5, Income=67214, Expenditure=20246, Use Frequency=6, Loan Category='COMPUTER SOFTWARES', Loan Amount=None, Overdue=5,  Debt Record='46654',  Returned Cheque=5,  Dishonour of Bill=3),\n",
              " Row(Customer_ID='IB14329', Age=54, Gender='FEMALE', Occupation='ASSISTANT MANAGER', Marital Status='MARRIED', Family Size=5, Income=59392, Expenditure=25605, Use Frequency=8, Loan Category='GOLD LOAN', Loan Amount=None, Overdue=6,  Debt Record='39948',  Returned Cheque=7,  Dishonour of Bill=9),\n",
              " Row(Customer_ID='IB14331', Age=29, Gender='MALE', Occupation='BANK MANAGER', Marital Status='MARRIED', Family Size=5, Income=None, Expenditure=19326, Use Frequency=6, Loan Category='DINNING', Loan Amount=None, Overdue=4,  Debt Record='38410',  Returned Cheque=4,  Dishonour of Bill=1),\n",
              " Row(Customer_ID='IB14333', Age=48, Gender='FEMALE', Occupation='DATA ANALYST', Marital Status='MARRIED', Family Size=4, Income=57097, Expenditure=16144, Use Frequency=6, Loan Category='TRAVELLING', Loan Amount=None, Overdue=4,  Debt Record='89636',  Returned Cheque=8,  Dishonour of Bill=1),\n",
              " Row(Customer_ID='IB14336', Age=51, Gender='MALE', Occupation='PROFESSOR', Marital Status='MARRIED', Family Size=4, Income=69401, Expenditure=28234, Use Frequency=6, Loan Category='SHOPPING', Loan Amount=None, Overdue=2,  Debt Record='38457',  Returned Cheque=8,  Dishonour of Bill=4),\n",
              " Row(Customer_ID='IB14337', Age=51, Gender='FEMALE', Occupation='DENTIST', Marital Status='MARRIED', Family Size=7, Income=58465, Expenditure=None, Use Frequency=8, Loan Category='AUTOMOBILE', Loan Amount=None, Overdue=5,  Debt Record='27059',  Returned Cheque=4,  Dishonour of Bill=9),\n",
              " Row(Customer_ID='IB14339', Age=50, Gender='MALE', Occupation='STORE KEEPER', Marital Status='MARRIED', Family Size=6, Income=35918, Expenditure=19202, Use Frequency=5, Loan Category='SHOPPING', Loan Amount=None, Overdue=1,  Debt Record='31774',  Returned Cheque=9,  Dishonour of Bill=4),\n",
              " Row(Customer_ID='IB14340', Age=55, Gender='MALE', Occupation='BANK MANAGER', Marital Status='MARRIED', Family Size=7, Income=51346, Expenditure=21710, Use Frequency=4, Loan Category='DINNING', Loan Amount=None, Overdue=7,  Debt Record='21170',  Returned Cheque=1,  Dishonour of Bill=9),\n",
              " Row(Customer_ID='IB14342', Age=29, Gender='FEMALE', Occupation='CIVIL ENGINEER', Marital Status='MARRIED', Family Size=6, Income=75415, Expenditure=29047, Use Frequency=8, Loan Category='ELECTRONICS', Loan Amount=None, Overdue=2,  Debt Record='60993',  Returned Cheque=9,  Dishonour of Bill=1),\n",
              " Row(Customer_ID='IB14344', Age=43, Gender='MALE', Occupation='AIRPORT OFFICER', Marital Status='MARRIED', Family Size=7, Income=None, Expenditure=28032, Use Frequency=8, Loan Category='HOUSING', Loan Amount=None, Overdue=7,  Debt Record='64718',  Returned Cheque=0,  Dishonour of Bill=4),\n",
              " Row(Customer_ID='IB14346', Age=44, Gender='FEMALE', Occupation='TEACHER', Marital Status='MARRIED', Family Size=2, Income=63953, Expenditure=18376, Use Frequency=4, Loan Category='RESTAURANTS', Loan Amount=None, Overdue=4,  Debt Record='69956',  Returned Cheque=9,  Dishonour of Bill=4),\n",
              " Row(Customer_ID='IB14349', Age=46, Gender='MALE', Occupation='DOCTOR', Marital Status='MARRIED', Family Size=3, Income=53852, Expenditure=28974, Use Frequency=6, Loan Category='BOOK STORES', Loan Amount=None, Overdue=7,  Debt Record='72810',  Returned Cheque=4,  Dishonour of Bill=5),\n",
              " Row(Customer_ID='IB14352', Age=32, Gender='FEMALE', Occupation='ELECTRICIAN', Marital Status='MARRIED', Family Size=5, Income=70449, Expenditure=None, Use Frequency=8, Loan Category='GOLD LOAN', Loan Amount=None, Overdue=7,  Debt Record='64685',  Returned Cheque=0,  Dishonour of Bill=6),\n",
              " Row(Customer_ID='IB14354', Age=42, Gender='MALE', Occupation='TEACHER', Marital Status='MARRIED', Family Size=3, Income=57578, Expenditure=23000, Use Frequency=8, Loan Category='EDUCATIONAL LOAN', Loan Amount=None, Overdue=3,  Debt Record='68060',  Returned Cheque=8,  Dishonour of Bill=4),\n",
              " Row(Customer_ID='IB14357', Age=45, Gender='MALE', Occupation='FIRE DEPARTMENT', Marital Status='MARRIED', Family Size=2, Income=77805, Expenditure=16699, Use Frequency=5, Loan Category='HOUSING', Loan Amount=None, Overdue=3,  Debt Record='87189',  Returned Cheque=2,  Dishonour of Bill=2),\n",
              " Row(Customer_ID='IB14359', Age=46, Gender='MALE', Occupation='CLERK', Marital Status='MARRIED', Family Size=5, Income=54529, Expenditure=27102, Use Frequency=4, Loan Category='COMPUTER SOFTWARES', Loan Amount=None, Overdue=7,  Debt Record='22119',  Returned Cheque=7,  Dishonour of Bill=3),\n",
              " Row(Customer_ID='IB14361', Age=37, Gender='FEMALE', Occupation='PRODUCT ENGINEER', Marital Status='SINGLE', Family Size=6, Income=None, Expenditure=28140, Use Frequency=5, Loan Category='AUTOMOBILE', Loan Amount=None, Overdue=8,  Debt Record='27586',  Returned Cheque=6,  Dishonour of Bill=8),\n",
              " Row(Customer_ID='IB14363', Age=37, Gender='MALE', Occupation='DOCTOR', Marital Status='MARRIED', Family Size=3, Income=32753, Expenditure=26219, Use Frequency=5, Loan Category='SHOPPING', Loan Amount=None, Overdue=7,  Debt Record='76545',  Returned Cheque=0,  Dishonour of Bill=3),\n",
              " Row(Customer_ID='IB14365', Age=25, Gender='MALE', Occupation='CIVIL ENGINEER', Marital Status='MARRIED', Family Size=7, Income=46880, Expenditure=18559, Use Frequency=8, Loan Category='DINNING', Loan Amount=None, Overdue=5,  Debt Record='36419',  Returned Cheque=5,  Dishonour of Bill=8),\n",
              " Row(Customer_ID='IB14369', Age=37, Gender='FEMALE', Occupation='DOCTOR', Marital Status='MARRIED', Family Size=5, Income=57453, Expenditure=None, Use Frequency=6, Loan Category='TRAVELLING', Loan Amount=None, Overdue=1,  Debt Record='72488',  Returned Cheque=9,  Dishonour of Bill=8),\n",
              " Row(Customer_ID='IB14371', Age=53, Gender='MALE', Occupation='AIRPORT OFFICER', Marital Status='MARRIED', Family Size=5, Income=73093, Expenditure=19194, Use Frequency=7, Loan Category='COMPUTER SOFTWARES', Loan Amount=None, Overdue=7,  Debt Record='27801',  Returned Cheque=8,  Dishonour of Bill=0),\n",
              " Row(Customer_ID='IB14373', Age=31, Gender='MALE', Occupation='CLERK', Marital Status='MARRIED', Family Size=4, Income=32714, Expenditure=23632, Use Frequency=6, Loan Category='GOLD LOAN', Loan Amount=None, Overdue=1,  Debt Record='36394',  Returned Cheque=0,  Dishonour of Bill=0),\n",
              " Row(Customer_ID='IB14375', Age=53, Gender='FEMALE', Occupation='PUBLIC WORKS', Marital Status='MARRIED', Family Size=6, Income=41645, Expenditure=25095, Use Frequency=8, Loan Category='COMPUTER SOFTWARES', Loan Amount=None, Overdue=8,  Debt Record='59922',  Returned Cheque=8,  Dishonour of Bill=2),\n",
              " Row(Customer_ID='IB14377', Age=54, Gender='MALE', Occupation='FIRE DEPARTMENT', Marital Status='MARRIED', Family Size=2, Income=80000, Expenditure=25318, Use Frequency=8, Loan Category='SHOPPING', Loan Amount=None, Overdue=1,  Debt Record='28195',  Returned Cheque=7,  Dishonour of Bill=6),\n",
              " Row(Customer_ID='IB14378', Age=24, Gender='FEMALE', Occupation='CLERK', Marital Status='MARRIED', Family Size=3, Income=47361, Expenditure=19718, Use Frequency=8, Loan Category='TRAVELLING', Loan Amount=None, Overdue=4,  Debt Record='21323',  Returned Cheque=2,  Dishonour of Bill=1),\n",
              " Row(Customer_ID='IB14380', Age=41, Gender='FEMALE', Occupation='NURSE', Marital Status='MARRIED', Family Size=5, Income=36784, Expenditure=None, Use Frequency=4, Loan Category='HOUSING', Loan Amount=None, Overdue=9,  Debt Record='60243',  Returned Cheque=3,  Dishonour of Bill=1),\n",
              " Row(Customer_ID='IB14383', Age=56, Gender='MALE', Occupation='PRODUCT ENGINEER', Marital Status='MARRIED', Family Size=5, Income=44130, Expenditure=27092, Use Frequency=8, Loan Category='SHOPPING', Loan Amount=None, Overdue=1,  Debt Record='76010',  Returned Cheque=9,  Dishonour of Bill=0),\n",
              " Row(Customer_ID='IB14384', Age=25, Gender='MALE', Occupation='TEACHER', Marital Status='MARRIED', Family Size=7, Income=64528, Expenditure=21231, Use Frequency=5, Loan Category='TRAVELLING', Loan Amount=None, Overdue=1,  Debt Record='64918',  Returned Cheque=5,  Dishonour of Bill=3),\n",
              " Row(Customer_ID='IB14387', Age=26, Gender='MALE', Occupation='SOFTWARE ENGINEER', Marital Status='MARRIED', Family Size=4, Income=43587, Expenditure=24799, Use Frequency=8, Loan Category='GOLD LOAN', Loan Amount=None, Overdue=9,  Debt Record='31190',  Returned Cheque=5,  Dishonour of Bill=6),\n",
              " Row(Customer_ID='IB14390', Age=43, Gender='FEMALE', Occupation='BANK MANAGER', Marital Status='MARRIED', Family Size=6, Income=95247, Expenditure=36035, Use Frequency=6, Loan Category='HOUSING', Loan Amount=None, Overdue=7,  Debt Record='19931',  Returned Cheque=6,  Dishonour of Bill=2),\n",
              " Row(Customer_ID='IB14392', Age=36, Gender='MALE', Occupation='AIRPORT OFFICER', Marital Status='MARRIED', Family Size=7, Income=48749, Expenditure=18330, Use Frequency=6, Loan Category='SHOPPING', Loan Amount=None, Overdue=5,  Debt Record='14684',  Returned Cheque=1,  Dishonour of Bill=1),\n",
              " Row(Customer_ID='IB14395', Age=36, Gender='FEMALE', Occupation='TEACHER', Marital Status='SINGLE', Family Size=7, Income=43518, Expenditure=None, Use Frequency=8, Loan Category='TRAVELLING', Loan Amount=None, Overdue=9,  Debt Record='56090',  Returned Cheque=0,  Dishonour of Bill=0),\n",
              " Row(Customer_ID='IB14397', Age=33, Gender='MALE', Occupation='BANK MANAGER', Marital Status='MARRIED', Family Size=2, Income=70248, Expenditure=22559, Use Frequency=5, Loan Category='GOLD LOAN', Loan Amount=None, Overdue=3,  Debt Record='84023',  Returned Cheque=6,  Dishonour of Bill=2),\n",
              " Row(Customer_ID='IB14399', Age=50, Gender='FEMALE', Occupation='PROFESSOR', Marital Status='MARRIED', Family Size=2, Income=84802, Expenditure=21896, Use Frequency=5, Loan Category='TRAVELLING', Loan Amount=None, Overdue=5,  Debt Record='84640',  Returned Cheque=1,  Dishonour of Bill=5),\n",
              " Row(Customer_ID='IB14400', Age=35, Gender='MALE', Occupation='DENTIST', Marital Status='MARRIED', Family Size=5, Income=36742, Expenditure=18767, Use Frequency=8, Loan Category='COMPUTER SOFTWARES', Loan Amount=None, Overdue=1,  Debt Record='31082',  Returned Cheque=8,  Dishonour of Bill=8),\n",
              " Row(Customer_ID='IB14403', Age=28, Gender='FEMALE', Occupation='TEACHER', Marital Status='MARRIED', Family Size=3, Income=None, Expenditure=19339, Use Frequency=8, Loan Category='GOLD LOAN', Loan Amount=None, Overdue=7,  Debt Record='82089',  Returned Cheque=2,  Dishonour of Bill=3),\n",
              " Row(Customer_ID='IB14406', Age=41, Gender='MALE', Occupation='POLICE', Marital Status='MARRIED', Family Size=3, Income=33312, Expenditure=21921, Use Frequency=5, Loan Category='DINNING', Loan Amount=None, Overdue=2,  Debt Record='26766',  Returned Cheque=8,  Dishonour of Bill=5),\n",
              " Row(Customer_ID='IB14408', Age=38, Gender='FEMALE', Occupation='NURSE', Marital Status='MARRIED', Family Size=6, Income=42490, Expenditure=25775, Use Frequency=7, Loan Category='TRAVELLING', Loan Amount=None, Overdue=6,  Debt Record='67559',  Returned Cheque=0,  Dishonour of Bill=4),\n",
              " Row(Customer_ID='IB14410', Age=52, Gender='MALE', Occupation='TEACHER', Marital Status='MARRIED', Family Size=4, Income=75831, Expenditure=27487, Use Frequency=5, Loan Category='GOLD LOAN', Loan Amount=None, Overdue=4,  Debt Record='73794',  Returned Cheque=6,  Dishonour of Bill=4),\n",
              " Row(Customer_ID='IB14413', Age=36, Gender='MALE', Occupation='SYSTEM MANAGER', Marital Status='MARRIED', Family Size=5, Income=69163, Expenditure=29339, Use Frequency=4, Loan Category='HOME APPLIANCES', Loan Amount=None, Overdue=1,  Debt Record='67935',  Returned Cheque=6,  Dishonour of Bill=5),\n",
              " Row(Customer_ID='IB14418', Age=40, Gender='FEMALE', Occupation='TEACHER', Marital Status='MARRIED', Family Size=6, Income=77627, Expenditure=None, Use Frequency=8, Loan Category='TRAVELLING', Loan Amount=None, Overdue=1,  Debt Record='19990',  Returned Cheque=4,  Dishonour of Bill=0),\n",
              " Row(Customer_ID='IB14420', Age=43, Gender='MALE', Occupation='SOFTWARE ENGINEER', Marital Status='MARRIED', Family Size=2, Income=None, Expenditure=23080, Use Frequency=7, Loan Category='COMPUTER SOFTWARES', Loan Amount=None, Overdue=4,  Debt Record='66963',  Returned Cheque=1,  Dishonour of Bill=8),\n",
              " Row(Customer_ID='IB14421', Age=42, Gender='FEMALE', Occupation='DATA ANALYST', Marital Status='MARRIED', Family Size=4, Income=77671, Expenditure=24112, Use Frequency=6, Loan Category='TRAVELLING', Loan Amount=None, Overdue=4,  Debt Record='89027',  Returned Cheque=1,  Dishonour of Bill=6),\n",
              " Row(Customer_ID='IB14423', Age=50, Gender='MALE', Occupation='PRODUCT ENGINEER', Marital Status='MARRIED', Family Size=2, Income=78863, Expenditure=17361, Use Frequency=7, Loan Category='DINNING', Loan Amount=None, Overdue=7,  Debt Record='48783',  Returned Cheque=1,  Dishonour of Bill=8),\n",
              " Row(Customer_ID='IB14427', Age=55, Gender='MALE', Occupation='POLICE', Marital Status='MARRIED', Family Size=2, Income=60403, Expenditure=15913, Use Frequency=5, Loan Category='SHOPPING', Loan Amount=None, Overdue=7,  Debt Record='54387',  Returned Cheque=0,  Dishonour of Bill=7),\n",
              " Row(Customer_ID='IB14430', Age=39, Gender='FEMALE', Occupation='NURSE', Marital Status='MARRIED', Family Size=5, Income=43323, Expenditure=27877, Use Frequency=8, Loan Category='TRAVELLING', Loan Amount=None, Overdue=1,  Debt Record='56142',  Returned Cheque=5,  Dishonour of Bill=4),\n",
              " Row(Customer_ID='IB14433', Age=51, Gender='MALE', Occupation='TEACHER', Marital Status='MARRIED', Family Size=4, Income=42978, Expenditure=29709, Use Frequency=5, Loan Category='GOLD LOAN', Loan Amount=None, Overdue=8,  Debt Record='44746',  Returned Cheque=9,  Dishonour of Bill=2),\n",
              " Row(Customer_ID='IB14436', Age=24, Gender='FEMALE', Occupation='SYSTEM MANAGER', Marital Status='SINGLE', Family Size=4, Income=38401, Expenditure=27512, Use Frequency=7, Loan Category='RESTAURANTS', Loan Amount=None, Overdue=4,  Debt Record='42166',  Returned Cheque=4,  Dishonour of Bill=2),\n",
              " Row(Customer_ID='IB14439', Age=37, Gender='MALE', Occupation='TEACHER', Marital Status='MARRIED', Family Size=7, Income=79320, Expenditure=19187, Use Frequency=6, Loan Category='DINNING', Loan Amount=None, Overdue=6,  Debt Record='18033',  Returned Cheque=8,  Dishonour of Bill=0),\n",
              " Row(Customer_ID='IB14440', Age=24, Gender='MALE', Occupation='SOFTWARE ENGINEER', Marital Status='SINGLE', Family Size=2, Income=31107, Expenditure=21316, Use Frequency=7, Loan Category='GOLD LOAN', Loan Amount=None, Overdue=6,  Debt Record='76049',  Returned Cheque=1,  Dishonour of Bill=5),\n",
              " Row(Customer_ID='IB14442', Age=32, Gender='MALE', Occupation='DATA ANALYST', Marital Status='MARRIED', Family Size=6, Income=31948, Expenditure=19502, Use Frequency=7, Loan Category='HOUSING', Loan Amount=None, Overdue=3,  Debt Record='79111',  Returned Cheque=4,  Dishonour of Bill=4),\n",
              " Row(Customer_ID='IB14444', Age=54, Gender='FEMALE', Occupation='PRODUCT ENGINEER', Marital Status='MARRIED', Family Size=4, Income=67184, Expenditure=17813, Use Frequency=7, Loan Category='HOUSING', Loan Amount=None, Overdue=2,  Debt Record='80008',  Returned Cheque=3,  Dishonour of Bill=1),\n",
              " Row(Customer_ID='IB14446', Age=45, Gender='MALE', Occupation='TEACHER', Marital Status='MARRIED', Family Size=5, Income=None, Expenditure=20185, Use Frequency=5, Loan Category='GOLD LOAN', Loan Amount=None, Overdue=7,  Debt Record='71089',  Returned Cheque=6,  Dishonour of Bill=0),\n",
              " Row(Customer_ID='IB14447', Age=29, Gender='FEMALE', Occupation='ACCOUNT MANAGER', Marital Status='MARRIED', Family Size=3, Income=55475, Expenditure=28095, Use Frequency=4, Loan Category='DINNING', Loan Amount=None, Overdue=3,  Debt Record='81050',  Returned Cheque=6,  Dishonour of Bill=0),\n",
              " Row(Customer_ID='IB14449', Age=44, Gender='MALE', Occupation='ASSISTANT PROFESSOR', Marital Status='MARRIED', Family Size=4, Income=44090, Expenditure=19351, Use Frequency=6, Loan Category='TRAVELLING', Loan Amount=None, Overdue=2,  Debt Record='15510',  Returned Cheque=8,  Dishonour of Bill=0),\n",
              " Row(Customer_ID='IB14450', Age=29, Gender='FEMALE', Occupation='DOCTOR', Marital Status='MARRIED', Family Size=5, Income=66138, Expenditure=21787, Use Frequency=7, Loan Category='COMPUTER SOFTWARES', Loan Amount=None, Overdue=2,  Debt Record='31792',  Returned Cheque=7,  Dishonour of Bill=4),\n",
              " Row(Customer_ID='IB14453', Age=34, Gender='MALE', Occupation='CLERK', Marital Status='MARRIED', Family Size=7, Income=61207, Expenditure=15955, Use Frequency=7, Loan Category='GOLD LOAN', Loan Amount=None, Overdue=4,  Debt Record='20405',  Returned Cheque=8,  Dishonour of Bill=0),\n",
              " Row(Customer_ID='IB14457', Age=55, Gender='MALE', Occupation='CIVIL ENGINEER', Marital Status='MARRIED', Family Size=4, Income=58784, Expenditure=18480, Use Frequency=4, Loan Category='AUTOMOBILE', Loan Amount=None, Overdue=4,  Debt Record='84095',  Returned Cheque=1,  Dishonour of Bill=3),\n",
              " Row(Customer_ID='IB14459', Age=32, Gender='MALE', Occupation='DOCTOR', Marital Status='MARRIED', Family Size=4, Income=35472, Expenditure=18340, Use Frequency=6, Loan Category='SHOPPING', Loan Amount=None, Overdue=9,  Debt Record='52731',  Returned Cheque=0,  Dishonour of Bill=0),\n",
              " Row(Customer_ID='IB14461', Age=54, Gender='FEMALE', Occupation='AIRPORT OFFICER', Marital Status='MARRIED', Family Size=6, Income=50000, Expenditure=None, Use Frequency=5, Loan Category='COMPUTER SOFTWARES', Loan Amount=None, Overdue=8,  Debt Record='37106',  Returned Cheque=7,  Dishonour of Bill=9),\n",
              " Row(Customer_ID='IB14463', Age=55, Gender='MALE', Occupation='CLERK', Marital Status='MARRIED', Family Size=3, Income=51301, Expenditure=17208, Use Frequency=4, Loan Category='RESTAURANTS', Loan Amount=None, Overdue=4,  Debt Record='12809',  Returned Cheque=4,  Dishonour of Bill=1),\n",
              " Row(Customer_ID='IB14466', Age=24, Gender='MALE', Occupation='PUBLIC WORKS', Marital Status='SINGLE', Family Size=3, Income=45228, Expenditure=27839, Use Frequency=7, Loan Category='SHOPPING', Loan Amount=None, Overdue=8,  Debt Record='57559',  Returned Cheque=1,  Dishonour of Bill=7),\n",
              " Row(Customer_ID='IB14467', Age=35, Gender='MALE', Occupation='FIRE DEPARTMENT', Marital Status='MARRIED', Family Size=4, Income=44522, Expenditure=21803, Use Frequency=7, Loan Category='COMPUTER SOFTWARES', Loan Amount=None, Overdue=4,  Debt Record='80968',  Returned Cheque=9,  Dishonour of Bill=4),\n",
              " Row(Customer_ID='IB14469', Age=54, Gender='MALE', Occupation='CLERK', Marital Status='MARRIED', Family Size=3, Income=None, Expenditure=21707, Use Frequency=7, Loan Category='RESTAURANTS', Loan Amount=None, Overdue=6,  Debt Record='22093',  Returned Cheque=9,  Dishonour of Bill=0),\n",
              " Row(Customer_ID='IB14470', Age=29, Gender='MALE', Occupation='NURSE', Marital Status='SINGLE', Family Size=6, Income=51199, Expenditure=15753, Use Frequency=5, Loan Category='COMPUTER SOFTWARES', Loan Amount=None, Overdue=3,  Debt Record='57156',  Returned Cheque=3,  Dishonour of Bill=0),\n",
              " Row(Customer_ID='IB14472', Age=44, Gender='FEMALE', Occupation='PRODUCT ENGINEER', Marital Status='MARRIED', Family Size=2, Income=48613, Expenditure=21617, Use Frequency=4, Loan Category='BUILDING', Loan Amount=None, Overdue=5,  Debt Record='10154',  Returned Cheque=5,  Dishonour of Bill=1),\n",
              " Row(Customer_ID='IB14472', Age=56, Gender='MALE', Occupation='TEACHER', Marital Status='MARRIED', Family Size=7, Income=34836, Expenditure=18984, Use Frequency=4, Loan Category='ELECTRONICS', Loan Amount=None, Overdue=2,  Debt Record='42068',  Returned Cheque=5,  Dishonour of Bill=5),\n",
              " Row(Customer_ID='IB14476', Age=29, Gender='MALE', Occupation='SOFTWARE ENGINEER', Marital Status='SINGLE', Family Size=5, Income=30454, Expenditure=22210, Use Frequency=4, Loan Category='SHOPPING', Loan Amount=None, Overdue=6,  Debt Record='37762',  Returned Cheque=7,  Dishonour of Bill=9),\n",
              " Row(Customer_ID='IB14479', Age=34, Gender='MALE', Occupation='BANK MANAGER', Marital Status='MARRIED', Family Size=5, Income=73070, Expenditure=26306, Use Frequency=4, Loan Category='TRAVELLING', Loan Amount=None, Overdue=4,  Debt Record='10604',  Returned Cheque=5,  Dishonour of Bill=1),\n",
              " Row(Customer_ID='IB14480', Age=55, Gender='MALE', Occupation='AIRPORT OFFICER', Marital Status='MARRIED', Family Size=7, Income=56314, Expenditure=19648, Use Frequency=7, Loan Category='EDUCATIONAL LOAN', Loan Amount=None, Overdue=2,  Debt Record='78193',  Returned Cheque=9,  Dishonour of Bill=0),\n",
              " Row(Customer_ID='IB14483', Age=39, Gender='MALE', Occupation='TEACHER', Marital Status='MARRIED', Family Size=7, Income=30801, Expenditure=23025, Use Frequency=5, Loan Category='AUTOMOBILE', Loan Amount=None, Overdue=1,  Debt Record='60509',  Returned Cheque=9,  Dishonour of Bill=4),\n",
              " Row(Customer_ID='IB14486', Age=51, Gender='FEMALE', Occupation='BANK MANAGER', Marital Status='MARRIED', Family Size=6, Income=57697, Expenditure=15734, Use Frequency=5, Loan Category='HOME APPLIANCES', Loan Amount=None, Overdue=1,  Debt Record='16304',  Returned Cheque=6,  Dishonour of Bill=7),\n",
              " Row(Customer_ID='IB14489', Age=24, Gender='MALE', Occupation='TEACHER', Marital Status='SINGLE', Family Size=5, Income=74609, Expenditure=20444, Use Frequency=4, Loan Category='RESTAURANTS', Loan Amount=None, Overdue=2,  Debt Record='51858',  Returned Cheque=0,  Dishonour of Bill=3),\n",
              " Row(Customer_ID='IB14490', Age=37, Gender='FEMALE', Occupation='SYSTEM MANAGER', Marital Status='MARRIED', Family Size=2, Income=71477, Expenditure=28652, Use Frequency=8, Loan Category='SHOPPING', Loan Amount=None, Overdue=8,  Debt Record='78821',  Returned Cheque=1,  Dishonour of Bill=5),\n",
              " Row(Customer_ID='IB14491', Age=24, Gender='MALE', Occupation='TEACHER', Marital Status='SINGLE', Family Size=2, Income=77923, Expenditure=None, Use Frequency=5, Loan Category='TRAVELLING', Loan Amount=None, Overdue=5,  Debt Record='34121',  Returned Cheque=2,  Dishonour of Bill=8),\n",
              " Row(Customer_ID='IB14493', Age=24, Gender='FEMALE', Occupation='SOFTWARE ENGINEER', Marital Status='SINGLE', Family Size=3, Income=None, Expenditure=29521, Use Frequency=7, Loan Category='GOLD LOAN', Loan Amount=None, Overdue=7,  Debt Record='89069',  Returned Cheque=6,  Dishonour of Bill=9),\n",
              " Row(Customer_ID='IB14495', Age=44, Gender='MALE', Occupation='DATA ANALYST', Marital Status='MARRIED', Family Size=3, Income=56036, Expenditure=16416, Use Frequency=7, Loan Category='AUTOMOBILE', Loan Amount=None, Overdue=4,  Debt Record='54456',  Returned Cheque=2,  Dishonour of Bill=6),\n",
              " Row(Customer_ID='IB14497', Age=30, Gender='MALE', Occupation='ACCOUNT MANAGER', Marital Status='MARRIED', Family Size=4, Income=52568, Expenditure=17647, Use Frequency=6, Loan Category='GOLD LOAN', Loan Amount=None, Overdue=6,  Debt Record='22579',  Returned Cheque=2,  Dishonour of Bill=9),\n",
              " Row(Customer_ID='IB14499', Age=31, Gender='FEMALE', Occupation='DRIVER', Marital Status='MARRIED', Family Size=4, Income=39431, Expenditure=24007, Use Frequency=8, Loan Category='AUTOMOBILE', Loan Amount=None, Overdue=4,  Debt Record='73586',  Returned Cheque=5,  Dishonour of Bill=4),\n",
              " Row(Customer_ID='IB14501', Age=49, Gender='MALE', Occupation='CORPORATE OFFICER', Marital Status='MARRIED', Family Size=2, Income=48307, Expenditure=19509, Use Frequency=7, Loan Category='SHOPPING', Loan Amount=None, Overdue=5,  Debt Record='41490',  Returned Cheque=3,  Dishonour of Bill=3),\n",
              " Row(Customer_ID='IB14503', Age=56, Gender='MALE', Occupation='ASSISTANT MANAGER', Marital Status='MARRIED', Family Size=4, Income=83357, Expenditure=24925, Use Frequency=6, Loan Category='HOUSING', Loan Amount=None, Overdue=9,  Debt Record='32196',  Returned Cheque=2,  Dishonour of Bill=6),\n",
              " Row(Customer_ID='IB14505', Age=54, Gender='FEMALE', Occupation='DOCTOR', Marital Status='MARRIED', Family Size=7, Income=46921, Expenditure=21274, Use Frequency=7, Loan Category='ELECTRONICS', Loan Amount=None, Overdue=9,  Debt Record='14360',  Returned Cheque=1,  Dishonour of Bill=2),\n",
              " Row(Customer_ID='IB14509', Age=51, Gender='MALE', Occupation='PRODUCT ENGINEER', Marital Status='MARRIED', Family Size=6, Income=62387, Expenditure=20925, Use Frequency=4, Loan Category='AUTOMOBILE', Loan Amount=None, Overdue=7,  Debt Record='17412',  Returned Cheque=6,  Dishonour of Bill=9),\n",
              " Row(Customer_ID='IB14510', Age=24, Gender='MALE', Occupation='AIRPORT OFFICER', Marital Status='SINGLE', Family Size=4, Income=67445, Expenditure=23826, Use Frequency=8, Loan Category='HOME APPLIANCES', Loan Amount=None, Overdue=1,  Debt Record='79454',  Returned Cheque=6,  Dishonour of Bill=2),\n",
              " Row(Customer_ID='IB14516', Age=32, Gender='MALE', Occupation='SYSTEM MANAGER', Marital Status='MARRIED', Family Size=6, Income=74757, Expenditure=16763, Use Frequency=6, Loan Category='RESTAURANTS', Loan Amount=None, Overdue=6,  Debt Record='38067',  Returned Cheque=0,  Dishonour of Bill=5),\n",
              " Row(Customer_ID='IB14519', Age=54, Gender='FEMALE', Occupation='TEACHER', Marital Status='MARRIED', Family Size=6, Income=45916, Expenditure=17535, Use Frequency=5, Loan Category='COMPUTER SOFTWARES', Loan Amount=None, Overdue=1,  Debt Record='86160',  Returned Cheque=7,  Dishonour of Bill=9),\n",
              " Row(Customer_ID='IB14521', Age=45, Gender='MALE', Occupation='SOFTWARE ENGINEER', Marital Status='MARRIED', Family Size=5, Income=None, Expenditure=22583, Use Frequency=5, Loan Category='RESTAURANTS', Loan Amount=None, Overdue=3,  Debt Record='89679',  Returned Cheque=8,  Dishonour of Bill=5),\n",
              " Row(Customer_ID='IB14526', Age=59, Gender='MALE', Occupation='DATA ANALYST', Marital Status='MARRIED', Family Size=2, Income=80438, Expenditure=27773, Use Frequency=8, Loan Category='GOLD LOAN', Loan Amount=None, Overdue=6,  Debt Record='79727',  Returned Cheque=1,  Dishonour of Bill=4),\n",
              " Row(Customer_ID='IB14528', Age=29, Gender='FEMALE', Occupation='PROFESSOR', Marital Status='MARRIED', Family Size=4, Income=35247, Expenditure=25554, Use Frequency=4, Loan Category='EDUCATIONAL LOAN', Loan Amount=None, Overdue=2,  Debt Record='19014',  Returned Cheque=2,  Dishonour of Bill=2),\n",
              " Row(Customer_ID='IB14530', Age=34, Gender='MALE', Occupation='DENTIST', Marital Status='MARRIED', Family Size=7, Income=41247, Expenditure=20755, Use Frequency=6, Loan Category='GOLD LOAN', Loan Amount=None, Overdue=3,  Debt Record='80114',  Returned Cheque=2,  Dishonour of Bill=8),\n",
              " Row(Customer_ID='IB14533', Age=55, Gender='FEMALE', Occupation='TEACHER', Marital Status='MARRIED', Family Size=3, Income=34275, Expenditure=29967, Use Frequency=7, Loan Category='BOOK STORES', Loan Amount=None, Overdue=1,  Debt Record='39955',  Returned Cheque=1,  Dishonour of Bill=9),\n",
              " Row(Customer_ID='IB14537', Age=32, Gender='FEMALE', Occupation='NURSE', Marital Status='MARRIED', Family Size=5, Income=46841, Expenditure=None, Use Frequency=4, Loan Category='ELECTRONICS', Loan Amount=None, Overdue=3,  Debt Record='79728',  Returned Cheque=9,  Dishonour of Bill=3),\n",
              " Row(Customer_ID='IB14539', Age=54, Gender='MALE', Occupation='PRODUCT ENGINEER', Marital Status='MARRIED', Family Size=4, Income=32859, Expenditure=18441, Use Frequency=6, Loan Category='AUTOMOBILE', Loan Amount=None, Overdue=4,  Debt Record='42078',  Returned Cheque=8,  Dishonour of Bill=9),\n",
              " Row(Customer_ID='IB14541', Age=29, Gender='FEMALE', Occupation='TEACHER', Marital Status='MARRIED', Family Size=5, Income=75106, Expenditure=16733, Use Frequency=6, Loan Category='HOME APPLIANCES', Loan Amount=None, Overdue=7,  Debt Record='57254',  Returned Cheque=0,  Dishonour of Bill=3),\n",
              " Row(Customer_ID='IB14543', Age=44, Gender='MALE', Occupation='SOFTWARE ENGINEER', Marital Status='MARRIED', Family Size=4, Income=39512, Expenditure=26373, Use Frequency=7, Loan Category='RESTAURANTS', Loan Amount=None, Overdue=9,  Debt Record='48098',  Returned Cheque=6,  Dishonour of Bill=1),\n",
              " Row(Customer_ID='IB14552', Age=32, Gender='FEMALE', Occupation='DRIVER', Marital Status='MARRIED', Family Size=3, Income=42792, Expenditure=25854, Use Frequency=9, Loan Category='GOLD LOAN', Loan Amount=None, Overdue=3,  Debt Record='64906',  Returned Cheque=3,  Dishonour of Bill=5),\n",
              " Row(Customer_ID='IB14557', Age=54, Gender='FEMALE', Occupation='PILOT', Marital Status='MARRIED', Family Size=6, Income=98640, Expenditure=43705, Use Frequency=8, Loan Category='COMPUTER SOFTWARES', Loan Amount=None, Overdue=8,  Debt Record='20536',  Returned Cheque=5,  Dishonour of Bill=7),\n",
              " Row(Customer_ID='IB14559', Age=38, Gender='FEMALE', Occupation='TEACHER', Marital Status='MARRIED', Family Size=5, Income=82815, Expenditure=42751, Use Frequency=9, Loan Category='HOUSING', Loan Amount=None, Overdue=9,  Debt Record='87828',  Returned Cheque=4,  Dishonour of Bill=4),\n",
              " Row(Customer_ID='IB14563', Age=42, Gender='FEMALE', Occupation='NAVY', Marital Status='SINGLE', Family Size=3, Income=86184, Expenditure=47555, Use Frequency=3, Loan Category='AUTOMOBILE', Loan Amount=None, Overdue=5,  Debt Record='54235',  Returned Cheque=6,  Dishonour of Bill=1),\n",
              " Row(Customer_ID='IB14565', Age=33, Gender='FEMALE', Occupation='BUSINESS', Marital Status='MARRIED', Family Size=3, Income=45562, Expenditure=19473, Use Frequency=5, Loan Category='HOUSING', Loan Amount=None, Overdue=8,  Debt Record='18187',  Returned Cheque=5,  Dishonour of Bill=3),\n",
              " Row(Customer_ID='IB14566', Age=30, Gender='MALE', Occupation='CHARTERED APPRAISER', Marital Status='MARRIED', Family Size=2, Income=81225, Expenditure=29463, Use Frequency=4, Loan Category='GOLD LOAN', Loan Amount=None, Overdue=3,  Debt Record='30686',  Returned Cheque=6,  Dishonour of Bill=1),\n",
              " Row(Customer_ID='IB14568', Age=44, Gender='FEMALE', Occupation='TECHNICIAN', Marital Status='MARRIED', Family Size=2, Income=76379, Expenditure=28348, Use Frequency=2, Loan Category='COMPUTER SOFTWARES', Loan Amount=None, Overdue=7,  Debt Record='32127',  Returned Cheque=9,  Dishonour of Bill=1),\n",
              " Row(Customer_ID='IB14571', Age=33, Gender='MALE', Occupation='POLICE', Marital Status='MARRIED', Family Size=6, Income=33763, Expenditure=31191, Use Frequency=8, Loan Category='AUTOMOBILE', Loan Amount=None, Overdue=4,  Debt Record='49153',  Returned Cheque=9,  Dishonour of Bill=3),\n",
              " Row(Customer_ID='IB14574', Age=36, Gender='FEMALE', Occupation='DOCTOR', Marital Status='MARRIED', Family Size=3, Income=66820, Expenditure=22222, Use Frequency=6, Loan Category='BUSINESS', Loan Amount=None, Overdue=1,  Debt Record='44979',  Returned Cheque=4,  Dishonour of Bill=4),\n",
              " Row(Customer_ID='IB14575', Age=28, Gender='MALE', Occupation='BUSINESS', Marital Status='MARRIED', Family Size=5, Income=35407, Expenditure=21876, Use Frequency=9, Loan Category='GOLD LOAN', Loan Amount=None, Overdue=4,  Debt Record='56058',  Returned Cheque=0,  Dishonour of Bill=8),\n",
              " Row(Customer_ID='IB14579', Age=58, Gender='MALE', Occupation='CHARTERED APPRAISER', Marital Status='MARRIED', Family Size=7, Income=65630, Expenditure=30346, Use Frequency=2, Loan Category='RESTAURANTS', Loan Amount=None, Overdue=4,  Debt Record='49538',  Returned Cheque=2,  Dishonour of Bill=3),\n",
              " Row(Customer_ID='IB14581', Age=41, Gender='MALE', Occupation='FARMER', Marital Status='SINGLE', Family Size=5, Income=76294, Expenditure=45744, Use Frequency=8, Loan Category='BUILDING', Loan Amount=None, Overdue=9,  Debt Record='23866',  Returned Cheque=8,  Dishonour of Bill=9),\n",
              " Row(Customer_ID='IB14583', Age=40, Gender='MALE', Occupation='CLERK', Marital Status='MARRIED', Family Size=7, Income=78409, Expenditure=18566, Use Frequency=6, Loan Category='TRAVELLING', Loan Amount=None, Overdue=2,  Debt Record='15938',  Returned Cheque=7,  Dishonour of Bill=3),\n",
              " Row(Customer_ID='IB14585', Age=52, Gender='FEMALE', Occupation='PILOT', Marital Status='SINGLE', Family Size=7, Income=91853, Expenditure=39629, Use Frequency=4, Loan Category='RESTAURANT', Loan Amount=None, Overdue=6,  Debt Record='85269',  Returned Cheque=4,  Dishonour of Bill=8),\n",
              " Row(Customer_ID='IB14589', Age=56, Gender='MALE', Occupation='FARMER', Marital Status='SINGLE', Family Size=3, Income=51162, Expenditure=12591, Use Frequency=9, Loan Category='AGRICULTURE', Loan Amount=None, Overdue=3,  Debt Record='75535',  Returned Cheque=2,  Dishonour of Bill=1),\n",
              " Row(Customer_ID='IB14590', Age=58, Gender='MALE', Occupation='DRIVER', Marital Status='SINGLE', Family Size=5, Income=45457, Expenditure=25922, Use Frequency=6, Loan Category='GOLD LOAN', Loan Amount=None, Overdue=4,  Debt Record='30211',  Returned Cheque=1,  Dishonour of Bill=6),\n",
              " Row(Customer_ID='IB14593', Age=40, Gender='MALE', Occupation='DENTIST', Marital Status='SINGLE', Family Size=7, Income=49744, Expenditure=23564, Use Frequency=5, Loan Category='COMPUTER SOFTWARES', Loan Amount=None, Overdue=4,  Debt Record='36588',  Returned Cheque=3,  Dishonour of Bill=2),\n",
              " Row(Customer_ID='IB14594', Age=32, Gender='FEMALE', Occupation='NAVY', Marital Status='SINGLE', Family Size=7, Income=78777, Expenditure=34159, Use Frequency=7, Loan Category='AUTOMOBILE', Loan Amount=None, Overdue=6,  Debt Record='37436',  Returned Cheque=2,  Dishonour of Bill=9),\n",
              " Row(Customer_ID='IB14597', Age=28, Gender='MALE', Occupation='DIETICIAN', Marital Status='MARRIED', Family Size=6, Income=55617, Expenditure=22596, Use Frequency=9, Loan Category='RESTAURANTS', Loan Amount=None, Overdue=7,  Debt Record='32176',  Returned Cheque=0,  Dishonour of Bill=6),\n",
              " Row(Customer_ID='IB14599', Age=26, Gender='FEMALE', Occupation='TECHNICIAN', Marital Status='MARRIED', Family Size=6, Income=41819, Expenditure=23703, Use Frequency=5, Loan Category='GOLD LOAN', Loan Amount=None, Overdue=3,  Debt Record='16378',  Returned Cheque=9,  Dishonour of Bill=5),\n",
              " Row(Customer_ID='IB14601', Age=44, Gender='MALE', Occupation='POLICE', Marital Status='SINGLE', Family Size=5, Income=71214, Expenditure=12463, Use Frequency=8, Loan Category='RESTAURANTS', Loan Amount=None, Overdue=1,  Debt Record='70423',  Returned Cheque=2,  Dishonour of Bill=8),\n",
              " Row(Customer_ID='IB14602', Age=39, Gender='FEMALE', Occupation='BANK MANAGER', Marital Status='SINGLE', Family Size=6, Income=55639, Expenditure=23775, Use Frequency=9, Loan Category='HOUSING', Loan Amount=None, Overdue=9,  Debt Record='80269',  Returned Cheque=3,  Dishonour of Bill=8),\n",
              " Row(Customer_ID='IB14604', Age=52, Gender='MALE', Occupation='ACCOUNTANT', Marital Status='SINGLE', Family Size=7, Income=46086, Expenditure=27201, Use Frequency=9, Loan Category='AGRICULTURE', Loan Amount=None, Overdue=7,  Debt Record='29654',  Returned Cheque=5,  Dishonour of Bill=8),\n",
              " Row(Customer_ID='IB14607', Age=47, Gender='MALE', Occupation='NAVY', Marital Status='MARRIED', Family Size=5, Income=70823, Expenditure=23243, Use Frequency=2, Loan Category='DINNING', Loan Amount=None, Overdue=6,  Debt Record='37626',  Returned Cheque=5,  Dishonour of Bill=0),\n",
              " Row(Customer_ID='IB14609', Age=29, Gender='FEMALE', Occupation='PILOT', Marital Status='MARRIED', Family Size=4, Income=63745, Expenditure=17148, Use Frequency=2, Loan Category='AUTOMOBILE', Loan Amount=None, Overdue=8,  Debt Record='74279',  Returned Cheque=7,  Dishonour of Bill=9),\n",
              " Row(Customer_ID='IB14611', Age=49, Gender='MALE', Occupation='AGRICULTURAL ENGINEER', Marital Status='SINGLE', Family Size=7, Income=81960, Expenditure=14724, Use Frequency=4, Loan Category='BUSINESS', Loan Amount=None, Overdue=8,  Debt Record='20801',  Returned Cheque=9,  Dishonour of Bill=3),\n",
              " Row(Customer_ID='IB14615', Age=59, Gender='MALE', Occupation='DENTIST', Marital Status='MARRIED', Family Size=5, Income=81507, Expenditure=25958, Use Frequency=3, Loan Category='AGRICULTURE', Loan Amount=None, Overdue=1,  Debt Record='63833',  Returned Cheque=8,  Dishonour of Bill=7),\n",
              " Row(Customer_ID='IB14617', Age=39, Gender='FEMALE', Occupation='PILOT', Marital Status='SINGLE', Family Size=2, Income=84553, Expenditure=36744, Use Frequency=3, Loan Category='GOLD LOAN', Loan Amount=None, Overdue=4,  Debt Record='34551',  Returned Cheque=5,  Dishonour of Bill=0),\n",
              " Row(Customer_ID='IB14619', Age=43, Gender='MALE', Occupation='TEACHER', Marital Status='SINGLE', Family Size=4, Income=35020, Expenditure=26286, Use Frequency=8, Loan Category='SHOPPING', Loan Amount=None, Overdue=9,  Debt Record='22862',  Returned Cheque=3,  Dishonour of Bill=3),\n",
              " Row(Customer_ID='IB14620', Age=41, Gender='FEMALE', Occupation='ARMY', Marital Status='MARRIED', Family Size=5, Income=93474, Expenditure=32845, Use Frequency=4, Loan Category='GOLD LOAN', Loan Amount=None, Overdue=6,  Debt Record='63046',  Returned Cheque=4,  Dishonour of Bill=6),\n",
              " Row(Customer_ID='IB14623', Age=39, Gender='MALE', Occupation='DATA ENGINEER', Marital Status='SINGLE', Family Size=2, Income=74264, Expenditure=37747, Use Frequency=5, Loan Category='RESTAURANTS', Loan Amount=None, Overdue=1,  Debt Record='55582',  Returned Cheque=1,  Dishonour of Bill=9),\n",
              " Row(Customer_ID='IB14626', Age=53, Gender='MALE', Occupation='SOFTWARE ENGINEER', Marital Status='MARRIED', Family Size=2, Income=52168, Expenditure=29991, Use Frequency=2, Loan Category='GOLD LOAN', Loan Amount=None, Overdue=7,  Debt Record='20972',  Returned Cheque=9,  Dishonour of Bill=5),\n",
              " Row(Customer_ID='IB14629', Age=47, Gender='FEMALE', Occupation='DOCTOR', Marital Status='SINGLE', Family Size=2, Income=86072, Expenditure=22248, Use Frequency=2, Loan Category='GOLD LOAN', Loan Amount=None, Overdue=4,  Debt Record='63105',  Returned Cheque=7,  Dishonour of Bill=2),\n",
              " Row(Customer_ID='IB14631', Age=49, Gender='MALE', Occupation='CLERK', Marital Status='MARRIED', Family Size=3, Income=57807, Expenditure=27179, Use Frequency=4, Loan Category='GOLD LOAN', Loan Amount=None, Overdue=5,  Debt Record='23536',  Returned Cheque=3,  Dishonour of Bill=2),\n",
              " Row(Customer_ID='IB14633', Age=30, Gender='FEMALE', Occupation='SOFTWARE ENGINEER', Marital Status='MARRIED', Family Size=7, Income=62522, Expenditure=14748, Use Frequency=9, Loan Category='COMPUTER SOFTWARES', Loan Amount=None, Overdue=2,  Debt Record='44000',  Returned Cheque=4,  Dishonour of Bill=6),\n",
              " Row(Customer_ID='IB14635', Age=51, Gender='MALE', Occupation='TEACHER', Marital Status='SINGLE', Family Size=3, Income=69961, Expenditure=27078, Use Frequency=8, Loan Category='AUTOMOBILE', Loan Amount=None, Overdue=7,  Debt Record='13594',  Returned Cheque=1,  Dishonour of Bill=9),\n",
              " Row(Customer_ID='IB14637', Age=45, Gender='FEMALE', Occupation='FARMER', Marital Status='SINGLE', Family Size=5, Income=62304, Expenditure=34392, Use Frequency=5, Loan Category='RESTAURANT', Loan Amount=None, Overdue=9,  Debt Record='12990',  Returned Cheque=8,  Dishonour of Bill=1),\n",
              " Row(Customer_ID='IB14639', Age=40, Gender='FEMALE', Occupation='DOCTOR', Marital Status='MARRIED', Family Size=7, Income=63495, Expenditure=12411, Use Frequency=3, Loan Category='SHOPPING', Loan Amount=None, Overdue=6,  Debt Record='74273',  Returned Cheque=4,  Dishonour of Bill=8),\n",
              " Row(Customer_ID='IB14641', Age=42, Gender='FEMALE', Occupation='FARMER', Marital Status='MARRIED', Family Size=5, Income=96681, Expenditure=34686, Use Frequency=6, Loan Category='TRAVELLING', Loan Amount=None, Overdue=8,  Debt Record='54198',  Returned Cheque=7,  Dishonour of Bill=4),\n",
              " Row(Customer_ID='IB14643', Age=42, Gender='FEMALE', Occupation='EXECUTIVE', Marital Status='MARRIED', Family Size=4, Income=63078, Expenditure=31903, Use Frequency=3, Loan Category='EDUCATIONAL LOAN', Loan Amount=None, Overdue=4,  Debt Record='30314',  Returned Cheque=6,  Dishonour of Bill=9),\n",
              " Row(Customer_ID='IB14645', Age=28, Gender='MALE', Occupation='DIETICIAN', Marital Status='SINGLE', Family Size=3, Income=90863, Expenditure=16863, Use Frequency=5, Loan Category='BUSINESS', Loan Amount=None, Overdue=3,  Debt Record='32059',  Returned Cheque=2,  Dishonour of Bill=4),\n",
              " Row(Customer_ID='IB14649', Age=42, Gender='MALE', Occupation='CLERK', Marital Status='MARRIED', Family Size=2, Income=34447, Expenditure=18409, Use Frequency=2, Loan Category='AUTOMOBILE', Loan Amount=None, Overdue=6,  Debt Record='54143',  Returned Cheque=3,  Dishonour of Bill=8),\n",
              " Row(Customer_ID='IB14652', Age=25, Gender='MALE', Occupation='ARMY', Marital Status='MARRIED', Family Size=3, Income=95789, Expenditure=21107, Use Frequency=2, Loan Category='GOLD LOAN', Loan Amount=None, Overdue=2,  Debt Record='73518',  Returned Cheque=5,  Dishonour of Bill=3),\n",
              " Row(Customer_ID='IB14653', Age=46, Gender='FEMALE', Occupation='BUSINESS', Marital Status='MARRIED', Family Size=4, Income=46477, Expenditure=43292, Use Frequency=8, Loan Category='HOUSING', Loan Amount=None, Overdue=6,  Debt Record='70231',  Returned Cheque=0,  Dishonour of Bill=2),\n",
              " Row(Customer_ID='IB14655', Age=52, Gender='FEMALE', Occupation='BANK MANAGER', Marital Status='SINGLE', Family Size=3, Income=68918, Expenditure=30676, Use Frequency=5, Loan Category='AUTOMOBILE', Loan Amount=None, Overdue=5,  Debt Record='16997',  Returned Cheque=5,  Dishonour of Bill=4),\n",
              " Row(Customer_ID='IB14657', Age=44, Gender='FEMALE', Occupation='NAVY', Marital Status='SINGLE', Family Size=2, Income=86269, Expenditure=25280, Use Frequency=8, Loan Category='GOLD LOAN', Loan Amount=None, Overdue=4,  Debt Record='80308',  Returned Cheque=0,  Dishonour of Bill=7),\n",
              " Row(Customer_ID='IB14659', Age=33, Gender='FEMALE', Occupation='DRIVER', Marital Status='SINGLE', Family Size=6, Income=48332, Expenditure=20763, Use Frequency=8, Loan Category='RESTAURANT', Loan Amount=None, Overdue=7,  Debt Record='66030',  Returned Cheque=7,  Dishonour of Bill=3),\n",
              " Row(Customer_ID='IB14663', Age=26, Gender='MALE', Occupation='PILOT', Marital Status='MARRIED', Family Size=2, Income=81714, Expenditure=43790, Use Frequency=2, Loan Category='GOLD LOAN', Loan Amount=None, Overdue=4,  Debt Record='58061',  Returned Cheque=6,  Dishonour of Bill=9),\n",
              " Row(Customer_ID='IB14664', Age=27, Gender='FEMALE', Occupation='NAVY', Marital Status='MARRIED', Family Size=7, Income=63656, Expenditure=19910, Use Frequency=3, Loan Category='BUSINESS', Loan Amount=None, Overdue=6,  Debt Record='54523',  Returned Cheque=7,  Dishonour of Bill=8),\n",
              " Row(Customer_ID='IB14667', Age=30, Gender='MALE', Occupation='AGRICULTURAL ENGINEER', Marital Status='SINGLE', Family Size=6, Income=85289, Expenditure=49481, Use Frequency=3, Loan Category='HOUSING', Loan Amount=None, Overdue=1,  Debt Record='21091',  Returned Cheque=3,  Dishonour of Bill=3),\n",
              " Row(Customer_ID='IB14671', Age=27, Gender='FEMALE', Occupation='DIETICIAN', Marital Status='MARRIED', Family Size=6, Income=79079, Expenditure=32351, Use Frequency=9, Loan Category='GOLD LOAN', Loan Amount=None, Overdue=9,  Debt Record='75523',  Returned Cheque=2,  Dishonour of Bill=5),\n",
              " Row(Customer_ID='IB14673', Age=28, Gender='FEMALE', Occupation='TEACHER', Marital Status='MARRIED', Family Size=4, Income=41673, Expenditure=19620, Use Frequency=3, Loan Category='COMPUTER SOFTWARES', Loan Amount=None, Overdue=4,  Debt Record='43174',  Returned Cheque=2,  Dishonour of Bill=8),\n",
              " Row(Customer_ID='IB14675', Age=56, Gender='MALE', Occupation='AGRICULTURAL ENGINEER', Marital Status='MARRIED', Family Size=4, Income=88768, Expenditure=23866, Use Frequency=3, Loan Category='AGRICULTURE', Loan Amount=None, Overdue=5,  Debt Record='31603',  Returned Cheque=1,  Dishonour of Bill=9),\n",
              " Row(Customer_ID='IB14679', Age=37, Gender='MALE', Occupation='SOFTWARE ENGINEER', Marital Status='MARRIED', Family Size=4, Income=80720, Expenditure=34362, Use Frequency=8, Loan Category='RESTAURANTS', Loan Amount=None, Overdue=7,  Debt Record='85688',  Returned Cheque=3,  Dishonour of Bill=1),\n",
              " Row(Customer_ID='IB14681', Age=40, Gender='MALE', Occupation='AGRICULTURAL ENGINEER', Marital Status='MARRIED', Family Size=7, Income=98586, Expenditure=47790, Use Frequency=2, Loan Category='GOLD LOAN', Loan Amount=None, Overdue=6,  Debt Record='75334',  Returned Cheque=2,  Dishonour of Bill=0),\n",
              " Row(Customer_ID='IB14682', Age=38, Gender='FEMALE', Occupation='DATA ENGINEER', Marital Status='MARRIED', Family Size=3, Income=47668, Expenditure=35078, Use Frequency=2, Loan Category='COMPUTER SOFTWARES', Loan Amount=None, Overdue=2,  Debt Record='18320',  Returned Cheque=4,  Dishonour of Bill=1),\n",
              " Row(Customer_ID='IB14685', Age=26, Gender='MALE', Occupation='BANK MANAGER', Marital Status='SINGLE', Family Size=5, Income=29565, Expenditure=19490, Use Frequency=9, Loan Category='HOUSING', Loan Amount=None, Overdue=9,  Debt Record='72653',  Returned Cheque=4,  Dishonour of Bill=6),\n",
              " Row(Customer_ID='IB14686', Age=59, Gender='MALE', Occupation='BUSINESS', Marital Status='MARRIED', Family Size=6, Income=37585, Expenditure=36062, Use Frequency=4, Loan Category='GOLD LOAN', Loan Amount=None, Overdue=1,  Debt Record='13765',  Returned Cheque=9,  Dishonour of Bill=0),\n",
              " Row(Customer_ID='IB14689', Age=47, Gender='FEMALE', Occupation='CLERK', Marital Status='MARRIED', Family Size=3, Income=81182, Expenditure=25773, Use Frequency=6, Loan Category='HOUSING', Loan Amount=None, Overdue=3,  Debt Record='41755',  Returned Cheque=0,  Dishonour of Bill=6),\n",
              " Row(Customer_ID='IB14691', Age=43, Gender='FEMALE', Occupation='POLICE', Marital Status='SINGLE', Family Size=5, Income=38501, Expenditure=48744, Use Frequency=5, Loan Category='GOLD LOAN', Loan Amount=None, Overdue=2,  Debt Record='55397',  Returned Cheque=9,  Dishonour of Bill=0),\n",
              " Row(Customer_ID='IB14693', Age=27, Gender='MALE', Occupation='DOCTOR', Marital Status='SINGLE', Family Size=7, Income=28366, Expenditure=29258, Use Frequency=2, Loan Category='GOLD LOAN', Loan Amount=None, Overdue=9,  Debt Record='20611',  Returned Cheque=5,  Dishonour of Bill=5),\n",
              " Row(Customer_ID='IB14695', Age=31, Gender='FEMALE', Occupation='DRIVER', Marital Status='MARRIED', Family Size=2, Income=35558, Expenditure=16169, Use Frequency=2, Loan Category='GOLD LOAN', Loan Amount=None, Overdue=4,  Debt Record='48649',  Returned Cheque=7,  Dishonour of Bill=9),\n",
              " Row(Customer_ID='IB14697', Age=39, Gender='FEMALE', Occupation='NAVY', Marital Status='SINGLE', Family Size=4, Income=77699, Expenditure=12482, Use Frequency=3, Loan Category='AUTOMOBILE', Loan Amount=None, Overdue=9,  Debt Record='57206',  Returned Cheque=2,  Dishonour of Bill=8),\n",
              " Row(Customer_ID='IB14699', Age=45, Gender='FEMALE', Occupation='SOFTWARE ENGINEER', Marital Status='SINGLE', Family Size=4, Income=98199, Expenditure=43464, Use Frequency=9, Loan Category='ELECTRONICS', Loan Amount=None, Overdue=3,  Debt Record='86384',  Returned Cheque=4,  Dishonour of Bill=8),\n",
              " Row(Customer_ID='IB14702', Age=59, Gender='FEMALE', Occupation='NAVY', Marital Status='SINGLE', Family Size=2, Income=71171, Expenditure=26078, Use Frequency=5, Loan Category='RESTAURANT', Loan Amount=None, Overdue=6,  Debt Record='58510',  Returned Cheque=8,  Dishonour of Bill=7),\n",
              " Row(Customer_ID='IB14704', Age=48, Gender='MALE', Occupation='EXECUTIVE', Marital Status='SINGLE', Family Size=2, Income=57460, Expenditure=48959, Use Frequency=2, Loan Category='BUSINESS', Loan Amount=None, Overdue=5,  Debt Record='72858',  Returned Cheque=1,  Dishonour of Bill=5),\n",
              " Row(Customer_ID='IB14706', Age=30, Gender='FEMALE', Occupation='TEACHER', Marital Status='SINGLE', Family Size=5, Income=51564, Expenditure=20097, Use Frequency=2, Loan Category='AUTOMOBILE', Loan Amount=None, Overdue=2,  Debt Record='56157',  Returned Cheque=2,  Dishonour of Bill=7),\n",
              " Row(Customer_ID='IB14707', Age=26, Gender='FEMALE', Occupation='BUSINESS', Marital Status='MARRIED', Family Size=3, Income=51508, Expenditure=22048, Use Frequency=9, Loan Category='GOLD LOAN', Loan Amount=None, Overdue=8,  Debt Record='40479',  Returned Cheque=0,  Dishonour of Bill=9),\n",
              " Row(Customer_ID='IB14709', Age=39, Gender='FEMALE', Occupation='BUSINESS', Marital Status='MARRIED', Family Size=6, Income=63769, Expenditure=33186, Use Frequency=6, Loan Category='GOLD LOAN', Loan Amount=None, Overdue=8,  Debt Record='81465',  Returned Cheque=0,  Dishonour of Bill=3),\n",
              " Row(Customer_ID='IB14711', Age=28, Gender='MALE', Occupation='SOFTWARE ENGINEER', Marital Status='MARRIED', Family Size=2, Income=71637, Expenditure=41083, Use Frequency=3, Loan Category='EDUCATIONAL LOAN', Loan Amount=None, Overdue=6,  Debt Record='23537',  Returned Cheque=8,  Dishonour of Bill=9),\n",
              " Row(Customer_ID='IB14714', Age=43, Gender='FEMALE', Occupation='SOFTWARE ENGINEER', Marital Status='SINGLE', Family Size=5, Income=86970, Expenditure=30379, Use Frequency=2, Loan Category='GOLD LOAN', Loan Amount=None, Overdue=9,  Debt Record='13994',  Returned Cheque=5,  Dishonour of Bill=7),\n",
              " Row(Customer_ID='IB14716', Age=26, Gender='MALE', Occupation='DIETICIAN', Marital Status='SINGLE', Family Size=3, Income=92425, Expenditure=43086, Use Frequency=2, Loan Category='RESTAURANTS', Loan Amount=None, Overdue=4,  Debt Record='61227',  Returned Cheque=5,  Dishonour of Bill=2),\n",
              " Row(Customer_ID='IB14718', Age=47, Gender='MALE', Occupation='DOCTOR', Marital Status='SINGLE', Family Size=4, Income=77580, Expenditure=None, Use Frequency=3, Loan Category='SHOPPING', Loan Amount=None, Overdue=9,  Debt Record='84824',  Returned Cheque=8,  Dishonour of Bill=9),\n",
              " Row(Customer_ID='IB14719', Age=42, Gender='FEMALE', Occupation='PILOT', Marital Status='SINGLE', Family Size=4, Income=75993, Expenditure=22164, Use Frequency=5, Loan Category='DINNING', Loan Amount=None, Overdue=3,  Debt Record='17476',  Returned Cheque=4,  Dishonour of Bill=7),\n",
              " Row(Customer_ID='IB14721', Age=30, Gender='MALE', Occupation='PILOT', Marital Status='SINGLE', Family Size=2, Income=76333, Expenditure=37037, Use Frequency=3, Loan Category='BUSINESS', Loan Amount=None, Overdue=2,  Debt Record='34044',  Returned Cheque=3,  Dishonour of Bill=1),\n",
              " Row(Customer_ID='IB14722', Age=31, Gender='FEMALE', Occupation='SOFTWARE ENGINEER', Marital Status='MARRIED', Family Size=2, Income=69663, Expenditure=23569, Use Frequency=4, Loan Category='BUSINESS', Loan Amount=None, Overdue=9,  Debt Record='47624',  Returned Cheque=9,  Dishonour of Bill=0),\n",
              " Row(Customer_ID='IB14725', Age=34, Gender='MALE', Occupation='SOFTWARE ENGINEER', Marital Status='MARRIED', Family Size=7, Income=49568, Expenditure=44010, Use Frequency=9, Loan Category='RESTAURANT', Loan Amount=None, Overdue=2,  Debt Record='37354',  Returned Cheque=9,  Dishonour of Bill=3),\n",
              " Row(Customer_ID='IB14727', Age=53, Gender='FEMALE', Occupation='DATA ENGINEER', Marital Status='SINGLE', Family Size=2, Income=84862, Expenditure=12102, Use Frequency=4, Loan Category='RESTAURANT', Loan Amount=None, Overdue=9,  Debt Record='46408',  Returned Cheque=4,  Dishonour of Bill=2),\n",
              " Row(Customer_ID='IB14729', Age=58, Gender='MALE', Occupation='CHARTERED APPRAISER', Marital Status='SINGLE', Family Size=5, Income=70952, Expenditure=15709, Use Frequency=9, Loan Category='RESTAURANT', Loan Amount=None, Overdue=5,  Debt Record='20711',  Returned Cheque=5,  Dishonour of Bill=4),\n",
              " Row(Customer_ID='IB14731', Age=45, Gender='MALE', Occupation='BUSINESS', Marital Status='SINGLE', Family Size=7, Income=34444, Expenditure=45690, Use Frequency=8, Loan Category='SHOPPING', Loan Amount=None, Overdue=5,  Debt Record='15020',  Returned Cheque=2,  Dishonour of Bill=4),\n",
              " Row(Customer_ID='IB14733', Age=49, Gender='FEMALE', Occupation='TEACHER', Marital Status='MARRIED', Family Size=4, Income=48192, Expenditure=36581, Use Frequency=5, Loan Category='RESTAURANT', Loan Amount=None, Overdue=7,  Debt Record='21270',  Returned Cheque=6,  Dishonour of Bill=9),\n",
              " Row(Customer_ID='IB14736', Age=38, Gender='FEMALE', Occupation='ACCOUNTANT', Marital Status='SINGLE', Family Size=5, Income=75290, Expenditure=35549, Use Frequency=9, Loan Category='HOUSING', Loan Amount=None, Overdue=1,  Debt Record='71187',  Returned Cheque=7,  Dishonour of Bill=2),\n",
              " Row(Customer_ID='IB14737', Age=54, Gender='FEMALE', Occupation='POLICE', Marital Status='SINGLE', Family Size=6, Income=62641, Expenditure=36687, Use Frequency=4, Loan Category='HOUSING', Loan Amount=None, Overdue=2,  Debt Record='26901',  Returned Cheque=1,  Dishonour of Bill=3),\n",
              " Row(Customer_ID='IB14740', Age=52, Gender='FEMALE', Occupation='CHARTERED APPRAISER', Marital Status='SINGLE', Family Size=6, Income=65023, Expenditure=49118, Use Frequency=7, Loan Category='RESTAURANTS', Loan Amount=None, Overdue=7,  Debt Record='45808',  Returned Cheque=9,  Dishonour of Bill=2),\n",
              " Row(Customer_ID='IB14741', Age=34, Gender='FEMALE', Occupation='CLERK', Marital Status='SINGLE', Family Size=6, Income=47550, Expenditure=25286, Use Frequency=6, Loan Category='HOUSING', Loan Amount=None, Overdue=1,  Debt Record='49464',  Returned Cheque=0,  Dishonour of Bill=4),\n",
              " Row(Customer_ID='IB14743', Age=44, Gender='MALE', Occupation='TEACHER', Marital Status='MARRIED', Family Size=2, Income=65610, Expenditure=46683, Use Frequency=9, Loan Category='BUSINESS', Loan Amount=None, Overdue=7,  Debt Record='71913',  Returned Cheque=1,  Dishonour of Bill=3),\n",
              " Row(Customer_ID='IB14745', Age=26, Gender='FEMALE', Occupation='CLERK', Marital Status='MARRIED', Family Size=6, Income=40883, Expenditure=14258, Use Frequency=6, Loan Category='BUSINESS', Loan Amount=None, Overdue=5,  Debt Record='15947',  Returned Cheque=8,  Dishonour of Bill=8),\n",
              " Row(Customer_ID='IB14747', Age=52, Gender='MALE', Occupation='DOCTOR', Marital Status='MARRIED', Family Size=2, Income=51829, Expenditure=32429, Use Frequency=6, Loan Category='BUSINESS', Loan Amount=None, Overdue=8,  Debt Record='16469',  Returned Cheque=2,  Dishonour of Bill=6),\n",
              " Row(Customer_ID='IB14749', Age=28, Gender='FEMALE', Occupation='DOCTOR', Marital Status='MARRIED', Family Size=7, Income=62600, Expenditure=22775, Use Frequency=9, Loan Category='HOUSING', Loan Amount=None, Overdue=8,  Debt Record='28527',  Returned Cheque=4,  Dishonour of Bill=4),\n",
              " Row(Customer_ID='IB14751', Age=27, Gender='FEMALE', Occupation='DIETICIAN', Marital Status='SINGLE', Family Size=2, Income=84112, Expenditure=17725, Use Frequency=7, Loan Category='BUSINESS', Loan Amount=None, Overdue=6,  Debt Record='44634',  Returned Cheque=5,  Dishonour of Bill=6),\n",
              " Row(Customer_ID='IB14753', Age=59, Gender='FEMALE', Occupation='CHARTERED APPRAISER', Marital Status='SINGLE', Family Size=5, Income=74179, Expenditure=31530, Use Frequency=7, Loan Category='BUSINESS', Loan Amount=None, Overdue=4,  Debt Record='66854',  Returned Cheque=2,  Dishonour of Bill=6),\n",
              " Row(Customer_ID='IB14755', Age=35, Gender='FEMALE', Occupation='ACCOUNTANT', Marital Status='MARRIED', Family Size=4, Income=51568, Expenditure=29607, Use Frequency=8, Loan Category='HOUSING', Loan Amount=None, Overdue=2,  Debt Record='33446',  Returned Cheque=0,  Dishonour of Bill=1),\n",
              " Row(Customer_ID='IB14758', Age=41, Gender='MALE', Occupation='TEACHER', Marital Status='SINGLE', Family Size=2, Income=46182, Expenditure=33404, Use Frequency=9, Loan Category='RESTAURANTS', Loan Amount=None, Overdue=4,  Debt Record='75552',  Returned Cheque=2,  Dishonour of Bill=9),\n",
              " Row(Customer_ID='IB14761', Age=26, Gender='FEMALE', Occupation='BUSINESS', Marital Status='SINGLE', Family Size=6, Income=74775, Expenditure=27970, Use Frequency=8, Loan Category='HOUSING', Loan Amount=None, Overdue=2,  Debt Record='47103',  Returned Cheque=2,  Dishonour of Bill=5),\n",
              " Row(Customer_ID='IB14763', Age=37, Gender='MALE', Occupation='CLERK', Marital Status='MARRIED', Family Size=7, Income=42751, Expenditure=21265, Use Frequency=3, Loan Category='RESTAURANT', Loan Amount=None, Overdue=7,  Debt Record='70319',  Returned Cheque=7,  Dishonour of Bill=2),\n",
              " Row(Customer_ID='IB14765', Age=34, Gender='MALE', Occupation='ARMY', Marital Status='SINGLE', Family Size=6, Income=72271, Expenditure=32082, Use Frequency=4, Loan Category='HOUSING', Loan Amount=None, Overdue=7,  Debt Record='19300',  Returned Cheque=2,  Dishonour of Bill=7),\n",
              " Row(Customer_ID='IB14766', Age=27, Gender='FEMALE', Occupation='EXECUTIVE', Marital Status='SINGLE', Family Size=5, Income=78975, Expenditure=49225, Use Frequency=2, Loan Category='BUSINESS', Loan Amount=None, Overdue=6,  Debt Record='64563',  Returned Cheque=1,  Dishonour of Bill=5),\n",
              " Row(Customer_ID='IB14769', Age=41, Gender='MALE', Occupation='NAVY', Marital Status='MARRIED', Family Size=4, Income=82458, Expenditure=44055, Use Frequency=7, Loan Category='DINNING', Loan Amount=None, Overdue=6,  Debt Record='40103',  Returned Cheque=5,  Dishonour of Bill=3),\n",
              " Row(Customer_ID='IB14771', Age=44, Gender='FEMALE', Occupation='POLICE', Marital Status='SINGLE', Family Size=4, Income=80769, Expenditure=41529, Use Frequency=3, Loan Category='AGRICULTURE', Loan Amount=None, Overdue=3,  Debt Record='74975',  Returned Cheque=5,  Dishonour of Bill=1),\n",
              " Row(Customer_ID='IB14773', Age=45, Gender='FEMALE', Occupation='DENTIST', Marital Status='SINGLE', Family Size=4, Income=46196, Expenditure=26603, Use Frequency=9, Loan Category='COMPUTER SOFTWARES', Loan Amount=None, Overdue=7,  Debt Record='60537',  Returned Cheque=1,  Dishonour of Bill=6),\n",
              " Row(Customer_ID='IB14775', Age=58, Gender='MALE', Occupation='POLICE', Marital Status='MARRIED', Family Size=2, Income=57319, Expenditure=30980, Use Frequency=6, Loan Category='HOUSING', Loan Amount=None, Overdue=7,  Debt Record='57758',  Returned Cheque=9,  Dishonour of Bill=2),\n",
              " Row(Customer_ID='IB14778', Age=43, Gender='FEMALE', Occupation='DATA ENGINEER', Marital Status='SINGLE', Family Size=6, Income=42827, Expenditure=36410, Use Frequency=5, Loan Category='RESTAURANT', Loan Amount=None, Overdue=2,  Debt Record='75739',  Returned Cheque=8,  Dishonour of Bill=6),\n",
              " Row(Customer_ID='IB14779', Age=43, Gender='FEMALE', Occupation='CLERK', Marital Status='MARRIED', Family Size=3, Income=None, Expenditure=24020, Use Frequency=5, Loan Category='DINNING', Loan Amount=None, Overdue=5,  Debt Record='34322',  Returned Cheque=6,  Dishonour of Bill=6),\n",
              " Row(Customer_ID='IB14781', Age=51, Gender='FEMALE', Occupation='TEACHER', Marital Status='SINGLE', Family Size=2, Income=77986, Expenditure=47143, Use Frequency=3, Loan Category='BUSINESS', Loan Amount=None, Overdue=6,  Debt Record='55757',  Returned Cheque=0,  Dishonour of Bill=4),\n",
              " Row(Customer_ID='IB14783', Age=39, Gender='FEMALE', Occupation='FARMER', Marital Status='MARRIED', Family Size=5, Income=73656, Expenditure=18108, Use Frequency=3, Loan Category='HOUSING', Loan Amount=None, Overdue=8,  Debt Record='84200',  Returned Cheque=1,  Dishonour of Bill=5),\n",
              " Row(Customer_ID='IB14785', Age=47, Gender='FEMALE', Occupation='DRIVER', Marital Status='SINGLE', Family Size=5, Income=38687, Expenditure=17562, Use Frequency=8, Loan Category='HOUSING', Loan Amount=None, Overdue=5,  Debt Record='81601',  Returned Cheque=6,  Dishonour of Bill=1),\n",
              " Row(Customer_ID='IB14787', Age=57, Gender='MALE', Occupation='CLERK', Marital Status='MARRIED', Family Size=5, Income=49076, Expenditure=18730, Use Frequency=4, Loan Category='HOUSING', Loan Amount=None, Overdue=3,  Debt Record='64234',  Returned Cheque=7,  Dishonour of Bill=4),\n",
              " Row(Customer_ID='IB14789', Age=25, Gender='MALE', Occupation='DRIVER', Marital Status='SINGLE', Family Size=7, Income=84394, Expenditure=48705, Use Frequency=3, Loan Category='AUTOMOBILE', Loan Amount=None, Overdue=6,  Debt Record='43350',  Returned Cheque=8,  Dishonour of Bill=4),\n",
              " Row(Customer_ID='IB14792', Age=35, Gender='MALE', Occupation='BUSINESS', Marital Status='MARRIED', Family Size=4, Income=50604, Expenditure=19918, Use Frequency=9, Loan Category='HOUSING', Loan Amount=None, Overdue=7,  Debt Record='16514',  Returned Cheque=5,  Dishonour of Bill=4),\n",
              " Row(Customer_ID='IB14794', Age=32, Gender='FEMALE', Occupation='CHARTERED APPRAISER', Marital Status='SINGLE', Family Size=2, Income=88323, Expenditure=40734, Use Frequency=5, Loan Category='DINNING', Loan Amount=None, Overdue=5,  Debt Record='23946',  Returned Cheque=2,  Dishonour of Bill=2),\n",
              " Row(Customer_ID='IB14795', Age=54, Gender='FEMALE', Occupation='TEACHER', Marital Status='SINGLE', Family Size=7, Income=53832, Expenditure=18748, Use Frequency=4, Loan Category='GOLD LOAN', Loan Amount=None, Overdue=1,  Debt Record='50787',  Returned Cheque=9,  Dishonour of Bill=1),\n",
              " Row(Customer_ID='IB14797', Age=26, Gender='MALE', Occupation='ACCOUNTANT', Marital Status='SINGLE', Family Size=7, Income=43350, Expenditure=31632, Use Frequency=5, Loan Category='AUTOMOBILE', Loan Amount=None, Overdue=4,  Debt Record='79235',  Returned Cheque=9,  Dishonour of Bill=6),\n",
              " Row(Customer_ID='IB14799', Age=52, Gender='FEMALE', Occupation='NAVY', Marital Status='MARRIED', Family Size=4, Income=80188, Expenditure=28352, Use Frequency=3, Loan Category='GOLD LOAN', Loan Amount=None, Overdue=1,  Debt Record='20815',  Returned Cheque=2,  Dishonour of Bill=0),\n",
              " Row(Customer_ID='IB14800', Age=30, Gender='FEMALE', Occupation='TEACHER', Marital Status='SINGLE', Family Size=4, Income=49370, Expenditure=21720, Use Frequency=4, Loan Category='SHOPPING', Loan Amount=None, Overdue=9,  Debt Record='40378',  Returned Cheque=7,  Dishonour of Bill=7),\n",
              " Row(Customer_ID='IB14804', Age=30, Gender='MALE', Occupation='BUSINESS', Marital Status='SINGLE', Family Size=2, Income=53957, Expenditure=34709, Use Frequency=7, Loan Category='GOLD LOAN', Loan Amount=None, Overdue=8,  Debt Record='37815',  Returned Cheque=5,  Dishonour of Bill=8),\n",
              " Row(Customer_ID='IB14806', Age=48, Gender='MALE', Occupation='ARMY', Marital Status='SINGLE', Family Size=6, Income=67129, Expenditure=16487, Use Frequency=3, Loan Category='BUSINESS', Loan Amount=None, Overdue=9,  Debt Record='37222',  Returned Cheque=4,  Dishonour of Bill=6),\n",
              " Row(Customer_ID='IB14809', Age=28, Gender='FEMALE', Occupation='ACCOUNTANT', Marital Status='SINGLE', Family Size=3, Income=76844, Expenditure=27358, Use Frequency=7, Loan Category='RESTAURANT', Loan Amount=None, Overdue=1,  Debt Record='73033',  Returned Cheque=2,  Dishonour of Bill=1),\n",
              " Row(Customer_ID='IB14811', Age=27, Gender='MALE', Occupation='TECHNICIAN', Marital Status='MARRIED', Family Size=7, Income=79600, Expenditure=41011, Use Frequency=5, Loan Category='BUSINESS', Loan Amount=None, Overdue=7,  Debt Record='13355',  Returned Cheque=2,  Dishonour of Bill=2),\n",
              " Row(Customer_ID='IB14813', Age=54, Gender='FEMALE', Occupation='BUSINESS', Marital Status='MARRIED', Family Size=2, Income=89665, Expenditure=22796, Use Frequency=3, Loan Category='RESTAURANT', Loan Amount=None, Overdue=3,  Debt Record='14820',  Returned Cheque=2,  Dishonour of Bill=7),\n",
              " Row(Customer_ID='IB14814', Age=47, Gender='MALE', Occupation='DIETICIAN', Marital Status='MARRIED', Family Size=2, Income=None, Expenditure=24376, Use Frequency=4, Loan Category='BUILDING', Loan Amount=None, Overdue=6,  Debt Record='30385',  Returned Cheque=5,  Dishonour of Bill=3),\n",
              " Row(Customer_ID='IB14817', Age=38, Gender='FEMALE', Occupation='EXECUTIVE', Marital Status='MARRIED', Family Size=5, Income=78167, Expenditure=33036, Use Frequency=4, Loan Category='BUSINESS', Loan Amount=None, Overdue=1,  Debt Record='20435',  Returned Cheque=7,  Dishonour of Bill=5),\n",
              " Row(Customer_ID='IB14820', Age=42, Gender='MALE', Occupation='DRIVER', Marital Status='SINGLE', Family Size=2, Income=47217, Expenditure=16575, Use Frequency=3, Loan Category='GOLD LOAN', Loan Amount=None, Overdue=4,  Debt Record='40373',  Returned Cheque=8,  Dishonour of Bill=1),\n",
              " Row(Customer_ID='IB14822', Age=59, Gender='MALE', Occupation='EXECUTIVE', Marital Status='MARRIED', Family Size=7, Income=57749, Expenditure=47280, Use Frequency=8, Loan Category='BUSINESS', Loan Amount=None, Overdue=7,  Debt Record='79932',  Returned Cheque=1,  Dishonour of Bill=5),\n",
              " Row(Customer_ID='IB14825', Age=31, Gender='MALE', Occupation='TECHNICIAN', Marital Status='SINGLE', Family Size=5, Income=79363, Expenditure=18706, Use Frequency=9, Loan Category='BUSINESS', Loan Amount=None, Overdue=4,  Debt Record='18431',  Returned Cheque=9,  Dishonour of Bill=5),\n",
              " Row(Customer_ID='IB14827', Age=37, Gender='MALE', Occupation='BANK MANAGER', Marital Status='SINGLE', Family Size=2, Income=35735, Expenditure=47037, Use Frequency=9, Loan Category='RESTAURANT', Loan Amount=None, Overdue=8,  Debt Record='31432',  Returned Cheque=3,  Dishonour of Bill=7),\n",
              " Row(Customer_ID='IB14829', Age=48, Gender='MALE', Occupation='DRIVER', Marital Status='SINGLE', Family Size=4, Income=61021, Expenditure=16440, Use Frequency=7, Loan Category='RESTAURANTS', Loan Amount=None, Overdue=8,  Debt Record='59449',  Returned Cheque=3,  Dishonour of Bill=8),\n",
              " Row(Customer_ID='IB14831', Age=30, Gender='FEMALE', Occupation='NAVY', Marital Status='SINGLE', Family Size=6, Income=51862, Expenditure=21101, Use Frequency=5, Loan Category='HOUSING', Loan Amount=None, Overdue=5,  Debt Record='57851',  Returned Cheque=6,  Dishonour of Bill=8),\n",
              " Row(Customer_ID='IB14833', Age=52, Gender='FEMALE', Occupation='DIETICIAN', Marital Status='MARRIED', Family Size=6, Income=90687, Expenditure=49940, Use Frequency=6, Loan Category='SHOPPING', Loan Amount=None, Overdue=6,  Debt Record='29454',  Returned Cheque=8,  Dishonour of Bill=7),\n",
              " Row(Customer_ID='IB14835', Age=31, Gender='MALE', Occupation='FARMER', Marital Status='MARRIED', Family Size=7, Income=85957, Expenditure=40246, Use Frequency=6, Loan Category='AGRICULTURE', Loan Amount=None, Overdue=6,  Debt Record='28764',  Returned Cheque=8,  Dishonour of Bill=2),\n",
              " Row(Customer_ID='IB14837', Age=38, Gender='MALE', Occupation='DRIVER', Marital Status='SINGLE', Family Size=7, Income=45362, Expenditure=35895, Use Frequency=9, Loan Category='HOUSING', Loan Amount=None, Overdue=7,  Debt Record='83458',  Returned Cheque=3,  Dishonour of Bill=7),\n",
              " Row(Customer_ID='IB14839', Age=54, Gender='FEMALE', Occupation='TECHNICIAN', Marital Status='SINGLE', Family Size=5, Income=34721, Expenditure=14789, Use Frequency=2, Loan Category='TRAVELLING', Loan Amount=None, Overdue=1,  Debt Record='67426',  Returned Cheque=0,  Dishonour of Bill=3),\n",
              " Row(Customer_ID='IB14843', Age=43, Gender='MALE', Occupation='DOCTOR', Marital Status='SINGLE', Family Size=4, Income=50407, Expenditure=34413, Use Frequency=4, Loan Category='AGRICULTURE', Loan Amount=None, Overdue=9,  Debt Record='57977',  Returned Cheque=9,  Dishonour of Bill=1),\n",
              " Row(Customer_ID='IB14845', Age=42, Gender='MALE', Occupation='DATA ENGINEER', Marital Status='MARRIED', Family Size=7, Income=82760, Expenditure=23568, Use Frequency=5, Loan Category='GOLD LOAN', Loan Amount=None, Overdue=5,  Debt Record='56170',  Returned Cheque=9,  Dishonour of Bill=2),\n",
              " Row(Customer_ID='IB14846', Age=52, Gender='MALE', Occupation='POLICE', Marital Status='MARRIED', Family Size=4, Income=33581, Expenditure=21618, Use Frequency=9, Loan Category='RESTAURANTS', Loan Amount=None, Overdue=3,  Debt Record='60215',  Returned Cheque=1,  Dishonour of Bill=9),\n",
              " Row(Customer_ID='IB14849', Age=39, Gender='MALE', Occupation='PILOT', Marital Status='MARRIED', Family Size=7, Income=63647, Expenditure=41007, Use Frequency=9, Loan Category='AGRICULTURE', Loan Amount=None, Overdue=8,  Debt Record='28317',  Returned Cheque=1,  Dishonour of Bill=2),\n",
              " Row(Customer_ID='IB14850', Age=42, Gender='MALE', Occupation='AGRICULTURAL ENGINEER', Marital Status='MARRIED', Family Size=2, Income=86610, Expenditure=45744, Use Frequency=4, Loan Category='HOUSING', Loan Amount=None, Overdue=8,  Debt Record='28192',  Returned Cheque=0,  Dishonour of Bill=8),\n",
              " Row(Customer_ID='IB14853', Age=31, Gender='FEMALE', Occupation='TEACHER', Marital Status='SINGLE', Family Size=3, Income=51227, Expenditure=17187, Use Frequency=2, Loan Category='GOLD LOAN', Loan Amount=None, Overdue=5,  Debt Record='63843',  Returned Cheque=7,  Dishonour of Bill=3),\n",
              " Row(Customer_ID='IB14855', Age=53, Gender='FEMALE', Occupation='SOFTWARE ENGINEER', Marital Status='SINGLE', Family Size=4, Income=81210, Expenditure=21027, Use Frequency=7, Loan Category='RESTAURANT', Loan Amount=None, Overdue=7,  Debt Record='35419',  Returned Cheque=2,  Dishonour of Bill=4),\n",
              " Row(Customer_ID='IB14857', Age=32, Gender='FEMALE', Occupation='DIETICIAN', Marital Status='SINGLE', Family Size=3, Income=40060, Expenditure=23989, Use Frequency=6, Loan Category='GOLD LOAN', Loan Amount=None, Overdue=6,  Debt Record='41436',  Returned Cheque=4,  Dishonour of Bill=9),\n",
              " Row(Customer_ID='IB14859', Age=45, Gender='MALE', Occupation='DRIVER', Marital Status='MARRIED', Family Size=6, Income=40838, Expenditure=25788, Use Frequency=6, Loan Category='AGRICULTURE', Loan Amount=None, Overdue=6,  Debt Record='37338',  Returned Cheque=9,  Dishonour of Bill=3),\n",
              " Row(Customer_ID='IB14862', Age=50, Gender='FEMALE', Occupation='TECHNICIAN', Marital Status='MARRIED', Family Size=3, Income=37938, Expenditure=33048, Use Frequency=6, Loan Category='RESTAURANTS', Loan Amount=None, Overdue=8,  Debt Record='46120',  Returned Cheque=4,  Dishonour of Bill=8),\n",
              " Row(Customer_ID='IB14864', Age=42, Gender='MALE', Occupation='BANK MANAGER', Marital Status='MARRIED', Family Size=4, Income=32571, Expenditure=48072, Use Frequency=9, Loan Category='AGRICULTURE', Loan Amount=None, Overdue=6,  Debt Record='51976',  Returned Cheque=2,  Dishonour of Bill=4),\n",
              " Row(Customer_ID='IB14867', Age=46, Gender='FEMALE', Occupation='CHARTERED APPRAISER', Marital Status='SINGLE', Family Size=2, Income=91088, Expenditure=42256, Use Frequency=5, Loan Category='EDUCATIONAL LOAN', Loan Amount=None, Overdue=9,  Debt Record='37966',  Returned Cheque=1,  Dishonour of Bill=5),\n",
              " Row(Customer_ID='IB14869', Age=44, Gender='MALE', Occupation='CLERK', Marital Status='SINGLE', Family Size=5, Income=51555, Expenditure=12052, Use Frequency=2, Loan Category='EDUCATIONAL LOAN', Loan Amount=None, Overdue=8,  Debt Record='29981',  Returned Cheque=1,  Dishonour of Bill=8),\n",
              " Row(Customer_ID='IB14871', Age=56, Gender='MALE', Occupation='EXECUTIVE', Marital Status='MARRIED', Family Size=4, Income=59534, Expenditure=33239, Use Frequency=3, Loan Category='EDUCATIONAL LOAN', Loan Amount=None, Overdue=6,  Debt Record='18405',  Returned Cheque=1,  Dishonour of Bill=8),\n",
              " Row(Customer_ID='IB14873', Age=42, Gender='FEMALE', Occupation='PILOT', Marital Status='SINGLE', Family Size=4, Income=83053, Expenditure=22355, Use Frequency=5, Loan Category='BOOK STORES', Loan Amount=None, Overdue=6,  Debt Record='84997',  Returned Cheque=4,  Dishonour of Bill=4),\n",
              " Row(Customer_ID='IB14875', Age=48, Gender='FEMALE', Occupation='BUSINESS', Marital Status='MARRIED', Family Size=6, Income=66922, Expenditure=26423, Use Frequency=5, Loan Category='AGRICULTURE', Loan Amount=None, Overdue=5,  Debt Record='12086',  Returned Cheque=2,  Dishonour of Bill=5),\n",
              " Row(Customer_ID='IB14878', Age=33, Gender='FEMALE', Occupation='CHARTERED APPRAISER', Marital Status='SINGLE', Family Size=4, Income=58661, Expenditure=42768, Use Frequency=4, Loan Category='GOLD LOAN', Loan Amount=None, Overdue=9,  Debt Record='72021',  Returned Cheque=3,  Dishonour of Bill=9),\n",
              " Row(Customer_ID='IB14881', Age=58, Gender='MALE', Occupation='ACCOUNTANT', Marital Status='MARRIED', Family Size=4, Income=57555, Expenditure=37068, Use Frequency=6, Loan Category='HOME APPLIANCES', Loan Amount=None, Overdue=7,  Debt Record='70922',  Returned Cheque=3,  Dishonour of Bill=0),\n",
              " Row(Customer_ID='IB14883', Age=59, Gender='MALE', Occupation='AGRICULTURAL ENGINEER', Marital Status='SINGLE', Family Size=5, Income=72052, Expenditure=45311, Use Frequency=4, Loan Category='HOME APPLIANCES', Loan Amount=None, Overdue=1,  Debt Record='75822',  Returned Cheque=1,  Dishonour of Bill=6),\n",
              " Row(Customer_ID='IB14886', Age=42, Gender='FEMALE', Occupation='BANK MANAGER', Marital Status='SINGLE', Family Size=7, Income=85632, Expenditure=37935, Use Frequency=5, Loan Category='EDUCATIONAL LOAN', Loan Amount=None, Overdue=3,  Debt Record='74874',  Returned Cheque=7,  Dishonour of Bill=7),\n",
              " Row(Customer_ID='IB14889', Age=41, Gender='FEMALE', Occupation='DIETICIAN', Marital Status='SINGLE', Family Size=3, Income=96501, Expenditure=41529, Use Frequency=6, Loan Category='GOLD LOAN', Loan Amount=None, Overdue=3,  Debt Record='35876',  Returned Cheque=2,  Dishonour of Bill=8),\n",
              " Row(Customer_ID='IB14892', Age=42, Gender='MALE', Occupation='TECHNICIAN', Marital Status='MARRIED', Family Size=6, Income=80241, Expenditure=41526, Use Frequency=8, Loan Category='AUTOMOBILE', Loan Amount=None, Overdue=1,  Debt Record='87885',  Returned Cheque=0,  Dishonour of Bill=6),\n",
              " Row(Customer_ID='IB14894', Age=33, Gender='FEMALE', Occupation='NAVY', Marital Status='MARRIED', Family Size=7, Income=47356, Expenditure=28491, Use Frequency=2, Loan Category='GOLD LOAN', Loan Amount=None, Overdue=2,  Debt Record='59025',  Returned Cheque=8,  Dishonour of Bill=6),\n",
              " Row(Customer_ID='IB14895', Age=42, Gender='MALE', Occupation='NAVY', Marital Status='MARRIED', Family Size=3, Income=39213, Expenditure=26716, Use Frequency=5, Loan Category='HOUSING', Loan Amount=None, Overdue=3,  Debt Record='23887',  Returned Cheque=2,  Dishonour of Bill=1),\n",
              " Row(Customer_ID='IB14898', Age=51, Gender='FEMALE', Occupation='SOFTWARE ENGINEER', Marital Status='SINGLE', Family Size=3, Income=84966, Expenditure=42591, Use Frequency=5, Loan Category='TRAVELLING', Loan Amount=None, Overdue=4,  Debt Record='58257',  Returned Cheque=0,  Dishonour of Bill=9),\n",
              " Row(Customer_ID='IB14900', Age=35, Gender='MALE', Occupation='TEACHER', Marital Status='MARRIED', Family Size=5, Income=None, Expenditure=26535, Use Frequency=3, Loan Category='HOUSING', Loan Amount=None, Overdue=1,  Debt Record='56137',  Returned Cheque=3,  Dishonour of Bill=3),\n",
              " Row(Customer_ID='IB14903', Age=42, Gender='FEMALE', Occupation='TECHNICIAN', Marital Status='SINGLE', Family Size=3, Income=42304, Expenditure=21760, Use Frequency=9, Loan Category='BUSINESS', Loan Amount=None, Overdue=6,  Debt Record='21031',  Returned Cheque=7,  Dishonour of Bill=2),\n",
              " Row(Customer_ID='IB14904', Age=28, Gender='FEMALE', Occupation='DOCTOR', Marital Status='MARRIED', Family Size=2, Income=74657, Expenditure=46762, Use Frequency=2, Loan Category='RESTAURANT', Loan Amount=None, Overdue=4,  Debt Record='56338',  Returned Cheque=2,  Dishonour of Bill=4),\n",
              " Row(Customer_ID='IB14907', Age=42, Gender='FEMALE', Occupation='DIETICIAN', Marital Status='SINGLE', Family Size=7, Income=51301, Expenditure=30975, Use Frequency=5, Loan Category='RESTAURANT', Loan Amount=None, Overdue=8,  Debt Record='25850',  Returned Cheque=8,  Dishonour of Bill=5),\n",
              " Row(Customer_ID='IB14909', Age=57, Gender='FEMALE', Occupation='POLICE', Marital Status='SINGLE', Family Size=3, Income=44945, Expenditure=25513, Use Frequency=8, Loan Category='GOLD LOAN', Loan Amount=None, Overdue=2,  Debt Record='54235',  Returned Cheque=3,  Dishonour of Bill=2),\n",
              " Row(Customer_ID='IB14911', Age=24, Gender='FEMALE', Occupation='SOFTWARE ENGINEER', Marital Status='SINGLE', Family Size=5, Income=56000, Expenditure=22376, Use Frequency=5, Loan Category='SHOPPING', Loan Amount=None, Overdue=4,  Debt Record='23450',  Returned Cheque=5,  Dishonour of Bill=3),\n",
              " Row(Customer_ID='IB14914', Age=45, Gender='MALE', Occupation='DENTIST', Marital Status='MARRIED', Family Size=6, Income=75640, Expenditure=32456, Use Frequency=6, Loan Category='HOUSING', Loan Amount=None, Overdue=5,  Debt Record='35400',  Returned Cheque=6,  Dishonour of Bill=6),\n",
              " Row(Customer_ID='IB14915', Age=46, Gender='FEMALE', Occupation='TEACHER', Marital Status='MARRIED', Family Size=4, Income=45678, Expenditure=23456, Use Frequency=5, Loan Category='TRAVELLING', Loan Amount=None, Overdue=6,  Debt Record='24560',  Returned Cheque=7,  Dishonour of Bill=4),\n",
              " Row(Customer_ID='IBI4917', Age=51, Gender='MALE', Occupation='FIRE DEPARTMENT', Marital Status='MARRIED', Family Size=6, Income=57890, Expenditure=32456, Use Frequency=6, Loan Category='HOME APPLIANCES', Loan Amount=None, Overdue=7,  Debt Record='32456',  Returned Cheque=6,  Dishonour of Bill=3),\n",
              " Row(Customer_ID='IBI4919', Age=35, Gender='MALE', Occupation='DOCTOR', Marital Status='MARRIED', Family Size=5, Income=67500, Expenditure=35670, Use Frequency=7, Loan Category='HOUSING', Loan Amount=None, Overdue=6,  Debt Record='45670',  Returned Cheque=4,  Dishonour of Bill=7),\n",
              " Row(Customer_ID='IBI4921', Age=43, Gender='FEMALE', Occupation='NUTRITION', Marital Status='MARRIED', Family Size=6, Income=55650, Expenditure=31245, Use Frequency=5, Loan Category='TRAVELLING', Loan Amount=None, Overdue=6,  Debt Record='23456',  Returned Cheque=3,  Dishonour of Bill=2),\n",
              " Row(Customer_ID='IB14924', Age=39, Gender='MALE', Occupation='ARMY', Marital Status='MARRIED', Family Size=7, Income=65750, Expenditure=23456, Use Frequency=6, Loan Category='TRAVELLING', Loan Amount=None, Overdue=5,  Debt Record='34567',  Returned Cheque=3,  Dishonour of Bill=7),\n",
              " Row(Customer_ID='IB14926', Age=46, Gender='FEMALE', Occupation='BANK MANAGER', Marital Status='MARRIED', Family Size=5, Income=60740, Expenditure=31245, Use Frequency=5, Loan Category='GOLD LOAN', Loan Amount=None, Overdue=6,  Debt Record='46700',  Returned Cheque=3,  Dishonour of Bill=4),\n",
              " Row(Customer_ID='IB14928', Age=48, Gender='MALE', Occupation='DATA ENGINEER', Marital Status='MARRIED', Family Size=6, Income=55675, Expenditure=25670, Use Frequency=5, Loan Category='HOUSING', Loan Amount=None, Overdue=6,  Debt Record='34670',  Returned Cheque=7,  Dishonour of Bill=3),\n",
              " Row(Customer_ID='IB14929', Age=35, Gender='FEMALE', Occupation='ACCOUNTANT', Marital Status='MARRIED', Family Size=5, Income=45670, Expenditure=21345, Use Frequency=5, Loan Category='TRAVELLING', Loan Amount=None, Overdue=6,  Debt Record='34560',  Returned Cheque=4,  Dishonour of Bill=4),\n",
              " Row(Customer_ID='IB14931', Age=41, Gender='MALE', Occupation='NAVY', Marital Status='MARRIED', Family Size=5, Income=72345, Expenditure=43210, Use Frequency=6, Loan Category='TRAVELLING', Loan Amount=None, Overdue=6,  Debt Record='24580',  Returned Cheque=2,  Dishonour of Bill=1),\n",
              " Row(Customer_ID='IB14933', Age=43, Gender='MALE', Occupation='DOCTOR', Marital Status='SINGLE', Family Size=4, Income=55407, Expenditure=24413, Use Frequency=4, Loan Category='HOUSING', Loan Amount=None, Overdue=9,  Debt Record='57977',  Returned Cheque=9,  Dishonour of Bill=1),\n",
              " Row(Customer_ID='IB14935', Age=42, Gender='MALE', Occupation='DATA ENGINEER', Marital Status='MARRIED', Family Size=7, Income=62760, Expenditure=21568, Use Frequency=5, Loan Category='GOLD LOAN', Loan Amount=None, Overdue=5,  Debt Record='36170',  Returned Cheque=9,  Dishonour of Bill=2),\n",
              " Row(Customer_ID='IB14937', Age=52, Gender='MALE', Occupation='POLICE', Marital Status='MARRIED', Family Size=4, Income=43581, Expenditure=20619, Use Frequency=9, Loan Category='RESTAURANTS', Loan Amount=None, Overdue=3,  Debt Record='50215',  Returned Cheque=1,  Dishonour of Bill=9),\n",
              " Row(Customer_ID='IB14938', Age=39, Gender='MALE', Occupation='PILOT', Marital Status='MARRIED', Family Size=7, Income=73647, Expenditure=45007, Use Frequency=9, Loan Category='EDUCATIONAL LOAN', Loan Amount=None, Overdue=8,  Debt Record='25317',  Returned Cheque=1,  Dishonour of Bill=2),\n",
              " Row(Customer_ID='IB14941', Age=42, Gender='MALE', Occupation='AGRICULTURAL ENGINEER', Marital Status='MARRIED', Family Size=2, Income=76610, Expenditure=46744, Use Frequency=4, Loan Category='HOUSING', Loan Amount=None, Overdue=8,  Debt Record='38192',  Returned Cheque=0,  Dishonour of Bill=8),\n",
              " Row(Customer_ID='IB14943', Age=31, Gender='FEMALE', Occupation='TEACHER', Marital Status='SINGLE', Family Size=3, Income=41227, Expenditure=19187, Use Frequency=2, Loan Category='HOUSING', Loan Amount=None, Overdue=5,  Debt Record='53843',  Returned Cheque=7,  Dishonour of Bill=3),\n",
              " Row(Customer_ID='IB14945', Age=53, Gender='FEMALE', Occupation='SOFTWARE ENGINEER', Marital Status='MARRIED', Family Size=4, Income=71210, Expenditure=25027, Use Frequency=7, Loan Category='RESTAURANT', Loan Amount=None, Overdue=7,  Debt Record='34419',  Returned Cheque=2,  Dishonour of Bill=4),\n",
              " Row(Customer_ID='IB14947', Age=32, Gender='FEMALE', Occupation='DIETICIAN', Marital Status='SINGLE', Family Size=3, Income=50060, Expenditure=28989, Use Frequency=6, Loan Category='HOUSING', Loan Amount=None, Overdue=6,  Debt Record='45436',  Returned Cheque=4,  Dishonour of Bill=9),\n",
              " Row(Customer_ID='IB14949', Age=45, Gender='MALE', Occupation='DRIVER', Marital Status='MARRIED', Family Size=6, Income=45838, Expenditure=27788, Use Frequency=6, Loan Category='HOME APPLIANCES', Loan Amount=None, Overdue=6,  Debt Record='36338',  Returned Cheque=9,  Dishonour of Bill=3),\n",
              " Row(Customer_ID='IB14951', Age=56, Gender='MALE', Occupation='TEACHER', Marital Status='MARRIED', Family Size=7, Income=54836, Expenditure=28984, Use Frequency=4, Loan Category='ELECTRONICS', Loan Amount=None, Overdue=2,  Debt Record='32068',  Returned Cheque=5,  Dishonour of Bill=5),\n",
              " Row(Customer_ID='IB14953', Age=29, Gender='MALE', Occupation='SOFTWARE ENGINEER', Marital Status='SINGLE', Family Size=5, Income=50454, Expenditure=32210, Use Frequency=4, Loan Category='SHOPPING', Loan Amount=None, Overdue=6,  Debt Record='36762',  Returned Cheque=7,  Dishonour of Bill=9),\n",
              " Row(Customer_ID='IB14955', Age=34, Gender='MALE', Occupation='BANK MANAGER', Marital Status='MARRIED', Family Size=5, Income=63070, Expenditure=25306, Use Frequency=4, Loan Category='TRAVELLING', Loan Amount=None, Overdue=4,  Debt Record='15604',  Returned Cheque=5,  Dishonour of Bill=1),\n",
              " Row(Customer_ID='IB14957', Age=55, Gender='MALE', Occupation='AIRPORT OFFICER', Marital Status='MARRIED', Family Size=7, Income=66314, Expenditure=29648, Use Frequency=7, Loan Category='EDUCATIONAL LOAN', Loan Amount=None, Overdue=2,  Debt Record='58193',  Returned Cheque=9,  Dishonour of Bill=0),\n",
              " Row(Customer_ID='IB14958', Age=39, Gender='MALE', Occupation='TEACHER', Marital Status='MARRIED', Family Size=7, Income=40801, Expenditure=26025, Use Frequency=5, Loan Category='AUTOMOBILE', Loan Amount=None, Overdue=1,  Debt Record='50509',  Returned Cheque=9,  Dishonour of Bill=4),\n",
              " Row(Customer_ID='IB14960', Age=51, Gender='FEMALE', Occupation='BANK MANAGER', Marital Status='MARRIED', Family Size=6, Income=58697, Expenditure=35734, Use Frequency=5, Loan Category='HOME APPLIANCES', Loan Amount=None, Overdue=1,  Debt Record='16304',  Returned Cheque=6,  Dishonour of Bill=7),\n",
              " Row(Customer_ID='IB14962', Age=54, Gender='MALE', Occupation='PRODUCT ENGINEER', Marital Status='MARRIED', Family Size=4, Income=42859, Expenditure=28441, Use Frequency=6, Loan Category='AUTOMOBILE', Loan Amount=None, Overdue=4,  Debt Record='32078',  Returned Cheque=8,  Dishonour of Bill=9),\n",
              " Row(Customer_ID='IB14965', Age=29, Gender='FEMALE', Occupation='TEACHER', Marital Status='MARRIED', Family Size=5, Income=70106, Expenditure=36733, Use Frequency=6, Loan Category='HOME APPLIANCES', Loan Amount=None, Overdue=7,  Debt Record='37254',  Returned Cheque=0,  Dishonour of Bill=3),\n",
              " Row(Customer_ID='IB14967', Age=44, Gender='MALE', Occupation='SOFTWARE ENGINEER', Marital Status='MARRIED', Family Size=4, Income=59512, Expenditure=36373, Use Frequency=7, Loan Category='RESTAURANTS', Loan Amount=None, Overdue=9,  Debt Record='45098',  Returned Cheque=6,  Dishonour of Bill=1),\n",
              " Row(Customer_ID='IB14968', Age=32, Gender='MALE', Occupation='DRIVER', Marital Status='MARRIED', Family Size=3, Income=420792, Expenditure=26854, Use Frequency=9, Loan Category='GOLD LOAN', Loan Amount=None, Overdue=3,  Debt Record='54906',  Returned Cheque=3,  Dishonour of Bill=5),\n",
              " Row(Customer_ID='IB14970', Age=54, Gender='FEMALE', Occupation='PILOT', Marital Status='MARRIED', Family Size=6, Income=88640, Expenditure=33705, Use Frequency=8, Loan Category='COMPUTER SOFTWARES', Loan Amount=None, Overdue=8,  Debt Record='25536',  Returned Cheque=5,  Dishonour of Bill=7),\n",
              " Row(Customer_ID='IB14971', Age=38, Gender='FEMALE', Occupation='TEACHER', Marital Status='MARRIED', Family Size=5, Income=52815, Expenditure=22751, Use Frequency=9, Loan Category='HOUSING', Loan Amount=None, Overdue=9,  Debt Record='47828',  Returned Cheque=4,  Dishonour of Bill=4),\n",
              " Row(Customer_ID='IB14973', Age=42, Gender='FEMALE', Occupation='NAVY', Marital Status='SINGLE', Family Size=3, Income=76184, Expenditure=37555, Use Frequency=3, Loan Category='AUTOMOBILE', Loan Amount=None, Overdue=5,  Debt Record='34235',  Returned Cheque=6,  Dishonour of Bill=1),\n",
              " Row(Customer_ID='IB14974', Age=33, Gender='FEMALE', Occupation='BUSINESS', Marital Status='MARRIED', Family Size=3, Income=85562, Expenditure=49473, Use Frequency=5, Loan Category='HOUSING', Loan Amount=None, Overdue=8,  Debt Record='18187',  Returned Cheque=5,  Dishonour of Bill=3),\n",
              " Row(Customer_ID='IB14976', Age=30, Gender='MALE', Occupation='CHARTERED APPRAISER', Marital Status='MARRIED', Family Size=2, Income=85225, Expenditure=39463, Use Frequency=4, Loan Category='AUTOMOBILE', Loan Amount=None, Overdue=3,  Debt Record='30686',  Returned Cheque=6,  Dishonour of Bill=1),\n",
              " Row(Customer_ID='IB14978', Age=44, Gender='FEMALE', Occupation='TECHNICIAN', Marital Status='MARRIED', Family Size=2, Income=46379, Expenditure=25348, Use Frequency=2, Loan Category='COMPUTER SOFTWARES', Loan Amount=None, Overdue=7,  Debt Record='32127',  Returned Cheque=9,  Dishonour of Bill=1),\n",
              " Row(Customer_ID='IB14980', Age=33, Gender='MALE', Occupation='POLICE', Marital Status='MARRIED', Family Size=6, Income=43763, Expenditure=25191, Use Frequency=8, Loan Category='AUTOMOBILE', Loan Amount=None, Overdue=4,  Debt Record='35153',  Returned Cheque=9,  Dishonour of Bill=3),\n",
              " Row(Customer_ID='IB14982', Age=36, Gender='FEMALE', Occupation='DOCTOR', Marital Status='MARRIED', Family Size=3, Income=76820, Expenditure=27222, Use Frequency=6, Loan Category='BUSINESS', Loan Amount=None, Overdue=1,  Debt Record='44979',  Returned Cheque=4,  Dishonour of Bill=4),\n",
              " Row(Customer_ID='IB14983', Age=28, Gender='MALE', Occupation='BUSINESS', Marital Status='MARRIED', Family Size=5, Income=35407, Expenditure=21876, Use Frequency=9, Loan Category='GOLD LOAN', Loan Amount=None, Overdue=4,  Debt Record='36058',  Returned Cheque=0,  Dishonour of Bill=8),\n",
              " Row(Customer_ID='IB14985', Age=58, Gender='MALE', Occupation='CHARTERED APPRAISER', Marital Status='MARRIED', Family Size=7, Income=75630, Expenditure=35346, Use Frequency=2, Loan Category='RESTAURANTS', Loan Amount=None, Overdue=4,  Debt Record='35538',  Returned Cheque=2,  Dishonour of Bill=3),\n",
              " Row(Customer_ID='IB14987', Age=41, Gender='MALE', Occupation='FARMER', Marital Status='SINGLE', Family Size=5, Income=78294, Expenditure=40744, Use Frequency=8, Loan Category='BUILDING', Loan Amount=None, Overdue=9,  Debt Record='23866',  Returned Cheque=8,  Dishonour of Bill=9),\n",
              " Row(Customer_ID='IB14988', Age=40, Gender='MALE', Occupation='CLERK', Marital Status='MARRIED', Family Size=7, Income=58409, Expenditure=28566, Use Frequency=6, Loan Category='TRAVELLING', Loan Amount=None, Overdue=2,  Debt Record='15938',  Returned Cheque=7,  Dishonour of Bill=3),\n",
              " Row(Customer_ID='IB14991', Age=52, Gender='MALE', Occupation='PILOT', Marital Status='SINGLE', Family Size=7, Income=95853, Expenditure=49629, Use Frequency=4, Loan Category='HOUSING', Loan Amount=None, Overdue=6,  Debt Record='25269',  Returned Cheque=4,  Dishonour of Bill=8),\n",
              " Row(Customer_ID='IB14993', Age=47, Gender='FEMALE', Occupation='CLERK', Marital Status='MARRIED', Family Size=3, Income=41182, Expenditure=22773, Use Frequency=6, Loan Category='HOUSING', Loan Amount=None, Overdue=3,  Debt Record='41755',  Returned Cheque=0,  Dishonour of Bill=6),\n",
              " Row(Customer_ID='IB14995', Age=43, Gender='FEMALE', Occupation='POLICE', Marital Status='MARRIED', Family Size=5, Income=58501, Expenditure=28744, Use Frequency=5, Loan Category='GOLD LOAN', Loan Amount=None, Overdue=2,  Debt Record='55397',  Returned Cheque=9,  Dishonour of Bill=0),\n",
              " Row(Customer_ID='IB14996', Age=27, Gender='MALE', Occupation='DOCTOR', Marital Status='SINGLE', Family Size=7, Income=68366, Expenditure=30258, Use Frequency=2, Loan Category='TRAVELLING', Loan Amount=None, Overdue=9,  Debt Record='20611',  Returned Cheque=5,  Dishonour of Bill=5),\n",
              " Row(Customer_ID='IB14998', Age=31, Gender='MALE', Occupation='DRIVER', Marital Status='MARRIED', Family Size=2, Income=38558, Expenditure=21169, Use Frequency=2, Loan Category='EDUCATIONAL LOAN', Loan Amount=None, Overdue=4,  Debt Record='48649',  Returned Cheque=7,  Dishonour of Bill=9),\n",
              " Row(Customer_ID='IB15001', Age=39, Gender='FEMALE', Occupation='NAVY', Marital Status='SINGLE', Family Size=4, Income=79699, Expenditure=32482, Use Frequency=3, Loan Category='AUTOMOBILE', Loan Amount=None, Overdue=9,  Debt Record='57206',  Returned Cheque=2,  Dishonour of Bill=8),\n",
              " Row(Customer_ID='IB15004', Age=45, Gender='FEMALE', Occupation='SOFTWARE ENGINEER', Marital Status='SINGLE', Family Size=4, Income=68199, Expenditure=33464, Use Frequency=9, Loan Category='ELECTRONICS', Loan Amount=None, Overdue=3,  Debt Record='46384',  Returned Cheque=4,  Dishonour of Bill=8),\n",
              " Row(Customer_ID='IB15007', Age=59, Gender='FEMALE', Occupation='NAVY', Marital Status='SINGLE', Family Size=2, Income=75171, Expenditure=36078, Use Frequency=5, Loan Category='RESTAURANT', Loan Amount=None, Overdue=6,  Debt Record='58510',  Returned Cheque=8,  Dishonour of Bill=7),\n",
              " Row(Customer_ID='IB15009', Age=48, Gender='MALE', Occupation='EXECUTIVE', Marital Status='SINGLE', Family Size=2, Income=67460, Expenditure=45959, Use Frequency=2, Loan Category='BUSINESS', Loan Amount=None, Overdue=5,  Debt Record='62858',  Returned Cheque=1,  Dishonour of Bill=5),\n",
              " Row(Customer_ID='IB15011', Age=30, Gender='FEMALE', Occupation='TEACHER', Marital Status='SINGLE', Family Size=5, Income=55564, Expenditure=28097, Use Frequency=2, Loan Category='AUTOMOBILE', Loan Amount=None, Overdue=2,  Debt Record='56157',  Returned Cheque=2,  Dishonour of Bill=7),\n",
              " Row(Customer_ID='IB15014', Age=26, Gender='FEMALE', Occupation='BUSINESS', Marital Status='MARRIED', Family Size=3, Income=61508, Expenditure=26048, Use Frequency=9, Loan Category='GOLD LOAN', Loan Amount=None, Overdue=8,  Debt Record='40479',  Returned Cheque=0,  Dishonour of Bill=9),\n",
              " Row(Customer_ID='IB15017', Age=39, Gender='FEMALE', Occupation='BUSINESS', Marital Status='MARRIED', Family Size=6, Income=73769, Expenditure=38186, Use Frequency=6, Loan Category='RESTAURANT', Loan Amount=None, Overdue=8,  Debt Record='81465',  Returned Cheque=0,  Dishonour of Bill=3),\n",
              " Row(Customer_ID='IB15019', Age=28, Gender='MALE', Occupation='SOFTWARE ENGINEER', Marital Status='MARRIED', Family Size=2, Income=76637, Expenditure=45083, Use Frequency=3, Loan Category='EDUCATIONAL LOAN', Loan Amount=None, Overdue=6,  Debt Record='23537',  Returned Cheque=8,  Dishonour of Bill=9),\n",
              " Row(Customer_ID='IB15021', Age=43, Gender='FEMALE', Occupation='SOFTWARE ENGINEER', Marital Status='SINGLE', Family Size=5, Income=76970, Expenditure=35379, Use Frequency=2, Loan Category='GOLD LOAN', Loan Amount=None, Overdue=9,  Debt Record='13994',  Returned Cheque=5,  Dishonour of Bill=7),\n",
              " Row(Customer_ID='IB15024', Age=26, Gender='MALE', Occupation='DIETICIAN', Marital Status='SINGLE', Family Size=3, Income=95425, Expenditure=53086, Use Frequency=2, Loan Category='HOUSING', Loan Amount=None, Overdue=4,  Debt Record='61227',  Returned Cheque=5,  Dishonour of Bill=2),\n",
              " Row(Customer_ID='IB15027', Age=47, Gender='MALE', Occupation='DOCTOR', Marital Status='SINGLE', Family Size=4, Income=79580, Expenditure=None, Use Frequency=3, Loan Category='SHOPPING', Loan Amount=None, Overdue=9,  Debt Record='84824',  Returned Cheque=8,  Dishonour of Bill=9),\n",
              " Row(Customer_ID='IB15028', Age=42, Gender='FEMALE', Occupation='PILOT', Marital Status='SINGLE', Family Size=4, Income=None, Expenditure=28164, Use Frequency=5, Loan Category='DINNING', Loan Amount=None, Overdue=3,  Debt Record='17476',  Returned Cheque=4,  Dishonour of Bill=7),\n",
              " Row(Customer_ID='IB15031', Age=30, Gender='MALE', Occupation='PILOT', Marital Status='SINGLE', Family Size=2, Income=86333, Expenditure=47037, Use Frequency=3, Loan Category='BUSINESS', Loan Amount=None, Overdue=2,  Debt Record='34044',  Returned Cheque=3,  Dishonour of Bill=1),\n",
              " Row(Customer_ID='IB15034', Age=31, Gender='FEMALE', Occupation='SOFTWARE ENGINEER', Marital Status='MARRIED', Family Size=2, Income=70663, Expenditure=33569, Use Frequency=4, Loan Category='BUSINESS', Loan Amount=None, Overdue=9,  Debt Record='47624',  Returned Cheque=9,  Dishonour of Bill=0),\n",
              " Row(Customer_ID='IB15037', Age=34, Gender='MALE', Occupation='SOFTWARE ENGINEER', Marital Status='MARRIED', Family Size=7, Income=50568, Expenditure=30010, Use Frequency=9, Loan Category='RESTAURANT', Loan Amount=None, Overdue=2,  Debt Record='37354',  Returned Cheque=9,  Dishonour of Bill=3),\n",
              " Row(Customer_ID='IB15039', Age=29, Gender='MALE', Occupation='FIRE DEPARTMENT', Marital Status='MARRIED', Family Size=5, Income=63213, Expenditure=26457, Use Frequency=9, Loan Category='TRAVELLING', Loan Amount=None, Overdue=7,  Debt Record='90,000',  Returned Cheque=2,  Dishonour of Bill=5),\n",
              " Row(Customer_ID='IB15041', Age=44, Gender='FEMALE', Occupation='ACCOUNT MANAGER', Marital Status='MARRIED', Family Size=4, Income=None, Expenditure=35632, Use Frequency=8, Loan Category='COMPUTER SOFTWARES', Loan Amount=None, Overdue=5,  Debt Record='20,145',  Returned Cheque=3,  Dishonour of Bill=4),\n",
              " Row(Customer_ID='IB15044', Age=29, Gender='MALE', Occupation='TEACHER', Marital Status='MARRIED', Family Size=5, Income=55767, Expenditure=22787, Use Frequency=3, Loan Category='TRAVELLING', Loan Amount=None, Overdue=7,  Debt Record='11,000',  Returned Cheque=0,  Dishonour of Bill=4),\n",
              " Row(Customer_ID='IB15045', Age=34, Gender='MALE', Occupation='POLICE', Marital Status='SINGLE', Family Size=4, Income=45521, Expenditure=None, Use Frequency=3, Loan Category='AUTOMOBILE', Loan Amount=None, Overdue=2,  Debt Record='43,898',  Returned Cheque=1,  Dishonour of Bill=2),\n",
              " Row(Customer_ID='IB15048', Age=55, Gender='FEMALE', Occupation='NURSE', Marital Status='MARRIED', Family Size=6, Income=38999, Expenditure=24888, Use Frequency=4, Loan Category='SHOPPING', Loan Amount=None, Overdue=1,  Debt Record='50,000',  Returned Cheque=0,  Dishonour of Bill=3),\n",
              " Row(Customer_ID='IB15052', Age=32, Gender='MALE', Occupation='PRODUCT ENGINEER', Marital Status='MARRIED', Family Size=6, Income=None, Expenditure=26000, Use Frequency=7, Loan Category='COMPUTER SOFTWARES', Loan Amount=None, Overdue=6,  Debt Record='4,500',  Returned Cheque=5,  Dishonour of Bill=4),\n",
              " Row(Customer_ID='IB15055', Age=54, Gender='FEMALE', Occupation='TEACHER', Marital Status='MARRIED', Family Size=5, Income=50099, Expenditure=29999, Use Frequency=4, Loan Category='RESTAURANTS', Loan Amount=None, Overdue=1,  Debt Record='12,000',  Returned Cheque=7,  Dishonour of Bill=5),\n",
              " Row(Customer_ID='IB15057', Age=55, Gender='FEMALE', Occupation='ASSISTANT PROFESSOR', Marital Status='MARRIED', Family Size=6, Income=54999, Expenditure=25888, Use Frequency=4, Loan Category='SHOPPING', Loan Amount=None, Overdue=1,  Debt Record='50,000',  Returned Cheque=0,  Dishonour of Bill=3),\n",
              " Row(Customer_ID='IB15059', Age=32, Gender='MALE', Occupation='SOFTWARE ENGINEER', Marital Status='MARRIED', Family Size=6, Income=None, Expenditure=32000, Use Frequency=7, Loan Category='COMPUTER SOFTWARES', Loan Amount=None, Overdue=6,  Debt Record='4,500',  Returned Cheque=5,  Dishonour of Bill=4),\n",
              " Row(Customer_ID='IB15062', Age=54, Gender='FEMALE', Occupation='TEACHER', Marital Status='MARRIED', Family Size=5, Income=45099, Expenditure=21999, Use Frequency=4, Loan Category='RESTAURANTS', Loan Amount=None, Overdue=1,  Debt Record='12,000',  Returned Cheque=7,  Dishonour of Bill=5),\n",
              " Row(Customer_ID='IB15065', Age=43, Gender='MALE', Occupation='PRODUCT ENGINEER', Marital Status='MARRIED', Family Size=4, Income=55147, Expenditure=35863, Use Frequency=8, Loan Category='COMPUTER SOFTWARES', Loan Amount=None, Overdue=8,  Debt Record='19,999',  Returned Cheque=3,  Dishonour of Bill=5),\n",
              " Row(Customer_ID='IB15068', Age=33, Gender='MALE', Occupation='DOCTOR', Marital Status='MARRIED', Family Size=6, Income=75000, Expenditure=44541, Use Frequency=8, Loan Category='BUILDING', Loan Amount=None, Overdue=4,  Debt Record='19,541',  Returned Cheque=1,  Dishonour of Bill=3),\n",
              " Row(Customer_ID='IB15071', Age=36, Gender='MALE', Occupation='ELECTRICIAN', Marital Status='MARRIED', Family Size=2, Income=56985, Expenditure=26648, Use Frequency=6, Loan Category='ELECTRONICS', Loan Amount=None, Overdue=7,  Debt Record='20,000',  Returned Cheque=5,  Dishonour of Bill=3),\n",
              " Row(Customer_ID='IB15074', Age=49, Gender='MALE', Occupation='ASSISTANT MANAGER', Marital Status='MARRIED', Family Size=7, Income=49612, Expenditure=29542, Use Frequency=3, Loan Category='TRAVELLING', Loan Amount=None, Overdue=7,  Debt Record='65,412',  Returned Cheque=3,  Dishonour of Bill=2),\n",
              " Row(Customer_ID='IB15077', Age=41, Gender='MALE', Occupation='BANK MANAGER', Marital Status='MARRIED', Family Size=6, Income=68125, Expenditure=41246, Use Frequency=6, Loan Category='TRAVELLING', Loan Amount=None, Overdue=5,  Debt Record='16,524',  Returned Cheque=3,  Dishonour of Bill=3),\n",
              " Row(Customer_ID='IB15079', Age=39, Gender='FEMALE', Occupation='SYSTEM OFFICER', Marital Status='MARRIED', Family Size=6, Income=None, Expenditure=35541, Use Frequency=5, Loan Category='EDUCATIONAL LOAN', Loan Amount=None, Overdue=3,  Debt Record='14,256',  Returned Cheque=4,  Dishonour of Bill=4),\n",
              " Row(Customer_ID='IB15082', Age=51, Gender='MALE', Occupation='SYSTEM MANAGER', Marital Status='MARRIED', Family Size=3, Income=59999, Expenditure=29111, Use Frequency=5, Loan Category='ELECTRONICS', Loan Amount=None, Overdue=8,  Debt Record='13,000',  Returned Cheque=2,  Dishonour of Bill=5),\n",
              " Row(Customer_ID='IB15084', Age=36, Gender='FEMALE', Occupation='CLERK', Marital Status='MARRIED', Family Size=4, Income=38000, Expenditure=19000, Use Frequency=3, Loan Category='HOUSING', Loan Amount=None, Overdue=2,  Debt Record='5,600',  Returned Cheque=4,  Dishonour of Bill=8),\n",
              " Row(Customer_ID='IB15086', Age=40, Gender='MALE', Occupation='PUBLIC WORKS', Marital Status='MARRIED', Family Size=4, Income=58000, Expenditure=27000, Use Frequency=3, Loan Category='TRAVELLING', Loan Amount=None, Overdue=9,  Debt Record='19,954',  Returned Cheque=3,  Dishonour of Bill=2),\n",
              " Row(Customer_ID='IB15089', Age=39, Gender='MALE', Occupation='PILOT', Marital Status='MARRIED', Family Size=7, Income=83647, Expenditure=43007, Use Frequency=9, Loan Category='EDUCATIONAL LOAN', Loan Amount=None, Overdue=8,  Debt Record='28317',  Returned Cheque=1,  Dishonour of Bill=2),\n",
              " Row(Customer_ID='IB15091', Age=42, Gender='MALE', Occupation='AGRICULTURAL ENGINEER', Marital Status='MARRIED', Family Size=2, Income=66610, Expenditure=35744, Use Frequency=4, Loan Category='HOUSING', Loan Amount=None, Overdue=8,  Debt Record='28192',  Returned Cheque=0,  Dishonour of Bill=8),\n",
              " Row(Customer_ID='IB15093', Age=31, Gender='FEMALE', Occupation='TEACHER', Marital Status='MARRIED', Family Size=3, Income=55227, Expenditure=27187, Use Frequency=2, Loan Category='GOLD LOAN', Loan Amount=None, Overdue=5,  Debt Record='63843',  Returned Cheque=7,  Dishonour of Bill=3),\n",
              " Row(Customer_ID='IB15095', Age=53, Gender='FEMALE', Occupation='SOFTWARE ENGINEER', Marital Status='SINGLE', Family Size=4, Income=75210, Expenditure=26027, Use Frequency=7, Loan Category='HOUSING', Loan Amount=None, Overdue=7,  Debt Record='35419',  Returned Cheque=2,  Dishonour of Bill=4),\n",
              " Row(Customer_ID='IB15097', Age=32, Gender='FEMALE', Occupation='DIETICIAN', Marital Status='SINGLE', Family Size=3, Income=45060, Expenditure=24989, Use Frequency=6, Loan Category='TRAVELLING', Loan Amount=None, Overdue=6,  Debt Record='41436',  Returned Cheque=4,  Dishonour of Bill=9),\n",
              " Row(Customer_ID='IB15099', Age=45, Gender='MALE', Occupation='DRIVER', Marital Status='MARRIED', Family Size=6, Income=35838, Expenditure=19788, Use Frequency=6, Loan Category='AGRICULTURE', Loan Amount=None, Overdue=6,  Debt Record='37338',  Returned Cheque=9,  Dishonour of Bill=3),\n",
              " Row(Customer_ID='IB15102', Age=50, Gender='FEMALE', Occupation='TECHNICIAN', Marital Status='MARRIED', Family Size=3, Income=35938, Expenditure=21048, Use Frequency=6, Loan Category='RESTAURANTS', Loan Amount=None, Overdue=8,  Debt Record='46120',  Returned Cheque=4,  Dishonour of Bill=8),\n",
              " Row(Customer_ID='IB15104', Age=42, Gender='MALE', Occupation='BANK MANAGER', Marital Status='MARRIED', Family Size=4, Income=None, Expenditure=48072, Use Frequency=9, Loan Category='GOLD LOAN', Loan Amount=None, Overdue=6,  Debt Record='51976',  Returned Cheque=2,  Dishonour of Bill=4),\n",
              " Row(Customer_ID='IB15107', Age=46, Gender='FEMALE', Occupation='CHARTERED APPRAISER', Marital Status='MARRIED', Family Size=2, Income=85088, Expenditure=44256, Use Frequency=5, Loan Category='HOUSING', Loan Amount=None, Overdue=9,  Debt Record='37966',  Returned Cheque=1,  Dishonour of Bill=5)]"
            ]
          },
          "metadata": {},
          "execution_count": 23
        }
      ]
    },
    {
      "cell_type": "markdown",
      "source": [
        "FIRST()"
      ],
      "metadata": {
        "id": "htrFvkX7utQR"
      }
    },
    {
      "cell_type": "code",
      "source": [
        "loan_df.first()"
      ],
      "metadata": {
        "colab": {
          "base_uri": "https://localhost:8080/"
        },
        "id": "Yw2LpSo4urFK",
        "outputId": "2c149cdf-ddbd-43e3-b56e-0cbca1316106"
      },
      "execution_count": 24,
      "outputs": [
        {
          "output_type": "execute_result",
          "data": {
            "text/plain": [
              "Row(Customer_ID='IB14001', Age=30, Gender='MALE', Occupation='BANK MANAGER', Marital Status='SINGLE', Family Size=4, Income=50000, Expenditure=22199, Use Frequency=6, Loan Category='HOUSING', Loan Amount=None, Overdue=5,  Debt Record='42,898',  Returned Cheque=6,  Dishonour of Bill=9)"
            ]
          },
          "metadata": {},
          "execution_count": 24
        }
      ]
    },
    {
      "cell_type": "markdown",
      "source": [
        "TAKE()"
      ],
      "metadata": {
        "id": "inuujDSZuyA1"
      }
    },
    {
      "cell_type": "code",
      "source": [
        "loan_df.take(4)"
      ],
      "metadata": {
        "colab": {
          "base_uri": "https://localhost:8080/"
        },
        "id": "jaTN4WCNuwW2",
        "outputId": "955d03c7-58e2-43a9-a92e-d2a13c8d9ea7"
      },
      "execution_count": 25,
      "outputs": [
        {
          "output_type": "execute_result",
          "data": {
            "text/plain": [
              "[Row(Customer_ID='IB14001', Age=30, Gender='MALE', Occupation='BANK MANAGER', Marital Status='SINGLE', Family Size=4, Income=50000, Expenditure=22199, Use Frequency=6, Loan Category='HOUSING', Loan Amount=None, Overdue=5,  Debt Record='42,898',  Returned Cheque=6,  Dishonour of Bill=9),\n",
              " Row(Customer_ID='IB14008', Age=44, Gender='MALE', Occupation='PROFESSOR', Marital Status='MARRIED', Family Size=6, Income=51000, Expenditure=19999, Use Frequency=4, Loan Category='SHOPPING', Loan Amount=None, Overdue=3,  Debt Record='33,999',  Returned Cheque=1,  Dishonour of Bill=5),\n",
              " Row(Customer_ID='IB14012', Age=30, Gender='FEMALE', Occupation='DENTIST', Marital Status='SINGLE', Family Size=3, Income=58450, Expenditure=27675, Use Frequency=5, Loan Category='TRAVELLING', Loan Amount=None, Overdue=6,  Debt Record='20,876',  Returned Cheque=3,  Dishonour of Bill=1),\n",
              " Row(Customer_ID='IB14018', Age=29, Gender='MALE', Occupation='TEACHER', Marital Status='MARRIED', Family Size=5, Income=45767, Expenditure=12787, Use Frequency=3, Loan Category='GOLD LOAN', Loan Amount=None, Overdue=7,  Debt Record='11,000',  Returned Cheque=0,  Dishonour of Bill=4)]"
            ]
          },
          "metadata": {},
          "execution_count": 25
        }
      ]
    },
    {
      "cell_type": "code",
      "source": [],
      "metadata": {
        "id": "zXHQo5xXu2x8"
      },
      "execution_count": null,
      "outputs": []
    }
  ]
}