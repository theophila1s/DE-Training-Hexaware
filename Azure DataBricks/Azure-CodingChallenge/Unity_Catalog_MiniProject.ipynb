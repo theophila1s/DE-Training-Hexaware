{
  "nbformat": 4,
  "nbformat_minor": 0,
  "metadata": {
    "colab": {
      "provenance": []
    },
    "kernelspec": {
      "name": "python3",
      "display_name": "Python 3"
    },
    "language_info": {
      "name": "python"
    }
  },
  "cells": [
    {
      "cell_type": "code",
      "execution_count": 1,
      "metadata": {
        "colab": {
          "base_uri": "https://localhost:8080/"
        },
        "id": "uwDCuKPXuzvb",
        "outputId": "bc361c05-b1c2-405b-c868-dc7451229f15"
      },
      "outputs": [
        {
          "output_type": "stream",
          "name": "stdout",
          "text": [
            "✅ Files created: employee.csv, transactions.csv\n"
          ]
        }
      ],
      "source": [
        "import pandas as pd\n",
        "\n",
        "# Employee dataset\n",
        "employee_data = {\n",
        "    \"id\": [1,2,3,4,5],\n",
        "    \"name\": [\"Alice\", \"Bob\", \"Charlie\", \"David\", \"Eva\"],\n",
        "    \"department\": [\"HR\", \"Finance\", \"IT\", \"Finance\", \"HR\"],\n",
        "    \"salary\": [5000,7000,6000,8000,5500],\n",
        "    \"hire_date\": [\"2018-03-01\",\"2017-07-12\",\"2019-11-23\",\"2016-05-04\",\"2020-01-10\"],\n",
        "    \"country\": [\"US\",\"UK\",\"IN\",\"US\",\"IN\"]\n",
        "}\n",
        "employee_df = pd.DataFrame(employee_data)\n",
        "employee_df.to_csv(\"employee.csv\", index=False)\n",
        "\n",
        "# Transactions dataset\n",
        "txn_data = {\n",
        "    \"txn_id\": [101,102,103,104,105],\n",
        "    \"emp_id\": [1,2,3,4,5],\n",
        "    \"amount\": [200,500,300,1000,150],\n",
        "    \"txn_type\": [\"Travel\",\"Reimburse\",\"Travel\",\"Training\",\"Supplies\"],\n",
        "    \"txn_date\": [\"2021-06-15\",\"2021-07-01\",\"2021-07-19\",\"2021-08-22\",\"2021-09-05\"]\n",
        "}\n",
        "txn_df = pd.DataFrame(txn_data)\n",
        "txn_df.to_csv(\"transactions.csv\", index=False)\n",
        "\n",
        "print(\"✅ Files created: employee.csv, transactions.csv\")\n"
      ]
    },
    {
      "cell_type": "markdown",
      "source": [
        "Step 1: Install and Initialize PySpark in Colab"
      ],
      "metadata": {
        "id": "Pm_g8eIPxIKm"
      }
    },
    {
      "cell_type": "code",
      "source": [
        "!pip install pyspark\n",
        "from pyspark.sql import SparkSession\n",
        "\n",
        "spark = SparkSession.builder \\\n",
        "    .appName(\"UnityCatalogMiniProject\") \\\n",
        "    .getOrCreate()\n"
      ],
      "metadata": {
        "colab": {
          "base_uri": "https://localhost:8080/"
        },
        "id": "sMaOzABxvKnw",
        "outputId": "859451c7-bb60-4228-f697-beaeee7ed620"
      },
      "execution_count": 2,
      "outputs": [
        {
          "output_type": "stream",
          "name": "stdout",
          "text": [
            "Requirement already satisfied: pyspark in /usr/local/lib/python3.11/dist-packages (3.5.1)\n",
            "Requirement already satisfied: py4j==0.10.9.7 in /usr/local/lib/python3.11/dist-packages (from pyspark) (0.10.9.7)\n"
          ]
        }
      ]
    },
    {
      "cell_type": "markdown",
      "source": [
        "Step 2: Simulate a Catalog & Schema"
      ],
      "metadata": {
        "id": "0GoTU447xFXF"
      }
    },
    {
      "cell_type": "code",
      "source": [
        "# Create database (acts like UC schema)\n",
        "spark.sql(\"CREATE DATABASE IF NOT EXISTS finance_db\")\n",
        "spark.sql(\"USE finance_db\")\n"
      ],
      "metadata": {
        "colab": {
          "base_uri": "https://localhost:8080/"
        },
        "id": "ugSRNzh1vYyn",
        "outputId": "3a42e003-2b2b-4478-e4b5-17a7ee72c4c2"
      },
      "execution_count": 3,
      "outputs": [
        {
          "output_type": "execute_result",
          "data": {
            "text/plain": [
              "DataFrame[]"
            ]
          },
          "metadata": {},
          "execution_count": 3
        }
      ]
    },
    {
      "cell_type": "markdown",
      "source": [
        "Step 3: Create Sample Tables"
      ],
      "metadata": {
        "id": "k3sxlOfoxCoq"
      }
    },
    {
      "cell_type": "code",
      "source": [
        "data = [(1, \"Alice\", 5000), (2, \"Bob\", 7000), (3, \"Charlie\", 6000)]\n",
        "df = spark.createDataFrame(data, [\"id\", \"name\", \"salary\"])\n",
        "df.write.mode(\"overwrite\").saveAsTable(\"finance_db.employee\")\n",
        "\n",
        "spark.sql(\"SELECT * FROM finance_db.employee\").show()\n"
      ],
      "metadata": {
        "colab": {
          "base_uri": "https://localhost:8080/"
        },
        "id": "7DYEtvCZvayk",
        "outputId": "9f94e937-c2b9-4ee7-9f31-a8e9b39cbfa5"
      },
      "execution_count": 5,
      "outputs": [
        {
          "output_type": "stream",
          "name": "stdout",
          "text": [
            "+---+-------+------+\n",
            "| id|   name|salary|\n",
            "+---+-------+------+\n",
            "|  2|    Bob|  7000|\n",
            "|  3|Charlie|  6000|\n",
            "|  1|  Alice|  5000|\n",
            "+---+-------+------+\n",
            "\n"
          ]
        }
      ]
    },
    {
      "cell_type": "markdown",
      "source": [
        "Step 4: Data Discovery"
      ],
      "metadata": {
        "id": "EFVeHXpiw-7l"
      }
    },
    {
      "cell_type": "code",
      "source": [
        "# Show databases and tables\n",
        "spark.sql(\"SHOW DATABASES\").show()\n",
        "spark.sql(\"SHOW TABLES IN finance_db\").show()\n"
      ],
      "metadata": {
        "colab": {
          "base_uri": "https://localhost:8080/"
        },
        "id": "io3icdgnviU_",
        "outputId": "e21c7661-692a-42f6-ec6d-41003e35bbb3"
      },
      "execution_count": 6,
      "outputs": [
        {
          "output_type": "stream",
          "name": "stdout",
          "text": [
            "+----------+\n",
            "| namespace|\n",
            "+----------+\n",
            "|   default|\n",
            "|finance_db|\n",
            "+----------+\n",
            "\n",
            "+----------+---------+-----------+\n",
            "| namespace|tableName|isTemporary|\n",
            "+----------+---------+-----------+\n",
            "|finance_db| employee|      false|\n",
            "+----------+---------+-----------+\n",
            "\n"
          ]
        }
      ]
    },
    {
      "cell_type": "markdown",
      "source": [
        "Step 5: Access Control Simulation"
      ],
      "metadata": {
        "id": "ff-CuRBGw6XN"
      }
    },
    {
      "cell_type": "code",
      "source": [
        "# Example: filter data based on \"role\"\n",
        "user_role = \"HR\"\n",
        "\n",
        "if user_role == \"HR\":\n",
        "    spark.sql(\"SELECT id, name FROM finance_db.employee\").show()\n",
        "else:\n",
        "    spark.sql(\"SELECT * FROM finance_db.employee\").show()\n"
      ],
      "metadata": {
        "colab": {
          "base_uri": "https://localhost:8080/"
        },
        "id": "1Evhbg6owtNl",
        "outputId": "4aa35757-6358-49c5-93f9-dcd326acfb3d"
      },
      "execution_count": 7,
      "outputs": [
        {
          "output_type": "stream",
          "name": "stdout",
          "text": [
            "+---+-------+\n",
            "| id|   name|\n",
            "+---+-------+\n",
            "|  2|    Bob|\n",
            "|  3|Charlie|\n",
            "|  1|  Alice|\n",
            "+---+-------+\n",
            "\n"
          ]
        }
      ]
    },
    {
      "cell_type": "markdown",
      "source": [
        "Step 6: Data Lineage Simulation"
      ],
      "metadata": {
        "id": "iMeP_zQUw3ni"
      }
    },
    {
      "cell_type": "code",
      "source": [
        "# Derived dataset: employees with bonus\n",
        "spark.sql(\"\"\"\n",
        "    CREATE OR REPLACE TEMP VIEW employee_bonus AS\n",
        "    SELECT id, name, salary, salary * 0.1 AS bonus\n",
        "    FROM finance_db.employee\n",
        "\"\"\")\n",
        "\n",
        "spark.sql(\"SELECT * FROM employee_bonus\").show()\n"
      ],
      "metadata": {
        "colab": {
          "base_uri": "https://localhost:8080/"
        },
        "id": "22p6OtrOwwQD",
        "outputId": "f8b175ee-badb-41c0-e7b3-6f925d8fad6a"
      },
      "execution_count": 8,
      "outputs": [
        {
          "output_type": "stream",
          "name": "stdout",
          "text": [
            "+---+-------+------+-----+\n",
            "| id|   name|salary|bonus|\n",
            "+---+-------+------+-----+\n",
            "|  2|    Bob|  7000|700.0|\n",
            "|  3|Charlie|  6000|600.0|\n",
            "|  1|  Alice|  5000|500.0|\n",
            "+---+-------+------+-----+\n",
            "\n"
          ]
        }
      ]
    },
    {
      "cell_type": "markdown",
      "source": [
        "Step 7: Audit Logging"
      ],
      "metadata": {
        "id": "kJW8_I_Fw2ns"
      }
    },
    {
      "cell_type": "code",
      "source": [
        "import datetime\n",
        "\n",
        "def log_action(user, action):\n",
        "    with open(\"audit_log.txt\", \"a\") as f:\n",
        "        f.write(f\"{datetime.datetime.now()} | {user} | {action}\\n\")\n",
        "\n",
        "log_action(\"user1\", \"SELECT on finance_db.employee\")\n",
        "log_action(\"user2\", \"INSERT on finance_db.employee\")\n"
      ],
      "metadata": {
        "id": "bp8jd_UPwx80"
      },
      "execution_count": 9,
      "outputs": []
    },
    {
      "cell_type": "code",
      "source": [],
      "metadata": {
        "id": "DOTtgfZqw0X3"
      },
      "execution_count": null,
      "outputs": []
    }
  ]
}