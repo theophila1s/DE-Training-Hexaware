{
 "cells": [
  {
   "cell_type": "code",
   "execution_count": 0,
   "metadata": {
    "application/vnd.databricks.v1+cell": {
     "cellMetadata": {
      "byteLimit": 2048000,
      "implicitDf": true,
      "rowLimit": 10000
     },
     "inputWidgets": {},
     "nuid": "91394396-55e7-414d-a36f-5226b36a6618",
     "showTitle": false,
     "tableResultSettingsMap": {},
     "title": ""
    }
   },
   "outputs": [
    {
     "output_type": "display_data",
     "data": {
      "text/html": [
       "<style scoped>\n",
       "  .table-result-container {\n",
       "    max-height: 300px;\n",
       "    overflow: auto;\n",
       "  }\n",
       "  table, th, td {\n",
       "    border: 1px solid black;\n",
       "    border-collapse: collapse;\n",
       "  }\n",
       "  th, td {\n",
       "    padding: 5px;\n",
       "  }\n",
       "  th {\n",
       "    text-align: left;\n",
       "  }\n",
       "</style><div class='table-result-container'><table class='table-result'><thead style='background-color: white'><tr><th>dropoff_hour</th><th>num</th></tr></thead><tbody><tr><td>15</td><td>89</td></tr><tr><td>20</td><td>118</td></tr><tr><td>21</td><td>115</td></tr><tr><td>22</td><td>106</td></tr><tr><td>17</td><td>65</td></tr><tr><td>1</td><td>99</td></tr><tr><td>23</td><td>113</td></tr><tr><td>4</td><td>47</td></tr><tr><td>13</td><td>83</td></tr><tr><td>8</td><td>54</td></tr><tr><td>6</td><td>32</td></tr><tr><td>3</td><td>50</td></tr><tr><td>16</td><td>74</td></tr><tr><td>11</td><td>70</td></tr><tr><td>0</td><td>112</td></tr><tr><td>2</td><td>78</td></tr><tr><td>19</td><td>125</td></tr><tr><td>7</td><td>30</td></tr><tr><td>10</td><td>58</td></tr><tr><td>9</td><td>51</td></tr><tr><td>18</td><td>103</td></tr><tr><td>14</td><td>72</td></tr><tr><td>5</td><td>20</td></tr><tr><td>12</td><td>76</td></tr></tbody></table></div>"
      ]
     },
     "metadata": {
      "application/vnd.databricks.v1+output": {
       "addedWidgets": {},
       "aggData": [],
       "aggError": "",
       "aggOverflow": false,
       "aggSchema": [],
       "aggSeriesLimitReached": false,
       "aggType": "",
       "arguments": {},
       "columnCustomDisplayInfos": {},
       "data": [
        [
         15,
         89
        ],
        [
         20,
         118
        ],
        [
         21,
         115
        ],
        [
         22,
         106
        ],
        [
         17,
         65
        ],
        [
         1,
         99
        ],
        [
         23,
         113
        ],
        [
         4,
         47
        ],
        [
         13,
         83
        ],
        [
         8,
         54
        ],
        [
         6,
         32
        ],
        [
         3,
         50
        ],
        [
         16,
         74
        ],
        [
         11,
         70
        ],
        [
         0,
         112
        ],
        [
         2,
         78
        ],
        [
         19,
         125
        ],
        [
         7,
         30
        ],
        [
         10,
         58
        ],
        [
         9,
         51
        ],
        [
         18,
         103
        ],
        [
         14,
         72
        ],
        [
         5,
         20
        ],
        [
         12,
         76
        ]
       ],
       "datasetInfos": [
        {
         "name": "_sqldf",
         "schema": {
          "fields": [
           {
            "metadata": {},
            "name": "dropoff_hour",
            "nullable": true,
            "type": "integer"
           },
           {
            "metadata": {},
            "name": "num",
            "nullable": false,
            "type": "long"
           }
          ],
          "type": "struct"
         },
         "tableIdentifier": null,
         "typeStr": "pyspark.sql.connect.dataframe.DataFrame"
        }
       ],
       "dbfsResultPath": null,
       "isJsonSchema": true,
       "metadata": {
        "createTempViewForImplicitDf": true,
        "dataframeName": "_sqldf",
        "executionCount": 4
       },
       "overflow": false,
       "plotOptions": {
        "customPlotOptions": {},
        "displayType": "table",
        "pivotAggregation": null,
        "pivotColumns": null,
        "xColumns": null,
        "yColumns": null
       },
       "removedWidgets": [],
       "schema": [
        {
         "metadata": "{}",
         "name": "dropoff_hour",
         "type": "\"integer\""
        },
        {
         "metadata": "{}",
         "name": "num",
         "type": "\"long\""
        }
       ],
       "type": "table"
      }
     },
     "output_type": "display_data"
    }
   ],
   "source": [
    "%sql\n",
    "USE CATALOG samples;\n",
    "   SELECT\n",
    "      hour(tpep_dropoff_datetime) as dropoff_hour,\n",
    "      COUNT(*) AS num\n",
    "   FROM samples.nyctaxi.trips\n",
    "   WHERE pickup_zip in ['10001', '10002']\n",
    "   GROUP BY 1;"
   ]
  },
  {
   "cell_type": "code",
   "execution_count": 0,
   "metadata": {
    "application/vnd.databricks.v1+cell": {
     "cellMetadata": {
      "byteLimit": 2048000,
      "rowLimit": 10000
     },
     "inputWidgets": {},
     "nuid": "e3e4a035-0642-4720-9ae3-c8c9413f7902",
     "showTitle": false,
     "tableResultSettingsMap": {
      "0": {
       "dataGridStateBlob": null,
       "filterBlob": "{\"version\":1,\"filterGroups\":[{\"enabled\":true,\"op\":\"OR\",\"filterGroupId\":\"fg_300c1de3\",\"filters\":[{\"filterId\":\"f_58a4a2c6\",\"columnId\":\"num\",\"enabled\":true,\"dataType\":\"integer\",\"filterType\":\"gte\",\"filterValue\":60,\"filterValues\":[],\"filterConfig\":{\"caseSensitive\":false,\"includeMax\":true,\"includeMin\":true}}],\"local\":false,\"updatedAt\":1754473372403}],\"syncTimestamp\":1754473372414}",
       "queryPlanFiltersBlob": "[{\"kind\":\"call\",\"function\":\"or\",\"args\":[{\"kind\":\"call\",\"function\":\"gte\",\"args\":[{\"kind\":\"identifier\",\"identifier\":\"num\"},{\"kind\":\"literal\",\"value\":60,\"type\":\"integer\"}]}]}]",
       "tableResultIndex": 0
      }
     },
     "title": ""
    }
   },
   "outputs": [
    {
     "output_type": "display_data",
     "data": {
      "text/html": [
       "<style scoped>\n",
       "  .table-result-container {\n",
       "    max-height: 300px;\n",
       "    overflow: auto;\n",
       "  }\n",
       "  table, th, td {\n",
       "    border: 1px solid black;\n",
       "    border-collapse: collapse;\n",
       "  }\n",
       "  th, td {\n",
       "    padding: 5px;\n",
       "  }\n",
       "  th {\n",
       "    text-align: left;\n",
       "  }\n",
       "</style><div class='table-result-container'><table class='table-result'><thead style='background-color: white'><tr><th>dropoff_hour</th><th>num</th></tr></thead><tbody><tr><td>15</td><td>71</td></tr><tr><td>20</td><td>88</td></tr><tr><td>21</td><td>80</td></tr><tr><td>22</td><td>60</td></tr><tr><td>17</td><td>54</td></tr><tr><td>1</td><td>40</td></tr><tr><td>23</td><td>60</td></tr><tr><td>4</td><td>20</td></tr><tr><td>13</td><td>69</td></tr><tr><td>8</td><td>42</td></tr><tr><td>6</td><td>19</td></tr><tr><td>3</td><td>18</td></tr><tr><td>16</td><td>63</td></tr><tr><td>11</td><td>53</td></tr><tr><td>0</td><td>57</td></tr><tr><td>2</td><td>24</td></tr><tr><td>19</td><td>85</td></tr><tr><td>7</td><td>26</td></tr><tr><td>10</td><td>45</td></tr><tr><td>9</td><td>42</td></tr><tr><td>18</td><td>81</td></tr><tr><td>14</td><td>56</td></tr><tr><td>5</td><td>12</td></tr><tr><td>12</td><td>62</td></tr></tbody></table></div>"
      ]
     },
     "metadata": {
      "application/vnd.databricks.v1+output": {
       "addedWidgets": {},
       "aggData": [],
       "aggError": "",
       "aggOverflow": false,
       "aggSchema": [],
       "aggSeriesLimitReached": false,
       "aggType": "",
       "arguments": {},
       "columnCustomDisplayInfos": {},
       "data": [
        [
         15,
         71
        ],
        [
         20,
         88
        ],
        [
         21,
         80
        ],
        [
         22,
         60
        ],
        [
         17,
         54
        ],
        [
         1,
         40
        ],
        [
         23,
         60
        ],
        [
         4,
         20
        ],
        [
         13,
         69
        ],
        [
         8,
         42
        ],
        [
         6,
         19
        ],
        [
         3,
         18
        ],
        [
         16,
         63
        ],
        [
         11,
         53
        ],
        [
         0,
         57
        ],
        [
         2,
         24
        ],
        [
         19,
         85
        ],
        [
         7,
         26
        ],
        [
         10,
         45
        ],
        [
         9,
         42
        ],
        [
         18,
         81
        ],
        [
         14,
         56
        ],
        [
         5,
         12
        ],
        [
         12,
         62
        ]
       ],
       "datasetInfos": [],
       "dbfsResultPath": null,
       "isJsonSchema": true,
       "metadata": {},
       "overflow": false,
       "plotOptions": {
        "customPlotOptions": {},
        "displayType": "table",
        "pivotAggregation": null,
        "pivotColumns": null,
        "xColumns": null,
        "yColumns": null
       },
       "removedWidgets": [],
       "schema": [
        {
         "metadata": "{}",
         "name": "dropoff_hour",
         "type": "\"integer\""
        },
        {
         "metadata": "{}",
         "name": "num",
         "type": "\"long\""
        }
       ],
       "type": "table"
      }
     },
     "output_type": "display_data"
    },
    {
     "output_type": "display_data",
     "data": {
      "text/plain": [
       "Databricks visualization. Run in Databricks to view."
      ]
     },
     "metadata": {
      "application/vnd.databricks.v1.subcommand+json": {
       "baseErrorDetails": null,
       "bindings": {},
       "collapsed": false,
       "command": "%python\n__backend_agg_display_orig = display\n__backend_agg_dfs = []\ndef __backend_agg_display_new(df):\n    __backend_agg_df_modules = [\"pandas.core.frame\", \"databricks.koalas.frame\", \"pyspark.sql.dataframe\", \"pyspark.pandas.frame\", \"pyspark.sql.connect.dataframe\"]\n    if (type(df).__module__ in __backend_agg_df_modules and type(df).__name__ == 'DataFrame') or isinstance(df, list):\n        __backend_agg_dfs.append(df)\n\ndisplay = __backend_agg_display_new\n\ndef __backend_agg_user_code_fn():\n    import base64\n    exec(base64.standard_b64decode(\"ZnJvbSBweXNwYXJrLnNxbC5mdW5jdGlvbnMgaW1wb3J0IGhvdXIsIGNvbAoKcGlja3VwemlwID0gJzEwMDAxJyAgIyBFeGFtcGxlIHZhbHVlIGZvciBwaWNrdXB6aXAKZGYgPSBzcGFyay50YWJsZSgic2FtcGxlcy5ueWN0YXhpLnRyaXBzIikKcmVzdWx0X2RmID0gZGYuZmlsdGVyKGNvbCgicGlja3VwX3ppcCIpID09IHBpY2t1cHppcCkgXAogICAgICAgICAgICAgIC5ncm91cEJ5KGhvdXIoY29sKCJ0cGVwX2Ryb3BvZmZfZGF0ZXRpbWUiKSkuYWxpYXMoImRyb3BvZmZfaG91ciIpKSBcCiAgICAgICAgICAgICAgLmNvdW50KCkgXAogICAgICAgICAgICAgIC53aXRoQ29sdW1uUmVuYW1lZCgiY291bnQiLCAibnVtIikKZGlzcGxheShyZXN1bHRfZGYp\").decode())\n\ntry:\n    # run user code\n    __backend_agg_user_code_fn()\n\n    #reset display function\n    display = __backend_agg_display_orig\n\n    if len(__backend_agg_dfs) > 0:\n        # create a temp view\n        if type(__backend_agg_dfs[0]).__module__ == \"databricks.koalas.frame\":\n            # koalas dataframe\n            __backend_agg_dfs[0].to_spark().createOrReplaceTempView(\"DatabricksViewe54d69f\")\n        elif type(__backend_agg_dfs[0]).__module__ == \"pandas.core.frame\" or isinstance(__backend_agg_dfs[0], list):\n            # pandas dataframe\n            spark.createDataFrame(__backend_agg_dfs[0]).createOrReplaceTempView(\"DatabricksViewe54d69f\")\n        else:\n            __backend_agg_dfs[0].createOrReplaceTempView(\"DatabricksViewe54d69f\")\n        #run backend agg\n        display(spark.sql(\"\"\"WITH q AS (select * from DatabricksViewe54d69f) SELECT `num`,AVG(`dropoff_hour`) `column_fcec83b520` FROM q GROUP BY `num`\"\"\"))\n    else:\n        displayHTML(\"dataframe no longer exists. If you're using dataframe.display(), use display(dataframe) instead.\")\n\n\nfinally:\n    spark.sql(\"drop view if exists DatabricksViewe54d69f\")\n    display = __backend_agg_display_orig\n    del __backend_agg_display_new\n    del __backend_agg_display_orig\n    del __backend_agg_dfs\n    del __backend_agg_user_code_fn\n\n",
       "commandTitle": "Visualization 1",
       "commandType": "auto",
       "commandVersion": 0,
       "commentThread": [],
       "commentsVisible": false,
       "contentSha256Hex": null,
       "customPlotOptions": {
        "redashChart": [
         {
          "key": "type",
          "value": "CHART"
         },
         {
          "key": "options",
          "value": {
           "alignYAxesAtZero": true,
           "coefficient": 1,
           "columnConfigurationMap": {
            "x": {
             "column": "num",
             "id": "column_fcec83b522"
            },
            "y": [
             {
              "column": "dropoff_hour",
              "id": "column_fcec83b520",
              "transform": "COUNT"
             }
            ]
           },
           "dateTimeFormat": "DD/MM/YYYY HH:mm",
           "direction": {
            "type": "counterclockwise"
           },
           "error_y": {
            "type": "data",
            "visible": true
           },
           "globalSeriesType": "pie",
           "isAggregationOn": true,
           "legend": {
            "traceorder": "normal"
           },
           "missingValuesAsZero": true,
           "numberFormat": "0,0.[00000]",
           "percentFormat": "0[.]00%",
           "series": {
            "error_y": {
             "type": "data",
             "visible": true
            },
            "stacking": null
           },
           "seriesOptions": {
            "column_fcec83b520": {
             "name": "num",
             "type": "pie",
             "yAxis": 0
            }
           },
           "showDataLabels": true,
           "sizemode": "diameter",
           "sortX": true,
           "sortY": true,
           "swappedAxes": false,
           "textFormat": "",
           "useAggregationsUi": true,
           "valuesOptions": {},
           "version": 2,
           "xAxis": {
            "labels": {
             "enabled": true
            },
            "type": "-"
           },
           "yAxis": [
            {
             "type": "-"
            },
            {
             "opposite": true,
             "type": "-"
            }
           ]
          }
         }
        ]
       },
       "datasetPreviewNameToCmdIdMap": {},
       "diffDeletes": [],
       "diffInserts": [],
       "displayType": "redashChart",
       "error": null,
       "errorDetails": null,
       "errorSummary": null,
       "errorTraceType": null,
       "finishTime": 0,
       "globalVars": {},
       "guid": "",
       "height": "auto",
       "hideCommandCode": false,
       "hideCommandResult": false,
       "iPythonMetadata": null,
       "inputWidgets": {},
       "isLockedInExamMode": false,
       "latestUser": "a user",
       "latestUserId": null,
       "listResultMetadata": null,
       "metadata": {},
       "nuid": "110a2942-773c-46f7-9fc8-b1397fff8bba",
       "origId": 0,
       "parentHierarchy": [],
       "pivotAggregation": null,
       "pivotColumns": null,
       "position": 3.0,
       "resultDbfsErrorMessage": null,
       "resultDbfsStatus": "INLINED_IN_TREE",
       "results": null,
       "showCommandTitle": false,
       "startTime": 0,
       "state": "input",
       "streamStates": {},
       "subcommandOptions": {
        "queryPlan": {
         "groups": [
          {
           "column": "num",
           "type": "column"
          }
         ],
         "selects": [
          {
           "column": "num",
           "type": "column"
          },
          {
           "alias": "column_fcec83b520",
           "args": [
            {
             "column": "dropoff_hour",
             "type": "column"
            }
           ],
           "function": "COUNT",
           "type": "function"
          }
         ]
        }
       },
       "submitTime": 0,
       "subtype": "tableResultSubCmd.visualization",
       "tableResultIndex": 0,
       "tableResultSettingsMap": {},
       "useConsistentColors": false,
       "version": "CommandV1",
       "width": "auto",
       "workflows": [],
       "xColumns": null,
       "yColumns": null
      }
     },
     "output_type": "display_data"
    },
    {
     "output_type": "display_data",
     "data": {
      "text/plain": [
       "Databricks visualization. Run in Databricks to view."
      ]
     },
     "metadata": {
      "application/vnd.databricks.v1.subcommand+json": {
       "baseErrorDetails": null,
       "bindings": {},
       "collapsed": false,
       "command": "%python\n__backend_agg_display_orig = display\n__backend_agg_dfs = []\ndef __backend_agg_display_new(df):\n    __backend_agg_df_modules = [\"pandas.core.frame\", \"databricks.koalas.frame\", \"pyspark.sql.dataframe\", \"pyspark.pandas.frame\", \"pyspark.sql.connect.dataframe\"]\n    if (type(df).__module__ in __backend_agg_df_modules and type(df).__name__ == 'DataFrame') or isinstance(df, list):\n        __backend_agg_dfs.append(df)\n\ndisplay = __backend_agg_display_new\n\ndef __backend_agg_user_code_fn():\n    import base64\n    exec(base64.standard_b64decode(\"ZnJvbSBweXNwYXJrLnNxbC5mdW5jdGlvbnMgaW1wb3J0IGhvdXIsIGNvbAoKcGlja3VwemlwID0gJzEwMDAxJyAgIyBFeGFtcGxlIHZhbHVlIGZvciBwaWNrdXB6aXAKZGYgPSBzcGFyay50YWJsZSgic2FtcGxlcy5ueWN0YXhpLnRyaXBzIikKcmVzdWx0X2RmID0gZGYuZmlsdGVyKGNvbCgicGlja3VwX3ppcCIpID09IHBpY2t1cHppcCkgXAogICAgICAgICAgICAgIC5ncm91cEJ5KGhvdXIoY29sKCJ0cGVwX2Ryb3BvZmZfZGF0ZXRpbWUiKSkuYWxpYXMoImRyb3BvZmZfaG91ciIpKSBcCiAgICAgICAgICAgICAgLmNvdW50KCkgXAogICAgICAgICAgICAgIC53aXRoQ29sdW1uUmVuYW1lZCgiY291bnQiLCAibnVtIikKZGlzcGxheShyZXN1bHRfZGYp\").decode())\n\ntry:\n    # run user code\n    __backend_agg_user_code_fn()\n\n    #reset display function\n    display = __backend_agg_display_orig\n\n    if len(__backend_agg_dfs) > 0:\n        # create a temp view\n        if type(__backend_agg_dfs[0]).__module__ == \"databricks.koalas.frame\":\n            # koalas dataframe\n            __backend_agg_dfs[0].to_spark().createOrReplaceTempView(\"DatabricksViewd048519\")\n        elif type(__backend_agg_dfs[0]).__module__ == \"pandas.core.frame\" or isinstance(__backend_agg_dfs[0], list):\n            # pandas dataframe\n            spark.createDataFrame(__backend_agg_dfs[0]).createOrReplaceTempView(\"DatabricksViewd048519\")\n        else:\n            __backend_agg_dfs[0].createOrReplaceTempView(\"DatabricksViewd048519\")\n        #run backend agg\n        display(spark.sql(\"\"\"WITH q AS (select * from DatabricksViewd048519) SELECT `num`,`dropoff_hour` FROM q GROUP BY `dropoff_hour`,`num`\"\"\"))\n    else:\n        displayHTML(\"dataframe no longer exists. If you're using dataframe.display(), use display(dataframe) instead.\")\n\n\nfinally:\n    spark.sql(\"drop view if exists DatabricksViewd048519\")\n    display = __backend_agg_display_orig\n    del __backend_agg_display_new\n    del __backend_agg_display_orig\n    del __backend_agg_dfs\n    del __backend_agg_user_code_fn\n\n",
       "commandTitle": "Visualization 2",
       "commandType": "auto",
       "commandVersion": 0,
       "commentThread": [],
       "commentsVisible": false,
       "contentSha256Hex": null,
       "customPlotOptions": {
        "redashChart": [
         {
          "key": "type",
          "value": "CHART"
         },
         {
          "key": "options",
          "value": {
           "alignYAxesAtZero": true,
           "coefficient": 1,
           "columnConfigurationMap": {
            "x": {
             "column": "num",
             "id": "column_fcec83b527"
            },
            "y": [
             {
              "column": "dropoff_hour",
              "id": "column_fcec83b528"
             }
            ]
           },
           "dateTimeFormat": "DD/MM/YYYY HH:mm",
           "direction": {
            "type": "counterclockwise"
           },
           "error_y": {
            "type": "data",
            "visible": true
           },
           "globalSeriesType": "heatmap",
           "isAggregationOn": true,
           "legend": {
            "traceorder": "normal"
           },
           "missingValuesAsZero": true,
           "numberFormat": "0,0.[00000]",
           "percentFormat": "0[.]00%",
           "series": {
            "error_y": {
             "type": "data",
             "visible": true
            },
            "stacking": null
           },
           "seriesOptions": {
            "column_fcec83b526": {
             "name": "num",
             "type": "heatmap",
             "yAxis": 0
            },
            "column_fcec83b528": {
             "type": "heatmap",
             "yAxis": 0
            }
           },
           "showDataLabels": false,
           "sizemode": "diameter",
           "sortX": true,
           "sortY": true,
           "swappedAxes": false,
           "textFormat": "",
           "useAggregationsUi": true,
           "valuesOptions": {},
           "version": 2,
           "xAxis": {
            "labels": {
             "enabled": true
            },
            "type": "-"
           },
           "yAxis": [
            {
             "type": "-"
            },
            {
             "opposite": true,
             "type": "-"
            }
           ]
          }
         }
        ]
       },
       "datasetPreviewNameToCmdIdMap": {},
       "diffDeletes": [],
       "diffInserts": [],
       "displayType": "redashChart",
       "error": null,
       "errorDetails": null,
       "errorSummary": null,
       "errorTraceType": null,
       "finishTime": 0,
       "globalVars": {},
       "guid": "",
       "height": "auto",
       "hideCommandCode": false,
       "hideCommandResult": false,
       "iPythonMetadata": null,
       "inputWidgets": {},
       "isLockedInExamMode": false,
       "latestUser": "a user",
       "latestUserId": null,
       "listResultMetadata": null,
       "metadata": {},
       "nuid": "e6502d74-1dd9-4d99-8e93-81bb8fcbd9cb",
       "origId": 0,
       "parentHierarchy": [],
       "pivotAggregation": null,
       "pivotColumns": null,
       "position": 4.0,
       "resultDbfsErrorMessage": null,
       "resultDbfsStatus": "INLINED_IN_TREE",
       "results": null,
       "showCommandTitle": false,
       "startTime": 0,
       "state": "input",
       "streamStates": {},
       "subcommandOptions": {
        "queryPlan": {
         "groups": [
          {
           "column": "num",
           "type": "column"
          },
          {
           "column": "dropoff_hour",
           "type": "column"
          }
         ],
         "selects": [
          {
           "column": "num",
           "type": "column"
          },
          {
           "column": "dropoff_hour",
           "type": "column"
          }
         ]
        }
       },
       "submitTime": 0,
       "subtype": "tableResultSubCmd.visualization",
       "tableResultIndex": 0,
       "tableResultSettingsMap": {},
       "useConsistentColors": false,
       "version": "CommandV1",
       "width": "auto",
       "workflows": [],
       "xColumns": null,
       "yColumns": null
      }
     },
     "output_type": "display_data"
    },
    {
     "output_type": "display_data",
     "data": {
      "text/plain": [
       "Databricks visualization. Run in Databricks to view."
      ]
     },
     "metadata": {
      "application/vnd.databricks.v1.subcommand+json": {
       "baseErrorDetails": null,
       "bindings": {},
       "collapsed": false,
       "command": "%python\n__backend_agg_display_orig = display\n__backend_agg_dfs = []\ndef __backend_agg_display_new(df):\n    __backend_agg_df_modules = [\"pandas.core.frame\", \"databricks.koalas.frame\", \"pyspark.sql.dataframe\", \"pyspark.pandas.frame\", \"pyspark.sql.connect.dataframe\"]\n    if (type(df).__module__ in __backend_agg_df_modules and type(df).__name__ == 'DataFrame') or isinstance(df, list):\n        __backend_agg_dfs.append(df)\n\ndisplay = __backend_agg_display_new\n\ndef __backend_agg_user_code_fn():\n    import base64\n    exec(base64.standard_b64decode(\"ZnJvbSBweXNwYXJrLnNxbC5mdW5jdGlvbnMgaW1wb3J0IGhvdXIsIGNvbAoKcGlja3VwemlwID0gJzEwMDAxJyAgIyBFeGFtcGxlIHZhbHVlIGZvciBwaWNrdXB6aXAKZGYgPSBzcGFyay50YWJsZSgic2FtcGxlcy5ueWN0YXhpLnRyaXBzIikKcmVzdWx0X2RmID0gZGYuZmlsdGVyKGNvbCgicGlja3VwX3ppcCIpID09IHBpY2t1cHppcCkgXAogICAgICAgICAgICAgIC5ncm91cEJ5KGhvdXIoY29sKCJ0cGVwX2Ryb3BvZmZfZGF0ZXRpbWUiKSkuYWxpYXMoImRyb3BvZmZfaG91ciIpKSBcCiAgICAgICAgICAgICAgLmNvdW50KCkgXAogICAgICAgICAgICAgIC53aXRoQ29sdW1uUmVuYW1lZCgiY291bnQiLCAibnVtIikKZGlzcGxheShyZXN1bHRfZGYp\").decode())\n\ntry:\n    # run user code\n    __backend_agg_user_code_fn()\n\n    #reset display function\n    display = __backend_agg_display_orig\n\n    if len(__backend_agg_dfs) > 0:\n        # create a temp view\n        if type(__backend_agg_dfs[0]).__module__ == \"databricks.koalas.frame\":\n            # koalas dataframe\n            __backend_agg_dfs[0].to_spark().createOrReplaceTempView(\"DatabricksView3bc22ad\")\n        elif type(__backend_agg_dfs[0]).__module__ == \"pandas.core.frame\" or isinstance(__backend_agg_dfs[0], list):\n            # pandas dataframe\n            spark.createDataFrame(__backend_agg_dfs[0]).createOrReplaceTempView(\"DatabricksView3bc22ad\")\n        else:\n            __backend_agg_dfs[0].createOrReplaceTempView(\"DatabricksView3bc22ad\")\n        #run backend agg\n        display(spark.sql(\"\"\"WITH q AS (select * from DatabricksView3bc22ad) SELECT `dropoff_hour`,SUM(`dropoff_hour`) `column_fcec83b530` FROM q GROUP BY `dropoff_hour`\"\"\"))\n    else:\n        displayHTML(\"dataframe no longer exists. If you're using dataframe.display(), use display(dataframe) instead.\")\n\n\nfinally:\n    spark.sql(\"drop view if exists DatabricksView3bc22ad\")\n    display = __backend_agg_display_orig\n    del __backend_agg_display_new\n    del __backend_agg_display_orig\n    del __backend_agg_dfs\n    del __backend_agg_user_code_fn\n\n",
       "commandTitle": "Visualization 3",
       "commandType": "auto",
       "commandVersion": 0,
       "commentThread": [],
       "commentsVisible": false,
       "contentSha256Hex": null,
       "customPlotOptions": {
        "redashChart": [
         {
          "key": "type",
          "value": "CHART"
         },
         {
          "key": "options",
          "value": {
           "alignYAxesAtZero": true,
           "coefficient": 1,
           "columnConfigurationMap": {
            "x": {
             "column": "dropoff_hour",
             "id": "column_fcec83b533"
            },
            "y": [
             {
              "column": "dropoff_hour",
              "id": "column_fcec83b530",
              "transform": "SUM"
             }
            ]
           },
           "dateTimeFormat": "DD/MM/YYYY HH:mm",
           "direction": {
            "type": "counterclockwise"
           },
           "error_y": {
            "type": "data",
            "visible": true
           },
           "globalSeriesType": "combo",
           "isAggregationOn": true,
           "legend": {
            "traceorder": "normal"
           },
           "missingValuesAsZero": false,
           "numberFormat": "0,0.[00000]",
           "percentFormat": "0[.]00%",
           "series": {
            "error_y": {
             "type": "data",
             "visible": true
            },
            "stacking": null
           },
           "seriesOptions": {
            "column_fcec83b530": {
             "name": "num",
             "type": "column",
             "yAxis": 0
            }
           },
           "showDataLabels": false,
           "sizemode": "diameter",
           "sortX": true,
           "sortY": true,
           "swappedAxes": false,
           "textFormat": "",
           "useAggregationsUi": true,
           "valuesOptions": {},
           "version": 2,
           "xAxis": {
            "labels": {
             "enabled": true
            },
            "type": "-"
           },
           "yAxis": [
            {
             "type": "-"
            },
            {
             "opposite": true,
             "type": "-"
            }
           ]
          }
         }
        ]
       },
       "datasetPreviewNameToCmdIdMap": {},
       "diffDeletes": [],
       "diffInserts": [],
       "displayType": "redashChart",
       "error": null,
       "errorDetails": null,
       "errorSummary": null,
       "errorTraceType": null,
       "finishTime": 0,
       "globalVars": {},
       "guid": "",
       "height": "auto",
       "hideCommandCode": false,
       "hideCommandResult": false,
       "iPythonMetadata": null,
       "inputWidgets": {},
       "isLockedInExamMode": false,
       "latestUser": "a user",
       "latestUserId": null,
       "listResultMetadata": null,
       "metadata": {},
       "nuid": "44605262-9283-444e-b502-b29111f6aafe",
       "origId": 0,
       "parentHierarchy": [],
       "pivotAggregation": null,
       "pivotColumns": null,
       "position": 5.0,
       "resultDbfsErrorMessage": null,
       "resultDbfsStatus": "INLINED_IN_TREE",
       "results": null,
       "showCommandTitle": false,
       "startTime": 0,
       "state": "input",
       "streamStates": {},
       "subcommandOptions": {
        "queryPlan": {
         "groups": [
          {
           "column": "dropoff_hour",
           "type": "column"
          }
         ],
         "selects": [
          {
           "column": "dropoff_hour",
           "type": "column"
          },
          {
           "alias": "column_fcec83b530",
           "args": [
            {
             "column": "dropoff_hour",
             "type": "column"
            }
           ],
           "function": "SUM",
           "type": "function"
          }
         ]
        }
       },
       "submitTime": 0,
       "subtype": "tableResultSubCmd.visualization",
       "tableResultIndex": 0,
       "tableResultSettingsMap": {},
       "useConsistentColors": false,
       "version": "CommandV1",
       "width": "auto",
       "workflows": [],
       "xColumns": null,
       "yColumns": null
      }
     },
     "output_type": "display_data"
    },
    {
     "output_type": "display_data",
     "data": {
      "text/plain": [
       "Databricks visualization. Run in Databricks to view."
      ]
     },
     "metadata": {
      "application/vnd.databricks.v1.subcommand+json": {
       "baseErrorDetails": null,
       "bindings": {},
       "collapsed": false,
       "command": "%python\n__backend_agg_display_orig = display\n__backend_agg_dfs = []\ndef __backend_agg_display_new(df):\n    __backend_agg_df_modules = [\"pandas.core.frame\", \"databricks.koalas.frame\", \"pyspark.sql.dataframe\", \"pyspark.pandas.frame\", \"pyspark.sql.connect.dataframe\"]\n    if (type(df).__module__ in __backend_agg_df_modules and type(df).__name__ == 'DataFrame') or isinstance(df, list):\n        __backend_agg_dfs.append(df)\n\ndisplay = __backend_agg_display_new\n\ndef __backend_agg_user_code_fn():\n    import base64\n    exec(base64.standard_b64decode(\"ZnJvbSBweXNwYXJrLnNxbC5mdW5jdGlvbnMgaW1wb3J0IGhvdXIsIGNvbAoKcGlja3VwemlwID0gJzEwMDAxJyAgIyBFeGFtcGxlIHZhbHVlIGZvciBwaWNrdXB6aXAKZGYgPSBzcGFyay50YWJsZSgic2FtcGxlcy5ueWN0YXhpLnRyaXBzIikKcmVzdWx0X2RmID0gZGYuZmlsdGVyKGNvbCgicGlja3VwX3ppcCIpID09IHBpY2t1cHppcCkgXAogICAgICAgICAgICAgIC5ncm91cEJ5KGhvdXIoY29sKCJ0cGVwX2Ryb3BvZmZfZGF0ZXRpbWUiKSkuYWxpYXMoImRyb3BvZmZfaG91ciIpKSBcCiAgICAgICAgICAgICAgLmNvdW50KCkgXAogICAgICAgICAgICAgIC53aXRoQ29sdW1uUmVuYW1lZCgiY291bnQiLCAibnVtIikKZGlzcGxheShyZXN1bHRfZGYp\").decode())\n\ntry:\n    # run user code\n    __backend_agg_user_code_fn()\n\n    #reset display function\n    display = __backend_agg_display_orig\n\n    if len(__backend_agg_dfs) > 0:\n        # create a temp view\n        if type(__backend_agg_dfs[0]).__module__ == \"databricks.koalas.frame\":\n            # koalas dataframe\n            __backend_agg_dfs[0].to_spark().createOrReplaceTempView(\"DatabricksView3a19008\")\n        elif type(__backend_agg_dfs[0]).__module__ == \"pandas.core.frame\" or isinstance(__backend_agg_dfs[0], list):\n            # pandas dataframe\n            spark.createDataFrame(__backend_agg_dfs[0]).createOrReplaceTempView(\"DatabricksView3a19008\")\n        else:\n            __backend_agg_dfs[0].createOrReplaceTempView(\"DatabricksView3a19008\")\n        #run backend agg\n        display(spark.sql(\"\"\"WITH q AS (select * from DatabricksView3a19008) SELECT `dropoff_hour`,`dropoff_hour`,`num`,`dropoff_hour`,`dropoff_hour` FROM q\"\"\"))\n    else:\n        displayHTML(\"dataframe no longer exists. If you're using dataframe.display(), use display(dataframe) instead.\")\n\n\nfinally:\n    spark.sql(\"drop view if exists DatabricksView3a19008\")\n    display = __backend_agg_display_orig\n    del __backend_agg_display_new\n    del __backend_agg_display_orig\n    del __backend_agg_dfs\n    del __backend_agg_user_code_fn\n\n",
       "commandTitle": "Visualization 4",
       "commandType": "auto",
       "commandVersion": 0,
       "commentThread": [],
       "commentsVisible": false,
       "contentSha256Hex": null,
       "customPlotOptions": {
        "redashChart": [
         {
          "key": "type",
          "value": "CHART"
         },
         {
          "key": "options",
          "value": {
           "alignYAxesAtZero": true,
           "coefficient": 5,
           "columnConfigurationMap": {
            "series": {
             "column": "dropoff_hour",
             "id": "column_fcec83b543"
            },
            "size": {
             "column": "dropoff_hour",
             "id": "column_fcec83b544"
            },
            "x": {
             "column": "dropoff_hour",
             "id": "column_fcec83b542"
            },
            "y": [
             {
              "column": "dropoff_hour",
              "id": "column_fcec83b540"
             },
             {
              "column": "num",
              "id": "column_fcec83b541"
             }
            ]
           },
           "dateTimeFormat": "DD/MM/YYYY HH:mm",
           "direction": {
            "type": "counterclockwise"
           },
           "error_y": {
            "type": "data",
            "visible": true
           },
           "globalSeriesType": "bubble",
           "legend": {
            "traceorder": "normal"
           },
           "missingValuesAsZero": true,
           "numberFormat": "0,0.[00000]",
           "percentFormat": "0[.]00%",
           "series": {
            "error_y": {
             "type": "data",
             "visible": true
            },
            "stacking": null
           },
           "seriesOptions": {
            "column_fcec83b535": {
             "name": "num",
             "type": "bubble",
             "yAxis": 0
            },
            "dropoff_hour": {
             "type": "bubble",
             "yAxis": 0
            },
            "num": {
             "type": "bubble",
             "yAxis": 0
            }
           },
           "showDataLabels": false,
           "sizemode": "diameter",
           "sortX": true,
           "sortY": true,
           "swappedAxes": false,
           "textFormat": "",
           "useAggregationsUi": true,
           "valuesOptions": {},
           "version": 2,
           "xAxis": {
            "labels": {
             "enabled": true
            },
            "type": "-"
           },
           "yAxis": [
            {
             "type": "-"
            },
            {
             "opposite": true,
             "type": "-"
            }
           ]
          }
         }
        ]
       },
       "datasetPreviewNameToCmdIdMap": {},
       "diffDeletes": [],
       "diffInserts": [],
       "displayType": "redashChart",
       "error": null,
       "errorDetails": null,
       "errorSummary": null,
       "errorTraceType": null,
       "finishTime": 0,
       "globalVars": {},
       "guid": "",
       "height": "auto",
       "hideCommandCode": false,
       "hideCommandResult": false,
       "iPythonMetadata": null,
       "inputWidgets": {},
       "isLockedInExamMode": false,
       "latestUser": "a user",
       "latestUserId": null,
       "listResultMetadata": null,
       "metadata": {},
       "nuid": "b1fe90dd-7d6c-4cbf-8db0-2a73ed051ad4",
       "origId": 0,
       "parentHierarchy": [],
       "pivotAggregation": null,
       "pivotColumns": null,
       "position": 6.0,
       "resultDbfsErrorMessage": null,
       "resultDbfsStatus": "INLINED_IN_TREE",
       "results": null,
       "showCommandTitle": false,
       "startTime": 0,
       "state": "input",
       "streamStates": {},
       "subcommandOptions": {
        "queryPlan": {
         "selects": [
          {
           "column": "dropoff_hour",
           "type": "column"
          },
          {
           "column": "dropoff_hour",
           "type": "column"
          },
          {
           "column": "num",
           "type": "column"
          },
          {
           "column": "dropoff_hour",
           "type": "column"
          },
          {
           "column": "dropoff_hour",
           "type": "column"
          }
         ]
        }
       },
       "submitTime": 0,
       "subtype": "tableResultSubCmd.visualization",
       "tableResultIndex": 0,
       "tableResultSettingsMap": {},
       "useConsistentColors": false,
       "version": "CommandV1",
       "width": "auto",
       "workflows": [],
       "xColumns": null,
       "yColumns": null
      }
     },
     "output_type": "display_data"
    }
   ],
   "source": [
    "from pyspark.sql.functions import hour, col\n",
    "\n",
    "pickupzip = '10001'  # Example value for pickupzip\n",
    "df = spark.table(\"samples.nyctaxi.trips\")\n",
    "result_df = df.filter(col(\"pickup_zip\") == pickupzip) \\\n",
    "              .groupBy(hour(col(\"tpep_dropoff_datetime\")).alias(\"dropoff_hour\")) \\\n",
    "              .count() \\\n",
    "              .withColumnRenamed(\"count\", \"num\")\n",
    "display(result_df)"
   ]
  },
  {
   "cell_type": "code",
   "execution_count": 0,
   "metadata": {
    "application/vnd.databricks.v1+cell": {
     "cellMetadata": {
      "byteLimit": 2048000,
      "rowLimit": 10000
     },
     "inputWidgets": {},
     "nuid": "7eaa959b-8801-4aff-9a21-046c5cf84ca8",
     "showTitle": false,
     "tableResultSettingsMap": {},
     "title": ""
    }
   },
   "outputs": [
    {
     "output_type": "display_data",
     "data": {
      "text/html": [
       "<style scoped>\n",
       "  .table-result-container {\n",
       "    max-height: 300px;\n",
       "    overflow: auto;\n",
       "  }\n",
       "  table, th, td {\n",
       "    border: 1px solid black;\n",
       "    border-collapse: collapse;\n",
       "  }\n",
       "  th, td {\n",
       "    padding: 5px;\n",
       "  }\n",
       "  th {\n",
       "    text-align: left;\n",
       "  }\n",
       "</style><div class='table-result-container'><table class='table-result'><thead style='background-color: white'><tr><th>pickup_zip</th><th>trip_count</th></tr></thead><tbody><tr><td>11224</td><td>3</td></tr><tr><td>11368</td><td>1</td></tr><tr><td>10001</td><td>1227</td></tr><tr><td>10021</td><td>1021</td></tr><tr><td>11233</td><td>3</td></tr><tr><td>11231</td><td>50</td></tr><tr><td>10027</td><td>60</td></tr><tr><td>10028</td><td>929</td></tr><tr><td>11370</td><td>26</td></tr><tr><td>8876</td><td>1</td></tr><tr><td>11003</td><td>1</td></tr><tr><td>7002</td><td>2</td></tr><tr><td>10023</td><td>1008</td></tr><tr><td>10031</td><td>35</td></tr><tr><td>10271</td><td>125</td></tr><tr><td>10022</td><td>519</td></tr><tr><td>11378</td><td>2</td></tr><tr><td>10199</td><td>494</td></tr><tr><td>11220</td><td>1</td></tr><tr><td>10006</td><td>125</td></tr><tr><td>10037</td><td>26</td></tr><tr><td>11201</td><td>80</td></tr><tr><td>7310</td><td>1</td></tr><tr><td>10502</td><td>1</td></tr><tr><td>7974</td><td>1</td></tr><tr><td>11223</td><td>1</td></tr><tr><td>11356</td><td>1</td></tr><tr><td>10034</td><td>9</td></tr><tr><td>10305</td><td>1</td></tr><tr><td>10019</td><td>504</td></tr><tr><td>10002</td><td>613</td></tr><tr><td>10460</td><td>3</td></tr><tr><td>11206</td><td>21</td></tr><tr><td>11215</td><td>15</td></tr><tr><td>11418</td><td>1</td></tr><tr><td>10024</td><td>1</td></tr><tr><td>7114</td><td>1</td></tr><tr><td>11430</td><td>4</td></tr><tr><td>10282</td><td>163</td></tr><tr><td>11235</td><td>2</td></tr><tr><td>10020</td><td>463</td></tr><tr><td>11373</td><td>4</td></tr><tr><td>10167</td><td>289</td></tr><tr><td>11420</td><td>1</td></tr><tr><td>11435</td><td>3</td></tr><tr><td>11218</td><td>1</td></tr><tr><td>11237</td><td>15</td></tr><tr><td>10007</td><td>168</td></tr><tr><td>11417</td><td>2</td></tr><tr><td>10474</td><td>1</td></tr><tr><td>7086</td><td>1</td></tr><tr><td>11109</td><td>23</td></tr><tr><td>10038</td><td>40</td></tr><tr><td>10065</td><td>702</td></tr><tr><td>11207</td><td>2</td></tr><tr><td>10012</td><td>834</td></tr><tr><td>11209</td><td>2</td></tr><tr><td>10470</td><td>1</td></tr><tr><td>10115</td><td>46</td></tr><tr><td>10463</td><td>1</td></tr><tr><td>11106</td><td>39</td></tr><tr><td>11216</td><td>8</td></tr><tr><td>11101</td><td>20</td></tr><tr><td>11225</td><td>5</td></tr><tr><td>11371</td><td>483</td></tr><tr><td>11423</td><td>1</td></tr><tr><td>11226</td><td>4</td></tr><tr><td>10119</td><td>675</td></tr><tr><td>10451</td><td>4</td></tr><tr><td>10016</td><td>203</td></tr><tr><td>10014</td><td>503</td></tr><tr><td>10044</td><td>451</td></tr><tr><td>11222</td><td>21</td></tr><tr><td>11355</td><td>1</td></tr><tr><td>10162</td><td>414</td></tr><tr><td>10017</td><td>694</td></tr><tr><td>11211</td><td>69</td></tr><tr><td>10032</td><td>15</td></tr><tr><td>7718</td><td>1</td></tr><tr><td>11212</td><td>1</td></tr><tr><td>10013</td><td>273</td></tr><tr><td>10452</td><td>4</td></tr><tr><td>10112</td><td>46</td></tr><tr><td>10103</td><td>583</td></tr><tr><td>11436</td><td>11</td></tr><tr><td>11208</td><td>1</td></tr><tr><td>11105</td><td>13</td></tr><tr><td>10069</td><td>145</td></tr><tr><td>10011</td><td>1129</td></tr><tr><td>10152</td><td>116</td></tr><tr><td>10111</td><td>165</td></tr><tr><td>7737</td><td>1</td></tr><tr><td>10003</td><td>1181</td></tr><tr><td>7030</td><td>1</td></tr><tr><td>10029</td><td>206</td></tr><tr><td>10280</td><td>103</td></tr><tr><td>10005</td><td>101</td></tr><tr><td>10110</td><td>763</td></tr><tr><td>11205</td><td>22</td></tr><tr><td>10026</td><td>83</td></tr><tr><td>11103</td><td>16</td></tr><tr><td>11238</td><td>16</td></tr><tr><td>10278</td><td>167</td></tr><tr><td>10025</td><td>270</td></tr><tr><td>10454</td><td>2</td></tr><tr><td>10153</td><td>430</td></tr><tr><td>11375</td><td>3</td></tr><tr><td>11369</td><td>5</td></tr><tr><td>10171</td><td>197</td></tr><tr><td>11377</td><td>24</td></tr><tr><td>10009</td><td>661</td></tr><tr><td>10035</td><td>39</td></tr><tr><td>10154</td><td>244</td></tr><tr><td>10030</td><td>18</td></tr><tr><td>10468</td><td>2</td></tr><tr><td>11104</td><td>29</td></tr><tr><td>11221</td><td>4</td></tr><tr><td>11422</td><td>429</td></tr><tr><td>11424</td><td>2</td></tr><tr><td>7311</td><td>1</td></tr><tr><td>11210</td><td>2</td></tr><tr><td>11372</td><td>15</td></tr><tr><td>11102</td><td>32</td></tr><tr><td>10039</td><td>5</td></tr><tr><td>11230</td><td>3</td></tr><tr><td>7087</td><td>1</td></tr><tr><td>10018</td><td>1012</td></tr><tr><td>11217</td><td>63</td></tr></tbody></table></div>"
      ]
     },
     "metadata": {
      "application/vnd.databricks.v1+output": {
       "addedWidgets": {},
       "aggData": [],
       "aggError": "",
       "aggOverflow": false,
       "aggSchema": [],
       "aggSeriesLimitReached": false,
       "aggType": "",
       "arguments": {},
       "columnCustomDisplayInfos": {},
       "data": [
        [
         11224,
         3
        ],
        [
         11368,
         1
        ],
        [
         10001,
         1227
        ],
        [
         10021,
         1021
        ],
        [
         11233,
         3
        ],
        [
         11231,
         50
        ],
        [
         10027,
         60
        ],
        [
         10028,
         929
        ],
        [
         11370,
         26
        ],
        [
         8876,
         1
        ],
        [
         11003,
         1
        ],
        [
         7002,
         2
        ],
        [
         10023,
         1008
        ],
        [
         10031,
         35
        ],
        [
         10271,
         125
        ],
        [
         10022,
         519
        ],
        [
         11378,
         2
        ],
        [
         10199,
         494
        ],
        [
         11220,
         1
        ],
        [
         10006,
         125
        ],
        [
         10037,
         26
        ],
        [
         11201,
         80
        ],
        [
         7310,
         1
        ],
        [
         10502,
         1
        ],
        [
         7974,
         1
        ],
        [
         11223,
         1
        ],
        [
         11356,
         1
        ],
        [
         10034,
         9
        ],
        [
         10305,
         1
        ],
        [
         10019,
         504
        ],
        [
         10002,
         613
        ],
        [
         10460,
         3
        ],
        [
         11206,
         21
        ],
        [
         11215,
         15
        ],
        [
         11418,
         1
        ],
        [
         10024,
         1
        ],
        [
         7114,
         1
        ],
        [
         11430,
         4
        ],
        [
         10282,
         163
        ],
        [
         11235,
         2
        ],
        [
         10020,
         463
        ],
        [
         11373,
         4
        ],
        [
         10167,
         289
        ],
        [
         11420,
         1
        ],
        [
         11435,
         3
        ],
        [
         11218,
         1
        ],
        [
         11237,
         15
        ],
        [
         10007,
         168
        ],
        [
         11417,
         2
        ],
        [
         10474,
         1
        ],
        [
         7086,
         1
        ],
        [
         11109,
         23
        ],
        [
         10038,
         40
        ],
        [
         10065,
         702
        ],
        [
         11207,
         2
        ],
        [
         10012,
         834
        ],
        [
         11209,
         2
        ],
        [
         10470,
         1
        ],
        [
         10115,
         46
        ],
        [
         10463,
         1
        ],
        [
         11106,
         39
        ],
        [
         11216,
         8
        ],
        [
         11101,
         20
        ],
        [
         11225,
         5
        ],
        [
         11371,
         483
        ],
        [
         11423,
         1
        ],
        [
         11226,
         4
        ],
        [
         10119,
         675
        ],
        [
         10451,
         4
        ],
        [
         10016,
         203
        ],
        [
         10014,
         503
        ],
        [
         10044,
         451
        ],
        [
         11222,
         21
        ],
        [
         11355,
         1
        ],
        [
         10162,
         414
        ],
        [
         10017,
         694
        ],
        [
         11211,
         69
        ],
        [
         10032,
         15
        ],
        [
         7718,
         1
        ],
        [
         11212,
         1
        ],
        [
         10013,
         273
        ],
        [
         10452,
         4
        ],
        [
         10112,
         46
        ],
        [
         10103,
         583
        ],
        [
         11436,
         11
        ],
        [
         11208,
         1
        ],
        [
         11105,
         13
        ],
        [
         10069,
         145
        ],
        [
         10011,
         1129
        ],
        [
         10152,
         116
        ],
        [
         10111,
         165
        ],
        [
         7737,
         1
        ],
        [
         10003,
         1181
        ],
        [
         7030,
         1
        ],
        [
         10029,
         206
        ],
        [
         10280,
         103
        ],
        [
         10005,
         101
        ],
        [
         10110,
         763
        ],
        [
         11205,
         22
        ],
        [
         10026,
         83
        ],
        [
         11103,
         16
        ],
        [
         11238,
         16
        ],
        [
         10278,
         167
        ],
        [
         10025,
         270
        ],
        [
         10454,
         2
        ],
        [
         10153,
         430
        ],
        [
         11375,
         3
        ],
        [
         11369,
         5
        ],
        [
         10171,
         197
        ],
        [
         11377,
         24
        ],
        [
         10009,
         661
        ],
        [
         10035,
         39
        ],
        [
         10154,
         244
        ],
        [
         10030,
         18
        ],
        [
         10468,
         2
        ],
        [
         11104,
         29
        ],
        [
         11221,
         4
        ],
        [
         11422,
         429
        ],
        [
         11424,
         2
        ],
        [
         7311,
         1
        ],
        [
         11210,
         2
        ],
        [
         11372,
         15
        ],
        [
         11102,
         32
        ],
        [
         10039,
         5
        ],
        [
         11230,
         3
        ],
        [
         7087,
         1
        ],
        [
         10018,
         1012
        ],
        [
         11217,
         63
        ]
       ],
       "datasetInfos": [],
       "dbfsResultPath": null,
       "isJsonSchema": true,
       "metadata": {},
       "overflow": false,
       "plotOptions": {
        "customPlotOptions": {},
        "displayType": "table",
        "pivotAggregation": null,
        "pivotColumns": null,
        "xColumns": null,
        "yColumns": null
       },
       "removedWidgets": [],
       "schema": [
        {
         "metadata": "{}",
         "name": "pickup_zip",
         "type": "\"integer\""
        },
        {
         "metadata": "{}",
         "name": "trip_count",
         "type": "\"long\""
        }
       ],
       "type": "table"
      }
     },
     "output_type": "display_data"
    },
    {
     "output_type": "display_data",
     "data": {
      "text/plain": [
       "Databricks visualization. Run in Databricks to view."
      ]
     },
     "metadata": {
      "application/vnd.databricks.v1.subcommand+json": {
       "baseErrorDetails": null,
       "bindings": {},
       "collapsed": false,
       "command": "from pyspark.sql.functions import col\n\ndf = spark.table(\"samples.nyctaxi.trips\")\npayment_df = df.groupBy(\"pickup_zip\") \\\n               .count() \\\n               .withColumnRenamed(\"count\", \"trip_count\")\ndisplay(payment_df)\n",
       "commandTitle": "Visualization 1",
       "commandType": "auto",
       "commandVersion": 0,
       "commentThread": [],
       "commentsVisible": false,
       "contentSha256Hex": null,
       "customPlotOptions": {
        "redashChart": [
         {
          "key": "type",
          "value": "FUNNEL"
         },
         {
          "key": "options",
          "value": {
           "autoSort": false,
           "itemsLimit": 100,
           "numberFormat": "0,0.[00]",
           "percentFormat": "0[.]00%",
           "percentValuesRange": {
            "max": 1000,
            "min": 0.01
           },
           "sortKeyCol": {
            "colName": "trip_count",
            "reverse": true
           },
           "stepCol": {
            "colName": "trip_count",
            "displayAs": "Steps"
           },
           "valueCol": {
            "colName": "pickup_zip",
            "displayAs": "Value"
           }
          }
         }
        ]
       },
       "datasetPreviewNameToCmdIdMap": {},
       "diffDeletes": [],
       "diffInserts": [],
       "displayType": "redashChart",
       "error": null,
       "errorDetails": null,
       "errorSummary": null,
       "errorTraceType": null,
       "finishTime": 0,
       "globalVars": {},
       "guid": "",
       "height": "auto",
       "hideCommandCode": false,
       "hideCommandResult": false,
       "iPythonMetadata": null,
       "inputWidgets": {},
       "isLockedInExamMode": false,
       "latestUser": "a user",
       "latestUserId": null,
       "listResultMetadata": null,
       "metadata": {},
       "nuid": "b25f9173-e95b-4334-9fe7-06281e87a502",
       "origId": 0,
       "parentHierarchy": [],
       "pivotAggregation": null,
       "pivotColumns": null,
       "position": 4.0,
       "resultDbfsErrorMessage": null,
       "resultDbfsStatus": "INLINED_IN_TREE",
       "results": null,
       "showCommandTitle": false,
       "startTime": 0,
       "state": "input",
       "streamStates": {},
       "subcommandOptions": {},
       "submitTime": 0,
       "subtype": "tableResultSubCmd.visualization",
       "tableResultIndex": 0,
       "tableResultSettingsMap": {},
       "useConsistentColors": false,
       "version": "CommandV1",
       "width": "auto",
       "workflows": [],
       "xColumns": null,
       "yColumns": null
      }
     },
     "output_type": "display_data"
    },
    {
     "output_type": "display_data",
     "data": {
      "text/plain": [
       "Databricks visualization. Run in Databricks to view."
      ]
     },
     "metadata": {
      "application/vnd.databricks.v1.subcommand+json": {
       "baseErrorDetails": null,
       "bindings": {},
       "collapsed": false,
       "command": "%python\n__backend_agg_display_orig = display\n__backend_agg_dfs = []\ndef __backend_agg_display_new(df):\n    __backend_agg_df_modules = [\"pandas.core.frame\", \"databricks.koalas.frame\", \"pyspark.sql.dataframe\", \"pyspark.pandas.frame\", \"pyspark.sql.connect.dataframe\"]\n    if (type(df).__module__ in __backend_agg_df_modules and type(df).__name__ == 'DataFrame') or isinstance(df, list):\n        __backend_agg_dfs.append(df)\n\ndisplay = __backend_agg_display_new\n\ndef __backend_agg_user_code_fn():\n    import base64\n    exec(base64.standard_b64decode(\"ZnJvbSBweXNwYXJrLnNxbC5mdW5jdGlvbnMgaW1wb3J0IGNvbAoKZGYgPSBzcGFyay50YWJsZSgic2FtcGxlcy5ueWN0YXhpLnRyaXBzIikKcGF5bWVudF9kZiA9IGRmLmdyb3VwQnkoInBpY2t1cF96aXAiKSBcCiAgICAgICAgICAgICAgIC5jb3VudCgpIFwKICAgICAgICAgICAgICAgLndpdGhDb2x1bW5SZW5hbWVkKCJjb3VudCIsICJ0cmlwX2NvdW50IikKZGlzcGxheShwYXltZW50X2RmKQo=\").decode())\n\ntry:\n    # run user code\n    __backend_agg_user_code_fn()\n\n    #reset display function\n    display = __backend_agg_display_orig\n\n    if len(__backend_agg_dfs) > 0:\n        # create a temp view\n        if type(__backend_agg_dfs[0]).__module__ == \"databricks.koalas.frame\":\n            # koalas dataframe\n            __backend_agg_dfs[0].to_spark().createOrReplaceTempView(\"DatabricksView67a7073\")\n        elif type(__backend_agg_dfs[0]).__module__ == \"pandas.core.frame\" or isinstance(__backend_agg_dfs[0], list):\n            # pandas dataframe\n            spark.createDataFrame(__backend_agg_dfs[0]).createOrReplaceTempView(\"DatabricksView67a7073\")\n        else:\n            __backend_agg_dfs[0].createOrReplaceTempView(\"DatabricksView67a7073\")\n        #run backend agg\n        display(spark.sql(\"\"\"WITH q AS (select * from DatabricksView67a7073) SELECT `pickup_zip`,SUM(`trip_count`) `column_fcec83b551` FROM q GROUP BY `pickup_zip`\"\"\"))\n    else:\n        displayHTML(\"dataframe no longer exists. If you're using dataframe.display(), use display(dataframe) instead.\")\n\n\nfinally:\n    spark.sql(\"drop view if exists DatabricksView67a7073\")\n    display = __backend_agg_display_orig\n    del __backend_agg_display_new\n    del __backend_agg_display_orig\n    del __backend_agg_dfs\n    del __backend_agg_user_code_fn\n\n",
       "commandTitle": "Visualization 2",
       "commandType": "auto",
       "commandVersion": 0,
       "commentThread": [],
       "commentsVisible": false,
       "contentSha256Hex": null,
       "customPlotOptions": {
        "redashChart": [
         {
          "key": "type",
          "value": "CHART"
         },
         {
          "key": "options",
          "value": {
           "alignYAxesAtZero": true,
           "coefficient": 1,
           "columnConfigurationMap": {
            "x": {
             "column": "pickup_zip",
             "id": "column_fcec83b550"
            },
            "y": [
             {
              "column": "trip_count",
              "id": "column_fcec83b551",
              "transform": "SUM"
             }
            ]
           },
           "dateTimeFormat": "DD/MM/YYYY HH:mm",
           "direction": {
            "type": "counterclockwise"
           },
           "error_y": {
            "type": "data",
            "visible": true
           },
           "globalSeriesType": "line",
           "isAggregationOn": true,
           "legend": {
            "traceorder": "normal"
           },
           "missingValuesAsZero": true,
           "numberFormat": "0,0.[00000]",
           "percentFormat": "0[.]00%",
           "series": {
            "error_y": {
             "type": "data",
             "visible": true
            },
            "stacking": null
           },
           "seriesOptions": {
            "column_fcec83b551": {
             "color": "#FF3621",
             "name": "trip_count",
             "type": "line",
             "yAxis": 0
            }
           },
           "showDataLabels": false,
           "sizemode": "diameter",
           "sortX": true,
           "sortY": true,
           "swappedAxes": false,
           "textFormat": "",
           "useAggregationsUi": true,
           "valuesOptions": {},
           "version": 2,
           "xAxis": {
            "labels": {
             "enabled": true
            },
            "type": "-"
           },
           "yAxis": [
            {
             "type": "-"
            },
            {
             "opposite": true,
             "type": "-"
            }
           ]
          }
         }
        ]
       },
       "datasetPreviewNameToCmdIdMap": {},
       "diffDeletes": [],
       "diffInserts": [],
       "displayType": "redashChart",
       "error": null,
       "errorDetails": null,
       "errorSummary": null,
       "errorTraceType": null,
       "finishTime": 0,
       "globalVars": {},
       "guid": "",
       "height": "auto",
       "hideCommandCode": false,
       "hideCommandResult": false,
       "iPythonMetadata": null,
       "inputWidgets": {},
       "isLockedInExamMode": false,
       "latestUser": "a user",
       "latestUserId": null,
       "listResultMetadata": null,
       "metadata": {},
       "nuid": "2d18e149-07af-41f5-8d01-87e99dc68bfa",
       "origId": 0,
       "parentHierarchy": [],
       "pivotAggregation": null,
       "pivotColumns": null,
       "position": 5.0,
       "resultDbfsErrorMessage": null,
       "resultDbfsStatus": "INLINED_IN_TREE",
       "results": null,
       "showCommandTitle": false,
       "startTime": 0,
       "state": "input",
       "streamStates": {},
       "subcommandOptions": {
        "queryPlan": {
         "groups": [
          {
           "column": "pickup_zip",
           "type": "column"
          }
         ],
         "selects": [
          {
           "column": "pickup_zip",
           "type": "column"
          },
          {
           "alias": "column_fcec83b551",
           "args": [
            {
             "column": "trip_count",
             "type": "column"
            }
           ],
           "function": "SUM",
           "type": "function"
          }
         ]
        }
       },
       "submitTime": 0,
       "subtype": "tableResultSubCmd.visualization",
       "tableResultIndex": 0,
       "tableResultSettingsMap": {},
       "useConsistentColors": false,
       "version": "CommandV1",
       "width": "auto",
       "workflows": [],
       "xColumns": null,
       "yColumns": null
      }
     },
     "output_type": "display_data"
    },
    {
     "output_type": "display_data",
     "data": {
      "text/plain": [
       "Databricks visualization. Run in Databricks to view."
      ]
     },
     "metadata": {
      "application/vnd.databricks.v1.subcommand+json": {
       "baseErrorDetails": null,
       "bindings": {},
       "collapsed": false,
       "command": "%python\n__backend_agg_display_orig = display\n__backend_agg_dfs = []\ndef __backend_agg_display_new(df):\n    __backend_agg_df_modules = [\"pandas.core.frame\", \"databricks.koalas.frame\", \"pyspark.sql.dataframe\", \"pyspark.pandas.frame\", \"pyspark.sql.connect.dataframe\"]\n    if (type(df).__module__ in __backend_agg_df_modules and type(df).__name__ == 'DataFrame') or isinstance(df, list):\n        __backend_agg_dfs.append(df)\n\ndisplay = __backend_agg_display_new\n\ndef __backend_agg_user_code_fn():\n    import base64\n    exec(base64.standard_b64decode(\"ZnJvbSBweXNwYXJrLnNxbC5mdW5jdGlvbnMgaW1wb3J0IGNvbAoKZGYgPSBzcGFyay50YWJsZSgic2FtcGxlcy5ueWN0YXhpLnRyaXBzIikKcGF5bWVudF9kZiA9IGRmLmdyb3VwQnkoInBpY2t1cF96aXAiKSBcCiAgICAgICAgICAgICAgIC5jb3VudCgpIFwKICAgICAgICAgICAgICAgLndpdGhDb2x1bW5SZW5hbWVkKCJjb3VudCIsICJ0cmlwX2NvdW50IikKZGlzcGxheShwYXltZW50X2RmKQo=\").decode())\n\ntry:\n    # run user code\n    __backend_agg_user_code_fn()\n\n    #reset display function\n    display = __backend_agg_display_orig\n\n    if len(__backend_agg_dfs) > 0:\n        # create a temp view\n        if type(__backend_agg_dfs[0]).__module__ == \"databricks.koalas.frame\":\n            # koalas dataframe\n            __backend_agg_dfs[0].to_spark().createOrReplaceTempView(\"DatabricksViewe9723df\")\n        elif type(__backend_agg_dfs[0]).__module__ == \"pandas.core.frame\" or isinstance(__backend_agg_dfs[0], list):\n            # pandas dataframe\n            spark.createDataFrame(__backend_agg_dfs[0]).createOrReplaceTempView(\"DatabricksViewe9723df\")\n        else:\n            __backend_agg_dfs[0].createOrReplaceTempView(\"DatabricksViewe9723df\")\n        #run backend agg\n        display(spark.sql(\"\"\"WITH q AS (select * from DatabricksViewe9723df) SELECT `pickup_zip`,MAX(`pickup_zip`) `column_fcec83b555` FROM q GROUP BY `pickup_zip`\"\"\"))\n    else:\n        displayHTML(\"dataframe no longer exists. If you're using dataframe.display(), use display(dataframe) instead.\")\n\n\nfinally:\n    spark.sql(\"drop view if exists DatabricksViewe9723df\")\n    display = __backend_agg_display_orig\n    del __backend_agg_display_new\n    del __backend_agg_display_orig\n    del __backend_agg_dfs\n    del __backend_agg_user_code_fn\n\n",
       "commandTitle": "Visualization 3",
       "commandType": "auto",
       "commandVersion": 0,
       "commentThread": [],
       "commentsVisible": false,
       "contentSha256Hex": null,
       "customPlotOptions": {
        "redashChart": [
         {
          "key": "type",
          "value": "CHART"
         },
         {
          "key": "options",
          "value": {
           "alignYAxesAtZero": true,
           "coefficient": 1,
           "columnConfigurationMap": {
            "x": {
             "column": "pickup_zip",
             "id": "column_fcec83b554"
            },
            "y": [
             {
              "column": "pickup_zip",
              "id": "column_fcec83b555",
              "transform": "MAX"
             }
            ]
           },
           "dateTimeFormat": "DD/MM/YYYY HH:mm",
           "direction": {
            "type": "counterclockwise"
           },
           "error_y": {
            "type": "data",
            "visible": true
           },
           "globalSeriesType": "area",
           "isAggregationOn": true,
           "legend": {
            "traceorder": "normal"
           },
           "missingValuesAsZero": true,
           "numberFormat": "0,0.[00000]",
           "percentFormat": "0[.]00%",
           "series": {
            "error_y": {
             "type": "data",
             "visible": true
            },
            "stacking": null
           },
           "seriesOptions": {
            "column_fcec83b555": {
             "color": "#AB4057",
             "name": "trip_count",
             "type": "area",
             "yAxis": 0
            }
           },
           "showDataLabels": false,
           "sizemode": "diameter",
           "sortX": true,
           "sortY": true,
           "swappedAxes": false,
           "textFormat": "",
           "useAggregationsUi": true,
           "valuesOptions": {},
           "version": 2,
           "xAxis": {
            "labels": {
             "enabled": true
            },
            "type": "-"
           },
           "yAxis": [
            {
             "type": "-"
            },
            {
             "opposite": true,
             "type": "-"
            }
           ]
          }
         }
        ]
       },
       "datasetPreviewNameToCmdIdMap": {},
       "diffDeletes": [],
       "diffInserts": [],
       "displayType": "redashChart",
       "error": null,
       "errorDetails": null,
       "errorSummary": null,
       "errorTraceType": null,
       "finishTime": 0,
       "globalVars": {},
       "guid": "",
       "height": "auto",
       "hideCommandCode": false,
       "hideCommandResult": false,
       "iPythonMetadata": null,
       "inputWidgets": {},
       "isLockedInExamMode": false,
       "latestUser": "a user",
       "latestUserId": null,
       "listResultMetadata": null,
       "metadata": {},
       "nuid": "d67260e5-6ffb-498f-9e44-de0ea457dcc2",
       "origId": 0,
       "parentHierarchy": [],
       "pivotAggregation": null,
       "pivotColumns": null,
       "position": 6.0,
       "resultDbfsErrorMessage": null,
       "resultDbfsStatus": "INLINED_IN_TREE",
       "results": null,
       "showCommandTitle": false,
       "startTime": 0,
       "state": "input",
       "streamStates": {},
       "subcommandOptions": {
        "queryPlan": {
         "groups": [
          {
           "column": "pickup_zip",
           "type": "column"
          }
         ],
         "selects": [
          {
           "column": "pickup_zip",
           "type": "column"
          },
          {
           "alias": "column_fcec83b555",
           "args": [
            {
             "column": "pickup_zip",
             "type": "column"
            }
           ],
           "function": "MAX",
           "type": "function"
          }
         ]
        }
       },
       "submitTime": 0,
       "subtype": "tableResultSubCmd.visualization",
       "tableResultIndex": 0,
       "tableResultSettingsMap": {},
       "useConsistentColors": false,
       "version": "CommandV1",
       "width": "auto",
       "workflows": [],
       "xColumns": null,
       "yColumns": null
      }
     },
     "output_type": "display_data"
    },
    {
     "output_type": "display_data",
     "data": {
      "text/plain": [
       "Databricks visualization. Run in Databricks to view."
      ]
     },
     "metadata": {
      "application/vnd.databricks.v1.subcommand+json": {
       "baseErrorDetails": null,
       "bindings": {},
       "collapsed": false,
       "command": "%python\n__backend_agg_display_orig = display\n__backend_agg_dfs = []\ndef __backend_agg_display_new(df):\n    __backend_agg_df_modules = [\"pandas.core.frame\", \"databricks.koalas.frame\", \"pyspark.sql.dataframe\", \"pyspark.pandas.frame\", \"pyspark.sql.connect.dataframe\"]\n    if (type(df).__module__ in __backend_agg_df_modules and type(df).__name__ == 'DataFrame') or isinstance(df, list):\n        __backend_agg_dfs.append(df)\n\ndisplay = __backend_agg_display_new\n\ndef __backend_agg_user_code_fn():\n    import base64\n    exec(base64.standard_b64decode(\"ZnJvbSBweXNwYXJrLnNxbC5mdW5jdGlvbnMgaW1wb3J0IGNvbAoKZGYgPSBzcGFyay50YWJsZSgic2FtcGxlcy5ueWN0YXhpLnRyaXBzIikKcGF5bWVudF9kZiA9IGRmLmdyb3VwQnkoInBpY2t1cF96aXAiKSBcCiAgICAgICAgICAgICAgIC5jb3VudCgpIFwKICAgICAgICAgICAgICAgLndpdGhDb2x1bW5SZW5hbWVkKCJjb3VudCIsICJ0cmlwX2NvdW50IikKZGlzcGxheShwYXltZW50X2RmKQo=\").decode())\n\ntry:\n    # run user code\n    __backend_agg_user_code_fn()\n\n    #reset display function\n    display = __backend_agg_display_orig\n\n    if len(__backend_agg_dfs) > 0:\n        # create a temp view\n        if type(__backend_agg_dfs[0]).__module__ == \"databricks.koalas.frame\":\n            # koalas dataframe\n            __backend_agg_dfs[0].to_spark().createOrReplaceTempView(\"DatabricksView6432aec\")\n        elif type(__backend_agg_dfs[0]).__module__ == \"pandas.core.frame\" or isinstance(__backend_agg_dfs[0], list):\n            # pandas dataframe\n            spark.createDataFrame(__backend_agg_dfs[0]).createOrReplaceTempView(\"DatabricksView6432aec\")\n        else:\n            __backend_agg_dfs[0].createOrReplaceTempView(\"DatabricksView6432aec\")\n        #run backend agg\n        display(spark.sql(\"\"\"WITH q AS (select * from DatabricksView6432aec) ,min_max AS (SELECT `pickup_zip`,(SELECT MAX(`pickup_zip`) FROM q) `target_column_max`,(SELECT MIN(`pickup_zip`) FROM q) `target_column_min` FROM q) ,histogram_meta AS (SELECT `pickup_zip`,`target_column_min` `min_value`,IF(`target_column_max` = `target_column_min`,`target_column_max` + 1,`target_column_max`) `max_value`,(`target_column_max` - `target_column_min`) / 4 `step` FROM min_max) SELECT IF(ISNULL(`pickup_zip`),NULL,LEAST(WIDTH_BUCKET(`pickup_zip`,`min_value`,`max_value`,4),4)) `pickup_zip_BIN`,FIRST(`min_value` + ((IF(ISNULL(`pickup_zip`),NULL,LEAST(WIDTH_BUCKET(`pickup_zip`,`min_value`,`max_value`,4),4)) - 1) * `step`)) `pickup_zip_BIN_LOWER_BOUND`,FIRST(`step`) `pickup_zip_BIN_STEP`,COUNT(`pickup_zip`) `COUNT` FROM histogram_meta GROUP BY `pickup_zip_BIN`\"\"\"))\n    else:\n        displayHTML(\"dataframe no longer exists. If you're using dataframe.display(), use display(dataframe) instead.\")\n\n\nfinally:\n    spark.sql(\"drop view if exists DatabricksView6432aec\")\n    display = __backend_agg_display_orig\n    del __backend_agg_display_new\n    del __backend_agg_display_orig\n    del __backend_agg_dfs\n    del __backend_agg_user_code_fn\n\n",
       "commandTitle": "Visualization 4",
       "commandType": "auto",
       "commandVersion": 0,
       "commentThread": [],
       "commentsVisible": false,
       "contentSha256Hex": null,
       "customPlotOptions": {
        "redashChart": [
         {
          "key": "type",
          "value": "CHART"
         },
         {
          "key": "options",
          "value": {
           "alignYAxesAtZero": true,
           "coefficient": 1,
           "columnConfigurationMap": {
            "x": {
             "column": "pickup_zip",
             "id": "column_fcec83b557"
            }
           },
           "dateTimeFormat": "DD/MM/YYYY HH:mm",
           "direction": {
            "type": "counterclockwise"
           },
           "error_y": {
            "type": "data",
            "visible": true
           },
           "globalSeriesType": "histogram",
           "isAggregationOn": true,
           "legend": {
            "traceorder": "normal"
           },
           "missingValuesAsZero": true,
           "numBins": 4,
           "numberFormat": "0,0.[00000]",
           "percentFormat": "0[.]00%",
           "series": {
            "error_y": {
             "type": "data",
             "visible": true
            },
            "stacking": null
           },
           "seriesOptions": {
            "COUNT": {
             "color": "#FFAB00"
            },
            "column_fcec83b558": {
             "name": "trip_count",
             "type": "histogram",
             "yAxis": 0
            }
           },
           "showDataLabels": false,
           "sizemode": "diameter",
           "sortX": true,
           "sortY": true,
           "swappedAxes": false,
           "textFormat": "",
           "useAggregationsUi": true,
           "valuesOptions": {},
           "version": 2,
           "xAxis": {
            "labels": {
             "enabled": true
            },
            "type": "-"
           },
           "yAxis": [
            {
             "type": "-"
            },
            {
             "opposite": true,
             "type": "-"
            }
           ]
          }
         }
        ]
       },
       "datasetPreviewNameToCmdIdMap": {},
       "diffDeletes": [],
       "diffInserts": [],
       "displayType": "redashChart",
       "error": null,
       "errorDetails": null,
       "errorSummary": null,
       "errorTraceType": null,
       "finishTime": 0,
       "globalVars": {},
       "guid": "",
       "height": "auto",
       "hideCommandCode": false,
       "hideCommandResult": false,
       "iPythonMetadata": null,
       "inputWidgets": {},
       "isLockedInExamMode": false,
       "latestUser": "a user",
       "latestUserId": null,
       "listResultMetadata": null,
       "metadata": {},
       "nuid": "b416588e-d425-4026-9968-2a7abb590ee5",
       "origId": 0,
       "parentHierarchy": [],
       "pivotAggregation": null,
       "pivotColumns": null,
       "position": 7.0,
       "resultDbfsErrorMessage": null,
       "resultDbfsStatus": "INLINED_IN_TREE",
       "results": null,
       "showCommandTitle": false,
       "startTime": 0,
       "state": "input",
       "streamStates": {},
       "subcommandOptions": {
        "queryPlan": {
         "groups": [
          {
           "column": "pickup_zip_BIN",
           "type": "column"
          }
         ],
         "selects": [
          {
           "alias": "pickup_zip_BIN",
           "args": [
            {
             "column": "pickup_zip",
             "type": "column"
            },
            {
             "number": 4,
             "type": "number"
            }
           ],
           "function": "BIN",
           "type": "function"
          },
          {
           "alias": "pickup_zip_BIN_LOWER_BOUND",
           "args": [
            {
             "column": "pickup_zip",
             "type": "column"
            },
            {
             "number": 4,
             "type": "number"
            }
           ],
           "function": "BIN_LOWER_BOUND",
           "type": "function"
          },
          {
           "alias": "pickup_zip_BIN_STEP",
           "args": [
            {
             "column": "pickup_zip",
             "type": "column"
            },
            {
             "number": 4,
             "type": "number"
            }
           ],
           "function": "BIN_STEP",
           "type": "function"
          },
          {
           "alias": "COUNT",
           "args": [
            {
             "column": "pickup_zip",
             "type": "column"
            }
           ],
           "function": "COUNT",
           "type": "function"
          }
         ]
        }
       },
       "submitTime": 0,
       "subtype": "tableResultSubCmd.visualization",
       "tableResultIndex": 0,
       "tableResultSettingsMap": {},
       "useConsistentColors": false,
       "version": "CommandV1",
       "width": "auto",
       "workflows": [],
       "xColumns": null,
       "yColumns": null
      }
     },
     "output_type": "display_data"
    }
   ],
   "source": [
    "from pyspark.sql.functions import col\n",
    "\n",
    "df = spark.table(\"samples.nyctaxi.trips\")\n",
    "payment_df = df.groupBy(\"pickup_zip\") \\\n",
    "               .count() \\\n",
    "               .withColumnRenamed(\"count\", \"trip_count\")\n",
    "display(payment_df)\n"
   ]
  },
  {
   "cell_type": "code",
   "execution_count": 0,
   "metadata": {
    "application/vnd.databricks.v1+cell": {
     "cellMetadata": {
      "byteLimit": 2048000,
      "rowLimit": 10000
     },
     "inputWidgets": {},
     "nuid": "4461f7c5-1f45-45fc-8ded-8883c5df9883",
     "showTitle": false,
     "tableResultSettingsMap": {},
     "title": ""
    }
   },
   "outputs": [
    {
     "output_type": "display_data",
     "data": {
      "text/html": [
       "<style scoped>\n",
       "  .table-result-container {\n",
       "    max-height: 300px;\n",
       "    overflow: auto;\n",
       "  }\n",
       "  table, th, td {\n",
       "    border: 1px solid black;\n",
       "    border-collapse: collapse;\n",
       "  }\n",
       "  th, td {\n",
       "    padding: 5px;\n",
       "  }\n",
       "  th {\n",
       "    text-align: left;\n",
       "  }\n",
       "</style><div class='table-result-container'><table class='table-result'><thead style='background-color: white'><tr><th>dropoff_zip</th><th>total_fare</th></tr></thead><tbody><tr><td>11694</td><td>67.0</td></tr><tr><td>11691</td><td>31.5</td></tr><tr><td>11598</td><td>56.5</td></tr><tr><td>11580</td><td>48.0</td></tr><tr><td>11575</td><td>84.5</td></tr><tr><td>11436</td><td>472.0</td></tr><tr><td>11435</td><td>170.0</td></tr><tr><td>11434</td><td>108.5</td></tr><tr><td>11433</td><td>13.5</td></tr><tr><td>11432</td><td>107.0</td></tr><tr><td>11430</td><td>323.5</td></tr><tr><td>11427</td><td>151.5</td></tr><tr><td>11426</td><td>97.5</td></tr><tr><td>11424</td><td>232.5</td></tr><tr><td>11423</td><td>96.5</td></tr><tr><td>11422</td><td>7558.01</td></tr><tr><td>11421</td><td>83.5</td></tr><tr><td>11420</td><td>42.0</td></tr><tr><td>11419</td><td>68.5</td></tr><tr><td>11418</td><td>44.5</td></tr><tr><td>11417</td><td>122.0</td></tr><tr><td>11416</td><td>160.5</td></tr><tr><td>11415</td><td>41.0</td></tr><tr><td>11413</td><td>17.0</td></tr><tr><td>11412</td><td>136.0</td></tr><tr><td>11411</td><td>65.0</td></tr><tr><td>11385</td><td>128.0</td></tr><tr><td>11379</td><td>224.5</td></tr><tr><td>11378</td><td>80.0</td></tr><tr><td>11377</td><td>780.0</td></tr><tr><td>11375</td><td>643.0</td></tr><tr><td>11374</td><td>376.0</td></tr><tr><td>11373</td><td>598.0</td></tr><tr><td>11372</td><td>677.0</td></tr><tr><td>11371</td><td>7138.34</td></tr><tr><td>11370</td><td>435.0</td></tr><tr><td>11369</td><td>172.0</td></tr><tr><td>11368</td><td>191.5</td></tr><tr><td>11367</td><td>203.0</td></tr><tr><td>11366</td><td>191.0</td></tr><tr><td>11365</td><td>38.5</td></tr><tr><td>11364</td><td>67.5</td></tr><tr><td>11363</td><td>49.0</td></tr><tr><td>11360</td><td>90.5</td></tr><tr><td>11358</td><td>46.5</td></tr><tr><td>11357</td><td>43.0</td></tr><tr><td>11356</td><td>50.0</td></tr><tr><td>11355</td><td>214.5</td></tr><tr><td>11354</td><td>181.5</td></tr><tr><td>11351</td><td>22.5</td></tr><tr><td>11238</td><td>1752.0</td></tr><tr><td>11237</td><td>978.0</td></tr><tr><td>11236</td><td>366.5</td></tr><tr><td>11235</td><td>170.0</td></tr><tr><td>11234</td><td>87.5</td></tr><tr><td>11233</td><td>537.0</td></tr><tr><td>11231</td><td>1384.5</td></tr><tr><td>11230</td><td>281.5</td></tr><tr><td>11229</td><td>290.0</td></tr><tr><td>11228</td><td>145.0</td></tr><tr><td>11226</td><td>534.5</td></tr><tr><td>11225</td><td>463.5</td></tr><tr><td>11224</td><td>120.5</td></tr><tr><td>11223</td><td>180.5</td></tr><tr><td>11222</td><td>1703.5</td></tr><tr><td>11221</td><td>689.0</td></tr><tr><td>11220</td><td>461.0</td></tr><tr><td>11219</td><td>172.0</td></tr><tr><td>11218</td><td>680.0</td></tr><tr><td>11217</td><td>1680.5</td></tr><tr><td>11216</td><td>964.0</td></tr><tr><td>11215</td><td>1451.5</td></tr><tr><td>11214</td><td>166.5</td></tr><tr><td>11213</td><td>320.5</td></tr><tr><td>11212</td><td>118.5</td></tr><tr><td>11211</td><td>3749.0</td></tr><tr><td>11210</td><td>256.5</td></tr><tr><td>11209</td><td>580.5</td></tr><tr><td>11208</td><td>49.0</td></tr><tr><td>11207</td><td>164.0</td></tr><tr><td>11206</td><td>1101.5</td></tr><tr><td>11205</td><td>1134.5</td></tr><tr><td>11204</td><td>185.5</td></tr><tr><td>11203</td><td>89.5</td></tr><tr><td>11201</td><td>2412.0</td></tr><tr><td>11109</td><td>809.5</td></tr><tr><td>11106</td><td>787.0</td></tr><tr><td>11105</td><td>795.5</td></tr><tr><td>11104</td><td>763.5</td></tr><tr><td>11103</td><td>1357.0</td></tr><tr><td>11102</td><td>1519.5</td></tr><tr><td>11101</td><td>294.5</td></tr><tr><td>11096</td><td>27.5</td></tr><tr><td>11050</td><td>73.5</td></tr><tr><td>11042</td><td>115.0</td></tr><tr><td>11010</td><td>44.5</td></tr><tr><td>11003</td><td>0.0</td></tr><tr><td>11001</td><td>59.5</td></tr><tr><td>10803</td><td>158.0</td></tr><tr><td>10710</td><td>88.0</td></tr><tr><td>10705</td><td>45.5</td></tr><tr><td>10703</td><td>85.0</td></tr><tr><td>10606</td><td>0.0</td></tr><tr><td>10601</td><td>94.5</td></tr><tr><td>10550</td><td>46.0</td></tr><tr><td>10502</td><td>0.0</td></tr><tr><td>10475</td><td>127.0</td></tr><tr><td>10474</td><td>145.5</td></tr><tr><td>10473</td><td>44.5</td></tr><tr><td>10472</td><td>171.0</td></tr><tr><td>10471</td><td>82.0</td></tr><tr><td>10470</td><td>167.0</td></tr><tr><td>10469</td><td>142.5</td></tr><tr><td>10468</td><td>536.0</td></tr><tr><td>10467</td><td>49.0</td></tr><tr><td>10466</td><td>83.0</td></tr><tr><td>10465</td><td>112.0</td></tr><tr><td>10464</td><td>50.0</td></tr><tr><td>10463</td><td>395.51</td></tr><tr><td>10462</td><td>98.5</td></tr><tr><td>10461</td><td>39.0</td></tr><tr><td>10460</td><td>143.5</td></tr><tr><td>10459</td><td>83.5</td></tr><tr><td>10458</td><td>73.5</td></tr><tr><td>10457</td><td>32.5</td></tr><tr><td>10456</td><td>56.5</td></tr><tr><td>10455</td><td>67.5</td></tr><tr><td>10454</td><td>169.0</td></tr><tr><td>10453</td><td>56.5</td></tr><tr><td>10452</td><td>309.5</td></tr><tr><td>10451</td><td>230.0</td></tr><tr><td>10306</td><td>53.0</td></tr><tr><td>10305</td><td>13.5</td></tr><tr><td>10301</td><td>50.5</td></tr><tr><td>10282</td><td>2460.8</td></tr><tr><td>10280</td><td>1311.0</td></tr><tr><td>10278</td><td>1841.5</td></tr><tr><td>10271</td><td>1490.5</td></tr><tr><td>10199</td><td>6201.0</td></tr><tr><td>10171</td><td>2448.5</td></tr><tr><td>10167</td><td>2410.0</td></tr><tr><td>10162</td><td>4256.5</td></tr><tr><td>10154</td><td>2318.0</td></tr><tr><td>10153</td><td>4138.3</td></tr><tr><td>10152</td><td>1193.0</td></tr><tr><td>10119</td><td>4939.01</td></tr><tr><td>10115</td><td>529.0</td></tr><tr><td>10112</td><td>458.0</td></tr><tr><td>10111</td><td>1760.5</td></tr><tr><td>10110</td><td>7807.0</td></tr><tr><td>10103</td><td>5352.0</td></tr><tr><td>10069</td><td>2035.5</td></tr><tr><td>10065</td><td>5553.5</td></tr><tr><td>10044</td><td>5469.5</td></tr><tr><td>10039</td><td>734.0</td></tr><tr><td>10038</td><td>830.0</td></tr><tr><td>10037</td><td>1047.5</td></tr><tr><td>10035</td><td>1085.0</td></tr><tr><td>10034</td><td>1304.5</td></tr><tr><td>10032</td><td>1745.0</td></tr><tr><td>10031</td><td>865.5</td></tr><tr><td>10030</td><td>1088.5</td></tr><tr><td>10029</td><td>3459.0</td></tr><tr><td>10028</td><td>9225.0</td></tr><tr><td>10027</td><td>1613.5</td></tr><tr><td>10026</td><td>2209.0</td></tr><tr><td>10025</td><td>3292.5</td></tr><tr><td>10024</td><td>129.0</td></tr><tr><td>10023</td><td>8520.0</td></tr><tr><td>10022</td><td>4890.0</td></tr><tr><td>10021</td><td>9707.0</td></tr><tr><td>10020</td><td>5105.5</td></tr><tr><td>10019</td><td>5231.8</td></tr><tr><td>10018</td><td>8997.5</td></tr><tr><td>10017</td><td>7505.0</td></tr><tr><td>10016</td><td>2036.5</td></tr><tr><td>10014</td><td>4466.0</td></tr><tr><td>10013</td><td>3436.0</td></tr><tr><td>10012</td><td>8183.5</td></tr><tr><td>10011</td><td>8738.0</td></tr><tr><td>10009</td><td>7659.5</td></tr><tr><td>10007</td><td>1392.0</td></tr><tr><td>10006</td><td>1946.5</td></tr><tr><td>10005</td><td>1572.5</td></tr><tr><td>10003</td><td>9128.5</td></tr><tr><td>10002</td><td>5801.5</td></tr><tr><td>10001</td><td>10893.5</td></tr><tr><td>8876</td><td>260.0</td></tr><tr><td>7974</td><td>188.0</td></tr><tr><td>7901</td><td>130.0</td></tr><tr><td>7758</td><td>15.5</td></tr><tr><td>7737</td><td>5.0</td></tr><tr><td>7423</td><td>70.0</td></tr><tr><td>7311</td><td>148.0</td></tr><tr><td>7310</td><td>184.0</td></tr><tr><td>7304</td><td>54.0</td></tr><tr><td>7302</td><td>45.0</td></tr><tr><td>7201</td><td>53.5</td></tr><tr><td>7114</td><td>2035.5</td></tr><tr><td>7087</td><td>0.01</td></tr><tr><td>7086</td><td>40.0</td></tr><tr><td>7030</td><td>196.0</td></tr><tr><td>7024</td><td>96.0</td></tr><tr><td>7008</td><td>275.0</td></tr><tr><td>7002</td><td>21.0</td></tr></tbody></table></div>"
      ]
     },
     "metadata": {
      "application/vnd.databricks.v1+output": {
       "addedWidgets": {},
       "aggData": [],
       "aggError": "",
       "aggOverflow": false,
       "aggSchema": [],
       "aggSeriesLimitReached": false,
       "aggType": "",
       "arguments": {},
       "columnCustomDisplayInfos": {},
       "data": [
        [
         11694,
         67.0
        ],
        [
         11691,
         31.5
        ],
        [
         11598,
         56.5
        ],
        [
         11580,
         48.0
        ],
        [
         11575,
         84.5
        ],
        [
         11436,
         472.0
        ],
        [
         11435,
         170.0
        ],
        [
         11434,
         108.5
        ],
        [
         11433,
         13.5
        ],
        [
         11432,
         107.0
        ],
        [
         11430,
         323.5
        ],
        [
         11427,
         151.5
        ],
        [
         11426,
         97.5
        ],
        [
         11424,
         232.5
        ],
        [
         11423,
         96.5
        ],
        [
         11422,
         7558.01
        ],
        [
         11421,
         83.5
        ],
        [
         11420,
         42.0
        ],
        [
         11419,
         68.5
        ],
        [
         11418,
         44.5
        ],
        [
         11417,
         122.0
        ],
        [
         11416,
         160.5
        ],
        [
         11415,
         41.0
        ],
        [
         11413,
         17.0
        ],
        [
         11412,
         136.0
        ],
        [
         11411,
         65.0
        ],
        [
         11385,
         128.0
        ],
        [
         11379,
         224.5
        ],
        [
         11378,
         80.0
        ],
        [
         11377,
         780.0
        ],
        [
         11375,
         643.0
        ],
        [
         11374,
         376.0
        ],
        [
         11373,
         598.0
        ],
        [
         11372,
         677.0
        ],
        [
         11371,
         7138.34
        ],
        [
         11370,
         435.0
        ],
        [
         11369,
         172.0
        ],
        [
         11368,
         191.5
        ],
        [
         11367,
         203.0
        ],
        [
         11366,
         191.0
        ],
        [
         11365,
         38.5
        ],
        [
         11364,
         67.5
        ],
        [
         11363,
         49.0
        ],
        [
         11360,
         90.5
        ],
        [
         11358,
         46.5
        ],
        [
         11357,
         43.0
        ],
        [
         11356,
         50.0
        ],
        [
         11355,
         214.5
        ],
        [
         11354,
         181.5
        ],
        [
         11351,
         22.5
        ],
        [
         11238,
         1752.0
        ],
        [
         11237,
         978.0
        ],
        [
         11236,
         366.5
        ],
        [
         11235,
         170.0
        ],
        [
         11234,
         87.5
        ],
        [
         11233,
         537.0
        ],
        [
         11231,
         1384.5
        ],
        [
         11230,
         281.5
        ],
        [
         11229,
         290.0
        ],
        [
         11228,
         145.0
        ],
        [
         11226,
         534.5
        ],
        [
         11225,
         463.5
        ],
        [
         11224,
         120.5
        ],
        [
         11223,
         180.5
        ],
        [
         11222,
         1703.5
        ],
        [
         11221,
         689.0
        ],
        [
         11220,
         461.0
        ],
        [
         11219,
         172.0
        ],
        [
         11218,
         680.0
        ],
        [
         11217,
         1680.5
        ],
        [
         11216,
         964.0
        ],
        [
         11215,
         1451.5
        ],
        [
         11214,
         166.5
        ],
        [
         11213,
         320.5
        ],
        [
         11212,
         118.5
        ],
        [
         11211,
         3749.0
        ],
        [
         11210,
         256.5
        ],
        [
         11209,
         580.5
        ],
        [
         11208,
         49.0
        ],
        [
         11207,
         164.0
        ],
        [
         11206,
         1101.5
        ],
        [
         11205,
         1134.5
        ],
        [
         11204,
         185.5
        ],
        [
         11203,
         89.5
        ],
        [
         11201,
         2412.0
        ],
        [
         11109,
         809.5
        ],
        [
         11106,
         787.0
        ],
        [
         11105,
         795.5
        ],
        [
         11104,
         763.5
        ],
        [
         11103,
         1357.0
        ],
        [
         11102,
         1519.5
        ],
        [
         11101,
         294.5
        ],
        [
         11096,
         27.5
        ],
        [
         11050,
         73.5
        ],
        [
         11042,
         115.0
        ],
        [
         11010,
         44.5
        ],
        [
         11003,
         0.0
        ],
        [
         11001,
         59.5
        ],
        [
         10803,
         158.0
        ],
        [
         10710,
         88.0
        ],
        [
         10705,
         45.5
        ],
        [
         10703,
         85.0
        ],
        [
         10606,
         0.0
        ],
        [
         10601,
         94.5
        ],
        [
         10550,
         46.0
        ],
        [
         10502,
         0.0
        ],
        [
         10475,
         127.0
        ],
        [
         10474,
         145.5
        ],
        [
         10473,
         44.5
        ],
        [
         10472,
         171.0
        ],
        [
         10471,
         82.0
        ],
        [
         10470,
         167.0
        ],
        [
         10469,
         142.5
        ],
        [
         10468,
         536.0
        ],
        [
         10467,
         49.0
        ],
        [
         10466,
         83.0
        ],
        [
         10465,
         112.0
        ],
        [
         10464,
         50.0
        ],
        [
         10463,
         395.51
        ],
        [
         10462,
         98.5
        ],
        [
         10461,
         39.0
        ],
        [
         10460,
         143.5
        ],
        [
         10459,
         83.5
        ],
        [
         10458,
         73.5
        ],
        [
         10457,
         32.5
        ],
        [
         10456,
         56.5
        ],
        [
         10455,
         67.5
        ],
        [
         10454,
         169.0
        ],
        [
         10453,
         56.5
        ],
        [
         10452,
         309.5
        ],
        [
         10451,
         230.0
        ],
        [
         10306,
         53.0
        ],
        [
         10305,
         13.5
        ],
        [
         10301,
         50.5
        ],
        [
         10282,
         2460.8
        ],
        [
         10280,
         1311.0
        ],
        [
         10278,
         1841.5
        ],
        [
         10271,
         1490.5
        ],
        [
         10199,
         6201.0
        ],
        [
         10171,
         2448.5
        ],
        [
         10167,
         2410.0
        ],
        [
         10162,
         4256.5
        ],
        [
         10154,
         2318.0
        ],
        [
         10153,
         4138.3
        ],
        [
         10152,
         1193.0
        ],
        [
         10119,
         4939.01
        ],
        [
         10115,
         529.0
        ],
        [
         10112,
         458.0
        ],
        [
         10111,
         1760.5
        ],
        [
         10110,
         7807.0
        ],
        [
         10103,
         5352.0
        ],
        [
         10069,
         2035.5
        ],
        [
         10065,
         5553.5
        ],
        [
         10044,
         5469.5
        ],
        [
         10039,
         734.0
        ],
        [
         10038,
         830.0
        ],
        [
         10037,
         1047.5
        ],
        [
         10035,
         1085.0
        ],
        [
         10034,
         1304.5
        ],
        [
         10032,
         1745.0
        ],
        [
         10031,
         865.5
        ],
        [
         10030,
         1088.5
        ],
        [
         10029,
         3459.0
        ],
        [
         10028,
         9225.0
        ],
        [
         10027,
         1613.5
        ],
        [
         10026,
         2209.0
        ],
        [
         10025,
         3292.5
        ],
        [
         10024,
         129.0
        ],
        [
         10023,
         8520.0
        ],
        [
         10022,
         4890.0
        ],
        [
         10021,
         9707.0
        ],
        [
         10020,
         5105.5
        ],
        [
         10019,
         5231.8
        ],
        [
         10018,
         8997.5
        ],
        [
         10017,
         7505.0
        ],
        [
         10016,
         2036.5
        ],
        [
         10014,
         4466.0
        ],
        [
         10013,
         3436.0
        ],
        [
         10012,
         8183.5
        ],
        [
         10011,
         8738.0
        ],
        [
         10009,
         7659.5
        ],
        [
         10007,
         1392.0
        ],
        [
         10006,
         1946.5
        ],
        [
         10005,
         1572.5
        ],
        [
         10003,
         9128.5
        ],
        [
         10002,
         5801.5
        ],
        [
         10001,
         10893.5
        ],
        [
         8876,
         260.0
        ],
        [
         7974,
         188.0
        ],
        [
         7901,
         130.0
        ],
        [
         7758,
         15.5
        ],
        [
         7737,
         5.0
        ],
        [
         7423,
         70.0
        ],
        [
         7311,
         148.0
        ],
        [
         7310,
         184.0
        ],
        [
         7304,
         54.0
        ],
        [
         7302,
         45.0
        ],
        [
         7201,
         53.5
        ],
        [
         7114,
         2035.5
        ],
        [
         7087,
         0.01
        ],
        [
         7086,
         40.0
        ],
        [
         7030,
         196.0
        ],
        [
         7024,
         96.0
        ],
        [
         7008,
         275.0
        ],
        [
         7002,
         21.0
        ]
       ],
       "datasetInfos": [],
       "dbfsResultPath": null,
       "isJsonSchema": true,
       "metadata": {},
       "overflow": false,
       "plotOptions": {
        "customPlotOptions": {},
        "displayType": "table",
        "pivotAggregation": null,
        "pivotColumns": null,
        "xColumns": null,
        "yColumns": null
       },
       "removedWidgets": [],
       "schema": [
        {
         "metadata": "{}",
         "name": "dropoff_zip",
         "type": "\"integer\""
        },
        {
         "metadata": "{}",
         "name": "total_fare",
         "type": "\"double\""
        }
       ],
       "type": "table"
      }
     },
     "output_type": "display_data"
    },
    {
     "output_type": "display_data",
     "data": {
      "text/plain": [
       "Databricks visualization. Run in Databricks to view."
      ]
     },
     "metadata": {
      "application/vnd.databricks.v1.subcommand+json": {
       "baseErrorDetails": null,
       "bindings": {},
       "collapsed": false,
       "command": "from pyspark.sql.functions import sum\n\ndf = spark.table(\"samples.nyctaxi.trips\")\nzip_fare_df = df.groupBy(\"dropoff_zip\") \\\n                .agg(sum(\"fare_amount\").alias(\"total_fare\")) \\\n                .orderBy(\"dropoff_zip\", ascending=False)\ndisplay(zip_fare_df)\n",
       "commandTitle": "Visualization 1",
       "commandType": "auto",
       "commandVersion": 0,
       "commentThread": [],
       "commentsVisible": false,
       "contentSha256Hex": null,
       "customPlotOptions": {
        "redashChart": [
         {
          "key": "type",
          "value": "CHOROPLETH"
         },
         {
          "key": "options",
          "value": {
           "clusteringMode": "e",
           "colors": {
            "background": "#ffffff",
            "borders": "#ffffff",
            "max": "#604FE9",
            "min": "#E92828",
            "noValue": "#8CFFB4"
           },
           "legend": {
            "alignText": "right",
            "position": "bottom-left",
            "visible": true
           },
           "mapType": "subdiv_japan",
           "noValuePlaceholder": "N/A",
           "popup": {
            "enabled": true,
            "template": "Region: <b>{{ @@name }}</b>\n<br>\nValue: <b>{{ @@value }}</b>"
           },
           "steps": 5,
           "tooltip": {
            "enabled": true,
            "template": "<b>{{ @@name }}</b>: {{ @@value }}"
           },
           "valueColumn": "total_fare",
           "valueFormat": "0,0.00"
          }
         }
        ]
       },
       "datasetPreviewNameToCmdIdMap": {},
       "diffDeletes": [],
       "diffInserts": [],
       "displayType": "redashChart",
       "error": null,
       "errorDetails": null,
       "errorSummary": null,
       "errorTraceType": null,
       "finishTime": 0,
       "globalVars": {},
       "guid": "",
       "height": "auto",
       "hideCommandCode": false,
       "hideCommandResult": false,
       "iPythonMetadata": null,
       "inputWidgets": {},
       "isLockedInExamMode": false,
       "latestUser": "a user",
       "latestUserId": null,
       "listResultMetadata": null,
       "metadata": {},
       "nuid": "b082457c-4f1e-492c-b815-d3b64b056c84",
       "origId": 0,
       "parentHierarchy": [],
       "pivotAggregation": null,
       "pivotColumns": null,
       "position": 5.0,
       "resultDbfsErrorMessage": null,
       "resultDbfsStatus": "INLINED_IN_TREE",
       "results": null,
       "showCommandTitle": false,
       "startTime": 0,
       "state": "input",
       "streamStates": {},
       "subcommandOptions": {},
       "submitTime": 0,
       "subtype": "tableResultSubCmd.visualization",
       "tableResultIndex": 0,
       "tableResultSettingsMap": {},
       "useConsistentColors": false,
       "version": "CommandV1",
       "width": "auto",
       "workflows": [],
       "xColumns": null,
       "yColumns": null
      }
     },
     "output_type": "display_data"
    },
    {
     "output_type": "display_data",
     "data": {
      "text/plain": [
       "Databricks visualization. Run in Databricks to view."
      ]
     },
     "metadata": {
      "application/vnd.databricks.v1.subcommand+json": {
       "baseErrorDetails": null,
       "bindings": {},
       "collapsed": false,
       "command": "%python\n__backend_agg_display_orig = display\n__backend_agg_dfs = []\ndef __backend_agg_display_new(df):\n    __backend_agg_df_modules = [\"pandas.core.frame\", \"databricks.koalas.frame\", \"pyspark.sql.dataframe\", \"pyspark.pandas.frame\", \"pyspark.sql.connect.dataframe\"]\n    if (type(df).__module__ in __backend_agg_df_modules and type(df).__name__ == 'DataFrame') or isinstance(df, list):\n        __backend_agg_dfs.append(df)\n\ndisplay = __backend_agg_display_new\n\ndef __backend_agg_user_code_fn():\n    import base64\n    exec(base64.standard_b64decode(\"ZnJvbSBweXNwYXJrLnNxbC5mdW5jdGlvbnMgaW1wb3J0IHN1bQoKZGYgPSBzcGFyay50YWJsZSgic2FtcGxlcy5ueWN0YXhpLnRyaXBzIikKemlwX2ZhcmVfZGYgPSBkZi5ncm91cEJ5KCJkcm9wb2ZmX3ppcCIpIFwKICAgICAgICAgICAgICAgIC5hZ2coc3VtKCJmYXJlX2Ftb3VudCIpLmFsaWFzKCJ0b3RhbF9mYXJlIikpIFwKICAgICAgICAgICAgICAgIC5vcmRlckJ5KCJkcm9wb2ZmX3ppcCIsIGFzY2VuZGluZz1GYWxzZSkKZGlzcGxheSh6aXBfZmFyZV9kZikK\").decode())\n\ntry:\n    # run user code\n    __backend_agg_user_code_fn()\n\n    #reset display function\n    display = __backend_agg_display_orig\n\n    if len(__backend_agg_dfs) > 0:\n        # create a temp view\n        if type(__backend_agg_dfs[0]).__module__ == \"databricks.koalas.frame\":\n            # koalas dataframe\n            __backend_agg_dfs[0].to_spark().createOrReplaceTempView(\"DatabricksViewf328382\")\n        elif type(__backend_agg_dfs[0]).__module__ == \"pandas.core.frame\" or isinstance(__backend_agg_dfs[0], list):\n            # pandas dataframe\n            spark.createDataFrame(__backend_agg_dfs[0]).createOrReplaceTempView(\"DatabricksViewf328382\")\n        else:\n            __backend_agg_dfs[0].createOrReplaceTempView(\"DatabricksViewf328382\")\n        #run backend agg\n        display(spark.sql(\"\"\"WITH q AS (select * from DatabricksViewf328382) SELECT `dropoff_zip`,`total_fare`,`dropoff_zip`,`total_fare` FROM q\"\"\"))\n    else:\n        displayHTML(\"dataframe no longer exists. If you're using dataframe.display(), use display(dataframe) instead.\")\n\n\nfinally:\n    spark.sql(\"drop view if exists DatabricksViewf328382\")\n    display = __backend_agg_display_orig\n    del __backend_agg_display_new\n    del __backend_agg_display_orig\n    del __backend_agg_dfs\n    del __backend_agg_user_code_fn\n\n",
       "commandTitle": "Visualization 2",
       "commandType": "auto",
       "commandVersion": 0,
       "commentThread": [],
       "commentsVisible": false,
       "contentSha256Hex": null,
       "customPlotOptions": {
        "redashChart": [
         {
          "key": "type",
          "value": "CHART"
         },
         {
          "key": "options",
          "value": {
           "alignYAxesAtZero": true,
           "coefficient": 3,
           "columnConfigurationMap": {
            "series": {
             "column": "dropoff_zip",
             "id": "column_fcec83b566"
            },
            "size": {
             "column": "total_fare",
             "id": "column_fcec83b568"
            },
            "x": {
             "column": "dropoff_zip",
             "id": "column_fcec83b564"
            },
            "y": [
             {
              "column": "total_fare",
              "id": "column_fcec83b565"
             }
            ]
           },
           "dateTimeFormat": "DD/MM/YYYY HH:mm",
           "direction": {
            "type": "counterclockwise"
           },
           "error_y": {
            "type": "data",
            "visible": true
           },
           "globalSeriesType": "bubble",
           "legend": {
            "traceorder": "normal"
           },
           "missingValuesAsZero": true,
           "numberFormat": "0,0.[00000]",
           "percentFormat": "0[.]00%",
           "series": {
            "error_y": {
             "type": "data",
             "visible": true
            },
            "stacking": null
           },
           "seriesOptions": {
            "column_fcec83b565": {
             "name": "total_fare",
             "type": "bubble",
             "yAxis": 0
            }
           },
           "showDataLabels": false,
           "sizemode": "diameter",
           "sortX": true,
           "sortY": true,
           "swappedAxes": false,
           "textFormat": "",
           "useAggregationsUi": true,
           "valuesOptions": {},
           "version": 2,
           "xAxis": {
            "labels": {
             "enabled": true
            },
            "type": "-"
           },
           "yAxis": [
            {
             "type": "-"
            },
            {
             "opposite": true,
             "type": "-"
            }
           ]
          }
         }
        ]
       },
       "datasetPreviewNameToCmdIdMap": {},
       "diffDeletes": [],
       "diffInserts": [],
       "displayType": "redashChart",
       "error": null,
       "errorDetails": null,
       "errorSummary": null,
       "errorTraceType": null,
       "finishTime": 0,
       "globalVars": {},
       "guid": "",
       "height": "auto",
       "hideCommandCode": false,
       "hideCommandResult": false,
       "iPythonMetadata": null,
       "inputWidgets": {},
       "isLockedInExamMode": false,
       "latestUser": "a user",
       "latestUserId": null,
       "listResultMetadata": null,
       "metadata": {},
       "nuid": "a71fbdd3-c230-4b74-af79-520add1064ea",
       "origId": 0,
       "parentHierarchy": [],
       "pivotAggregation": null,
       "pivotColumns": null,
       "position": 6.0,
       "resultDbfsErrorMessage": null,
       "resultDbfsStatus": "INLINED_IN_TREE",
       "results": null,
       "showCommandTitle": false,
       "startTime": 0,
       "state": "input",
       "streamStates": {},
       "subcommandOptions": {
        "queryPlan": {
         "selects": [
          {
           "column": "dropoff_zip",
           "type": "column"
          },
          {
           "column": "total_fare",
           "type": "column"
          },
          {
           "column": "dropoff_zip",
           "type": "column"
          },
          {
           "column": "total_fare",
           "type": "column"
          }
         ]
        }
       },
       "submitTime": 0,
       "subtype": "tableResultSubCmd.visualization",
       "tableResultIndex": 0,
       "tableResultSettingsMap": {},
       "useConsistentColors": false,
       "version": "CommandV1",
       "width": "auto",
       "workflows": [],
       "xColumns": null,
       "yColumns": null
      }
     },
     "output_type": "display_data"
    },
    {
     "output_type": "display_data",
     "data": {
      "text/plain": [
       "Databricks visualization. Run in Databricks to view."
      ]
     },
     "metadata": {
      "application/vnd.databricks.v1.subcommand+json": {
       "baseErrorDetails": null,
       "bindings": {},
       "collapsed": false,
       "command": "from pyspark.sql.functions import sum\n\ndf = spark.table(\"samples.nyctaxi.trips\")\nzip_fare_df = df.groupBy(\"dropoff_zip\") \\\n                .agg(sum(\"fare_amount\").alias(\"total_fare\")) \\\n                .orderBy(\"dropoff_zip\", ascending=False)\ndisplay(zip_fare_df)\n",
       "commandTitle": "Visualization 3",
       "commandType": "auto",
       "commandVersion": 0,
       "commentThread": [],
       "commentsVisible": false,
       "contentSha256Hex": null,
       "customPlotOptions": {
        "redashChart": [
         {
          "key": "type",
          "value": "COHORT"
         },
         {
          "key": "options",
          "value": {
           "colors": {
            "max": "#077A9D",
            "min": "#C4CCD6",
            "steps": 7
           },
           "dateColumn": "dropoff_zip",
           "mode": "diagonal",
           "noValuePlaceholder": "-",
           "numberFormat": "0,0.[00]",
           "peopleColumnTitle": "Users",
           "percentFormat": "0.00%",
           "percentValues": true,
           "showTooltips": true,
           "stageColumn": "dropoff_zip",
           "stageColumnTitle": "{{ @ }}",
           "timeColumnTitle": "Time",
           "timeInterval": "daily",
           "totalColumn": "total_fare",
           "valueColumn": "total_fare"
          }
         }
        ]
       },
       "datasetPreviewNameToCmdIdMap": {},
       "diffDeletes": [],
       "diffInserts": [],
       "displayType": "redashChart",
       "error": null,
       "errorDetails": null,
       "errorSummary": null,
       "errorTraceType": null,
       "finishTime": 0,
       "globalVars": {},
       "guid": "",
       "height": "auto",
       "hideCommandCode": false,
       "hideCommandResult": false,
       "iPythonMetadata": null,
       "inputWidgets": {},
       "isLockedInExamMode": false,
       "latestUser": "a user",
       "latestUserId": null,
       "listResultMetadata": null,
       "metadata": {},
       "nuid": "1a70ddf3-91f4-4f23-97e7-a5ef55c465ba",
       "origId": 0,
       "parentHierarchy": [],
       "pivotAggregation": null,
       "pivotColumns": null,
       "position": 7.0,
       "resultDbfsErrorMessage": null,
       "resultDbfsStatus": "INLINED_IN_TREE",
       "results": null,
       "showCommandTitle": false,
       "startTime": 0,
       "state": "input",
       "streamStates": {},
       "subcommandOptions": {},
       "submitTime": 0,
       "subtype": "tableResultSubCmd.visualization",
       "tableResultIndex": 0,
       "tableResultSettingsMap": {},
       "useConsistentColors": false,
       "version": "CommandV1",
       "width": "auto",
       "workflows": [],
       "xColumns": null,
       "yColumns": null
      }
     },
     "output_type": "display_data"
    },
    {
     "output_type": "display_data",
     "data": {
      "text/plain": [
       "Databricks visualization. Run in Databricks to view."
      ]
     },
     "metadata": {
      "application/vnd.databricks.v1.subcommand+json": {
       "baseErrorDetails": null,
       "bindings": {},
       "collapsed": false,
       "command": "from pyspark.sql.functions import sum\n\ndf = spark.table(\"samples.nyctaxi.trips\")\nzip_fare_df = df.groupBy(\"dropoff_zip\") \\\n                .agg(sum(\"fare_amount\").alias(\"total_fare\")) \\\n                .orderBy(\"dropoff_zip\", ascending=False)\ndisplay(zip_fare_df)\n",
       "commandTitle": "Visualization 4",
       "commandType": "auto",
       "commandVersion": 0,
       "commentThread": [],
       "commentsVisible": false,
       "contentSha256Hex": null,
       "customPlotOptions": {
        "redashChart": [
         {
          "key": "type",
          "value": "DETAILS"
         },
         {
          "key": "options",
          "value": {
           "columns": [
            {
             "name": "dropoff_zip",
             "title": "dropoff_zip",
             "type": "integer"
            },
            {
             "name": "total_fare",
             "title": "total_fare",
             "type": "float"
            }
           ],
           "version": 1
          }
         }
        ]
       },
       "datasetPreviewNameToCmdIdMap": {},
       "diffDeletes": [],
       "diffInserts": [],
       "displayType": "redashChart",
       "error": null,
       "errorDetails": null,
       "errorSummary": null,
       "errorTraceType": null,
       "finishTime": 0,
       "globalVars": {},
       "guid": "",
       "height": "auto",
       "hideCommandCode": false,
       "hideCommandResult": false,
       "iPythonMetadata": null,
       "inputWidgets": {},
       "isLockedInExamMode": false,
       "latestUser": "a user",
       "latestUserId": null,
       "listResultMetadata": null,
       "metadata": {},
       "nuid": "d1f8aafb-1ea1-4fbb-857c-7748d73cff40",
       "origId": 0,
       "parentHierarchy": [],
       "pivotAggregation": null,
       "pivotColumns": null,
       "position": 8.0,
       "resultDbfsErrorMessage": null,
       "resultDbfsStatus": "INLINED_IN_TREE",
       "results": null,
       "showCommandTitle": false,
       "startTime": 0,
       "state": "input",
       "streamStates": {},
       "subcommandOptions": {},
       "submitTime": 0,
       "subtype": "tableResultSubCmd.visualization",
       "tableResultIndex": 0,
       "tableResultSettingsMap": {},
       "useConsistentColors": false,
       "version": "CommandV1",
       "width": "auto",
       "workflows": [],
       "xColumns": null,
       "yColumns": null
      }
     },
     "output_type": "display_data"
    },
    {
     "output_type": "display_data",
     "data": {
      "text/plain": [
       "Databricks visualization. Run in Databricks to view."
      ]
     },
     "metadata": {
      "application/vnd.databricks.v1.subcommand+json": {
       "baseErrorDetails": null,
       "bindings": {},
       "collapsed": false,
       "command": "from pyspark.sql.functions import sum\n\ndf = spark.table(\"samples.nyctaxi.trips\")\nzip_fare_df = df.groupBy(\"dropoff_zip\") \\\n                .agg(sum(\"fare_amount\").alias(\"total_fare\")) \\\n                .orderBy(\"dropoff_zip\", ascending=False)\ndisplay(zip_fare_df)\n",
       "commandTitle": "Visualization 5",
       "commandType": "auto",
       "commandVersion": 0,
       "commentThread": [],
       "commentsVisible": false,
       "contentSha256Hex": null,
       "customPlotOptions": {
        "redashChart": [
         {
          "key": "type",
          "value": "WORD_CLOUD"
         },
         {
          "key": "options",
          "value": {
           "column": "dropoff_zip",
           "frequenciesColumn": "total_fare",
           "wordCountLimit": {
            "max": null,
            "min": null
           },
           "wordLengthLimit": {
            "max": null,
            "min": null
           }
          }
         }
        ]
       },
       "datasetPreviewNameToCmdIdMap": {},
       "diffDeletes": [],
       "diffInserts": [],
       "displayType": "redashChart",
       "error": null,
       "errorDetails": null,
       "errorSummary": null,
       "errorTraceType": null,
       "finishTime": 0,
       "globalVars": {},
       "guid": "",
       "height": "auto",
       "hideCommandCode": false,
       "hideCommandResult": false,
       "iPythonMetadata": null,
       "inputWidgets": {},
       "isLockedInExamMode": false,
       "latestUser": "a user",
       "latestUserId": null,
       "listResultMetadata": null,
       "metadata": {},
       "nuid": "4d3ac0a9-b163-4d77-90a4-7b94db214986",
       "origId": 0,
       "parentHierarchy": [],
       "pivotAggregation": null,
       "pivotColumns": null,
       "position": 9.0,
       "resultDbfsErrorMessage": null,
       "resultDbfsStatus": "INLINED_IN_TREE",
       "results": null,
       "showCommandTitle": false,
       "startTime": 0,
       "state": "input",
       "streamStates": {},
       "subcommandOptions": {},
       "submitTime": 0,
       "subtype": "tableResultSubCmd.visualization",
       "tableResultIndex": 0,
       "tableResultSettingsMap": {},
       "useConsistentColors": false,
       "version": "CommandV1",
       "width": "auto",
       "workflows": [],
       "xColumns": null,
       "yColumns": null
      }
     },
     "output_type": "display_data"
    }
   ],
   "source": [
    "from pyspark.sql.functions import sum\n",
    "\n",
    "df = spark.table(\"samples.nyctaxi.trips\")\n",
    "zip_fare_df = df.groupBy(\"dropoff_zip\") \\\n",
    "                .agg(sum(\"fare_amount\").alias(\"total_fare\")) \\\n",
    "                .orderBy(\"dropoff_zip\", ascending=False)\n",
    "display(zip_fare_df)\n"
   ]
  },
  {
   "cell_type": "code",
   "execution_count": 0,
   "metadata": {
    "application/vnd.databricks.v1+cell": {
     "cellMetadata": {
      "byteLimit": 2048000,
      "rowLimit": 10000
     },
     "inputWidgets": {},
     "nuid": "fa09eed2-72b6-4666-951e-dcc647b17938",
     "showTitle": false,
     "tableResultSettingsMap": {},
     "title": ""
    }
   },
   "outputs": [
    {
     "output_type": "display_data",
     "data": {
      "text/html": [
       "<style scoped>\n",
       "  .table-result-container {\n",
       "    max-height: 300px;\n",
       "    overflow: auto;\n",
       "  }\n",
       "  table, th, td {\n",
       "    border: 1px solid black;\n",
       "    border-collapse: collapse;\n",
       "  }\n",
       "  th, td {\n",
       "    padding: 5px;\n",
       "  }\n",
       "  th {\n",
       "    text-align: left;\n",
       "  }\n",
       "</style><div class='table-result-container'><table class='table-result'><thead style='background-color: white'><tr><th>weekday</th><th>fare_amount</th></tr></thead><tbody><tr><td>1</td><td>3039</td></tr><tr><td>2</td><td>2972</td></tr><tr><td>3</td><td>2784</td></tr><tr><td>4</td><td>2947</td></tr><tr><td>5</td><td>3226</td></tr><tr><td>6</td><td>3563</td></tr><tr><td>7</td><td>3401</td></tr></tbody></table></div>"
      ]
     },
     "metadata": {
      "application/vnd.databricks.v1+output": {
       "addedWidgets": {},
       "aggData": [],
       "aggError": "",
       "aggOverflow": false,
       "aggSchema": [],
       "aggSeriesLimitReached": false,
       "aggType": "",
       "arguments": {},
       "columnCustomDisplayInfos": {},
       "data": [
        [
         1,
         3039
        ],
        [
         2,
         2972
        ],
        [
         3,
         2784
        ],
        [
         4,
         2947
        ],
        [
         5,
         3226
        ],
        [
         6,
         3563
        ],
        [
         7,
         3401
        ]
       ],
       "datasetInfos": [],
       "dbfsResultPath": null,
       "isJsonSchema": true,
       "metadata": {},
       "overflow": false,
       "plotOptions": {
        "customPlotOptions": {},
        "displayType": "table",
        "pivotAggregation": null,
        "pivotColumns": null,
        "xColumns": null,
        "yColumns": null
       },
       "removedWidgets": [],
       "schema": [
        {
         "metadata": "{}",
         "name": "weekday",
         "type": "\"integer\""
        },
        {
         "metadata": "{}",
         "name": "fare_amount",
         "type": "\"long\""
        }
       ],
       "type": "table"
      }
     },
     "output_type": "display_data"
    },
    {
     "output_type": "display_data",
     "data": {
      "text/plain": [
       "Databricks visualization. Run in Databricks to view."
      ]
     },
     "metadata": {
      "application/vnd.databricks.v1.subcommand+json": {
       "baseErrorDetails": null,
       "bindings": {},
       "collapsed": false,
       "command": "%python\n__backend_agg_display_orig = display\n__backend_agg_dfs = []\ndef __backend_agg_display_new(df):\n    __backend_agg_df_modules = [\"pandas.core.frame\", \"databricks.koalas.frame\", \"pyspark.sql.dataframe\", \"pyspark.pandas.frame\", \"pyspark.sql.connect.dataframe\"]\n    if (type(df).__module__ in __backend_agg_df_modules and type(df).__name__ == 'DataFrame') or isinstance(df, list):\n        __backend_agg_dfs.append(df)\n\ndisplay = __backend_agg_display_new\n\ndef __backend_agg_user_code_fn():\n    import base64\n    exec(base64.standard_b64decode(\"ZnJvbSBweXNwYXJrLnNxbC5mdW5jdGlvbnMgaW1wb3J0IGRheW9md2VlawoKZGYgPSBzcGFyay50YWJsZSgic2FtcGxlcy5ueWN0YXhpLnRyaXBzIikKd2Vla2RheV9kZiA9IGRmLmdyb3VwQnkoZGF5b2Z3ZWVrKCJ0cGVwX3BpY2t1cF9kYXRldGltZSIpLmFsaWFzKCJ3ZWVrZGF5IikpIFwKICAgICAgICAgICAgICAgLmNvdW50KCkgXAogICAgICAgICAgICAgICAud2l0aENvbHVtblJlbmFtZWQoImNvdW50IiwgImZhcmVfYW1vdW50IikgXAogICAgICAgICAgICAgICAub3JkZXJCeSgid2Vla2RheSIpCmRpc3BsYXkod2Vla2RheV9kZikK\").decode())\n\ntry:\n    # run user code\n    __backend_agg_user_code_fn()\n\n    #reset display function\n    display = __backend_agg_display_orig\n\n    if len(__backend_agg_dfs) > 0:\n        # create a temp view\n        if type(__backend_agg_dfs[0]).__module__ == \"databricks.koalas.frame\":\n            # koalas dataframe\n            __backend_agg_dfs[0].to_spark().createOrReplaceTempView(\"DatabricksViewdea99f0\")\n        elif type(__backend_agg_dfs[0]).__module__ == \"pandas.core.frame\" or isinstance(__backend_agg_dfs[0], list):\n            # pandas dataframe\n            spark.createDataFrame(__backend_agg_dfs[0]).createOrReplaceTempView(\"DatabricksViewdea99f0\")\n        else:\n            __backend_agg_dfs[0].createOrReplaceTempView(\"DatabricksViewdea99f0\")\n        #run backend agg\n        display(spark.sql(\"\"\"WITH q AS (select * from DatabricksViewdea99f0) ,min_max AS (SELECT `fare_amount`,(SELECT MAX(`fare_amount`) FROM q) `target_column_max`,(SELECT MIN(`fare_amount`) FROM q) `target_column_min` FROM q) ,histogram_meta AS (SELECT `fare_amount`,`target_column_min` `min_value`,IF(`target_column_max` = `target_column_min`,`target_column_max` + 1,`target_column_max`) `max_value`,(`target_column_max` - `target_column_min`) / 10 `step` FROM min_max) SELECT IF(ISNULL(`fare_amount`),NULL,LEAST(WIDTH_BUCKET(`fare_amount`,`min_value`,`max_value`,10),10)) `fare_amount_BIN`,FIRST(`min_value` + ((IF(ISNULL(`fare_amount`),NULL,LEAST(WIDTH_BUCKET(`fare_amount`,`min_value`,`max_value`,10),10)) - 1) * `step`)) `fare_amount_BIN_LOWER_BOUND`,FIRST(`step`) `fare_amount_BIN_STEP`,COUNT(`fare_amount`) `COUNT` FROM histogram_meta GROUP BY `fare_amount_BIN`\"\"\"))\n    else:\n        displayHTML(\"dataframe no longer exists. If you're using dataframe.display(), use display(dataframe) instead.\")\n\n\nfinally:\n    spark.sql(\"drop view if exists DatabricksViewdea99f0\")\n    display = __backend_agg_display_orig\n    del __backend_agg_display_new\n    del __backend_agg_display_orig\n    del __backend_agg_dfs\n    del __backend_agg_user_code_fn\n\n",
       "commandTitle": "Visualization 1",
       "commandType": "auto",
       "commandVersion": 0,
       "commentThread": [],
       "commentsVisible": false,
       "contentSha256Hex": null,
       "customPlotOptions": {
        "redashChart": [
         {
          "key": "type",
          "value": "CHART"
         },
         {
          "key": "options",
          "value": {
           "alignYAxesAtZero": true,
           "coefficient": 1,
           "columnConfigurationMap": {
            "x": {
             "column": "fare_amount",
             "id": "column_fcec83b5202"
            }
           },
           "dateTimeFormat": "DD/MM/YYYY HH:mm",
           "direction": {
            "type": "counterclockwise"
           },
           "error_y": {
            "type": "data",
            "visible": true
           },
           "globalSeriesType": "histogram",
           "isAggregationOn": true,
           "legend": {
            "traceorder": "normal"
           },
           "missingValuesAsZero": true,
           "numBins": 10,
           "numberFormat": "0,0.[00000]",
           "percentFormat": "0[.]00%",
           "series": {
            "error_y": {
             "type": "data",
             "visible": true
            },
            "stacking": null
           },
           "seriesOptions": {
            "COUNT": {
             "color": "#00A972"
            },
            "column_fcec83b5201": {
             "name": "fare_amount",
             "type": "histogram",
             "yAxis": 0
            }
           },
           "showDataLabels": false,
           "sizemode": "diameter",
           "sortX": true,
           "sortY": true,
           "swappedAxes": false,
           "textFormat": "",
           "useAggregationsUi": true,
           "valuesOptions": {},
           "version": 2,
           "xAxis": {
            "labels": {
             "enabled": true
            },
            "type": "-"
           },
           "yAxis": [
            {
             "type": "-"
            },
            {
             "opposite": true,
             "type": "-"
            }
           ]
          }
         }
        ]
       },
       "datasetPreviewNameToCmdIdMap": {},
       "diffDeletes": [],
       "diffInserts": [],
       "displayType": "redashChart",
       "error": null,
       "errorDetails": null,
       "errorSummary": null,
       "errorTraceType": null,
       "finishTime": 0,
       "globalVars": {},
       "guid": "",
       "height": "auto",
       "hideCommandCode": false,
       "hideCommandResult": false,
       "iPythonMetadata": null,
       "inputWidgets": {},
       "isLockedInExamMode": false,
       "latestUser": "a user",
       "latestUserId": null,
       "listResultMetadata": null,
       "metadata": {},
       "nuid": "2cf5efff-bbb4-4930-9ba8-65dc77b6a134",
       "origId": 0,
       "parentHierarchy": [],
       "pivotAggregation": null,
       "pivotColumns": null,
       "position": 6.0,
       "resultDbfsErrorMessage": null,
       "resultDbfsStatus": "INLINED_IN_TREE",
       "results": null,
       "showCommandTitle": false,
       "startTime": 0,
       "state": "input",
       "streamStates": {},
       "subcommandOptions": {
        "queryPlan": {
         "groups": [
          {
           "column": "fare_amount_BIN",
           "type": "column"
          }
         ],
         "selects": [
          {
           "alias": "fare_amount_BIN",
           "args": [
            {
             "column": "fare_amount",
             "type": "column"
            },
            {
             "number": 10,
             "type": "number"
            }
           ],
           "function": "BIN",
           "type": "function"
          },
          {
           "alias": "fare_amount_BIN_LOWER_BOUND",
           "args": [
            {
             "column": "fare_amount",
             "type": "column"
            },
            {
             "number": 10,
             "type": "number"
            }
           ],
           "function": "BIN_LOWER_BOUND",
           "type": "function"
          },
          {
           "alias": "fare_amount_BIN_STEP",
           "args": [
            {
             "column": "fare_amount",
             "type": "column"
            },
            {
             "number": 10,
             "type": "number"
            }
           ],
           "function": "BIN_STEP",
           "type": "function"
          },
          {
           "alias": "COUNT",
           "args": [
            {
             "column": "fare_amount",
             "type": "column"
            }
           ],
           "function": "COUNT",
           "type": "function"
          }
         ]
        }
       },
       "submitTime": 0,
       "subtype": "tableResultSubCmd.visualization",
       "tableResultIndex": 0,
       "tableResultSettingsMap": {},
       "useConsistentColors": false,
       "version": "CommandV1",
       "width": "auto",
       "workflows": [],
       "xColumns": null,
       "yColumns": null
      }
     },
     "output_type": "display_data"
    },
    {
     "output_type": "display_data",
     "data": {
      "text/plain": [
       "Databricks visualization. Run in Databricks to view."
      ]
     },
     "metadata": {
      "application/vnd.databricks.v1.subcommand+json": {
       "baseErrorDetails": null,
       "bindings": {},
       "collapsed": false,
       "command": "from pyspark.sql.functions import dayofweek\n\ndf = spark.table(\"samples.nyctaxi.trips\")\nweekday_df = df.groupBy(dayofweek(\"tpep_pickup_datetime\").alias(\"weekday\")) \\\n               .count() \\\n               .withColumnRenamed(\"count\", \"fare_amount\") \\\n               .orderBy(\"weekday\")\ndisplay(weekday_df)\n",
       "commandTitle": "Visualization 2",
       "commandType": "auto",
       "commandVersion": 0,
       "commentThread": [],
       "commentsVisible": false,
       "contentSha256Hex": null,
       "customPlotOptions": {
        "redashChart": [
         {
          "key": "type",
          "value": "TABLE"
         },
         {
          "key": "options",
          "value": {
           "columns": [
            {
             "alignContent": "right",
             "allowHTML": false,
             "allowSearch": false,
             "booleanValues": [
              "false",
              "true"
             ],
             "displayAs": "number",
             "highlightLinks": false,
             "imageHeight": "",
             "imageTitleTemplate": "{{ @ }}",
             "imageUrlTemplate": "{{ @ }}",
             "imageWidth": "",
             "linkOpenInNewTab": true,
             "linkTextTemplate": "{{ @ }}",
             "linkTitleTemplate": "{{ @ }}",
             "linkUrlTemplate": "{{ @ }}",
             "name": "weekday",
             "numberFormat": "0",
             "order": 100000,
             "preserveWhitespace": false,
             "title": "weekday",
             "type": "integer",
             "useMonospaceFont": false,
             "visible": true
            },
            {
             "alignContent": "center",
             "allowHTML": false,
             "allowSearch": false,
             "booleanValues": [
              "false",
              "true"
             ],
             "cellFormat": {
              "default": {
               "foregroundColor": "#E92828"
              },
              "rules": []
             },
             "displayAs": "json",
             "highlightLinks": false,
             "imageHeight": "",
             "imageTitleTemplate": "{{ @ }}",
             "imageUrlTemplate": "{{ @ }}",
             "imageWidth": "",
             "linkOpenInNewTab": true,
             "linkTextTemplate": "{{ @ }}",
             "linkTitleTemplate": "{{ @ }}",
             "linkUrlTemplate": "{{ @ }}",
             "name": "fare_amount",
             "numberFormat": "0",
             "order": 100001,
             "preserveWhitespace": false,
             "title": "fare_amount",
             "type": "integer",
             "useMonospaceFont": false,
             "visible": true
            }
           ],
           "condensed": true,
           "itemsPerPage": 25,
           "paginationSize": "default",
           "version": 2,
           "withRowNumber": false
          }
         }
        ]
       },
       "datasetPreviewNameToCmdIdMap": {},
       "diffDeletes": [],
       "diffInserts": [],
       "displayType": "redashChart",
       "error": null,
       "errorDetails": null,
       "errorSummary": null,
       "errorTraceType": null,
       "finishTime": 0,
       "globalVars": {},
       "guid": "",
       "height": "auto",
       "hideCommandCode": false,
       "hideCommandResult": false,
       "iPythonMetadata": null,
       "inputWidgets": {},
       "isLockedInExamMode": false,
       "latestUser": "a user",
       "latestUserId": null,
       "listResultMetadata": null,
       "metadata": {},
       "nuid": "86299a96-2c4b-4dea-9280-bffcfb5b702f",
       "origId": 0,
       "parentHierarchy": [],
       "pivotAggregation": null,
       "pivotColumns": null,
       "position": 7.0,
       "resultDbfsErrorMessage": null,
       "resultDbfsStatus": "INLINED_IN_TREE",
       "results": null,
       "showCommandTitle": false,
       "startTime": 0,
       "state": "input",
       "streamStates": {},
       "subcommandOptions": {},
       "submitTime": 0,
       "subtype": "tableResultSubCmd.visualization",
       "tableResultIndex": 0,
       "tableResultSettingsMap": {},
       "useConsistentColors": false,
       "version": "CommandV1",
       "width": "auto",
       "workflows": [],
       "xColumns": null,
       "yColumns": null
      }
     },
     "output_type": "display_data"
    },
    {
     "output_type": "display_data",
     "data": {
      "text/plain": [
       "Databricks visualization. Run in Databricks to view."
      ]
     },
     "metadata": {
      "application/vnd.databricks.v1.subcommand+json": {
       "baseErrorDetails": null,
       "bindings": {},
       "collapsed": false,
       "command": "%python\n__backend_agg_display_orig = display\n__backend_agg_dfs = []\ndef __backend_agg_display_new(df):\n    __backend_agg_df_modules = [\"pandas.core.frame\", \"databricks.koalas.frame\", \"pyspark.sql.dataframe\", \"pyspark.pandas.frame\", \"pyspark.sql.connect.dataframe\"]\n    if (type(df).__module__ in __backend_agg_df_modules and type(df).__name__ == 'DataFrame') or isinstance(df, list):\n        __backend_agg_dfs.append(df)\n\ndisplay = __backend_agg_display_new\n\ndef __backend_agg_user_code_fn():\n    import base64\n    exec(base64.standard_b64decode(\"ZnJvbSBweXNwYXJrLnNxbC5mdW5jdGlvbnMgaW1wb3J0IGRheW9md2VlawoKZGYgPSBzcGFyay50YWJsZSgic2FtcGxlcy5ueWN0YXhpLnRyaXBzIikKd2Vla2RheV9kZiA9IGRmLmdyb3VwQnkoZGF5b2Z3ZWVrKCJ0cGVwX3BpY2t1cF9kYXRldGltZSIpLmFsaWFzKCJ3ZWVrZGF5IikpIFwKICAgICAgICAgICAgICAgLmNvdW50KCkgXAogICAgICAgICAgICAgICAud2l0aENvbHVtblJlbmFtZWQoImNvdW50IiwgImZhcmVfYW1vdW50IikgXAogICAgICAgICAgICAgICAub3JkZXJCeSgid2Vla2RheSIpCmRpc3BsYXkod2Vla2RheV9kZikK\").decode())\n\ntry:\n    # run user code\n    __backend_agg_user_code_fn()\n\n    #reset display function\n    display = __backend_agg_display_orig\n\n    if len(__backend_agg_dfs) > 0:\n        # create a temp view\n        if type(__backend_agg_dfs[0]).__module__ == \"databricks.koalas.frame\":\n            # koalas dataframe\n            __backend_agg_dfs[0].to_spark().createOrReplaceTempView(\"DatabricksViewa1815da\")\n        elif type(__backend_agg_dfs[0]).__module__ == \"pandas.core.frame\" or isinstance(__backend_agg_dfs[0], list):\n            # pandas dataframe\n            spark.createDataFrame(__backend_agg_dfs[0]).createOrReplaceTempView(\"DatabricksViewa1815da\")\n        else:\n            __backend_agg_dfs[0].createOrReplaceTempView(\"DatabricksViewa1815da\")\n        #run backend agg\n        display(spark.sql(\"\"\"WITH q AS (select * from DatabricksViewa1815da) SELECT `weekday`,`fare_amount`,`weekday`,`weekday` FROM q\"\"\"))\n    else:\n        displayHTML(\"dataframe no longer exists. If you're using dataframe.display(), use display(dataframe) instead.\")\n\n\nfinally:\n    spark.sql(\"drop view if exists DatabricksViewa1815da\")\n    display = __backend_agg_display_orig\n    del __backend_agg_display_new\n    del __backend_agg_display_orig\n    del __backend_agg_dfs\n    del __backend_agg_user_code_fn\n\n",
       "commandTitle": "Visualization 3",
       "commandType": "auto",
       "commandVersion": 0,
       "commentThread": [],
       "commentsVisible": false,
       "contentSha256Hex": null,
       "customPlotOptions": {
        "redashChart": [
         {
          "key": "type",
          "value": "CHART"
         },
         {
          "key": "options",
          "value": {
           "alignYAxesAtZero": true,
           "coefficient": 1,
           "columnConfigurationMap": {
            "series": {
             "column": "weekday",
             "id": "column_708092f334"
            },
            "x": {
             "column": "weekday",
             "id": "column_708092f330"
            },
            "y": [
             {
              "column": "fare_amount",
              "id": "column_708092f332"
             },
             {
              "column": "weekday",
              "id": "column_708092f333"
             }
            ]
           },
           "dateTimeFormat": "DD/MM/YYYY HH:mm",
           "direction": {
            "type": "counterclockwise"
           },
           "error_y": {
            "type": "data",
            "visible": true
           },
           "globalSeriesType": "scatter",
           "legend": {
            "enabled": true,
            "placement": "auto",
            "traceorder": "reversed"
           },
           "missingValuesAsZero": true,
           "numberFormat": "0,0.[00000]",
           "percentFormat": "0[.]00%",
           "series": {
            "error_y": {
             "type": "data",
             "visible": true
            },
            "stacking": null
           },
           "seriesOptions": {
            "fare_amount": {
             "type": "scatter",
             "yAxis": 0
            },
            "weekday": {
             "type": "scatter",
             "yAxis": 0
            }
           },
           "showDataLabels": false,
           "sizemode": "diameter",
           "sortX": true,
           "sortY": true,
           "swappedAxes": false,
           "textFormat": "",
           "useAggregationsUi": true,
           "valuesOptions": {},
           "version": 2,
           "xAxis": {
            "labels": {
             "enabled": true
            },
            "type": "-"
           },
           "yAxis": [
            {
             "type": "-"
            },
            {
             "opposite": true,
             "type": "-"
            }
           ]
          }
         }
        ]
       },
       "datasetPreviewNameToCmdIdMap": {},
       "diffDeletes": [],
       "diffInserts": [],
       "displayType": "redashChart",
       "error": null,
       "errorDetails": null,
       "errorSummary": null,
       "errorTraceType": null,
       "finishTime": 0,
       "globalVars": {},
       "guid": "",
       "height": "auto",
       "hideCommandCode": false,
       "hideCommandResult": false,
       "iPythonMetadata": null,
       "inputWidgets": {},
       "isLockedInExamMode": false,
       "latestUser": "a user",
       "latestUserId": null,
       "listResultMetadata": null,
       "metadata": {},
       "nuid": "ce25734e-7a1f-4bc7-ac81-abdd7fe985d8",
       "origId": 0,
       "parentHierarchy": [],
       "pivotAggregation": null,
       "pivotColumns": null,
       "position": 8.0,
       "resultDbfsErrorMessage": null,
       "resultDbfsStatus": "INLINED_IN_TREE",
       "results": null,
       "showCommandTitle": false,
       "startTime": 0,
       "state": "input",
       "streamStates": {},
       "subcommandOptions": {
        "queryPlan": {
         "selects": [
          {
           "column": "weekday",
           "type": "column"
          },
          {
           "column": "fare_amount",
           "type": "column"
          },
          {
           "column": "weekday",
           "type": "column"
          },
          {
           "column": "weekday",
           "type": "column"
          }
         ]
        }
       },
       "submitTime": 0,
       "subtype": "tableResultSubCmd.visualization",
       "tableResultIndex": 0,
       "tableResultSettingsMap": {},
       "useConsistentColors": false,
       "version": "CommandV1",
       "width": "auto",
       "workflows": [],
       "xColumns": null,
       "yColumns": null
      }
     },
     "output_type": "display_data"
    }
   ],
   "source": [
    "from pyspark.sql.functions import dayofweek\n",
    "\n",
    "df = spark.table(\"samples.nyctaxi.trips\")\n",
    "weekday_df = df.groupBy(dayofweek(\"tpep_pickup_datetime\").alias(\"weekday\")) \\\n",
    "               .count() \\\n",
    "               .withColumnRenamed(\"count\", \"fare_amount\") \\\n",
    "               .orderBy(\"weekday\")\n",
    "display(weekday_df)\n"
   ]
  }
 ],
 "metadata": {
  "application/vnd.databricks.v1+notebook": {
   "computePreferences": null,
   "dashboards": [],
   "environmentMetadata": {
    "base_environment": "",
    "environment_version": "2"
   },
   "inputWidgetPreferences": null,
   "language": "python",
   "notebookMetadata": {
    "mostRecentlyExecutedCommandWithImplicitDF": {
     "commandId": 8128358032122214,
     "dataframes": [
      "_sqldf"
     ]
    },
    "pythonIndentUnit": 4
   },
   "notebookName": "EDA Visualization",
   "widgets": {}
  },
  "language_info": {
   "name": "python"
  }
 },
 "nbformat": 4,
 "nbformat_minor": 0
}